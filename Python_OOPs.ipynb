{
  "nbformat": 4,
  "nbformat_minor": 0,
  "metadata": {
    "colab": {
      "provenance": []
    },
    "kernelspec": {
      "name": "python3",
      "display_name": "Python 3"
    },
    "language_info": {
      "name": "python"
    }
  },
  "cells": [
    {
      "cell_type": "markdown",
      "source": [
        "# **OOPs**\n",
        "\n",
        "---\n",
        "\n"
      ],
      "metadata": {
        "id": "wJPqTJxIy8Il"
      }
    },
    {
      "cell_type": "markdown",
      "source": [
        "# **Theoretical Questions**\n",
        "\n",
        "---"
      ],
      "metadata": {
        "id": "RAl-MP65jWpC"
      }
    },
    {
      "cell_type": "markdown",
      "source": [
        "1. **What is Object-Oriented Programming (OOP)?**\n",
        "\n",
        "  Ans. Object-Oriented Programming (OOP) is a programming paradigm that organizes software design around data, or objects, rather than functions and logic.\n",
        "\n",
        "  - Objects:\n",
        "    - In OOP, an \"object\" is a self-contained unit that combines data (attributes) and behavior (methods). Think of it like a real-world object; for example, a car has attributes like color and make, and behaviors like driving and braking.\n",
        "\n",
        "  - Key Principles:\n",
        "    - Encapsulation:\n",
        "      - This involves bundling data and methods that operate on that data within a single unit, or object. It helps hide the internal workings of an object and protects data from accidental modification.\n",
        "    - Inheritance:\n",
        "      - This allows new classes (blueprints for creating objects) to inherit properties and behaviors from existing classes. This promotes code reuse and creates a hierarchical structure.\n",
        "  - Polymorphism:\n",
        "      - This means \"many forms.\" It allows objects of different classes to respond to the same method call in different ways. This provides flexibility and adaptability in code.\n",
        "  - Abstraction:\n",
        "      - This involves focusing on the essential features of an object while hiding unnecessary details. It simplifies complex systems by providing a clear and concise interface.\n",
        "\n",
        "  In essence, OOP aims to model real-world entities and their interactions within software, leading to more organized, maintainable, and reusable code.\n",
        "\n",
        "---"
      ],
      "metadata": {
        "id": "uLRP3MHSzQi3"
      }
    },
    {
      "cell_type": "markdown",
      "source": [
        "2. **What is a class in OOP?**\n",
        "\n",
        "  Ans. In object-oriented programming (OOP), a class is a fundamental concept that serves as a blueprint for creating objects.\n",
        "\n",
        "  - Blueprint or Template:\n",
        "    - A class defines the structure and behavior of objects of a certain type. It essentially outlines what properties (attributes) and actions (methods) those objects will possess.\n",
        "  - Attributes (Properties):\n",
        "    - These are variables that hold data related to the object. They represent the characteristics or state of the object.\n",
        "  - Methods (Functions):\n",
        "    - These are functions that define the behavior of the object. They represent the actions or operations that the object can perform.\n",
        "  - Instantiation:\n",
        "    - When we create an object from a class, it's called instantiation. The object is then referred to as an \"instance\" of that class.\n",
        "\n",
        "---\n",
        "\n"
      ],
      "metadata": {
        "id": "kZG0O8-51LVa"
      }
    },
    {
      "cell_type": "markdown",
      "source": [
        "3. **What is an object in OOP?**\n",
        "\n",
        "  Ans. In object-oriented programming (OOP), an object is a fundamental unit that represents a real-world entity or a concept.\n",
        "\n",
        "  - Instance of a Class:\n",
        "    - An object is created from a class, which acts as a blueprint. So, an object is a specific instance of a class.\n",
        "  - Data and Behavior:\n",
        "    - An object encapsulates both data (attributes or properties) and behavior (methods or functions).\n",
        "  - Attributes:\n",
        "    - These represent the object's state or characteristics. For example, a \"Car\" object might have attributes like \"color,\" \"make,\" and \"model.\"\n",
        "  - Methods:\n",
        "    - These define the object's actions or capabilities. For example, a \"Car\" object might have methods like \"startEngine(),\" \"accelerate(),\" and \"brake().\"\n",
        "\n",
        "  - Real-World Representation:\n",
        "    - OOP aims to model real-world entities and their interactions. Objects help in creating software that mirrors real-life scenarios.\n",
        "    \n",
        "  - Key Aspects:\n",
        "    - Objects allow for the organization of code into manageable, reusable components.\n",
        "    - They facilitate data hiding, which helps to protect data integrity.\n",
        "    - They are the key part of how OOP achieves it's goals of code reusability, and maintainability.\n",
        "\n",
        "---"
      ],
      "metadata": {
        "id": "FmOfRotp1lws"
      }
    },
    {
      "cell_type": "markdown",
      "source": [
        "4. **What is the difference between abstraction and encapsulation?**\n",
        "\n",
        "  Ans. Their differences are:\n",
        "\n",
        "    Abstraction:\n",
        "\n",
        "    - What it is:\n",
        "      - Abstraction focuses on hiding complex implementation details and showing only the essential features of an object. It's about \"what\" an object does, not \"how\" it does it.\n",
        "      - It simplifies complex systems by providing a simplified view of the object.\n",
        "    - Purpose:\n",
        "      - To reduce complexity and improve understanding by focusing on relevant information.\n",
        "      - To create a clear separation between the interface and the implementation.\n",
        "    - Implementation:\n",
        "      - Achieved through abstract classes and interfaces.\n",
        "    - Example:\n",
        "      - When we use a television remote, we interact with simple buttons (like volume up/down, channel change) without needing to know the complex electronic circuitry inside.\n",
        "\n",
        "    Encapsulation:\n",
        "\n",
        "      - What it is:\n",
        "        - Encapsulation is the bundling of data (attributes) and methods (functions) that operate on that data within a single unit, or object.\n",
        "        - It also involves controlling access to the internal data of an object.\n",
        "      - Purpose:\n",
        "        - To protect data from unauthorized access and modification.\n",
        "        - To promote data integrity.\n",
        "        - To increase code modularity and maintainability.\n",
        "      - Implementation:\n",
        "        - Achieved through access modifiers (like private, public, and protected).\n",
        "      - Example:\n",
        "        - A bank account object encapsulates the account balance (data) and methods to deposit and withdraw funds (methods). The account balance is typically private, and access is controlled through the deposit and withdraw methods.\n",
        "\n",
        "---"
      ],
      "metadata": {
        "id": "TT0o4ieP2HNf"
      }
    },
    {
      "cell_type": "markdown",
      "source": [
        "5. **What are dunder methods in Python?**\n",
        "\n",
        "  Ans. In Python, \"dunder\" methods, also known as \"magic methods\" or \"special methods,\" are methods with double underscores at the beginning and end of their names (e.g., `__init__`, `__str__`, `__add__`). These methods allows us to define how our objects interact with Python's built-in functions and operators.\n",
        "\n",
        "---"
      ],
      "metadata": {
        "id": "Qwzhs6EX2xGM"
      }
    },
    {
      "cell_type": "markdown",
      "source": [
        "6. **Explain the concept of inheritance in OOP.**\n",
        "\n",
        "  Ans. In object-oriented programming (OOP), inheritance is a powerful mechanism that allows a class to inherit properties and behaviors from another class. This fosters code reusability and helps create a hierarchical relationship between classes.\n",
        "\n",
        "  - Core Idea:\n",
        "\n",
        "    - Code Reusability:\n",
        "      - Inheritance enables us to create new classes based on existing ones, avoiding redundant code. The new class inherits the attributes and methods of the existing class, and we can add or modify them as needed.\n",
        "    - Hierarchical Relationships:\n",
        "      - It establishes an \"is-a\" relationship between classes. For example, a \"Dog\" is-a \"Animal.\" This creates a structured hierarchy, where more specific classes (subclasses) inherit from more general classes (superclasses).\n",
        "\n",
        "  - Key Terms:\n",
        "\n",
        "    - Superclass (Parent Class or Base Class):\n",
        "      - The class whose properties and methods are inherited.\n",
        "    - Subclass (Child Class or Derived Class):\n",
        "      - The class that inherits from the superclass.\n",
        "\n",
        "  - How it Works:\n",
        "\n",
        "    - A subclass inherits all the non-private attributes and methods of its superclass.\n",
        "    - The subclass can:\n",
        "      - Add new attributes and methods.\n",
        "      - Override (modify) existing methods from the superclass.\n",
        "\n",
        "  - Benefits of Inheritance:\n",
        "\n",
        "    - Code Reusability: Reduces code duplication, making programs more efficient.\n",
        "    - Maintainability: Changes to the superclass automatically affect all subclasses, simplifying maintenance.\n",
        "    - Extensibility: Allows us to easily extend existing classes with new functionality.\n",
        "    - Polymorphism: Enables objects of different subclasses to be treated as objects of the superclass, promoting flexibility.\n",
        "\n",
        "  - Types of Inheritance:\n",
        "\n",
        "    - Single Inheritance: A subclass inherits from only one superclass.\n",
        "    - Multiple Inheritance: A subclass inherits from multiple superclasses1 (supported by some programming languages).\n",
        "    - Multilevel Inheritance: A subclass inherits from another subclass, creating a chain of inheritance.\n",
        "    - Hierarchical Inheritance: Multiple subclasses inherit from a single superclass.\n",
        "    - Hybrid Inheritance: A combination of multiple inheritance types.\n",
        "\n",
        "---\n",
        "\n"
      ],
      "metadata": {
        "id": "djp_LP_93BNU"
      }
    },
    {
      "cell_type": "markdown",
      "source": [
        "7. **What is polymorphism in OOP?**\n",
        "\n",
        "  Ans. In object-oriented programming (OOP), polymorphism is a fundamental concept that allows objects of different classes to respond to the same method call in different ways. Essentially, it means \"many forms.\"\n",
        "\n",
        "  - Core Idea:\n",
        "\n",
        "    - \"Many Forms\":\n",
        "      - Polymorphism enables a single interface to represent multiple underlying forms (data types or classes).\n",
        "      - This means that we can write code that works with objects of different types without needing to know their specific classes.\n",
        "    - Flexibility and Adaptability:\n",
        "      - It promotes flexibility by allowing us to treat objects of different classes in a uniform manner.\n",
        "    - It enhances code adaptability by making it easier to add new classes and behaviors without modifying existing code.\n",
        "\n",
        "  - Key Aspects:\n",
        "\n",
        "    - Method Overriding:\n",
        "      - This occurs when a subclass provides its own implementation of a method that is already defined in its superclass.\n",
        "      - This allows objects of different subclasses to respond to the same method call in their own unique ways.\n",
        "    - Method Overloading:\n",
        "      - This involves defining multiple methods with the same name but different parameters within the same class.\n",
        "      - The appropriate method is called based on the number and types of arguments passed.\n",
        "    - Interface Polymorphism:\n",
        "      - This is where different classes implement the same interface. This allows those different classes to respond to the same method calls, defined within that interface, in different ways.\n",
        "\n",
        "  - Benefits of Polymorphism:\n",
        "\n",
        "    - Code Reusability:\n",
        "      - Polymorphic code can work with objects of various types, reducing the need to write separate code for each type.\n",
        "    - Flexibility:\n",
        "      - It makes it easy to add new classes and behaviors without modifying existing code.\n",
        "    - Maintainability:\n",
        "      - It simplifies code maintenance by reducing code duplication and promoting modularity.\n",
        "    - Extensibility:\n",
        "      - It allows for easy extension of a program.\n",
        "\n",
        "  In essence, polymorphism allows for a more general and flexible approach to programming, where objects of different types can be treated in a uniform way.\n",
        "\n",
        "---"
      ],
      "metadata": {
        "id": "0kNBWMy94FWJ"
      }
    },
    {
      "cell_type": "markdown",
      "source": [
        "8. **How is encapsulation achieved in Python?**\n",
        "\n",
        "  Ans. Encapsulation in Python, like in other object-oriented programming languages, involves bundling data (attributes) and methods (functions) that operate on that data into a single unit, a class. While Python doesn't have strict access modifiers like some other languages (such as `public`, `private`, and `protected`), it achieves encapsulation through conventions and some language features.\n",
        "\n",
        "  1. Conventions:\n",
        "\n",
        "    - Single Underscore (`_`):\n",
        "      - A single leading underscore indicates that an attribute or method is \"protected,\" meaning it's intended for internal use within the class or its subclasses. While it can still be accessed from outside, it's a convention that developers should avoid doing so.\n",
        "    - Double Underscore (`__`):\n",
        "      - A double leading underscore indicates that an attribute or method is \"private.\" Python uses a mechanism called \"name mangling\" to make these attributes harder to access from outside the class. This doesn't make them completely inaccessible, but it strongly discourages direct access.\n",
        "  2. Name Mangling:\n",
        "\n",
        "    - When an attribute or method has a double leading underscore, Python internally changes its name to `_ClassName__attributeName`. This makes it more difficult to accidentally access or modify these attributes from outside the class.\n",
        "  3. Properties (`@property`):\n",
        "\n",
        "    - Python's `@property` decorator provides a way to control access to attributes. We can define getter, setter, and deleter methods to manage how attributes are accessed and modified. This allows us to enforce data validation and control access to the internal state of your objects.\n",
        "\n",
        "---"
      ],
      "metadata": {
        "id": "m-mVHS8N4z7O"
      }
    },
    {
      "cell_type": "markdown",
      "source": [
        "9. **What is a constructor in Python?**\n",
        "\n",
        "  Ans. In Python, a constructor is a special method that's automatically called when an object is created from a class. Its primary purpose is to initialize the object's attributes.\n",
        "\n",
        "  - `__init__()` Method:\n",
        "    - The constructor in Python is always named `__init__()`. This is a special method name that Python recognizes.\n",
        "    - It's used to set up the initial state of an object.\n",
        "  - Initialization:\n",
        "    - The `__init__()` method is where we define the initial values for the object's attributes.\n",
        "    - It's called automatically when we create an instance of a class.\n",
        "  - `self` Parameter:\n",
        "    - The first parameter of the `__init__()` method is always `self`.\n",
        "    - `self` refers to the instance of the object itself, allowing us to access and modify the object's attributes.\n",
        "  - Parameterized and Default Constructors:\n",
        "    - We can define constructors that take arguments (parameterized constructors) to initialize objects with specific values.\n",
        "    - We can also define constructors that don't take any additional arguments (default constructors) to initialize objects with default values.\n",
        "  \n",
        "  In essence, the constructor ensures that when we create an object, it's set up and ready to be used.\n",
        "\n",
        "---"
      ],
      "metadata": {
        "id": "r9pCMgbQ5P4X"
      }
    },
    {
      "cell_type": "markdown",
      "source": [
        "10. **What are class and static methods in Python?**\n",
        "\n",
        "  Ans. In Python, both class methods and static methods are defined within a class, but they differ in how they are called and what arguments they receive.\n",
        "\n",
        "  1. Class Methods:\n",
        "\n",
        "    - Definition:\n",
        "      - A class method is a method that is bound to the class itself, not to an instance of the class.\n",
        "      - It receives the class as the first argument, conventionally named `cls`.\n",
        "    - Decorator:\n",
        "      - Class methods are defined using the `@classmethod` decorator.\n",
        "    - Purpose:\n",
        "      - They are used when we need to work with the class itself, rather than a specific instance.\n",
        "      - They can be used to create factory methods, which are alternative constructors that create instances of the class.\n",
        "      - They can also be used to modify class-level attributes.\n",
        "    - Example:\n",
        "          class MyClass:\n",
        "              class_variable = \"Hello\"\n",
        "          \n",
        "              def __init__(self, instance_variable):\n",
        "                  self.instance_variable = instance_variable\n",
        "\n",
        "              @classmethod\n",
        "              def class_method(cls):\n",
        "                  return cls.class_variable\n",
        "\n",
        "              @classmethod\n",
        "              def factory_method(cls, value):\n",
        "                  return cls(value)\n",
        "\n",
        "          print(MyClass.class_method()) #Output: Hello\n",
        "          instance = MyClass.factory_method(\"World\")\n",
        "          print(instance.instance_variable) #Output: World\n",
        "\n",
        "  2. Static Methods:\n",
        "\n",
        "  - Definition:\n",
        "    - A static method is a method that is bound to the class, but it doesn't receive the class or the instance as its first argument.\n",
        "    - It behaves like a regular function, but it's defined within the class's namespace.\n",
        "  - Decorator:\n",
        "    - Static methods are defined using the `@staticmethod` decorator.\n",
        "  - Purpose:\n",
        "    - They are used when we need a method that is logically related to the class, but doesn't need to access any class or instance attributes.\n",
        "    - They can be used to group utility functions within a class.\n",
        "  - Example:\n",
        "            class MyClass:\n",
        "            \n",
        "                @staticmethod\n",
        "                def static_method(x, y):\n",
        "                    return x + y\n",
        "\n",
        "            print(MyClass.static_method(5, 3)) #Output: 8\n",
        "\n",
        "\n",
        "---\n"
      ],
      "metadata": {
        "id": "m90IcGMu5z4U"
      }
    },
    {
      "cell_type": "markdown",
      "source": [
        "11. **What is method overloading in Python?**\n",
        "\n",
        "  Ans. Method overloading is a type of polymorphism. This occurs when a subclass provides its own implementation of a method that is already defined in its superclass. This allows objects of different subclasses to respond to the same method call in their own unique ways.\n",
        "\n",
        "---"
      ],
      "metadata": {
        "id": "-KTYHfkT6rkp"
      }
    },
    {
      "cell_type": "markdown",
      "source": [
        "12. **What is method overriding in Python?**\n",
        "\n",
        "  Ans. Method overriding is a type of polymorphism. This occurs when a subclass provides its own implementation of a method that is already defined in its superclass. This allows objects of different subclasses to respond to the same method call in their own unique ways.\n",
        "\n",
        "---"
      ],
      "metadata": {
        "id": "o15b9Ulj67ex"
      }
    },
    {
      "cell_type": "markdown",
      "source": [
        "13. **What is a property decorator in Python?**\n",
        "\n",
        "  Ans. In Python, the `@property` decorator is a powerful tool used within classes to manage attribute access. It allows us to define methods that behave like attributes, providing a way to control how those attributes are accessed, modified, or deleted.\n",
        "\n",
        "  - Purpose:\n",
        "\n",
        "      - Controlled Attribute Access:\n",
        "        - It enables us to implement getter, setter, and deleter methods, giving you fine-grained control over how attributes are manipulated.\n",
        "      - Data Validation:\n",
        "        - We can use setter methods to validate data before assigning it to an attribute, ensuring data integrity.\n",
        "      - Encapsulation:\n",
        "        - It helps encapsulate the internal implementation of attributes, allowing us to change the underlying logic without affecting the external interface of your class.\n",
        "      - \"Pythonic\" Getters and Setters:\n",
        "        - It provides a more Pythonic way to implement getters and setters, making your code cleaner and more readable. Instead of explicitly calling `get_attribute()` and `set_attribute()` methods, we can access and modify attributes directly.\n",
        "  - How it Works:\n",
        "\n",
        "      - Getter:\n",
        "        - The `@property` decorator is used to define a getter method, which is called when we access the attribute.\n",
        "      - Setter:\n",
        "        - The `@attribute.setter` decorator is used to define a setter method, which is called when we assign a value to the attribute.\n",
        "      - Deleter:\n",
        "        - The `@attribute.deleter` decorator is used to define a deleter method, which is called when we delete the attribute using the del keyword.\n",
        "  - Example:\n",
        "            class Temperature:\n",
        "                def __init__(self, celsius):\n",
        "                    self._celsius = celsius\n",
        "\n",
        "                @property\n",
        "                def celsius(self):\n",
        "                    return self._celsius\n",
        "\n",
        "                @celsius.setter\n",
        "                def celsius(self, value):\n",
        "                    if value < -273.15:\n",
        "                        raise ValueError(\"Temperature below absolute zero!\")\n",
        "                    self._celsius = value\n",
        "\n",
        "                @property\n",
        "                def fahrenheit(self):\n",
        "                    return (self._celsius * 9/5) + 32\n",
        "\n",
        "            temp = Temperature(25)\n",
        "            print(temp.celsius)  # Accessing the celsius attribute (getter)\n",
        "            temp.celsius = 30  # Setting the celsius attribute (setter)\n",
        "            print(temp.fahrenheit) # Accessing the fahrenheit attribute(getter)\n",
        "\n",
        "  The `@property` decorator is a valuable tool for writing clean, maintainable, and robust Python code.\n",
        "\n",
        "---"
      ],
      "metadata": {
        "id": "AU5HGKNN7MxD"
      }
    },
    {
      "cell_type": "markdown",
      "source": [
        "14. **Why is polymorphism important in OOP?**\n",
        "\n",
        "  Ans. Polymorphism is a cornerstone of object-oriented programming (OOP) because it provides several crucial benefits that contribute to creating flexible, maintainable, and extensible software. It's important for the following reasons:\n",
        "  \n",
        "  - Code Reusability:\n",
        "      - Polymorphism allows us to write generic code that can work with objects of different classes. This reduces code duplication and promotes code reuse, making your programs more efficient.\n",
        "  - Flexibility and Extensibility:\n",
        "      - It enables us to easily add new classes and behaviors without modifying existing code. If we have a system that uses polymorphism, we can introduce new subclasses without breaking the existing code that works with the superclass.\n",
        "  - Improved Maintainability:\n",
        "      - By reducing code duplication and making it easier to add new functionality, polymorphism simplifies code maintenance. Changes to the superclass or interface are automatically reflected in all subclasses.\n",
        "  - Abstraction and Simplified Interfaces:\n",
        "      - Polymorphism allows us to create simplified interfaces that represent a wide range of objects. This hides the complexities of individual classes and provides a more consistent and intuitive way to interact with objects.\n",
        "  - Enhanced Readability:\n",
        "      - Polymorphic code can be more readable and easier to understand because it focuses on the common interface rather than the specific implementations of individual classes.\n",
        "  - Real-World Modeling:\n",
        "      - Polymorphism allows us to model real-world scenarios more accurately. In the real world, objects often exhibit similar behaviors but with variations. OOP polymorphism makes it possible to reflect these variations in your code.\n",
        "  - Promotes loose coupling:\n",
        "      - loose coupling is a design goal that seeks to reduce the dependencies between components. Polymorphism is a tool that allows for this. By using a super class, or interface, to interact with multiple sub classes, the interacting code only depends on the super class, and not the specific sub class.\n",
        "\n",
        "\n",
        "  In essence, polymorphism is a powerful tool that makes OOP more expressive and adaptable, leading to more robust and maintainable software.\n",
        "\n",
        "---"
      ],
      "metadata": {
        "id": "7ZMPwSMJ8Lry"
      }
    },
    {
      "cell_type": "markdown",
      "source": [
        "15. **What is an abstract class in Python?**\n",
        "\n",
        "  Ans. In Python, an abstract class is a class that cannot be instantiated, meaning you cannot create objects directly from it. Its primary purpose is to serve as a blueprint or template for other classes (subclasses) to inherit from.\n",
        "\n",
        "  - Key Characteristics:\n",
        "      \n",
        "      - Cannot be Instantiated:\n",
        "        - We cannot create an object of an abstract class directly.\n",
        "      - Blueprint for Subclasses:\n",
        "        - It defines a common interface and structure that subclasses must adhere to.\n",
        "      - Abstract Methods:\n",
        "        - Abstract classes can contain abstract methods, which are methods without an implementation. Subclasses must provide implementations for these abstract methods.\n",
        "      - abc Module:\n",
        "        - Python provides the abc (Abstract Base Classes) module to define abstract classes and abstract methods.\n",
        "\n",
        "---"
      ],
      "metadata": {
        "id": "OyQ0yaht8qeM"
      }
    },
    {
      "cell_type": "markdown",
      "source": [
        "16. **What are the advantages of OOP?**\n",
        "\n",
        "  Ans. Object-oriented programming (OOP) offers several significant advantages that contribute to the development of robust, maintainable, and scalable software. Some of the key benefits are:\n",
        "\n",
        "  - Modularity:\n",
        "      - OOP promotes the creation of self-contained modules called objects. This makes code easier to understand, debug, and maintain, as changes in one module are less likely to affect others.\n",
        "  - Code Reusability:\n",
        "      - Inheritance allows us to create new classes based on existing ones, reducing code duplication. This promotes efficient development and reduces the overall codebase.\n",
        "  - Maintainability:\n",
        "      - Well-structured OOP code is easier to understand and modify, simplifying maintenance and updates. Encapsulation helps prevent accidental modification of data, enhancing code integrity.\n",
        "  - Extensibility:\n",
        "      - OOP's design principles, particularly polymorphism, make it easy to add new features and functionality to existing code without major modifications.\n",
        "  - Abstraction:\n",
        "      - Abstraction simplifies complex systems by focusing on essential features and hiding unnecessary details. This improves code clarity and reduces cognitive load.\n",
        "  - Encapsulation:\n",
        "      - Encapsulation protects data from unauthorized access, enhancing data integrity and security. It also allows you to control how data is accessed and modified.\n",
        "  - Polymorphism:\n",
        "      - Polymorphism allows objects of different classes to be treated as objects of a common type, promoting flexibility and adaptability.\n",
        "  - Real-World Modeling:\n",
        "      - OOP allows you to model real-world entities and their interactions more naturally, making it easier to represent complex systems in code.\n",
        "  - Teamwork and Collaboration:\n",
        "      - OOP promotes modular design, which makes it easier for teams to divide work and collaborate effectively.\n",
        "  - Problem solving:\n",
        "      - OOP encourages a structured, analytical way of approaching problems, which can lead to better code design and more effective solutions.\n",
        "\n",
        "---"
      ],
      "metadata": {
        "id": "NrIzOxOWWMs1"
      }
    },
    {
      "cell_type": "markdown",
      "source": [
        "17. **What is the difference between a class variable and an instance variable?**\n",
        "\n",
        "  Ans. The key differences between a class variable and an instance variable are:\n",
        "\n",
        "  - Sharing:\n",
        "      - Class variables are shared among all instances.\n",
        "      - Instance variables are unique to each instance.\n",
        "  - Location:\n",
        "      - Class variables are defined within the class.\n",
        "      - Instance variables are defined within instance methods (often `__init__`).\n",
        "  - Access:\n",
        "      - Class variables are best accessed by the class name.\n",
        "      - Instance variables are accessed by the instance name.\n",
        "  - Purpose:\n",
        "      - Class variables store data common to all instances.\n",
        "      - Instance variables store data specific to each instance.\n",
        "\n",
        "  - Class Variable Example:\n",
        "              class MyClass:\n",
        "                  class_variable = 0  # Class variable\n",
        "\n",
        "                  def __init__(self, instance_variable):\n",
        "                      self.instance_variable = instance_variable\n",
        "\n",
        "              instance1 = MyClass(\"Instance 1\")\n",
        "              instance2 = MyClass(\"Instance 2\")\n",
        "\n",
        "              MyClass.class_variable += 1\n",
        "              print(instance1.class_variable)  # Output: 1\n",
        "              print(instance2.class_variable)  # Output: 1\n",
        "\n",
        "  - Instance Variable Example:\n",
        "                  class MyClass:\n",
        "                  class_variable = 0\n",
        "\n",
        "                  def __init__(self, instance_variable):\n",
        "                      self.instance_variable = instance_variable  # Instance variable\n",
        "\n",
        "              instance1 = MyClass(\"Instance 1\")\n",
        "              instance2 = MyClass(\"Instance 2\")\n",
        "\n",
        "              instance1.instance_variable = \"Modified Instance 1\"\n",
        "              print(instance1.instance_variable)  # Output: Modified Instance 1\n",
        "              print(instance2.instance_variable)  # Output: Instance 2\n",
        "\n",
        "\n",
        "---"
      ],
      "metadata": {
        "id": "FZmDb3MxW77p"
      }
    },
    {
      "cell_type": "markdown",
      "source": [
        "18. **What is multiple inheritance in Python?**\n",
        "\n",
        "  Ans. In Python, multiple inheritance is a feature that allows a class to inherit attributes and methods from more than one parent class. This means a single child class can derive properties from multiple independent parent classes.\n",
        "\n",
        "  - Core Concept:\n",
        "\n",
        "      - Inheriting from Multiple Parents:\n",
        "          - A class can be defined to inherit from two or more other classes, gaining the combined attributes and methods of those parent classes.\n",
        "      - Syntax:\n",
        "        - In the class definition, the parent classes are listed within the parentheses, separated by commas.\n",
        "  - Example:\n",
        "\n",
        "              class Parent1:\n",
        "                  def method1(self):\n",
        "                      print(\"Method 1 from Parent1\")\n",
        "\n",
        "              class Parent2:\n",
        "                  def method2(self):\n",
        "                      print(\"Method 2 from Parent2\")\n",
        "\n",
        "              class Child(Parent1, Parent2):\n",
        "                  def method3(self):\n",
        "                      print(\"Method 3 from Child\")\n",
        "\n",
        "              child_object = Child()\n",
        "              child_object.method1()\n",
        "              child_object.method2()\n",
        "              child_object.method3()\n",
        "\n",
        "  - Key Considerations:\n",
        "\n",
        "      - Method Resolution Order (MRO):\n",
        "        - When a child class inherits from multiple parents, there might be conflicts if parent classes have methods with the same name. Python uses the MRO to determine the order in which parent classes are searched for methods.\n",
        "        - Python's MRO typically follows the C3 linearization algorithm.\n",
        "      - The \"Diamond Problem\":\n",
        "        - A classic issue in multiple inheritance is the \"diamond problem,\" where a class inherits from two classes that both inherit from a common ancestor. This can lead to ambiguities in method resolution. Python's MRO helps resolve these ambiguities.\n",
        "      - Potential Complexity:\n",
        "        - Multiple inheritance can increase the complexity of code, making it harder to understand and maintain. It's important to use it judiciously.\n",
        "  - Benefits:\n",
        "\n",
        "      - Code Reusability:\n",
        "        - It allows for the combination of features from multiple sources, promoting code reuse.\n",
        "      - Flexibility:\n",
        "        - It provides flexibility in designing class hierarchies.\n",
        "\n",
        "  While multiple inheritance can be powerful, it's essential to use it with care to avoid creating overly complex or ambiguous code.\n",
        "\n",
        "---"
      ],
      "metadata": {
        "id": "uLEVcJxSY55V"
      }
    },
    {
      "cell_type": "markdown",
      "source": [
        "19. **Explain the purpose of `__str__` and `__repr__` methods in Python.**\n",
        "\n",
        "  Ans. In Python, both `__str__` and `__repr__` are special (dunder) methods that define how an object is represented as a string. However, they serve slightly different purposes:\n",
        "\n",
        "  1. `__str__(self)`:\n",
        "\n",
        "      - Purpose:\n",
        "        - The `__str__` method is intended to provide a human-readable, informal string representation of an object.\n",
        "        - It's primarily used for displaying object information to end-users or when we want a concise, user-friendly description.\n",
        "      - Usage:\n",
        "        - Called by the built-in `str()` function and implicitly by the `print()` function.\n",
        "        - It should return a string that is easy to understand.\n",
        "      - Example:\n",
        "                class Point:\n",
        "                    def __init__(self, x, y):\n",
        "                        self.x = x\n",
        "                        self.y = y\n",
        "\n",
        "                    def __str__(self):\n",
        "                        return f\"Point({self.x}, {self.y})\"\n",
        "\n",
        "                p = Point(3, 4)\n",
        "                print(p)  # Output: Point(3, 4)\n",
        "                print(str(p)) # Output: Point(3, 4)\n",
        "\n",
        "  2. `__repr__(self)`:\n",
        "\n",
        "      - Purpose:\n",
        "        - The `__repr__` method is intended to provide an unambiguous, developer-friendly string representation of an object.\n",
        "        - It should ideally return a string that can be used to recreate the object (i.e., a string that, when passed to `eval()`, would produce an equivalent object).\n",
        "        - It is used for debugging, logging, and development.\n",
        "      - Usage:\n",
        "        - Called by the built-in `repr()` function and when an object is displayed in the interactive interpreter.\n",
        "        - If `__str__` is not defined, Python falls back to using `__repr__` for `str()` and `print()`.\n",
        "      - Example:\n",
        "                  class Point:\n",
        "                      def __init__(self, x, y):\n",
        "                          self.x = x\n",
        "                          self.y = y\n",
        "\n",
        "                      def __repr__(self):\n",
        "                          return f\"Point(x={self.x}, y={self.y})\"\n",
        "\n",
        "                  p = Point(3, 4)\n",
        "                  print(repr(p))  # Output: Point(x=3, y=4)\n",
        "\n",
        "---"
      ],
      "metadata": {
        "id": "xGowJq5zaz1e"
      }
    },
    {
      "cell_type": "markdown",
      "source": [
        "20. **What is the significance of the `super()` function in Python?**\n",
        "\n",
        "  Ans. The `super()` function in Python plays a crucial role in object-oriented programming, particularly when dealing with inheritance, especially multiple inheritance. Its significance lies in enabling clean and efficient method calls within class hierarchies.\n",
        "\n",
        "  - Purpose:\n",
        "\n",
        "      - Calling Parent Class Methods:\n",
        "        - `super()` allows a subclass to call methods from its parent class (superclass). This is essential when we want to extend or modify the behavior of a parent class method in a subclass.\n",
        "      - Method Resolution Order (MRO):\n",
        "        - In complex inheritance scenarios, especially with multiple inheritance, `super()` ensures that methods are called in the correct order, following the MRO. This prevents issues like the \"diamond problem,\" where methods might be called multiple times unintentionally.\n",
        "      - Avoiding Hardcoding Parent Class Names:\n",
        "        - Using `super()` makes our code more maintainable and flexible. Instead of explicitly referring to the parent class name, we can use `super()`, which automatically resolves the parent class based on the MRO. This means that if we change the inheritance hierarchy, we don't have to update all the method calls.\n",
        "      - Cooperative Multiple Inheritance:\n",
        "        - `super()` is essential for implementing cooperative multiple inheritance, where multiple parent classes work together to provide functionality.\n",
        "\n",
        "---\n"
      ],
      "metadata": {
        "id": "U5puylzwcDHP"
      }
    },
    {
      "cell_type": "markdown",
      "source": [
        "21. **What is the significance of the `__del__` method in Python?**\n",
        "\n",
        "  Ans. The `__del__` method in Python, also known as the destructor, is a special method that is called when an object is about to be garbage collected or destroyed. While it exists, its use is generally discouraged due to its unpredictable behavior and potential for causing issues.\n",
        "\n",
        "  - Purpose:\n",
        "\n",
        "      - Cleanup Operations:\n",
        "        - The primary intended purpose of `__del__` is to perform cleanup operations, such as releasing resources (e.g., closing files, network connections) that an object might have acquired during its lifetime.\n",
        "  - How it Works:\n",
        "\n",
        "      - Garbage Collection:\n",
        "        - Python's garbage collector automatically reclaims memory occupied by objects that are no longer in use.\n",
        "        - When an object's reference count reaches zero, or when it becomes part of a cyclic reference that is garbage collected, the `__del__` method is called (if defined).\n",
        "  - Why it's Discouraged:\n",
        "\n",
        "      - Unpredictable Timing:\n",
        "        - The exact timing of garbage collection is not guaranteed. We cannot reliably predict when `__del__` will be called. This can lead to issues if we rely on it for critical cleanup tasks.\n",
        "      - Circular References:\n",
        "        - If `__del__` creates circular references, it can prevent objects from being garbage collected, leading to memory leaks.\n",
        "      - Exceptions:\n",
        "        - Exceptions raised within `__del__` are often ignored, which can make debugging difficult.\n",
        "      - Interpreter Shutdown:\n",
        "        - `__del__` is not guaranteed to be called during interpreter shutdown, which can cause problems if we rely on it for essential cleanup.\n",
        "      - Resource Management:\n",
        "        - Python's with statement and context managers provide a much more reliable and Pythonic way to manage resources.\n",
        "\n",
        "---\n",
        "\n",
        "\n",
        "\n",
        ""
      ],
      "metadata": {
        "id": "hmvxf-sgcq0S"
      }
    },
    {
      "cell_type": "markdown",
      "source": [
        "22. **What is the difference between `@staticmethod` and `@classmethod` in Python?**\n",
        "\n",
        "  Ans. The `@staticmethod` and `@classmethod` decorators in Python are used to define methods within a class, but they differ significantly in their behavior and purpose. The key differences are:\n",
        "\n",
        "  1. `@staticmethod`:\n",
        "\n",
        "      - Behavior:\n",
        "        - A static method is essentially a regular function that is defined within a class's namespace.\n",
        "        - It does not receive any implicit arguments related to the class or instance.\n",
        "        - It behaves like a function that is logically related to the class.\n",
        "      - Purpose:\n",
        "        - Used for utility functions that are related to the class but don't need access to class or instance attributes.\n",
        "        - It's a way to group related functions within a class for better organization.\n",
        "      - Arguments:\n",
        "        - It does not receive the class (`cls`) or the instance (`self`) as its first argument.\n",
        "      - Access:\n",
        "        - Can be called using the class name (e.g., `ClassName.static_method()`) or an instance of the class (e.g., `instance.static_method()`).\n",
        "      - Example:\n",
        "                    class MyClass:\n",
        "                        @staticmethod\n",
        "                        def add(x, y):\n",
        "                            return x + y\n",
        "\n",
        "                    print(MyClass.add(5, 3))  # Output: 8\n",
        "\n",
        "  2. `@classmethod`:\n",
        "\n",
        "      - Behavior:\n",
        "        - A class method is bound to the class itself, not to an instance of the class.\n",
        "        - It receives the class (`cls`) as its first argument.\n",
        "        - It can access and modify class-level attributes.\n",
        "      - Purpose:\n",
        "        - Used for methods that need to work with the class itself, such as factory methods (alternative constructors) or methods that modify class-level attributes.\n",
        "        - It can be used to create alternative constructors.\n",
        "      - Arguments:\n",
        "        - It receives the class (`cls`) as its first argument.\n",
        "      - Access:\n",
        "        - Can be called using the class name (e.g., `ClassName.class_method()`) or an instance of the class (e.g., `instance.class_method()`).\n",
        "      - Example:\n",
        "\n",
        "                  class MyClass:\n",
        "                      count = 0\n",
        "\n",
        "                      def __init__(self):\n",
        "                          MyClass.count += 1\n",
        "\n",
        "                      @classmethod\n",
        "                      def get_count(cls):\n",
        "                          return cls.count\n",
        "\n",
        "                  instance1 = MyClass()\n",
        "                  instance2 = MyClass()\n",
        "                  print(MyClass.get_count())  # Output: 2\n",
        "\n",
        "                  class OtherClass:\n",
        "                      def __init__(self, value):\n",
        "                          self.value = value\n",
        "\n",
        "                      @classmethod\n",
        "                      def create_default(cls):\n",
        "                          return cls(\"default\")\n",
        "\n",
        "                  default_instance = OtherClass.create_default()\n",
        "                  print(default_instance.value) #output: default\n",
        "\n",
        "\n",
        "---"
      ],
      "metadata": {
        "id": "b37u6Nbzd2_x"
      }
    },
    {
      "cell_type": "markdown",
      "source": [
        "23. **How does polymorphism work in Python with inheritance?**\n",
        "\n",
        "  Ans. Polymorphism in Python, when combined with inheritance, allows objects of different classes that are related through inheritance to respond to the same method call in their own unique ways. Here's how it works:\n",
        "\n",
        "  1. Inheritance and Method Overriding:\n",
        "\n",
        "      - Base Class and Subclasses:\n",
        "        - We have a base class (superclass) that defines a method.\n",
        "        - Subclasses (derived classes) inherit from the base class.\n",
        "      - Method Overriding:\n",
        "        - A subclass can provide its own implementation of a method that is already defined in the base class. This is called method overriding.\n",
        "        - When we call this method on an object of the subclass, the subclass's implementation is executed, not the base class's.\n",
        "  2. Polymorphic Behavior:\n",
        "\n",
        "      - Common Interface:\n",
        "        - Because subclasses inherit from a common base class, they share a common interface (the methods defined in the base class).\n",
        "      - Dynamic Dispatch:\n",
        "        - Python uses dynamic dispatch (also known as late binding) to determine which method implementation to call at runtime.\n",
        "        - When we call a method on an object, Python checks the object's type and calls the appropriate implementation based on the object's class.\n",
        "      - Uniform Treatment:\n",
        "        - This allows us to treat objects of different subclasses uniformly, even though they may have different implementations of the same method.\n",
        "  - Example:\n",
        "                class Animal:\n",
        "                    def speak(self):\n",
        "                        print(\"Animal speaks\")\n",
        "\n",
        "                class Dog(Animal):\n",
        "                    def speak(self):\n",
        "                        print(\"Woof!\")\n",
        "\n",
        "                class Cat(Animal):\n",
        "                    def speak(self):\n",
        "                        print(\"Meow!\")\n",
        "\n",
        "                def animal_sound(animal):\n",
        "                    animal.speak()\n",
        "\n",
        "                dog = Dog()\n",
        "                cat = Cat()\n",
        "\n",
        "                animal_sound(dog) # Output: Woof!\n",
        "                animal_sound(cat) # Output: Meow!\n",
        "\n",
        "                animals = [dog, cat]\n",
        "\n",
        "                for animal in animals:\n",
        "                    animal.speak()\n",
        "\n",
        "---\n",
        "\n"
      ],
      "metadata": {
        "id": "oXez25nWjf4i"
      }
    },
    {
      "cell_type": "markdown",
      "source": [
        "24. **What is method chaining in Python OOP?**\n",
        "\n",
        "  Ans. Method chaining in Python OOP is a technique where multiple method calls are made sequentially on the same object, with each method call returning the object itself. This allows for a more concise and readable way to perform a series of operations on an object.\n",
        "\n",
        "  - How it Works:\n",
        "\n",
        "      - Returning self:\n",
        "        - The key to method chaining is that each method in the chain returns the object itself (i.e., self).\n",
        "      - Sequential Calls:\n",
        "        - This allows us to call another method on the returned object immediately, creating a chain of method calls.\n",
        "  - Benefits:\n",
        "\n",
        "      - Readability:\n",
        "        - Method chaining can make code more readable by expressing a sequence of operations in a more natural and fluent way.\n",
        "      - Conciseness:\n",
        "        - It reduces the need for intermediate variables, making code more concise.\n",
        "      - Improved Flow:\n",
        "        - It can improve the flow of code by making it easier to see the sequence of operations being performed.\n",
        "  - Example:\n",
        "                class Calculator:\n",
        "                    def __init__(self, value=0):\n",
        "                        self.value = value\n",
        "\n",
        "                    def add(self, x):\n",
        "                        self.value += x\n",
        "                        return self\n",
        "\n",
        "                    def subtract(self, y):\n",
        "                        self.value -= y\n",
        "                        return self\n",
        "\n",
        "                    def multiply(self, z):\n",
        "                        self.value *= z\n",
        "                        return self\n",
        "\n",
        "                    def get_result(self):\n",
        "                        return self.value\n",
        "\n",
        "                # Method chaining in action\n",
        "                result = Calculator(10).add(5).subtract(3).multiply(2).get_result()\n",
        "                print(result)  # Output: 24\n",
        "\n",
        "---\n"
      ],
      "metadata": {
        "id": "C5YTYmIokYMp"
      }
    },
    {
      "cell_type": "markdown",
      "source": [
        "25. **What is the purpose of the `__call__` method in Python?**\n",
        "\n",
        "  Ans. The `__call__` method in Python is a special (dunder) method that allows an object to be called as if it were a function. When we define `__call__` in a class, instances of that class become callable.\n",
        "\n",
        "  - Purpose:\n",
        "\n",
        "      - Callable Objects:\n",
        "        - It enables objects to behave like functions.\n",
        "        - This is useful when we want to create objects that have state or need to perform complex operations when called.\n",
        "      - Function-like Behavior:\n",
        "        - It allows us to use object instances with the same syntax as function calls.\n",
        "      - Creating Function-like Objects:\n",
        "        - It is used to create objects that are used in situations where functions are expected.\n",
        "      - Implementing Functionality with State:\n",
        "        - It is useful for situations where a function needs to retain state across multiple calls.\n",
        "  - Example:\n",
        "                class Adder:\n",
        "                    def __init__(self, initial_value=0):\n",
        "                        self.value = initial_value\n",
        "\n",
        "                    def __call__(self, increment):\n",
        "                        self.value += increment\n",
        "                        return self.value\n",
        "\n",
        "                # Create an Adder object\n",
        "                adder = Adder(10)\n",
        "\n",
        "                # Call the object like a function\n",
        "                result1 = adder(5)\n",
        "                print(result1)  # Output: 15\n",
        "\n",
        "                result2 = adder(3)\n",
        "                print(result2)  # Output: 18\n",
        "\n",
        "---"
      ],
      "metadata": {
        "id": "mUEuhY6-k6Zb"
      }
    },
    {
      "cell_type": "markdown",
      "source": [
        "# **Practical Questions**\n",
        "\n",
        "---"
      ],
      "metadata": {
        "id": "Zl6sM03aln0w"
      }
    },
    {
      "cell_type": "markdown",
      "source": [
        "1. **Create a parent class Animal with a method speak() that prints a generic message. Create a child class Dog that overrides the speak() method to print \"Bark!\".**"
      ],
      "metadata": {
        "id": "TT_qDVBQlsqn"
      }
    },
    {
      "cell_type": "code",
      "execution_count": 1,
      "metadata": {
        "id": "rJKjj6Hly4et",
        "colab": {
          "base_uri": "https://localhost:8080/"
        },
        "outputId": "70940d76-2453-4644-b34d-816e8ed99dbb"
      },
      "outputs": [
        {
          "output_type": "stream",
          "name": "stdout",
          "text": [
            "Some animal sound\n",
            "Bark!\n"
          ]
        }
      ],
      "source": [
        "class Animal:\n",
        "    \"\"\"A generic animal class.\"\"\"\n",
        "\n",
        "    def speak(self):\n",
        "        \"\"\"Prints a generic animal sound.\"\"\"\n",
        "        print(\"Some animal sound\")\n",
        "\n",
        "class Dog(Animal):\n",
        "    \"\"\"A dog class, inheriting from Animal.\"\"\"\n",
        "\n",
        "    def speak(self):\n",
        "        \"\"\"Overrides the parent's speak() method to print 'Bark!'.\"\"\"\n",
        "        print(\"Bark!\")\n",
        "\n",
        "animal = Animal()\n",
        "dog = Dog()\n",
        "\n",
        "animal.speak()\n",
        "dog.speak()"
      ]
    },
    {
      "cell_type": "markdown",
      "source": [
        "2. **Write a program to create an abstract class Shape with a method area(). Derive classes Circle and Rectangle from it and implement the area() method in both.**"
      ],
      "metadata": {
        "id": "WqFaq1k5mJUs"
      }
    },
    {
      "cell_type": "code",
      "source": [
        "from abc import ABC, abstractmethod\n",
        "import math\n",
        "\n",
        "class Shape(ABC):\n",
        "    \"\"\"An abstract class representing a shape.\"\"\"\n",
        "\n",
        "    @abstractmethod\n",
        "    def area(self):\n",
        "        \"\"\"Calculates and returns the area of the shape.\"\"\"\n",
        "        pass\n",
        "\n",
        "class Circle(Shape):\n",
        "    \"\"\"A class representing a circle, derived from Shape.\"\"\"\n",
        "\n",
        "    def __init__(self, radius):\n",
        "        \"\"\"Initializes a Circle object with a given radius.\"\"\"\n",
        "        self.radius = radius\n",
        "\n",
        "    def area(self):\n",
        "        \"\"\"Calculates and returns the area of the circle.\"\"\"\n",
        "        return math.pi * self.radius * self.radius\n",
        "\n",
        "class Rectangle(Shape):\n",
        "    \"\"\"A class representing a rectangle, derived from Shape.\"\"\"\n",
        "\n",
        "    def __init__(self, length, width):\n",
        "        \"\"\"Initializes a Rectangle object with given length and width.\"\"\"\n",
        "        self.length = length\n",
        "        self.width = width\n",
        "\n",
        "    def area(self):\n",
        "        \"\"\"Calculates and returns the area of the rectangle.\"\"\"\n",
        "        return self.length * self.width\n",
        "\n",
        "circle = Circle(5)\n",
        "rectangle = Rectangle(4, 6)\n",
        "\n",
        "print(f\"Area of the circle: {circle.area()}\")\n",
        "print(f\"Area of the rectangle: {rectangle.area()}\")\n"
      ],
      "metadata": {
        "colab": {
          "base_uri": "https://localhost:8080/"
        },
        "id": "MgoFN74Fl-sd",
        "outputId": "0b727f38-bb8c-4929-8b4a-9d209d092465"
      },
      "execution_count": 2,
      "outputs": [
        {
          "output_type": "stream",
          "name": "stdout",
          "text": [
            "Area of the circle: 78.53981633974483\n",
            "Area of the rectangle: 24\n"
          ]
        }
      ]
    },
    {
      "cell_type": "markdown",
      "source": [
        "3. **Implement a multi-level inheritance scenario where a class Vehicle has an attribute type. Derive a class Car and further derive a class ElectricCar that adds a battery attribute.**"
      ],
      "metadata": {
        "id": "N5cdU9PZo3zD"
      }
    },
    {
      "cell_type": "code",
      "source": [
        "class Vehicle:\n",
        "    \"\"\"Base class representing a vehicle.\"\"\"\n",
        "\n",
        "    def __init__(self, vehicle_type):\n",
        "        \"\"\"Initializes a Vehicle object with a type.\"\"\"\n",
        "        self.type = vehicle_type\n",
        "\n",
        "    def display_type(self):\n",
        "        \"\"\"Displays the vehicle type.\"\"\"\n",
        "        print(f\"Vehicle Type: {self.type}\")\n",
        "\n",
        "class Car(Vehicle):\n",
        "    \"\"\"Derived class representing a car, inheriting from Vehicle.\"\"\"\n",
        "\n",
        "    def __init__(self, vehicle_type, model):\n",
        "        \"\"\"Initializes a Car object with type and model.\"\"\"\n",
        "        super().__init__(vehicle_type)  # Call the parent class's constructor\n",
        "        self.model = model\n",
        "\n",
        "    def display_model(self):\n",
        "        \"\"\"Displays the car model.\"\"\"\n",
        "        print(f\"Model: {self.model}\")\n",
        "\n",
        "class ElectricCar(Car):\n",
        "    \"\"\"Derived class representing an electric car, inheriting from Car.\"\"\"\n",
        "\n",
        "    def __init__(self, vehicle_type, model, battery_capacity):\n",
        "        \"\"\"Initializes an ElectricCar object with type, model, and battery capacity.\"\"\"\n",
        "        super().__init__(vehicle_type, model)  # Call the parent class's constructor\n",
        "        self.battery_capacity = battery_capacity\n",
        "\n",
        "    def display_battery(self):\n",
        "        \"\"\"Displays the battery capacity.\"\"\"\n",
        "        print(f\"Battery Capacity: {self.battery_capacity} kWh\")\n",
        "\n",
        "vehicle = Vehicle(\"Generic Vehicle\")\n",
        "car = Car(\"Car\", \"Sedan\")\n",
        "electric_car = ElectricCar(\"Electric Car\", \"Model S\", 100)\n",
        "\n",
        "vehicle.display_type()\n",
        "print(\"-\" * 20)\n",
        "car.display_type()\n",
        "car.display_model()\n",
        "print(\"-\" * 20)\n",
        "electric_car.display_type()\n",
        "electric_car.display_model()\n",
        "electric_car.display_battery()"
      ],
      "metadata": {
        "colab": {
          "base_uri": "https://localhost:8080/"
        },
        "id": "B3ojteXdmYCD",
        "outputId": "58e6e6ec-9508-4314-8fc5-f0c0a05cefcc"
      },
      "execution_count": 3,
      "outputs": [
        {
          "output_type": "stream",
          "name": "stdout",
          "text": [
            "Vehicle Type: Generic Vehicle\n",
            "--------------------\n",
            "Vehicle Type: Car\n",
            "Model: Sedan\n",
            "--------------------\n",
            "Vehicle Type: Electric Car\n",
            "Model: Model S\n",
            "Battery Capacity: 100 kWh\n"
          ]
        }
      ]
    },
    {
      "cell_type": "markdown",
      "source": [
        "4. **Demonstrate polymorphism by creating a base class Bird with a method fly(). Create two derived classes Sparrow and Penguin that override the fly() method.**"
      ],
      "metadata": {
        "id": "a-RvdN26pG-M"
      }
    },
    {
      "cell_type": "code",
      "source": [
        "class Bird:\n",
        "    \"\"\"Base class representing a bird.\"\"\"\n",
        "\n",
        "    def fly(self):\n",
        "        \"\"\"Method representing the bird's flight.\"\"\"\n",
        "        print(\"Bird can fly (generally).\")\n",
        "\n",
        "class Sparrow(Bird):\n",
        "    \"\"\"Derived class representing a sparrow.\"\"\"\n",
        "\n",
        "    def fly(self):\n",
        "        \"\"\"Overrides the fly() method for sparrows.\"\"\"\n",
        "        print(\"Sparrow flies with quick, fluttering wings.\")\n",
        "\n",
        "class Penguin(Bird):\n",
        "    \"\"\"Derived class representing a penguin.\"\"\"\n",
        "\n",
        "    def fly(self):\n",
        "        \"\"\"Overrides the fly() method for penguins.\"\"\"\n",
        "        print(\"Penguins swim, they don't fly.\")\n",
        "\n",
        "# Demonstrate polymorphism\n",
        "def bird_flight(bird):\n",
        "    \"\"\"Function that takes a Bird object and calls its fly() method.\"\"\"\n",
        "    bird.fly()\n",
        "\n",
        "\n",
        "generic_bird = Bird()\n",
        "sparrow = Sparrow()\n",
        "penguin = Penguin()\n",
        "\n",
        "bird_flight(generic_bird)\n",
        "bird_flight(sparrow)\n",
        "bird_flight(penguin)"
      ],
      "metadata": {
        "colab": {
          "base_uri": "https://localhost:8080/"
        },
        "id": "Hv2fTjplpGHA",
        "outputId": "a47701d3-93cf-4414-a7b8-ff127ebb7ec7"
      },
      "execution_count": 4,
      "outputs": [
        {
          "output_type": "stream",
          "name": "stdout",
          "text": [
            "Bird can fly (generally).\n",
            "Sparrow flies with quick, fluttering wings.\n",
            "Penguins swim, they don't fly.\n"
          ]
        }
      ]
    },
    {
      "cell_type": "markdown",
      "source": [
        "5. **Write a program to demonstrate encapsulation by creating a class BankAccount with private attributes balance and methods to deposit, withdraw, and check balance.**"
      ],
      "metadata": {
        "id": "wIYwhcRspX3-"
      }
    },
    {
      "cell_type": "code",
      "source": [
        "class BankAccount:\n",
        "    \"\"\"A class representing a bank account.\"\"\"\n",
        "\n",
        "    def __init__(self, initial_balance=0):\n",
        "        \"\"\"Initializes a BankAccount object with an initial balance.\"\"\"\n",
        "        self.__balance = initial_balance  # Private attribute\n",
        "\n",
        "    def deposit(self, amount):\n",
        "        \"\"\"Deposits the given amount into the account.\"\"\"\n",
        "        if amount > 0:\n",
        "            self.__balance += amount\n",
        "            print(f\"Deposited ₹{amount}. New balance: ₹{self.__balance}\")\n",
        "        else:\n",
        "            print(\"Invalid deposit amount.\")\n",
        "\n",
        "    def withdraw(self, amount):\n",
        "        \"\"\"Withdraws the given amount from the account.\"\"\"\n",
        "        if amount > 0 and amount <= self.__balance:\n",
        "            self.__balance -= amount\n",
        "            print(f\"Withdrawn ₹{amount}. New balance: ₹{self.__balance}\")\n",
        "        else:\n",
        "            print(\"Insufficient funds or invalid withdrawal amount.\")\n",
        "\n",
        "    def get_balance(self):\n",
        "        \"\"\"Returns the current balance of the account.\"\"\"\n",
        "        return self.__balance\n",
        "\n",
        "    def display_balance(self):\n",
        "      \"\"\"Displays the current balance of the account.\"\"\"\n",
        "      print(f\"Current Balance: ₹{self.__balance}\")\n",
        "\n",
        "account = BankAccount(1000)\n",
        "account.display_balance()\n",
        "account.deposit(500)\n",
        "account.withdraw(200)\n",
        "account.display_balance()\n",
        "account.withdraw(2000)\n",
        "account.deposit(-100)"
      ],
      "metadata": {
        "colab": {
          "base_uri": "https://localhost:8080/"
        },
        "id": "wlBUoMd4pWpx",
        "outputId": "d6e33fcf-df7a-4ab0-db04-59bfd15b2fe3"
      },
      "execution_count": 6,
      "outputs": [
        {
          "output_type": "stream",
          "name": "stdout",
          "text": [
            "Current Balance: ₹1000\n",
            "Deposited ₹500. New balance: ₹1500\n",
            "Withdrawn ₹200. New balance: ₹1300\n",
            "Current Balance: ₹1300\n",
            "Insufficient funds or invalid withdrawal amount.\n",
            "Invalid deposit amount.\n"
          ]
        }
      ]
    },
    {
      "cell_type": "markdown",
      "source": [
        "6. **Demonstrate runtime polymorphism using a method play() in a base class Instrument. Derive classes Guitar and Piano that implement their own version of play().**"
      ],
      "metadata": {
        "id": "S5IG58X9pz6B"
      }
    },
    {
      "cell_type": "code",
      "source": [
        "class Instrument:\n",
        "    \"\"\"Base class representing a musical instrument.\"\"\"\n",
        "\n",
        "    def play(self):\n",
        "        \"\"\"Method representing playing the instrument.\"\"\"\n",
        "        print(\"Playing a generic instrument.\")\n",
        "\n",
        "class Guitar(Instrument):\n",
        "    \"\"\"Derived class representing a guitar.\"\"\"\n",
        "\n",
        "    def play(self):\n",
        "        \"\"\"Overrides the play() method for guitars.\"\"\"\n",
        "        print(\"Playing a guitar with strumming and picking.\")\n",
        "\n",
        "class Piano(Instrument):\n",
        "    \"\"\"Derived class representing a piano.\"\"\"\n",
        "\n",
        "    def play(self):\n",
        "        \"\"\"Overrides the play() method for pianos.\"\"\"\n",
        "        print(\"Playing a piano with pressed keys.\")\n",
        "\n",
        "# Demonstrate runtime polymorphism\n",
        "def perform_music(instrument):\n",
        "    \"\"\"Function that takes an Instrument object and calls its play() method.\"\"\"\n",
        "    instrument.play()\n",
        "\n",
        "generic_instrument = Instrument()\n",
        "guitar = Guitar()\n",
        "piano = Piano()\n",
        "\n",
        "perform_music(generic_instrument)\n",
        "perform_music(guitar)\n",
        "perform_music(piano)"
      ],
      "metadata": {
        "colab": {
          "base_uri": "https://localhost:8080/"
        },
        "id": "Oi58_NJppnoW",
        "outputId": "79588a5e-3abb-49b1-9f26-2d8e28ff4e84"
      },
      "execution_count": 7,
      "outputs": [
        {
          "output_type": "stream",
          "name": "stdout",
          "text": [
            "Playing a generic instrument.\n",
            "Playing a guitar with strumming and picking.\n",
            "Playing a piano with pressed keys.\n"
          ]
        }
      ]
    },
    {
      "cell_type": "markdown",
      "source": [
        "7. **Create a class MathOperations with a class method add_numbers() to add two numbers and a static method subtract_numbers() to subtract two numbers.**"
      ],
      "metadata": {
        "id": "tTicxs0hqAca"
      }
    },
    {
      "cell_type": "code",
      "source": [
        "class MathOperations:\n",
        "    \"\"\"A class demonstrating class and static methods for math operations.\"\"\"\n",
        "\n",
        "    @classmethod\n",
        "    def add_numbers(cls, num1, num2):\n",
        "        \"\"\"Class method to add two numbers.\"\"\"\n",
        "        return num1 + num2\n",
        "\n",
        "    @staticmethod\n",
        "    def subtract_numbers(num1, num2):\n",
        "        \"\"\"Static method to subtract two numbers.\"\"\"\n",
        "        return num1 - num2\n",
        "\n",
        "result_add = MathOperations.add_numbers(10, 5)\n",
        "result_subtract = MathOperations.subtract_numbers(10, 5)\n",
        "\n",
        "print(f\"Addition result: {result_add}\")\n",
        "print(f\"Subtraction result: {result_subtract}\")\n",
        "\n",
        "# Calling without creating an instance.\n",
        "result_add2 = MathOperations.add_numbers(20, 3)\n",
        "result_subtract2 = MathOperations.subtract_numbers(20, 3)\n",
        "\n",
        "print(f\"Addition result 2: {result_add2}\")\n",
        "print(f\"Subtraction result 2: {result_subtract2}\")"
      ],
      "metadata": {
        "colab": {
          "base_uri": "https://localhost:8080/"
        },
        "id": "CN7ggRugp_vN",
        "outputId": "bda484c8-fe6e-4edf-d21e-7ef34f52f587"
      },
      "execution_count": 8,
      "outputs": [
        {
          "output_type": "stream",
          "name": "stdout",
          "text": [
            "Addition result: 15\n",
            "Subtraction result: 5\n",
            "Addition result 2: 23\n",
            "Subtraction result 2: 17\n"
          ]
        }
      ]
    },
    {
      "cell_type": "markdown",
      "source": [
        "8. **Implement a class Person with a class method to count the total number of persons created.**"
      ],
      "metadata": {
        "id": "G-xVVgDqqMG7"
      }
    },
    {
      "cell_type": "code",
      "source": [
        "class Person:\n",
        "    \"\"\"A class representing a person with a class method to count instances.\"\"\"\n",
        "\n",
        "    _person_count = 0  # Class variable to store the count\n",
        "\n",
        "    def __init__(self, name):\n",
        "        \"\"\"Initializes a Person object with a name and increments the count.\"\"\"\n",
        "        self.name = name\n",
        "        Person._person_count += 1\n",
        "\n",
        "    @classmethod\n",
        "    def get_person_count(cls):\n",
        "        \"\"\"Class method to get the total number of Person objects created.\"\"\"\n",
        "        return cls._person_count\n",
        "\n",
        "person1 = Person(\"Alice\")\n",
        "person2 = Person(\"Bob\")\n",
        "person3 = Person(\"Charlie\")\n",
        "\n",
        "print(f\"Total persons created: {Person.get_person_count()}\")"
      ],
      "metadata": {
        "colab": {
          "base_uri": "https://localhost:8080/"
        },
        "id": "loY3_UrqqKhK",
        "outputId": "8a68fd13-42fd-479f-aa9a-6702b6cc2530"
      },
      "execution_count": 9,
      "outputs": [
        {
          "output_type": "stream",
          "name": "stdout",
          "text": [
            "Total persons created: 3\n"
          ]
        }
      ]
    },
    {
      "cell_type": "markdown",
      "source": [
        "9. **Write a class Fraction with attributes numerator and denominator. Override the str method to display the fraction as \"numerator/denominator\".**"
      ],
      "metadata": {
        "id": "xidJjQ84qczt"
      }
    },
    {
      "cell_type": "code",
      "source": [
        "class Fraction:\n",
        "    \"\"\"A class representing a fraction.\"\"\"\n",
        "\n",
        "    def __init__(self, numerator, denominator):\n",
        "        \"\"\"Initializes a Fraction object with a numerator and denominator.\"\"\"\n",
        "        if denominator == 0:\n",
        "            raise ValueError(\"Denominator cannot be zero.\")\n",
        "        self.numerator = numerator\n",
        "        self.denominator = denominator\n",
        "\n",
        "    def __str__(self):\n",
        "        \"\"\"Overrides the str() method to display the fraction as 'numerator/denominator'.\"\"\"\n",
        "        return f\"{self.numerator}/{self.denominator}\"\n",
        "\n",
        "fraction1 = Fraction(3, 4)\n",
        "fraction2 = Fraction(1, 2)\n",
        "\n",
        "print(fraction1)\n",
        "print(fraction2)\n",
        "\n",
        "# Example of zero denominator:\n",
        "try:\n",
        "  fraction3 = Fraction(1,0)\n",
        "except ValueError as e:\n",
        "  print(e)"
      ],
      "metadata": {
        "colab": {
          "base_uri": "https://localhost:8080/"
        },
        "id": "S03CgzJ8qcPV",
        "outputId": "ee426726-da9a-4f31-9f04-87dfd45c8b90"
      },
      "execution_count": 10,
      "outputs": [
        {
          "output_type": "stream",
          "name": "stdout",
          "text": [
            "3/4\n",
            "1/2\n",
            "Denominator cannot be zero.\n"
          ]
        }
      ]
    },
    {
      "cell_type": "markdown",
      "source": [
        "10. **Demonstrate operator overloading by creating a class Vector and overriding the add method to add two vectors.**"
      ],
      "metadata": {
        "id": "9dBCE5elqmxu"
      }
    },
    {
      "cell_type": "code",
      "source": [
        "class Vector:\n",
        "    \"\"\"A class representing a vector.\"\"\"\n",
        "\n",
        "    def __init__(self, x, y):\n",
        "        \"\"\"Initializes a Vector object with x and y components.\"\"\"\n",
        "        self.x = x\n",
        "        self.y = y\n",
        "\n",
        "    def __add__(self, other):\n",
        "        \"\"\"Overrides the addition operator (+) to add two vectors.\"\"\"\n",
        "        if isinstance(other, Vector):  # Check if 'other' is also a Vector\n",
        "            return Vector(self.x + other.x, self.y + other.y)\n",
        "        else:\n",
        "            raise TypeError(\"Unsupported operand type for +: Vector and {}\".format(type(other)))\n",
        "\n",
        "    def __str__(self):\n",
        "        \"\"\"Overrides the str() method to display the vector as (x, y).\"\"\"\n",
        "        return f\"({self.x}, {self.y})\"\n",
        "\n",
        "vector1 = Vector(1, 2)\n",
        "vector2 = Vector(3, 4)\n",
        "\n",
        "vector3 = vector1 + vector2\n",
        "print(vector3)\n",
        "\n",
        "# Example of adding a vector to a non-vector.\n",
        "try:\n",
        "  vector4 = vector1 + 5\n",
        "except TypeError as e:\n",
        "  print(e)"
      ],
      "metadata": {
        "colab": {
          "base_uri": "https://localhost:8080/"
        },
        "id": "5XB-rLJRqiA9",
        "outputId": "92ed9aec-62b7-4ea9-a4ba-3df0ecbb8931"
      },
      "execution_count": 11,
      "outputs": [
        {
          "output_type": "stream",
          "name": "stdout",
          "text": [
            "(4, 6)\n",
            "Unsupported operand type for +: Vector and <class 'int'>\n"
          ]
        }
      ]
    },
    {
      "cell_type": "markdown",
      "source": [
        "11. **Create a class Person with attributes name and age. Add a method greet() that prints \"Hello, my name is {name} and I am {age} years old.\"**"
      ],
      "metadata": {
        "id": "_-H-4c0DqwLO"
      }
    },
    {
      "cell_type": "code",
      "source": [
        "class Person:\n",
        "    \"\"\"A class representing a person.\"\"\"\n",
        "\n",
        "    def __init__(self, name, age):\n",
        "        \"\"\"Initializes a Person object with a name and age.\"\"\"\n",
        "        self.name = name\n",
        "        self.age = age\n",
        "\n",
        "    def greet(self):\n",
        "        \"\"\"Prints a greeting message with the person's name and age.\"\"\"\n",
        "        print(f\"Hello, my name is {self.name} and I am {self.age} years old.\")\n",
        "\n",
        "\n",
        "person1 = Person(\"Alice\", 30)\n",
        "person2 = Person(\"Bob\", 25)\n",
        "\n",
        "person1.greet()\n",
        "person2.greet()"
      ],
      "metadata": {
        "colab": {
          "base_uri": "https://localhost:8080/"
        },
        "id": "VHkxVqU8qvPq",
        "outputId": "b28c6a71-1ef8-4306-8b9c-afc5bf1290f6"
      },
      "execution_count": 12,
      "outputs": [
        {
          "output_type": "stream",
          "name": "stdout",
          "text": [
            "Hello, my name is Alice and I am 30 years old.\n",
            "Hello, my name is Bob and I am 25 years old.\n"
          ]
        }
      ]
    },
    {
      "cell_type": "markdown",
      "source": [
        "12. **Implement a class Student with attributes name and grades. Create a method average_grade() to compute the average of the grades.**"
      ],
      "metadata": {
        "id": "VBZBWbD8q39g"
      }
    },
    {
      "cell_type": "code",
      "source": [
        "class Student:\n",
        "    \"\"\"A class representing a student with grades.\"\"\"\n",
        "\n",
        "    def __init__(self, name, grades):\n",
        "        \"\"\"Initializes a Student object with a name and a list of grades.\"\"\"\n",
        "        self.name = name\n",
        "        self.grades = grades\n",
        "\n",
        "    def average_grade(self):\n",
        "        \"\"\"Computes and returns the average of the student's grades.\"\"\"\n",
        "        if not self.grades:  # Handle the case of an empty grades list\n",
        "            return 0  # Or any other appropriate value, like None\n",
        "        return sum(self.grades) / len(self.grades)\n",
        "\n",
        "student1 = Student(\"Alice\", [85, 90, 78, 92])\n",
        "student2 = Student(\"Bob\", [70, 80, 75])\n",
        "student3 = Student(\"Charlie\", [])\n",
        "\n",
        "print(f\"{student1.name}'s average grade: {student1.average_grade()}\")\n",
        "print(f\"{student2.name}'s average grade: {student2.average_grade()}\")\n",
        "print(f\"{student3.name}'s average grade: {student3.average_grade()}\")"
      ],
      "metadata": {
        "colab": {
          "base_uri": "https://localhost:8080/"
        },
        "id": "0lEmAlCxq3SS",
        "outputId": "5496f04f-fa97-4b23-a112-4640f0c8d119"
      },
      "execution_count": 13,
      "outputs": [
        {
          "output_type": "stream",
          "name": "stdout",
          "text": [
            "Alice's average grade: 86.25\n",
            "Bob's average grade: 75.0\n",
            "Charlie's average grade: 0\n"
          ]
        }
      ]
    },
    {
      "cell_type": "markdown",
      "source": [
        "13. **Create a class Rectangle with methods set_dimensions() to set the dimensions and area() to calculate the area.**"
      ],
      "metadata": {
        "id": "CK4KpiChrCGr"
      }
    },
    {
      "cell_type": "code",
      "source": [
        "class Rectangle:\n",
        "    \"\"\"A class representing a rectangle.\"\"\"\n",
        "\n",
        "    def __init__(self):\n",
        "        \"\"\"Initializes a Rectangle object with default dimensions.\"\"\"\n",
        "        self.length = 0\n",
        "        self.width = 0\n",
        "\n",
        "    def set_dimensions(self, length, width):\n",
        "        \"\"\"Sets the length and width of the rectangle.\"\"\"\n",
        "        if length >= 0 and width >= 0:\n",
        "          self.length = length\n",
        "          self.width = width\n",
        "        else:\n",
        "          print(\"Error: Length and width must be non-negative.\")\n",
        "\n",
        "    def area(self):\n",
        "        \"\"\"Calculates and returns the area of the rectangle.\"\"\"\n",
        "        return self.length * self.width\n",
        "\n",
        "rectangle1 = Rectangle()\n",
        "rectangle1.set_dimensions(5, 10)\n",
        "print(f\"Area of rectangle1: {rectangle1.area()}\")\n",
        "\n",
        "rectangle2 = Rectangle()\n",
        "rectangle2.set_dimensions(3, 7)\n",
        "print(f\"Area of rectangle2: {rectangle2.area()}\")\n",
        "\n",
        "rectangle3 = Rectangle()\n",
        "rectangle3.set_dimensions(-2, 4) #demonstrate error handling.\n",
        "print(f\"Area of rectangle3: {rectangle3.area()}\")"
      ],
      "metadata": {
        "colab": {
          "base_uri": "https://localhost:8080/"
        },
        "id": "jsF3MUERrBOW",
        "outputId": "fed9c95f-015b-4298-e82c-6125cf6a2188"
      },
      "execution_count": 14,
      "outputs": [
        {
          "output_type": "stream",
          "name": "stdout",
          "text": [
            "Area of rectangle1: 50\n",
            "Area of rectangle2: 21\n",
            "Error: Length and width must be non-negative.\n",
            "Area of rectangle3: 0\n"
          ]
        }
      ]
    },
    {
      "cell_type": "markdown",
      "source": [
        "14. **Create a class Employee with a method calculate_salary() that computes the salary based on hours worked and hourly rate. Create a derived class Manager that adds a bonus to the salary.**"
      ],
      "metadata": {
        "id": "Tt3wbQHMrL9A"
      }
    },
    {
      "cell_type": "code",
      "source": [
        "class Employee:\n",
        "    \"\"\"A class representing an employee.\"\"\"\n",
        "\n",
        "    def __init__(self, name, hours_worked, hourly_rate):\n",
        "        \"\"\"Initializes an Employee object with name, hours, and rate.\"\"\"\n",
        "        self.name = name\n",
        "        self.hours_worked = hours_worked\n",
        "        self.hourly_rate = hourly_rate\n",
        "\n",
        "    def calculate_salary(self):\n",
        "        \"\"\"Calculates and returns the employee's salary.\"\"\"\n",
        "        return self.hours_worked * self.hourly_rate\n",
        "\n",
        "class Manager(Employee):\n",
        "    \"\"\"A derived class representing a manager, inheriting from Employee.\"\"\"\n",
        "\n",
        "    def __init__(self, name, hours_worked, hourly_rate, bonus):\n",
        "        \"\"\"Initializes a Manager object with name, hours, rate, and bonus.\"\"\"\n",
        "        super().__init__(name, hours_worked, hourly_rate)\n",
        "        self.bonus = bonus\n",
        "\n",
        "    def calculate_salary(self):\n",
        "        \"\"\"Calculates and returns the manager's salary with bonus.\"\"\"\n",
        "        return super().calculate_salary() + self.bonus\n",
        "\n",
        "employee1 = Employee(\"Alice\", 40, 15)\n",
        "manager1 = Manager(\"Bob\", 40, 25, 500)\n",
        "\n",
        "print(f\"{employee1.name}'s salary: ${employee1.calculate_salary()}\")\n",
        "print(f\"{manager1.name}'s salary: ${manager1.calculate_salary()}\")"
      ],
      "metadata": {
        "colab": {
          "base_uri": "https://localhost:8080/"
        },
        "id": "fY02OK1OrKna",
        "outputId": "4ccca069-43ca-494f-d74f-0da92b48e2e9"
      },
      "execution_count": 17,
      "outputs": [
        {
          "output_type": "stream",
          "name": "stdout",
          "text": [
            "Alice's salary: $600\n",
            "Bob's salary: $1500\n"
          ]
        }
      ]
    },
    {
      "cell_type": "markdown",
      "source": [
        "15. **Create a class Product with attributes name, price, and quantity. Implement a method total_price() that calculates the total price of the product.**"
      ],
      "metadata": {
        "id": "WrHnDvgErbCK"
      }
    },
    {
      "cell_type": "code",
      "source": [
        "class Product:\n",
        "    \"\"\"A class representing a product.\"\"\"\n",
        "\n",
        "    def __init__(self, name, price, quantity):\n",
        "        \"\"\"Initializes a Product object with name, price, and quantity.\"\"\"\n",
        "        self.name = name\n",
        "        self.price = price\n",
        "        self.quantity = quantity\n",
        "\n",
        "    def total_price(self):\n",
        "        \"\"\"Calculates and returns the total price of the product.\"\"\"\n",
        "        return self.price * self.quantity\n",
        "\n",
        "product1 = Product(\"Laptop\", 60000, 1)\n",
        "product2 = Product(\"Mouse\", 250, 3)\n",
        "product3 = Product(\"Keyboard\", 500, 2)\n",
        "\n",
        "print(f\"Total price of {product1.name}: ₹{product1.total_price()}\")\n",
        "print(f\"Total price of {product2.name}: ₹{product2.total_price()}\")\n",
        "print(f\"Total price of {product3.name}: ₹{product3.total_price()}\")"
      ],
      "metadata": {
        "colab": {
          "base_uri": "https://localhost:8080/"
        },
        "id": "iyv_S-PbrUDp",
        "outputId": "f2cb1c03-4374-4e4f-a57d-9976acd3efe0"
      },
      "execution_count": 21,
      "outputs": [
        {
          "output_type": "stream",
          "name": "stdout",
          "text": [
            "Total price of Laptop: ₹60000\n",
            "Total price of Mouse: ₹750\n",
            "Total price of Keyboard: ₹1000\n"
          ]
        }
      ]
    },
    {
      "cell_type": "markdown",
      "source": [
        "16. **Create a class Animal with an abstract method sound(). Create two derived classes Cow and Sheep that implement the sound() method.**"
      ],
      "metadata": {
        "id": "FnIfQBcirsdT"
      }
    },
    {
      "cell_type": "code",
      "source": [
        "from abc import ABC, abstractmethod\n",
        "\n",
        "class Animal(ABC):\n",
        "    \"\"\"An abstract class representing an animal.\"\"\"\n",
        "\n",
        "    @abstractmethod\n",
        "    def sound(self):\n",
        "        \"\"\"Abstract method to represent the animal's sound.\"\"\"\n",
        "        pass\n",
        "\n",
        "class Cow(Animal):\n",
        "    \"\"\"A class representing a cow, derived from Animal.\"\"\"\n",
        "\n",
        "    def sound(self):\n",
        "        \"\"\"Implements the sound() method for cows.\"\"\"\n",
        "        print(\"Moo!\")\n",
        "\n",
        "class Sheep(Animal):\n",
        "    \"\"\"A class representing a sheep, derived from Animal.\"\"\"\n",
        "\n",
        "    def sound(self):\n",
        "        \"\"\"Implements the sound() method for sheep.\"\"\"\n",
        "        print(\"Baa!\")\n",
        "\n",
        "cow = Cow()\n",
        "sheep = Sheep()\n",
        "\n",
        "cow.sound()\n",
        "sheep.sound()"
      ],
      "metadata": {
        "colab": {
          "base_uri": "https://localhost:8080/"
        },
        "id": "D-u1gIigriZr",
        "outputId": "4834874f-2e25-4797-e8d9-5e501b410894"
      },
      "execution_count": 22,
      "outputs": [
        {
          "output_type": "stream",
          "name": "stdout",
          "text": [
            "Moo!\n",
            "Baa!\n"
          ]
        }
      ]
    },
    {
      "cell_type": "markdown",
      "source": [
        "17. **Create a class Book with attributes title, author, and year_published. Add a method get_book_info() that returns a formatted string with the book's details.**"
      ],
      "metadata": {
        "id": "vR34C54TsQug"
      }
    },
    {
      "cell_type": "code",
      "source": [
        "class Book:\n",
        "    \"\"\"A class representing a book.\"\"\"\n",
        "\n",
        "    def __init__(self, title, author, year_published):\n",
        "        \"\"\"Initializes a Book object with title, author, and year.\"\"\"\n",
        "        self.title = title\n",
        "        self.author = author\n",
        "        self.year_published = year_published\n",
        "\n",
        "    def get_book_info(self):\n",
        "        \"\"\"Returns a formatted string with the book's details.\"\"\"\n",
        "        return f\"'{self.title}' by {self.author}, published in {self.year_published}\"\n",
        "\n",
        "book1 = Book(\"Pride and Prejudice\", \"Jane Austen\", 1813)\n",
        "book2 = Book(\"To Kill a Mockingbird\", \"Harper Lee\", 1960)\n",
        "\n",
        "print(book1.get_book_info())\n",
        "print(book2.get_book_info())"
      ],
      "metadata": {
        "colab": {
          "base_uri": "https://localhost:8080/"
        },
        "id": "hSrhpkyEsQLj",
        "outputId": "6dab1d21-37f7-4e31-f67b-8b6f4f1c1860"
      },
      "execution_count": 23,
      "outputs": [
        {
          "output_type": "stream",
          "name": "stdout",
          "text": [
            "'Pride and Prejudice' by Jane Austen, published in 1813\n",
            "'To Kill a Mockingbird' by Harper Lee, published in 1960\n"
          ]
        }
      ]
    },
    {
      "cell_type": "markdown",
      "source": [
        "18. **Create a class House with attributes address and price. Create a derived class Mansion that adds an attribute number_of_rooms.**"
      ],
      "metadata": {
        "id": "IZ8uRWIFsZ8H"
      }
    },
    {
      "cell_type": "code",
      "source": [
        "class House:\n",
        "    \"\"\"A class representing a house.\"\"\"\n",
        "\n",
        "    def __init__(self, address, price):\n",
        "        \"\"\"Initializes a House object with address and price.\"\"\"\n",
        "        self.address = address\n",
        "        self.price = price\n",
        "\n",
        "    def display_house_info(self):\n",
        "      \"\"\"Displays basic house info\"\"\"\n",
        "      print(f\"Address: {self.address}, Price: ₹{self.price}\")\n",
        "\n",
        "\n",
        "class Mansion(House):\n",
        "    \"\"\"A derived class representing a mansion, inheriting from House.\"\"\"\n",
        "\n",
        "    def __init__(self, address, price, number_of_rooms):\n",
        "        \"\"\"Initializes a Mansion object with address, price, and number of rooms.\"\"\"\n",
        "        super().__init__(address, price)\n",
        "        self.number_of_rooms = number_of_rooms\n",
        "\n",
        "    def display_mansion_info(self):\n",
        "        \"\"\"Displays mansion info including number of rooms.\"\"\"\n",
        "        super().display_house_info()\n",
        "        print(f\"Number of Rooms: {self.number_of_rooms}\")\n",
        "\n",
        "house1 = House(\"123 Main St\", 15000000)\n",
        "mansion1 = Mansion(\"456 Grand Ave\", 80000000, 10)\n",
        "\n",
        "house1.display_house_info()\n",
        "print(\"-\" * 20)\n",
        "mansion1.display_mansion_info()"
      ],
      "metadata": {
        "colab": {
          "base_uri": "https://localhost:8080/"
        },
        "id": "P2jW-uYVsYxC",
        "outputId": "09eb5b2b-b4a9-4f66-d06d-03b44ebc5893"
      },
      "execution_count": 26,
      "outputs": [
        {
          "output_type": "stream",
          "name": "stdout",
          "text": [
            "Address: 123 Main St, Price: ₹15000000\n",
            "--------------------\n",
            "Address: 456 Grand Ave, Price: ₹80000000\n",
            "Number of Rooms: 10\n"
          ]
        }
      ]
    },
    {
      "cell_type": "code",
      "source": [],
      "metadata": {
        "id": "7rfEBGTlslbS"
      },
      "execution_count": null,
      "outputs": []
    }
  ]
}