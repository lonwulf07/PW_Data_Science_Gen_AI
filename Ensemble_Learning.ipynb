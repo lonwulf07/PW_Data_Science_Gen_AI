{
  "nbformat": 4,
  "nbformat_minor": 0,
  "metadata": {
    "colab": {
      "provenance": []
    },
    "kernelspec": {
      "name": "python3",
      "display_name": "Python 3"
    },
    "language_info": {
      "name": "python"
    }
  },
  "cells": [
    {
      "cell_type": "markdown",
      "source": [
        "# **Ensemble Learning**"
      ],
      "metadata": {
        "id": "1hhUb4g-9d3t"
      }
    },
    {
      "cell_type": "markdown",
      "source": [
        "# **Theoretical Questions**"
      ],
      "metadata": {
        "id": "m2WoZscs9hYS"
      }
    },
    {
      "cell_type": "markdown",
      "source": [
        "1. **Can we use Bagging for regression problems?**\n",
        "\n",
        "Ans. Yes, Bagging can be used for regression problems. Instead of taking the majority vote as in classification, the predictions from each individual regression model are averaged to produce the final prediction. This helps to reduce variance and improve the stability and accuracy of the overall model.\n",
        "\n",
        "---"
      ],
      "metadata": {
        "id": "grlCtj469lBq"
      }
    },
    {
      "cell_type": "markdown",
      "source": [
        "2. **What is the difference between multiple model training and single model training?**\n",
        "\n",
        "Ans. Multiple model training, often referred to as ensemble learning, involves training several models and combining their predictions to make a final decision. This can lead to improved performance, robustness, and generalization compared to using a single model. Different types of ensemble methods exist, such as bagging, boosting, and stacking, each with its own way of combining models.\n",
        "\n",
        "Single model training, on the other hand, involves training just one model on the entire dataset. While simpler to implement and interpret, single models can be more prone to overfitting and may not capture the complexities of the data as effectively as an ensemble.\n",
        "\n",
        "---"
      ],
      "metadata": {
        "id": "NXwf-6i6_MGB"
      }
    },
    {
      "cell_type": "markdown",
      "source": [
        "3. **Explain the concept of feature randomness in Random Forest.**\n",
        "\n",
        "Ans. Feature randomness, also known as feature bagging or random subspace method, is a technique used in Random Forests to further decorrelate the individual decision trees. In addition to bootstrapping the data (sampling with replacement), for each split in a decision tree, only a random subset of features is considered. This means that even if there are some very strong predictors in the dataset, not all trees will necessarily use them at the top splits, forcing the trees to explore other features and potentially capture different aspects of the data. This increased diversity among the trees helps to reduce variance and improve the overall robustness of the Random Forest model.\n",
        "\n",
        "---"
      ],
      "metadata": {
        "id": "K4NHl-jB_Ovj"
      }
    },
    {
      "cell_type": "markdown",
      "metadata": {
        "id": "96c921f3"
      },
      "source": [
        "4. **What is OOB (Out-of-Bag) Score?**\n",
        "\n",
        "Ans. The Out-of-Bag (OOB) score is a method for estimating the generalization error of a Bagging model, such as a Random Forest, without the need for a separate validation set. In Bagging, each base learner is trained on a bootstrap sample of the original dataset. The data points that are not included in the bootstrap sample for a particular base learner are called \"out-of-bag\" samples for that learner.\n",
        "\n",
        "To calculate the OOB score, for each data point in the original dataset, we consider only the base learners for which this data point was **not** included in their training set (i.e., it was an OOB sample for those learners). We then aggregate the predictions from these specific learners for that data point (e.g., by majority vote for classification or averaging for regression). The OOB score is the performance metric calculated on these aggregated OOB predictions for all data points.\n",
        "\n",
        "The OOB score provides an internal estimate of the model's performance and is considered a reliable alternative to cross-validation, especially for large datasets where cross-validation can be computationally expensive.\n",
        "\n",
        "* * *"
      ]
    },
    {
      "cell_type": "markdown",
      "metadata": {
        "id": "14f95b9c"
      },
      "source": [
        "5. **How can you measure the importance of features in a Random Forest model?**\n",
        "\n",
        "Ans. We can measure the importance of features in a Random Forest model in a couple of ways:\n",
        "\n",
        "1.  **Mean Decrease in Impurity (MDI):** This is the most common method. It measures how much each feature decreases the weighted impurity (like Gini impurity for classification or variance for regression) across all trees in the forest. The impurity decrease is averaged over all trees, and the features with the largest average decrease are considered the most important.\n",
        "\n",
        "2.  **Mean Decrease in Accuracy (MDA):** This method is based on permuting the values of each feature and measuring the decrease in accuracy or performance of the model. If permuting a feature's values significantly decreases the model's performance, that feature is considered important. This method can be more computationally expensive than MDI but can sometimes provide a more reliable measure of importance, especially when features are correlated.\n",
        "\n",
        "Both methods provide a score for each feature, and these scores can be used to rank features by their importance.\n",
        "\n",
        "* * *"
      ]
    },
    {
      "cell_type": "markdown",
      "metadata": {
        "id": "37fd8262"
      },
      "source": [
        "6. **Explain the working principle of a Bagging Classifier.**\n",
        "\n",
        "Ans. The working principle of a Bagging Classifier (Bootstrap Aggregating) is based on training multiple instances of the same base learning algorithm on different bootstrap samples of the training data and then combining their predictions through a majority vote. Here's a breakdown:\n",
        "\n",
        "1.  **Bootstrapping:** From the original training dataset of size N, multiple new datasets of size N are created by sampling with replacement. This means that some data points may appear multiple times in a bootstrap sample, while others may not appear at all (these are the out-of-bag samples). Each bootstrap sample is used to train one instance of the base classifier.\n",
        "\n",
        "2.  **Parallel Training:** Each base classifier (e.g., a decision tree) is trained independently and in parallel on its corresponding bootstrap sample. Since the training sets are different, each base classifier will learn slightly different patterns from the data.\n",
        "\n",
        "3.  **Aggregation (Majority Vote):** For a new, unseen data point, each trained base classifier makes its own prediction. In the case of a classification problem, the final prediction of the Bagging Classifier is determined by taking a majority vote among the predictions of all the base classifiers. The class that receives the most votes is the predicted class.\n",
        "\n",
        "The main idea behind Bagging is to reduce variance. By training multiple models on different subsets of the data and averaging or voting their predictions, the impact of noisy data points or the instability of a single model trained on the entire dataset is reduced. This often leads to a more robust and accurate model, especially when the base learners are prone to overfitting (like deep decision trees).\n",
        "\n",
        "* * *"
      ]
    },
    {
      "cell_type": "markdown",
      "metadata": {
        "id": "b8002232"
      },
      "source": [
        "7. **How do you evaluate a Bagging Classifier’s performance?**\n",
        "\n",
        "Ans. Evaluating a Bagging Classifier's performance is similar to evaluating any other classification model, but there are a few key considerations:\n",
        "\n",
        "1.  **Standard Evaluation Metrics:** We can use standard classification metrics such as:\n",
        "    *   **Accuracy:** The proportion of correctly classified instances.\n",
        "    *   **Precision:** The proportion of true positive predictions among all positive predictions.\n",
        "    *   **Recall (Sensitivity):** The proportion of true positive predictions among all actual positive instances.\n",
        "    *   **F1-Score:** The harmonic mean of precision and recall, providing a balance between the two.\n",
        "    *   **AUC (Area Under the ROC Curve):** Measures the classifier's ability to distinguish between classes.\n",
        "\n",
        "2.  **Cross-Validation:** A common and robust method for evaluating model performance is k-fold cross-validation. The dataset is split into k folds, and the model is trained on k-1 folds and evaluated on the remaining fold. This process is repeated k times, and the average performance across all folds is reported.\n",
        "\n",
        "3.  **Out-of-Bag (OOB) Score:** As discussed earlier, the OOB score provides an internal estimate of the model's performance without the need for a separate validation set. This is particularly useful for Bagging models like Random Forests. The OOB error (1 - OOB accuracy) can be a good indicator of how well the model generalizes to unseen data.\n",
        "\n",
        "4.  **Confusion Matrix:** A confusion matrix can provide a detailed breakdown of the classifier's performance by showing the counts of true positives, true negatives, false positives, and false negatives. This helps in understanding the types of errors the model is making.\n",
        "\n",
        "In practice, it's often recommended to use a combination of these methods to get a comprehensive understanding of the Bagging Classifier's performance. The choice of evaluation metric depends on the specific problem and the relative importance of different types of errors.\n",
        "\n",
        "* * *"
      ]
    },
    {
      "cell_type": "markdown",
      "metadata": {
        "id": "335cd68f"
      },
      "source": [
        "8. **How does a Bagging Regressor work?**\n",
        "\n",
        "Ans. The working principle of a Bagging Regressor is very similar to that of a Bagging Classifier, but instead of combining predictions through a majority vote, it combines them by averaging. Here's a breakdown:\n",
        "\n",
        "1.  **Bootstrapping:** Similar to the Bagging Classifier, multiple new datasets are created from the original training dataset by sampling with replacement. Each bootstrap sample is used to train one instance of the base regression model.\n",
        "\n",
        "2.  **Parallel Training:** Each base regressor (e.g., a decision tree regressor) is trained independently and in parallel on its corresponding bootstrap sample.\n",
        "\n",
        "3.  **Aggregation (Averaging):** For a new, unseen data point, each trained base regressor makes its own numerical prediction. The final prediction of the Bagging Regressor is determined by averaging the predictions of all the base regressors.\n",
        "\n",
        "The main goal of a Bagging Regressor is also to reduce variance and improve the stability and accuracy of the overall model. By averaging the predictions of multiple models trained on different subsets of the data, the impact of individual model errors and noise in the data is reduced.\n",
        "\n",
        "* * *"
      ]
    },
    {
      "cell_type": "markdown",
      "metadata": {
        "id": "ce8f9f36"
      },
      "source": [
        "9. **What is the main advantage of ensemble techniques?**\n",
        "\n",
        "Ans. The main advantage of ensemble techniques is their ability to improve the overall performance, robustness, and generalization capability of a model compared to using a single model. By combining the predictions of multiple models, ensemble methods can reduce variance, bias, or both, leading to more accurate and reliable predictions, especially on unseen data.\n",
        "\n",
        "* * *"
      ]
    },
    {
      "cell_type": "markdown",
      "metadata": {
        "id": "d659f685"
      },
      "source": [
        "10. **What is the main challenge of ensemble methods?**\n",
        "\n",
        "Ans. One of the main challenges of ensemble methods is their **interpretability**. While they often provide improved performance, it can be difficult to understand exactly *why* an ensemble makes a particular prediction. This is because the final prediction is a combination of the predictions from multiple individual models, each potentially learning different patterns from the data. This lack of transparency can be a drawback in situations where understanding the decision-making process is crucial, such as in medical diagnosis or financial modeling.\n",
        "\n",
        "Other challenges can include:\n",
        "\n",
        "*   **Increased computational cost:** Training and maintaining multiple models can be more computationally expensive than using a single model.\n",
        "*   **Increased complexity:** Designing and tuning ensemble methods can be more complex than working with single models.\n",
        "*   **Data requirements:** Some ensemble methods may require a larger amount of data to effectively train multiple base learners.\n",
        "\n",
        "* * *"
      ]
    },
    {
      "cell_type": "markdown",
      "metadata": {
        "id": "3f95ce87"
      },
      "source": [
        "11. **Explain the key idea behind ensemble techniques.**\n",
        "\n",
        "Ans. The key idea behind ensemble techniques is to combine the predictions of multiple individual models to produce a more accurate and robust prediction than any single model could achieve on its own. This is based on the principle that a diverse group of \"weak learners\" can collectively form a \"strong learner.\" By aggregating the predictions of multiple models trained on variations of the data or using different algorithms, ensemble methods can reduce errors due to bias, variance, or both. The diversity among the individual models is crucial; if all models make the same errors, combining them won't help. Ensemble methods leverage this diversity to average out errors and improve generalization.\n",
        "\n",
        "* * *"
      ]
    },
    {
      "cell_type": "markdown",
      "metadata": {
        "id": "150b3583"
      },
      "source": [
        "12. **What is a Random Forest Classifier?**\n",
        "\n",
        "Ans. A Random Forest Classifier is an ensemble learning method for classification that operates by constructing a multitude of decision trees at training time and outputting the class that is the mode of the classes (classification) or mean prediction (regression) of the individual trees. It's a type of Bagging method with an additional layer of randomness: feature randomness.\n",
        "\n",
        "Here's a breakdown of its working:\n",
        "\n",
        "1.  **Bagging (Bootstrap Aggregating):** Similar to other Bagging methods, the Random Forest trains each decision tree on a random subset of the training data sampled with replacement (bootstrap sample). This introduces diversity among the trees.\n",
        "\n",
        "2.  **Feature Randomness:** At each node of a decision tree, instead of considering all features for the split, the algorithm considers only a random subset of features. This further decorrelates the trees and makes them less prone to overfitting to specific features.\n",
        "\n",
        "3.  **Tree Construction:** Each decision tree is grown to its full depth without pruning. While individual deep decision trees are prone to overfitting, the randomness introduced through bagging and feature randomness, combined with the aggregation of predictions, helps to mitigate this in the Random Forest.\n",
        "\n",
        "4.  **Prediction:** For a new data point, each tree in the forest makes a prediction. For classification, the final prediction is the class that receives the majority vote from all the trees.\n",
        "\n",
        "The combination of bagging and feature randomness makes Random Forests robust to overfitting and generally results in higher accuracy compared to individual decision trees. They are also relatively easy to use and can handle a large number of features.\n",
        "\n",
        "* * *"
      ]
    },
    {
      "cell_type": "markdown",
      "metadata": {
        "id": "f9da358b"
      },
      "source": [
        "13. **What are the main types of ensemble techniques?**\n",
        "\n",
        "Ans. The main types of ensemble techniques include:\n",
        "\n",
        "1.  **Bagging (Bootstrap Aggregating):** This method involves training multiple models of the same type on different bootstrap samples of the training data and combining their predictions (e.g., through voting for classification or averaging for regression). Examples include Bagged Decision Trees and Random Forests.\n",
        "\n",
        "2.  **Boosting:** This iterative method trains a sequence of weak learners, where each subsequent learner focuses on correcting the errors made by the previous ones. The predictions of the weak learners are then combined, usually with weights, to form a strong learner. Examples include AdaBoost, Gradient Boosting, and XGBoost.\n",
        "\n",
        "3.  **Stacking (Stacked Generalization):** This method involves training multiple diverse models (level-0 models) on the training data and then training a meta-model (level-1 model) on the predictions of the level-0 models. The meta-model learns how to combine the predictions of the base models to make the final prediction.\n",
        "\n",
        "Each of these techniques has its own strengths and weaknesses and is suitable for different types of problems and data.\n",
        "\n",
        "* * *"
      ]
    },
    {
      "cell_type": "markdown",
      "metadata": {
        "id": "35bafbf1"
      },
      "source": [
        "14. **What is ensemble learning in machine learning?**\n",
        "\n",
        "Ans. Ensemble learning is a machine learning paradigm where multiple models, often called \"weak learners,\" are trained to solve the same problem and combined to get better results. The main idea is that by aggregating the predictions of several models, the combined model, or \"strong learner,\" will have improved performance and robustness compared to any single constituent model. This is because different models may capture different aspects of the data or make different types of errors, and combining their predictions can help to average out these errors and reduce the overall variance or bias.\n",
        "\n",
        "* * *"
      ]
    },
    {
      "cell_type": "markdown",
      "metadata": {
        "id": "a5385c66"
      },
      "source": [
        "15. **When should we avoid using ensemble methods?**\n",
        "\n",
        "Ans. While ensemble methods offer significant advantages, there are situations where it might be better to avoid using them:\n",
        "\n",
        "*   **Interpretability is crucial:** Ensemble models are often considered \"black boxes\" because it's difficult to understand the exact reasoning behind their predictions due to the combination of multiple models. If understanding the decision-making process is critical (e.g., in medical diagnosis, loan applications), a simpler, more interpretable single model might be preferred.\n",
        "*   **Real-time predictions are required:** Ensembles typically require more computation than single models because multiple models need to make predictions. If we need very fast, real-time predictions, the increased latency of an ensemble might be unacceptable.\n",
        "*   **Limited computational resources:** Training and running multiple models can be computationally expensive and require more memory and processing power than a single model. If we have limited computational resources, a single model might be a more practical choice.\n",
        "*   **The dataset is very small:** Ensemble methods, especially those involving bootstrapping like Bagging, may not perform well on very small datasets. Bootstrapping from a small dataset can lead to limited diversity in the training subsets, and the benefits of ensembling might not be realized.\n",
        "*   **The base learners are already very strong and diverse:** If our individual base models are already highly accurate and diverse in the types of errors they make, the additional complexity of an ensemble might not provide significant performance gains.\n",
        "*   **Simple models are sufficient:** For simple problems where a basic model (e.g., linear regression, logistic regression) can achieve satisfactory performance, the added complexity of an ensemble might not be necessary.\n",
        "*   **Debugging and maintenance complexity:** Debugging and maintaining an ensemble of models can be more complex than managing a single model.\n",
        "\n",
        "In essence, we should weigh the potential performance gains of using an ensemble against the increased complexity, computational cost, and reduced interpretability.\n",
        "\n",
        "* * *"
      ]
    },
    {
      "cell_type": "markdown",
      "metadata": {
        "id": "3b2e067c"
      },
      "source": [
        "16. **How does Bagging help in reducing overfitting?**\n",
        "\n",
        "Ans. Bagging helps in reducing overfitting primarily by reducing the **variance** of the model. Here's how it works:\n",
        "\n",
        "*   **Training on diverse subsets:** Bagging trains multiple base models (e.g., decision trees) on different bootstrap samples of the original training data. These bootstrap samples are created by sampling with replacement, which means some data points will be repeated in a sample while others are left out. This process creates diverse training sets for each base model.\n",
        "*   **Averaging out noise:** Individual base models trained on a single dataset can be highly sensitive to the specific data points in that set and can overfit to the noise or peculiarities of that particular sample. By training multiple models on different subsets and then averaging (for regression) or taking a majority vote (for classification) of their predictions, the impact of the noise or overfitting in any single model is averaged out.\n",
        "*   **Stabilizing predictions:** Overfitting often leads to unstable predictions where small changes in the training data can lead to large changes in the model's output. Bagging, by aggregating predictions from multiple models trained on varied data, produces more stable and robust predictions that are less sensitive to the specific training set.\n",
        "\n",
        "In essence, Bagging creates an ensemble of models that collectively make a prediction. Each model might have some degree of overfitting, but because they are trained on different data subsets, their overfitting patterns are likely to be different. By combining their predictions, the effects of individual overfitting are mitigated, leading to a more generalized and less overfitted overall model.\n",
        "\n",
        "* * *"
      ]
    },
    {
      "cell_type": "markdown",
      "metadata": {
        "id": "b2af54e4"
      },
      "source": [
        "17. **Why is Random Forest better than a single Decision Tree?**\n",
        "\n",
        "Ans. Random Forest is generally better than a single Decision Tree due to its ensemble nature and the introduction of randomness during its construction. Here are the key reasons:\n",
        "\n",
        "*   **Reduced Overfitting:** Individual deep decision trees are prone to overfitting the training data, meaning they learn the noise and specific patterns of the training set too well and may not generalize well to unseen data. Random Forest mitigates overfitting by building multiple trees on different bootstrap samples of the data and considering only a random subset of features at each split. This randomness decorrelates the trees, and the aggregation of their predictions (majority vote or averaging) averages out the individual trees' tendencies to overfit.\n",
        "*   **Reduced Variance:** A single decision tree can have high variance, meaning its predictions can change significantly with small changes in the training data. Random Forest reduces variance by averaging the predictions of multiple trees. This averaging effect smooths out the individual trees' predictions and makes the overall model more stable and less sensitive to fluctuations in the training data.\n",
        "*   **Improved Accuracy:** By combining the predictions of multiple diverse trees, Random Forest often achieves higher accuracy than a single decision tree. Each tree in the forest captures different aspects of the data, and their combined knowledge leads to more robust and accurate predictions.\n",
        "*   **Handles High-Dimensional Data:** Random Forests can handle datasets with a large number of features effectively due to the feature randomness at each split. This helps to avoid focusing too much on a few dominant features and encourages exploration of other features, potentially revealing more complex relationships in the data.\n",
        "*   **Robust to Noise and Outliers:** The bagging process and the aggregation of predictions make Random Forests more robust to noisy data and outliers compared to a single decision tree, which can be easily influenced by such data points.\n",
        "\n",
        "In summary, while a single decision tree can be a good starting point, the ensemble approach of Random Forest, with its built-in randomness, effectively addresses the limitations of individual trees, particularly their tendency to overfit and their high variance, resulting in a more powerful and reliable model.\n",
        "\n",
        "* * *"
      ]
    },
    {
      "cell_type": "markdown",
      "metadata": {
        "id": "b05bf1de"
      },
      "source": [
        "18. **What is the role of bootstrap sampling in Bagging?**\n",
        "\n",
        "Ans. Bootstrap sampling plays a crucial role in Bagging by creating diverse training datasets for the individual base learners. Here's how it contributes:\n",
        "\n",
        "*   **Creating diverse subsets:** Bootstrap sampling involves randomly drawing samples from the original training data *with replacement*. This means that each bootstrap sample is slightly different from the original dataset and from other bootstrap samples. Some data points will be repeated, while others will be left out. This process introduces variation in the training data for each base learner.\n",
        "*   **Decorrelating base learners:** By training each base learner on a different bootstrap sample, the individual models are less likely to be highly correlated. If all models were trained on the exact same data, they would likely make similar errors and combining their predictions wouldn't be as effective in reducing variance. Bootstrap sampling helps to decorrelate the base learners, which is essential for Bagging's effectiveness in reducing variance.\n",
        "*   **Providing data for OOB evaluation:** The data points that are not included in a particular bootstrap sample form the out-of-bag (OOB) samples for the corresponding base learner. These OOB samples can be used to estimate the performance of the Bagging model without the need for a separate validation set, which is a significant advantage.\n",
        "\n",
        "In essence, bootstrap sampling is the foundation of Bagging. It creates the necessary diversity among the base learners, which in turn allows the aggregation of their predictions to effectively reduce variance and improve the overall model's performance and generalization.\n",
        "\n",
        "* * *"
      ]
    },
    {
      "cell_type": "markdown",
      "metadata": {
        "id": "63e49bac"
      },
      "source": [
        "19. **What are some real-world applications of ensemble techniques?**\n",
        "\n",
        "Ans. Ensemble techniques are widely used in various real-world applications due to their ability to improve model performance and robustness. Some examples include:\n",
        "\n",
        "*   **Fraud Detection:** Ensemble methods can combine different models to identify fraudulent transactions more accurately than a single model.\n",
        "*   **Medical Diagnosis:** Ensembles can be used to combine the predictions of different diagnostic models to improve the accuracy of disease detection.\n",
        "*   **Image Recognition:** Ensemble of deep learning models have achieved state-of-the-art results in image classification and object detection tasks.\n",
        "*   **Natural Language Processing (NLP):** Ensemble methods are used in tasks like sentiment analysis, spam detection, and machine translation to improve accuracy.\n",
        "*   **Financial Forecasting:** Ensembles can combine different time series models to improve the accuracy of stock price prediction, risk assessment, and credit scoring.\n",
        "*   **Customer Churn Prediction:** Ensemble models can combine various customer behavior models to predict which customers are likely to churn.\n",
        "*   **Recommendation Systems:** Ensembles can combine different recommendation algorithms to provide more accurate and personalized recommendations.\n",
        "*   **Weather Forecasting:** Ensemble forecasting combines multiple weather models to produce more reliable and accurate weather predictions.\n",
        "*   **Drug Discovery:** Ensemble methods can be used to predict the efficacy and toxicity of new drug candidates.\n",
        "*   **Speech Recognition:** Ensembles of acoustic models can improve the accuracy of speech recognition systems.\n",
        "\n",
        "These are just a few examples, and the applications of ensemble techniques continue to grow as researchers and practitioners find new ways to leverage the power of combining multiple models.\n",
        "\n",
        "* * *"
      ]
    },
    {
      "cell_type": "markdown",
      "metadata": {
        "id": "1ef369c3"
      },
      "source": [
        "20. **What is the difference between Bagging and Boosting?**\n",
        "\n",
        "Ans. Bagging and Boosting are both ensemble techniques that combine multiple weak learners to create a strong learner. However, they differ in their approach to training the base learners and combining their predictions:\n",
        "\n",
        "**Bagging (Bootstrap Aggregating):**\n",
        "\n",
        "*   **Parallel Training:** Base learners are trained independently and in parallel on different bootstrap samples of the original data.\n",
        "*   **Reduces Variance:** The primary goal of Bagging is to reduce the variance of the model by averaging or voting the predictions of multiple diverse models.\n",
        "*   **Homogeneous Weak Learners:** Typically uses the same type of base learner (e.g., decision trees).\n",
        "*   **Simple Aggregation:** Predictions are combined through simple aggregation methods like majority voting (classification) or averaging (regression).\n",
        "*   **Less prone to overfitting:** Bagging is less prone to overfitting compared to Boosting, especially with noisy data.\n",
        "\n",
        "**Boosting:**\n",
        "\n",
        "*   **Sequential Training:** Base learners are trained sequentially, where each subsequent learner focuses on correcting the errors made by the previous ones.\n",
        "*   **Reduces Bias:** The primary goal of Boosting is to reduce the bias of the model by iteratively improving the predictions on misclassified or poorly predicted instances.\n",
        "*   **Can use different Weak Learners:** Can use different types of base learners, although often uses weak learners (e.g., shallow decision trees).\n",
        "*   **Weighted Aggregation:** Predictions are combined with weights, where learners that perform better on difficult instances are given higher weights.\n",
        "*   **More prone to overfitting:** Boosting can be more prone to overfitting than Bagging, especially with noisy data or outliers, as it focuses on fitting the training data very well.\n",
        "\n",
        "In summary, Bagging is about reducing variance by training independent models on diverse data subsets and averaging their predictions, while Boosting is about reducing bias by sequentially training models that focus on correcting errors and combining their predictions with weights.\n",
        "\n",
        "* * *"
      ]
    },
    {
      "cell_type": "markdown",
      "source": [
        "# **Practical Questions**"
      ],
      "metadata": {
        "id": "FhS7-X2bDEGf"
      }
    },
    {
      "cell_type": "markdown",
      "source": [
        "21. **Train a Bagging Classifier using Decision Trees on a sample dataset and print model accuracy.**"
      ],
      "metadata": {
        "id": "FzjvHn89DHM6"
      }
    },
    {
      "cell_type": "code",
      "metadata": {
        "colab": {
          "base_uri": "https://localhost:8080/"
        },
        "id": "c859ae08",
        "outputId": "c2b21ad2-3852-4d7d-afc4-e34206fbb84a"
      },
      "source": [
        "from sklearn.datasets import make_classification\n",
        "from sklearn.tree import DecisionTreeClassifier\n",
        "from sklearn.ensemble import BaggingClassifier\n",
        "from sklearn.model_selection import train_test_split\n",
        "from sklearn.metrics import accuracy_score\n",
        "\n",
        "# Generate a sample dataset\n",
        "X, y = make_classification(n_samples=1000, n_features=20, n_informative=15, n_redundant=5, random_state=42)\n",
        "\n",
        "# Split the dataset into training and testing sets\n",
        "X_train, X_test, y_train, y_test = train_test_split(X, y, test_size=0.3, random_state=42)\n",
        "\n",
        "# Create a Bagging Classifier with Decision Trees as base estimators\n",
        "bagging_clf = BaggingClassifier(estimator=DecisionTreeClassifier(), n_estimators=10, random_state=42)\n",
        "\n",
        "# Train the Bagging Classifier\n",
        "bagging_clf.fit(X_train, y_train)\n",
        "\n",
        "# Predict on the test set\n",
        "y_pred = bagging_clf.predict(X_test)\n",
        "\n",
        "# Calculate and print the accuracy\n",
        "accuracy = accuracy_score(y_test, y_pred)\n",
        "print(f\"Accuracy of the Bagging Classifier: {accuracy:.4f}\")"
      ],
      "execution_count": 1,
      "outputs": [
        {
          "output_type": "stream",
          "name": "stdout",
          "text": [
            "Accuracy of the Bagging Classifier: 0.8500\n"
          ]
        }
      ]
    },
    {
      "cell_type": "markdown",
      "source": [
        "22. **Train a Bagging Regressor using Decision Trees and evaluate using Mean Squared Error (MSE).**"
      ],
      "metadata": {
        "id": "G-p2ufMNDTrG"
      }
    },
    {
      "cell_type": "code",
      "metadata": {
        "colab": {
          "base_uri": "https://localhost:8080/"
        },
        "id": "fb07c2f6",
        "outputId": "b2614b16-5f95-4516-b466-93434bedc5e6"
      },
      "source": [
        "from sklearn.datasets import make_regression\n",
        "from sklearn.tree import DecisionTreeRegressor\n",
        "from sklearn.ensemble import BaggingRegressor\n",
        "from sklearn.model_selection import train_test_split\n",
        "from sklearn.metrics import mean_squared_error\n",
        "\n",
        "# Generate a sample regression dataset\n",
        "X_reg, y_reg = make_regression(n_samples=1000, n_features=20, n_informative=15, random_state=42)\n",
        "\n",
        "# Split the dataset into training and testing sets\n",
        "X_train_reg, X_test_reg, y_train_reg, y_test_reg = train_test_split(X_reg, y_reg, test_size=0.3, random_state=42)\n",
        "\n",
        "# Create a Bagging Regressor with Decision Trees as base estimators\n",
        "bagging_reg = BaggingRegressor(estimator=DecisionTreeRegressor(), n_estimators=10, random_state=42)\n",
        "\n",
        "# Train the Bagging Regressor\n",
        "bagging_reg.fit(X_train_reg, y_train_reg)\n",
        "\n",
        "# Predict on the test set\n",
        "y_pred_reg = bagging_reg.predict(X_test_reg)\n",
        "\n",
        "# Calculate and print the Mean Squared Error\n",
        "mse = mean_squared_error(y_test_reg, y_pred_reg)\n",
        "print(f\"Mean Squared Error of the Bagging Regressor: {mse:.4f}\")"
      ],
      "execution_count": 2,
      "outputs": [
        {
          "output_type": "stream",
          "name": "stdout",
          "text": [
            "Mean Squared Error of the Bagging Regressor: 22358.3613\n"
          ]
        }
      ]
    },
    {
      "cell_type": "markdown",
      "source": [
        "23. **Train a Random Forest Classifier on the Breast Cancer dataset and print feature importance scores.**"
      ],
      "metadata": {
        "id": "DVhtsRV8LG8A"
      }
    },
    {
      "cell_type": "code",
      "metadata": {
        "colab": {
          "base_uri": "https://localhost:8080/"
        },
        "id": "f01f65f2",
        "outputId": "d49230e4-fd4d-40c1-9aca-ad42bf759737"
      },
      "source": [
        "from sklearn.datasets import load_breast_cancer\n",
        "from sklearn.ensemble import RandomForestClassifier\n",
        "from sklearn.model_selection import train_test_split\n",
        "import pandas as pd\n",
        "\n",
        "# Load the Breast Cancer dataset\n",
        "breast_cancer = load_breast_cancer()\n",
        "X, y = breast_cancer.data, breast_cancer.target\n",
        "feature_names = breast_cancer.feature_names\n",
        "\n",
        "# Split the dataset into training and testing sets\n",
        "X_train, X_test, y_train, y_test = train_test_split(X, y, test_size=0.3, random_state=42)\n",
        "\n",
        "# Create a Random Forest Classifier\n",
        "random_forest_clf = RandomForestClassifier(n_estimators=100, random_state=42)\n",
        "\n",
        "# Train the Random Forest Classifier\n",
        "random_forest_clf.fit(X_train, y_train)\n",
        "\n",
        "# Get feature importances\n",
        "feature_importances = random_forest_clf.feature_importances_\n",
        "\n",
        "# Create a pandas Series for better visualization\n",
        "importance_series = pd.Series(feature_importances, index=feature_names)\n",
        "\n",
        "# Sort feature importances in descending order\n",
        "sorted_importance_series = importance_series.sort_values(ascending=False)\n",
        "\n",
        "# Print feature importances\n",
        "print(\"Feature Importances:\")\n",
        "print(sorted_importance_series)"
      ],
      "execution_count": 3,
      "outputs": [
        {
          "output_type": "stream",
          "name": "stdout",
          "text": [
            "Feature Importances:\n",
            "mean concave points        0.141934\n",
            "worst concave points       0.127136\n",
            "worst area                 0.118217\n",
            "mean concavity             0.080557\n",
            "worst radius               0.077975\n",
            "worst perimeter            0.074292\n",
            "mean perimeter             0.060092\n",
            "mean area                  0.053810\n",
            "worst concavity            0.041080\n",
            "mean radius                0.032312\n",
            "area error                 0.029538\n",
            "worst texture              0.018786\n",
            "worst compactness          0.017539\n",
            "radius error               0.016435\n",
            "worst symmetry             0.012929\n",
            "perimeter error            0.011770\n",
            "worst smoothness           0.011769\n",
            "mean texture               0.011064\n",
            "mean compactness           0.009216\n",
            "fractal dimension error    0.007135\n",
            "worst fractal dimension    0.006924\n",
            "mean smoothness            0.006223\n",
            "smoothness error           0.005881\n",
            "concavity error            0.005816\n",
            "compactness error          0.004596\n",
            "symmetry error             0.004001\n",
            "concave points error       0.003382\n",
            "mean symmetry              0.003278\n",
            "texture error              0.003172\n",
            "mean fractal dimension     0.003140\n",
            "dtype: float64\n"
          ]
        }
      ]
    },
    {
      "cell_type": "markdown",
      "source": [
        "24. **Train a Random Forest Regressor and compare its performance with a single Decision Tree.**"
      ],
      "metadata": {
        "id": "J6SdbhoDMOIg"
      }
    },
    {
      "cell_type": "code",
      "metadata": {
        "colab": {
          "base_uri": "https://localhost:8080/"
        },
        "id": "d22dbec8",
        "outputId": "1badbea1-45ed-4985-a8e8-f16d5e62d98d"
      },
      "source": [
        "from sklearn.datasets import make_regression\n",
        "from sklearn.tree import DecisionTreeRegressor\n",
        "from sklearn.ensemble import RandomForestRegressor\n",
        "from sklearn.model_selection import train_test_split\n",
        "from sklearn.metrics import mean_squared_error\n",
        "import pandas as pd\n",
        "\n",
        "# 1. Generate a sample regression dataset\n",
        "X, y = make_regression(n_samples=1000, n_features=20, n_informative=15, random_state=42)\n",
        "\n",
        "# 2. Split the dataset into training and testing sets\n",
        "X_train, X_test, y_train, y_test = train_test_split(X, y, test_size=0.3, random_state=42)\n",
        "\n",
        "# 3. Train a Random Forest Regressor\n",
        "random_forest_reg = RandomForestRegressor(n_estimators=100, random_state=42)\n",
        "random_forest_reg.fit(X_train, y_train)\n",
        "\n",
        "# Train a single Decision Tree Regressor\n",
        "single_tree_reg = DecisionTreeRegressor(random_state=42)\n",
        "single_tree_reg.fit(X_train, y_train)\n",
        "\n",
        "# 4. Evaluate both models on the test set using Mean Squared Error\n",
        "y_pred_rf = random_forest_reg.predict(X_test)\n",
        "y_pred_tree = single_tree_reg.predict(X_test)\n",
        "\n",
        "mse_rf = mean_squared_error(y_test, y_pred_rf)\n",
        "mse_tree = mean_squared_error(y_test, y_pred_tree)\n",
        "\n",
        "# 5. Compare the performance metrics\n",
        "print(f\"Mean Squared Error of Random Forest Regressor: {mse_rf:.4f}\")\n",
        "print(f\"Mean Squared Error of single Decision Tree Regressor: {mse_tree:.4f}\")"
      ],
      "execution_count": 4,
      "outputs": [
        {
          "output_type": "stream",
          "name": "stdout",
          "text": [
            "Mean Squared Error of Random Forest Regressor: 18100.3317\n",
            "Mean Squared Error of single Decision Tree Regressor: 53218.0891\n"
          ]
        }
      ]
    },
    {
      "cell_type": "markdown",
      "source": [
        "25. **Compute the Out-of-Bag (OOB) Score for a Random Forest Classifier.**"
      ],
      "metadata": {
        "id": "PhqHD35yMd3F"
      }
    },
    {
      "cell_type": "code",
      "metadata": {
        "colab": {
          "base_uri": "https://localhost:8080/"
        },
        "id": "297fd75b",
        "outputId": "861252d8-995c-4e24-c3a7-fe9d5edfdef1"
      },
      "source": [
        "from sklearn.datasets import load_breast_cancer\n",
        "from sklearn.ensemble import RandomForestClassifier\n",
        "from sklearn.model_selection import train_test_split\n",
        "\n",
        "# Load the Breast Cancer dataset\n",
        "breast_cancer = load_breast_cancer()\n",
        "X, y = breast_cancer.data, breast_cancer.target\n",
        "\n",
        "# Split the dataset into training and testing sets\n",
        "# Although OOB doesn't require a separate test set,\n",
        "# it's good practice to split if we plan further evaluation\n",
        "X_train, X_test, y_train, y_test = train_test_split(X, y, test_size=0.3, random_state=42)\n",
        "\n",
        "# Create a Random Forest Classifier with oob_score set to True\n",
        "# The oob_score_ attribute will be available after fitting\n",
        "random_forest_clf_oob = RandomForestClassifier(n_estimators=100, oob_score=True, random_state=42)\n",
        "\n",
        "# Train the Random Forest Classifier\n",
        "random_forest_clf_oob.fit(X_train, y_train)\n",
        "\n",
        "# Get the Out-of-Bag (OOB) score\n",
        "oob_score = random_forest_clf_oob.oob_score_\n",
        "\n",
        "# Print the OOB score\n",
        "print(f\"Out-of-Bag (OOB) Score of the Random Forest Classifier: {oob_score:.4f}\")"
      ],
      "execution_count": 5,
      "outputs": [
        {
          "output_type": "stream",
          "name": "stdout",
          "text": [
            "Out-of-Bag (OOB) Score of the Random Forest Classifier: 0.9548\n"
          ]
        }
      ]
    },
    {
      "cell_type": "markdown",
      "source": [
        "26. **Train a Bagging Classifier using SVM as a base estimator and print accuracy.**"
      ],
      "metadata": {
        "id": "MWD9sR7cMndU"
      }
    },
    {
      "cell_type": "code",
      "metadata": {
        "colab": {
          "base_uri": "https://localhost:8080/"
        },
        "id": "7a207845",
        "outputId": "bc91180b-2551-432c-9e05-f744579c2c71"
      },
      "source": [
        "from sklearn.datasets import make_classification\n",
        "from sklearn.svm import SVC\n",
        "from sklearn.ensemble import BaggingClassifier\n",
        "from sklearn.model_selection import train_test_split\n",
        "from sklearn.metrics import accuracy_score\n",
        "\n",
        "# Generate a sample dataset\n",
        "X, y = make_classification(n_samples=1000, n_features=20, n_informative=15, n_redundant=5, random_state=42)\n",
        "\n",
        "# Split the dataset into training and testing sets\n",
        "X_train, X_test, y_train, y_test = train_test_split(X, y, test_size=0.3, random_state=42)\n",
        "\n",
        "# Create a Bagging Classifier with SVM as base estimator\n",
        "# Using probability=True for SVM is often needed for BaggingClassifier to work correctly\n",
        "bagging_clf_svm = BaggingClassifier(estimator=SVC(probability=True), n_estimators=10, random_state=42)\n",
        "\n",
        "# Train the Bagging Classifier\n",
        "bagging_clf_svm.fit(X_train, y_train)\n",
        "\n",
        "# Predict on the test set\n",
        "y_pred_svm = bagging_clf_svm.predict(X_test)\n",
        "\n",
        "# Calculate and print the accuracy\n",
        "accuracy_svm = accuracy_score(y_test, y_pred_svm)\n",
        "print(f\"Accuracy of the Bagging Classifier with SVM: {accuracy_svm:.4f}\")"
      ],
      "execution_count": 6,
      "outputs": [
        {
          "output_type": "stream",
          "name": "stdout",
          "text": [
            "Accuracy of the Bagging Classifier with SVM: 0.9300\n"
          ]
        }
      ]
    },
    {
      "cell_type": "markdown",
      "source": [
        "27. **Train a Random Forest Classifier with different numbers of trees and compare accuracy.**"
      ],
      "metadata": {
        "id": "htmuwlw3Mt19"
      }
    },
    {
      "cell_type": "code",
      "metadata": {
        "colab": {
          "base_uri": "https://localhost:8080/",
          "height": 651
        },
        "id": "b91cbbbb",
        "outputId": "a81dd7ab-2dd4-478e-c0c9-499ad9d1ff30"
      },
      "source": [
        "from sklearn.datasets import load_breast_cancer\n",
        "from sklearn.ensemble import RandomForestClassifier\n",
        "from sklearn.model_selection import train_test_split\n",
        "from sklearn.metrics import accuracy_score\n",
        "import matplotlib.pyplot as plt\n",
        "\n",
        "# Load the Breast Cancer dataset\n",
        "breast_cancer = load_breast_cancer()\n",
        "X, y = breast_cancer.data, breast_cancer.target\n",
        "\n",
        "# Split the dataset into training and testing sets\n",
        "X_train, X_test, y_train, y_test = train_test_split(X, y, test_size=0.3, random_state=42)\n",
        "\n",
        "# Define a list of different numbers of trees to experiment with\n",
        "n_estimators_list = [10, 50, 100, 200, 500]\n",
        "\n",
        "# Train Random Forest Classifiers with different numbers of trees and store accuracies\n",
        "accuracies = []\n",
        "for n_estimators in n_estimators_list:\n",
        "    rf_clf = RandomForestClassifier(n_estimators=n_estimators, random_state=42)\n",
        "    rf_clf.fit(X_train, y_train)\n",
        "    y_pred = rf_clf.predict(X_test)\n",
        "    accuracy = accuracy_score(y_test, y_pred)\n",
        "    accuracies.append(accuracy)\n",
        "    print(f\"Accuracy with {n_estimators} trees: {accuracy:.4f}\")\n",
        "\n",
        "# Optional: Plot the accuracies to visualize the impact of the number of trees\n",
        "plt.figure(figsize=(10, 6))\n",
        "plt.plot(n_estimators_list, accuracies, marker='o', linestyle='-')\n",
        "plt.title('Random Forest Accuracy vs. Number of Trees')\n",
        "plt.xlabel('Number of Trees')\n",
        "plt.ylabel('Accuracy')\n",
        "plt.xticks(n_estimators_list)\n",
        "plt.grid(True)\n",
        "plt.show()"
      ],
      "execution_count": 7,
      "outputs": [
        {
          "output_type": "stream",
          "name": "stdout",
          "text": [
            "Accuracy with 10 trees: 0.9649\n",
            "Accuracy with 50 trees: 0.9708\n",
            "Accuracy with 100 trees: 0.9708\n",
            "Accuracy with 200 trees: 0.9708\n",
            "Accuracy with 500 trees: 0.9708\n"
          ]
        },
        {
          "output_type": "display_data",
          "data": {
            "text/plain": [
              "<Figure size 1000x600 with 1 Axes>"
            ],
            "image/png": "[encoded data removed]"
          },
          "metadata": {}
        }
      ]
    },
    {
      "cell_type": "markdown",
      "source": [
        "28. **Train a Bagging Classifier using Logistic Regression as a base estimator and print AUC score.**"
      ],
      "metadata": {
        "id": "s239kJkGM4A5"
      }
    },
    {
      "cell_type": "code",
      "metadata": {
        "colab": {
          "base_uri": "https://localhost:8080/"
        },
        "id": "88a2d437",
        "outputId": "07693c27-89a5-4db2-bb0a-9004bb9b23a6"
      },
      "source": [
        "from sklearn.datasets import make_classification\n",
        "from sklearn.linear_model import LogisticRegression\n",
        "from sklearn.ensemble import BaggingClassifier\n",
        "from sklearn.model_selection import train_test_split\n",
        "from sklearn.metrics import roc_auc_score\n",
        "\n",
        "# Generate a sample dataset\n",
        "X, y = make_classification(n_samples=1000, n_features=20, n_informative=15, n_redundant=5, random_state=42)\n",
        "\n",
        "# Split the dataset into training and testing sets\n",
        "X_train, X_test, y_train, y_test = train_test_split(X, y, test_size=0.3, random_state=42)\n",
        "\n",
        "# Create a Bagging Classifier with Logistic Regression as base estimator\n",
        "# Ensure the base estimator supports probability predictions for AUC\n",
        "bagging_clf_lr = BaggingClassifier(estimator=LogisticRegression(), n_estimators=10, random_state=42)\n",
        "\n",
        "# Train the Bagging Classifier\n",
        "bagging_clf_lr.fit(X_train, y_train)\n",
        "\n",
        "# Predict probabilities on the test set (needed for AUC)\n",
        "y_pred_proba_lr = bagging_clf_lr.predict_proba(X_test)[:, 1]\n",
        "\n",
        "# Calculate and print the AUC score\n",
        "auc_score = roc_auc_score(y_test, y_pred_proba_lr)\n",
        "print(f\"AUC score of the Bagging Classifier with Logistic Regression: {auc_score:.4f}\")"
      ],
      "execution_count": 8,
      "outputs": [
        {
          "output_type": "stream",
          "name": "stdout",
          "text": [
            "AUC score of the Bagging Classifier with Logistic Regression: 0.9082\n"
          ]
        }
      ]
    },
    {
      "cell_type": "markdown",
      "source": [
        "29. **Train a Random Forest Regressor and analyze feature importance scores.**"
      ],
      "metadata": {
        "id": "53kWhKuANKZh"
      }
    },
    {
      "cell_type": "code",
      "metadata": {
        "colab": {
          "base_uri": "https://localhost:8080/"
        },
        "id": "e6ab4173",
        "outputId": "1c424d69-aff5-4357-f02e-edd87ea77439"
      },
      "source": [
        "from sklearn.datasets import make_regression\n",
        "from sklearn.ensemble import RandomForestRegressor\n",
        "from sklearn.model_selection import train_test_split\n",
        "import pandas as pd\n",
        "\n",
        "# Generate a FRESH sample regression dataset\n",
        "X_fresh, y_fresh = make_regression(n_samples=1000, n_features=20, n_informative=15, random_state=99) # Using a different random_state for fresh data\n",
        "\n",
        "# Split the fresh dataset (optional, but good practice)\n",
        "X_train_fresh, X_test_fresh, y_train_fresh, y_test_fresh = train_test_split(X_fresh, y_fresh, test_size=0.3, random_state=99)\n",
        "\n",
        "# Create and train a NEW Random Forest Regressor on fresh data\n",
        "random_forest_reg_fresh = RandomForestRegressor(n_estimators=100, random_state=99)\n",
        "random_forest_reg_fresh.fit(X_train_fresh, y_train_fresh)\n",
        "\n",
        "# Get feature importances from the newly trained model\n",
        "feature_importances_reg_fresh = random_forest_reg_fresh.feature_importances_\n",
        "\n",
        "# Create generic feature names for the fresh data\n",
        "feature_names_fresh = [f'feature_{i}' for i in range(X_fresh.shape[1])]\n",
        "\n",
        "# Create a pandas Series for better visualization\n",
        "importance_series_reg_fresh = pd.Series(feature_importances_reg_fresh, index=feature_names_fresh)\n",
        "\n",
        "# Sort feature importances in descending order\n",
        "sorted_importance_series_reg_fresh = importance_series_reg_fresh.sort_values(ascending=False)\n",
        "\n",
        "# Print feature importances\n",
        "print(\"Feature Importances for Random Forest Regressor:\")\n",
        "print(sorted_importance_series_reg_fresh)"
      ],
      "execution_count": 11,
      "outputs": [
        {
          "output_type": "stream",
          "name": "stdout",
          "text": [
            "Feature Importances for Random Forest Regressor:\n",
            "feature_19    0.207705\n",
            "feature_7     0.156903\n",
            "feature_10    0.115851\n",
            "feature_15    0.112776\n",
            "feature_2     0.086433\n",
            "feature_14    0.085359\n",
            "feature_16    0.046829\n",
            "feature_4     0.034969\n",
            "feature_9     0.017104\n",
            "feature_0     0.016236\n",
            "feature_3     0.015337\n",
            "feature_1     0.013568\n",
            "feature_17    0.013250\n",
            "feature_12    0.013084\n",
            "feature_11    0.011854\n",
            "feature_18    0.011504\n",
            "feature_5     0.011105\n",
            "feature_6     0.010539\n",
            "feature_13    0.010522\n",
            "feature_8     0.009070\n",
            "dtype: float64\n"
          ]
        }
      ]
    },
    {
      "cell_type": "markdown",
      "source": [
        "30. **Train an ensemble model using both Bagging and Random Forest and compare accuracy.**"
      ],
      "metadata": {
        "id": "ooazq32GNpp6"
      }
    },
    {
      "cell_type": "code",
      "metadata": {
        "colab": {
          "base_uri": "https://localhost:8080/"
        },
        "id": "d0230f88",
        "outputId": "168a757f-091c-40ce-f98d-ce2e1d91113b"
      },
      "source": [
        "from sklearn.datasets import make_classification\n",
        "from sklearn.tree import DecisionTreeClassifier\n",
        "from sklearn.ensemble import BaggingClassifier, RandomForestClassifier\n",
        "from sklearn.model_selection import train_test_split\n",
        "from sklearn.metrics import accuracy_score\n",
        "\n",
        "# Generate a sample dataset\n",
        "X, y = make_classification(n_samples=1000, n_features=20, n_informative=15, n_redundant=5, random_state=42)\n",
        "\n",
        "# Split the dataset into training and testing sets\n",
        "X_train, X_test, y_train, y_test = train_test_split(X, y, test_size=0.3, random_state=42)\n",
        "\n",
        "# Create a Bagging Classifier with Decision Trees\n",
        "# Use the same number of estimators for a fair comparison\n",
        "bagging_clf = BaggingClassifier(estimator=DecisionTreeClassifier(), n_estimators=100, random_state=42)\n",
        "\n",
        "# Create a Random Forest Classifier\n",
        "random_forest_clf = RandomForestClassifier(n_estimators=100, random_state=42)\n",
        "\n",
        "# Train both classifiers\n",
        "bagging_clf.fit(X_train, y_train)\n",
        "random_forest_clf.fit(X_train, y_train)\n",
        "\n",
        "# Predict on the test set\n",
        "y_pred_bagging = bagging_clf.predict(X_test)\n",
        "y_pred_rf = random_forest_clf.predict(X_test)\n",
        "\n",
        "# Calculate accuracies\n",
        "accuracy_bagging = accuracy_score(y_test, y_pred_bagging)\n",
        "accuracy_rf = accuracy_score(y_test, y_pred_rf)\n",
        "\n",
        "# Print accuracies\n",
        "print(f\"Accuracy of Bagging Classifier (with Decision Trees): {accuracy_bagging:.4f}\")\n",
        "print(f\"Accuracy of Random Forest Classifier: {accuracy_rf:.4f}\")"
      ],
      "execution_count": 12,
      "outputs": [
        {
          "output_type": "stream",
          "name": "stdout",
          "text": [
            "Accuracy of Bagging Classifier (with Decision Trees): 0.8833\n",
            "Accuracy of Random Forest Classifier: 0.8867\n"
          ]
        }
      ]
    },
    {
      "cell_type": "markdown",
      "source": [
        "31. **Train a Random Forest Classifier and tune hyperparameters using GridSearchCV.**"
      ],
      "metadata": {
        "id": "81HLbNvhN8lu"
      }
    },
    {
      "cell_type": "code",
      "metadata": {
        "colab": {
          "base_uri": "https://localhost:8080/"
        },
        "id": "25665349",
        "outputId": "94dec7aa-6b8a-43ab-e2e4-afb6a8b97b7f"
      },
      "source": [
        "from sklearn.datasets import load_breast_cancer\n",
        "from sklearn.ensemble import RandomForestClassifier\n",
        "from sklearn.model_selection import train_test_split, GridSearchCV\n",
        "from sklearn.metrics import accuracy_score\n",
        "import pandas as pd\n",
        "\n",
        "# 1. Load the Breast Cancer dataset\n",
        "breast_cancer = load_breast_cancer()\n",
        "X, y = breast_cancer.data, breast_cancer.target\n",
        "\n",
        "# 2. Split the dataset into training and testing sets\n",
        "X_train, X_test, y_train, y_test = train_test_split(X, y, test_size=0.3, random_state=42)\n",
        "\n",
        "# 3. Define Parameter Grid\n",
        "# A smaller grid for demonstration purposes to keep it relatively fast\n",
        "param_grid = {\n",
        "    'n_estimators': [50, 100, 200],\n",
        "    'max_depth': [None, 10, 20],\n",
        "    'min_samples_split': [2, 5, 10]\n",
        "}\n",
        "\n",
        "# 4. Setup GridSearchCV\n",
        "# Using a smaller number of cross-validation folds for speed\n",
        "grid_search = GridSearchCV(estimator=RandomForestClassifier(random_state=42),\n",
        "                           param_grid=param_grid,\n",
        "                           cv=3,  # Number of cross-validation folds\n",
        "                           scoring='accuracy',\n",
        "                           n_jobs=-1) # Use all available cores\n",
        "\n",
        "# 5. Tune Hyperparameters\n",
        "print(\"Starting GridSearchCV...\")\n",
        "grid_search.fit(X_train, y_train)\n",
        "print(\"GridSearchCV finished.\")\n",
        "\n",
        "# 6. Get Best Parameters and Score\n",
        "best_params = grid_search.best_params_\n",
        "best_score = grid_search.best_score_\n",
        "\n",
        "print(\"\\nBest Hyperparameters found by GridSearchCV:\")\n",
        "print(best_params)\n",
        "print(f\"\\nBest Cross-Validation Accuracy: {best_score:.4f}\")\n",
        "\n",
        "# 7. Evaluate with Best Model\n",
        "# The best estimator from GridSearchCV is automatically available\n",
        "best_rf_model = grid_search.best_estimator_\n",
        "y_pred_tuned = best_rf_model.predict(X_test)\n",
        "test_accuracy_tuned = accuracy_score(y_test, y_pred_tuned)\n",
        "\n",
        "print(f\"\\nAccuracy of the best Random Forest model on the test set: {test_accuracy_tuned:.4f}\")"
      ],
      "execution_count": 13,
      "outputs": [
        {
          "output_type": "stream",
          "name": "stdout",
          "text": [
            "Starting GridSearchCV...\n",
            "GridSearchCV finished.\n",
            "\n",
            "Best Hyperparameters found by GridSearchCV:\n",
            "{'max_depth': None, 'min_samples_split': 2, 'n_estimators': 50}\n",
            "\n",
            "Best Cross-Validation Accuracy: 0.9623\n",
            "\n",
            "Accuracy of the best Random Forest model on the test set: 0.9708\n"
          ]
        }
      ]
    },
    {
      "cell_type": "markdown",
      "source": [
        "32. **Train a Bagging Regressor with different numbers of base estimators and compare performance.**"
      ],
      "metadata": {
        "id": "M4EvWuSUOQsD"
      }
    },
    {
      "cell_type": "code",
      "metadata": {
        "colab": {
          "base_uri": "https://localhost:8080/",
          "height": 651
        },
        "id": "8078d9df",
        "outputId": "7d3b52e5-edb5-419f-acad-d7c35c0cb40d"
      },
      "source": [
        "from sklearn.datasets import make_regression\n",
        "from sklearn.tree import DecisionTreeRegressor\n",
        "from sklearn.ensemble import BaggingRegressor\n",
        "from sklearn.model_selection import train_test_split\n",
        "from sklearn.metrics import mean_squared_error\n",
        "import matplotlib.pyplot as plt\n",
        "\n",
        "# Generate a sample regression dataset\n",
        "X, y = make_regression(n_samples=1000, n_features=20, n_informative=15, random_state=42)\n",
        "\n",
        "# Split the dataset into training and testing sets\n",
        "X_train, X_test, y_train, y_test = train_test_split(X, y, test_size=0.3, random_state=42)\n",
        "\n",
        "# Define a list of different numbers of base estimators to experiment with\n",
        "n_estimators_list = [10, 50, 100, 200, 500]\n",
        "\n",
        "# Train Bagging Regressors with different numbers of estimators and store MSEs\n",
        "mse_scores = []\n",
        "for n_estimators in n_estimators_list:\n",
        "    bagging_reg = BaggingRegressor(estimator=DecisionTreeRegressor(), n_estimators=n_estimators, random_state=42)\n",
        "    bagging_reg.fit(X_train, y_train)\n",
        "    y_pred = bagging_reg.predict(X_test)\n",
        "    mse = mean_squared_error(y_test, y_pred)\n",
        "    mse_scores.append(mse)\n",
        "    print(f\"Mean Squared Error with {n_estimators} estimators: {mse:.4f}\")\n",
        "\n",
        "# Optional: Plot the MSEs to visualize the impact of the number of estimators\n",
        "plt.figure(figsize=(10, 6))\n",
        "plt.plot(n_estimators_list, mse_scores, marker='o', linestyle='-')\n",
        "plt.title('Bagging Regressor MSE vs. Number of Estimators')\n",
        "plt.xlabel('Number of Estimators')\n",
        "plt.ylabel('Mean Squared Error')\n",
        "plt.xticks(n_estimators_list)\n",
        "plt.grid(True)\n",
        "plt.show()"
      ],
      "execution_count": 14,
      "outputs": [
        {
          "output_type": "stream",
          "name": "stdout",
          "text": [
            "Mean Squared Error with 10 estimators: 22358.3613\n",
            "Mean Squared Error with 50 estimators: 18665.0730\n",
            "Mean Squared Error with 100 estimators: 18067.6286\n",
            "Mean Squared Error with 200 estimators: 17708.2755\n",
            "Mean Squared Error with 500 estimators: 17796.7736\n"
          ]
        },
        {
          "output_type": "display_data",
          "data": {
            "text/plain": [
              "<Figure size 1000x600 with 1 Axes>"
            ],
            "image/png": "[encoded data removed]"
          },
          "metadata": {}
        }
      ]
    },
    {
      "cell_type": "markdown",
      "source": [
        "33. **Train a Random Forest Classifier and analyze misclassified samples.**"
      ],
      "metadata": {
        "id": "Ymd_LOL9Oc3D"
      }
    },
    {
      "cell_type": "code",
      "metadata": {
        "colab": {
          "base_uri": "https://localhost:8080/",
          "height": 342
        },
        "id": "71a33407",
        "outputId": "d8743ad5-148b-4c70-dfda-903b6951c256"
      },
      "source": [
        "from sklearn.datasets import load_breast_cancer\n",
        "from sklearn.ensemble import RandomForestClassifier\n",
        "from sklearn.model_selection import train_test_split\n",
        "import pandas as pd\n",
        "\n",
        "# 1. Load the Breast Cancer dataset\n",
        "breast_cancer = load_breast_cancer()\n",
        "X, y = breast_cancer.data, breast_cancer.target\n",
        "feature_names = breast_cancer.feature_names\n",
        "target_names = breast_cancer.target_names # Names of the target classes\n",
        "\n",
        "# 2. Split the dataset into training and testing sets\n",
        "X_train, X_test, y_train, y_test = train_test_split(X, y, test_size=0.3, random_state=42)\n",
        "\n",
        "# 3. Train Model\n",
        "random_forest_clf = RandomForestClassifier(n_estimators=100, random_state=42)\n",
        "random_forest_clf.fit(X_train, y_train)\n",
        "\n",
        "# 4. Make Predictions\n",
        "y_pred = random_forest_clf.predict(X_test)\n",
        "\n",
        "# 5. Identify Misclassified Samples\n",
        "misclassified_indices = [i for i, (true, pred) in enumerate(zip(y_test, y_pred)) if true != pred]\n",
        "misclassified_samples = X_test[misclassified_indices]\n",
        "misclassified_true_labels = y_test[misclassified_indices]\n",
        "misclassified_predicted_labels = y_pred[misclassified_indices]\n",
        "\n",
        "print(f\"Number of misclassified samples: {len(misclassified_indices)}\")\n",
        "\n",
        "# 6. Analyze Misclassified Samples (Display some of them)\n",
        "if len(misclassified_indices) > 0:\n",
        "    print(\"\\nExamples of Misclassified Samples:\")\n",
        "    # Create a DataFrame for easier viewing\n",
        "    misclassified_df = pd.DataFrame(misclassified_samples, columns=feature_names)\n",
        "    misclassified_df['True Label'] = [target_names[i] for i in misclassified_true_labels]\n",
        "    misclassified_df['Predicted Label'] = [target_names[i] for i in misclassified_predicted_labels]\n",
        "\n",
        "    # Display the first few misclassified samples\n",
        "    display(misclassified_df.head())\n",
        "else:\n",
        "    print(\"\\nNo misclassified samples found in the test set.\")\n",
        "\n",
        "# 7. Finish task - No explicit action needed, the analysis is presented above."
      ],
      "execution_count": 15,
      "outputs": [
        {
          "output_type": "stream",
          "name": "stdout",
          "text": [
            "Number of misclassified samples: 5\n",
            "\n",
            "Examples of Misclassified Samples:\n"
          ]
        },
        {
          "output_type": "display_data",
          "data": {
            "text/plain": [
              "   mean radius  mean texture  mean perimeter  mean area  mean smoothness  \\\n",
              "0        13.34         15.86           86.49      520.0          0.10780   \n",
              "1        13.80         15.79           90.43      584.1          0.10070   \n",
              "2        13.96         17.05           91.43      602.4          0.10960   \n",
              "3        14.48         21.46           94.25      648.2          0.09444   \n",
              "4        15.13         29.81           96.71      719.5          0.08320   \n",
              "\n",
              "   mean compactness  mean concavity  mean concave points  mean symmetry  \\\n",
              "0           0.15350         0.11690              0.06987         0.1942   \n",
              "1           0.12800         0.07789              0.05069         0.1662   \n",
              "2           0.12790         0.09789              0.05246         0.1908   \n",
              "3           0.09947         0.12040              0.04938         0.2075   \n",
              "4           0.04605         0.04686              0.02739         0.1852   \n",
              "\n",
              "   mean fractal dimension  ...  worst perimeter  worst area  worst smoothness  \\\n",
              "0                 0.06902  ...            96.66       614.9            0.1536   \n",
              "1                 0.06566  ...           110.30       812.4            0.1411   \n",
              "2                 0.06130  ...           108.10       826.0            0.1512   \n",
              "3                 0.05636  ...           108.40       808.9            0.1306   \n",
              "4                 0.05294  ...           110.10       931.4            0.1148   \n",
              "\n",
              "   worst compactness  worst concavity  worst concave points  worst symmetry  \\\n",
              "0            0.47910           0.4858               0.17080          0.3527   \n",
              "1            0.35420           0.2779               0.13830          0.2589   \n",
              "2            0.32620           0.3209               0.13740          0.3068   \n",
              "3            0.19760           0.3349               0.12250          0.3020   \n",
              "4            0.09866           0.1547               0.06575          0.3233   \n",
              "\n",
              "   worst fractal dimension  True Label  Predicted Label  \n",
              "0                  0.10160      benign        malignant  \n",
              "1                  0.10300   malignant           benign  \n",
              "2                  0.07957   malignant           benign  \n",
              "3                  0.06846   malignant           benign  \n",
              "4                  0.06165   malignant           benign  \n",
              "\n",
              "[5 rows x 32 columns]"
            ],
            "text/html": [
              "\n",
              "  <div id=\"df-9d2e6761-285a-4f53-b79b-18064febf659\" class=\"colab-df-container\">\n",
              "    <div>\n",
              "<style scoped>\n",
              "    .dataframe tbody tr th:only-of-type {\n",
              "        vertical-align: middle;\n",
              "    }\n",
              "\n",
              "    .dataframe tbody tr th {\n",
              "        vertical-align: top;\n",
              "    }\n",
              "\n",
              "    .dataframe thead th {\n",
              "        text-align: right;\n",
              "    }\n",
              "</style>\n",
              "<table border=\"1\" class=\"dataframe\">\n",
              "  <thead>\n",
              "    <tr style=\"text-align: right;\">\n",
              "      <th></th>\n",
              "      <th>mean radius</th>\n",
              "      <th>mean texture</th>\n",
              "      <th>mean perimeter</th>\n",
              "      <th>mean area</th>\n",
              "      <th>mean smoothness</th>\n",
              "      <th>mean compactness</th>\n",
              "      <th>mean concavity</th>\n",
              "      <th>mean concave points</th>\n",
              "      <th>mean symmetry</th>\n",
              "      <th>mean fractal dimension</th>\n",
              "      <th>...</th>\n",
              "      <th>worst perimeter</th>\n",
              "      <th>worst area</th>\n",
              "      <th>worst smoothness</th>\n",
              "      <th>worst compactness</th>\n",
              "      <th>worst concavity</th>\n",
              "      <th>worst concave points</th>\n",
              "      <th>worst symmetry</th>\n",
              "      <th>worst fractal dimension</th>\n",
              "      <th>True Label</th>\n",
              "      <th>Predicted Label</th>\n",
              "    </tr>\n",
              "  </thead>\n",
              "  <tbody>\n",
              "    <tr>\n",
              "      <th>0</th>\n",
              "      <td>13.34</td>\n",
              "      <td>15.86</td>\n",
              "      <td>86.49</td>\n",
              "      <td>520.0</td>\n",
              "      <td>0.10780</td>\n",
              "      <td>0.15350</td>\n",
              "      <td>0.11690</td>\n",
              "      <td>0.06987</td>\n",
              "      <td>0.1942</td>\n",
              "      <td>0.06902</td>\n",
              "      <td>...</td>\n",
              "      <td>96.66</td>\n",
              "      <td>614.9</td>\n",
              "      <td>0.1536</td>\n",
              "      <td>0.47910</td>\n",
              "      <td>0.4858</td>\n",
              "      <td>0.17080</td>\n",
              "      <td>0.3527</td>\n",
              "      <td>0.10160</td>\n",
              "      <td>benign</td>\n",
              "      <td>malignant</td>\n",
              "    </tr>\n",
              "    <tr>\n",
              "      <th>1</th>\n",
              "      <td>13.80</td>\n",
              "      <td>15.79</td>\n",
              "      <td>90.43</td>\n",
              "      <td>584.1</td>\n",
              "      <td>0.10070</td>\n",
              "      <td>0.12800</td>\n",
              "      <td>0.07789</td>\n",
              "      <td>0.05069</td>\n",
              "      <td>0.1662</td>\n",
              "      <td>0.06566</td>\n",
              "      <td>...</td>\n",
              "      <td>110.30</td>\n",
              "      <td>812.4</td>\n",
              "      <td>0.1411</td>\n",
              "      <td>0.35420</td>\n",
              "      <td>0.2779</td>\n",
              "      <td>0.13830</td>\n",
              "      <td>0.2589</td>\n",
              "      <td>0.10300</td>\n",
              "      <td>malignant</td>\n",
              "      <td>benign</td>\n",
              "    </tr>\n",
              "    <tr>\n",
              "      <th>2</th>\n",
              "      <td>13.96</td>\n",
              "      <td>17.05</td>\n",
              "      <td>91.43</td>\n",
              "      <td>602.4</td>\n",
              "      <td>0.10960</td>\n",
              "      <td>0.12790</td>\n",
              "      <td>0.09789</td>\n",
              "      <td>0.05246</td>\n",
              "      <td>0.1908</td>\n",
              "      <td>0.06130</td>\n",
              "      <td>...</td>\n",
              "      <td>108.10</td>\n",
              "      <td>826.0</td>\n",
              "      <td>0.1512</td>\n",
              "      <td>0.32620</td>\n",
              "      <td>0.3209</td>\n",
              "      <td>0.13740</td>\n",
              "      <td>0.3068</td>\n",
              "      <td>0.07957</td>\n",
              "      <td>malignant</td>\n",
              "      <td>benign</td>\n",
              "    </tr>\n",
              "    <tr>\n",
              "      <th>3</th>\n",
              "      <td>14.48</td>\n",
              "      <td>21.46</td>\n",
              "      <td>94.25</td>\n",
              "      <td>648.2</td>\n",
              "      <td>0.09444</td>\n",
              "      <td>0.09947</td>\n",
              "      <td>0.12040</td>\n",
              "      <td>0.04938</td>\n",
              "      <td>0.2075</td>\n",
              "      <td>0.05636</td>\n",
              "      <td>...</td>\n",
              "      <td>108.40</td>\n",
              "      <td>808.9</td>\n",
              "      <td>0.1306</td>\n",
              "      <td>0.19760</td>\n",
              "      <td>0.3349</td>\n",
              "      <td>0.12250</td>\n",
              "      <td>0.3020</td>\n",
              "      <td>0.06846</td>\n",
              "      <td>malignant</td>\n",
              "      <td>benign</td>\n",
              "    </tr>\n",
              "    <tr>\n",
              "      <th>4</th>\n",
              "      <td>15.13</td>\n",
              "      <td>29.81</td>\n",
              "      <td>96.71</td>\n",
              "      <td>719.5</td>\n",
              "      <td>0.08320</td>\n",
              "      <td>0.04605</td>\n",
              "      <td>0.04686</td>\n",
              "      <td>0.02739</td>\n",
              "      <td>0.1852</td>\n",
              "      <td>0.05294</td>\n",
              "      <td>...</td>\n",
              "      <td>110.10</td>\n",
              "      <td>931.4</td>\n",
              "      <td>0.1148</td>\n",
              "      <td>0.09866</td>\n",
              "      <td>0.1547</td>\n",
              "      <td>0.06575</td>\n",
              "      <td>0.3233</td>\n",
              "      <td>0.06165</td>\n",
              "      <td>malignant</td>\n",
              "      <td>benign</td>\n",
              "    </tr>\n",
              "  </tbody>\n",
              "</table>\n",
              "<p>5 rows × 32 columns</p>\n",
              "</div>\n",
              "    <div class=\"colab-df-buttons\">\n",
              "\n",
              "  <div class=\"colab-df-container\">\n",
              "    <button class=\"colab-df-convert\" onclick=\"convertToInteractive('df-9d2e6761-285a-4f53-b79b-18064febf659')\"\n",
              "            title=\"Convert this dataframe to an interactive table.\"\n",
              "            style=\"display:none;\">\n",
              "\n",
              "  <svg xmlns=\"http://www.w3.org/2000/svg\" height=\"24px\" viewBox=\"0 -960 960 960\">\n",
              "    <path d=\"M120-120v-720h720v720H120Zm60-500h600v-160H180v160Zm220 220h160v-160H400v160Zm0 220h160v-160H400v160ZM180-400h160v-160H180v160Zm440 0h160v-160H620v160ZM180-180h160v-160H180v160Zm440 0h160v-160H620v160Z\"/>\n",
              "  </svg>\n",
              "    </button>\n",
              "\n",
              "  <style>\n",
              "    .colab-df-container {\n",
              "      display:flex;\n",
              "      gap: 12px;\n",
              "    }\n",
              "\n",
              "    .colab-df-convert {\n",
              "      background-color: #E8F0FE;\n",
              "      border: none;\n",
              "      border-radius: 50%;\n",
              "      cursor: pointer;\n",
              "      display: none;\n",
              "      fill: #1967D2;\n",
              "      height: 32px;\n",
              "      padding: 0 0 0 0;\n",
              "      width: 32px;\n",
              "    }\n",
              "\n",
              "    .colab-df-convert:hover {\n",
              "      background-color: #E2EBFA;\n",
              "      box-shadow: 0px 1px 2px rgba(60, 64, 67, 0.3), 0px 1px 3px 1px rgba(60, 64, 67, 0.15);\n",
              "      fill: #174EA6;\n",
              "    }\n",
              "\n",
              "    .colab-df-buttons div {\n",
              "      margin-bottom: 4px;\n",
              "    }\n",
              "\n",
              "    [theme=dark] .colab-df-convert {\n",
              "      background-color: #3B4455;\n",
              "      fill: #D2E3FC;\n",
              "    }\n",
              "\n",
              "    [theme=dark] .colab-df-convert:hover {\n",
              "      background-color: #434B5C;\n",
              "      box-shadow: 0px 1px 3px 1px rgba(0, 0, 0, 0.15);\n",
              "      filter: drop-shadow(0px 1px 2px rgba(0, 0, 0, 0.3));\n",
              "      fill: #FFFFFF;\n",
              "    }\n",
              "  </style>\n",
              "\n",
              "    <script>\n",
              "      const buttonEl =\n",
              "        document.querySelector('#df-9d2e6761-285a-4f53-b79b-18064febf659 button.colab-df-convert');\n",
              "      buttonEl.style.display =\n",
              "        google.colab.kernel.accessAllowed ? 'block' : 'none';\n",
              "\n",
              "      async function convertToInteractive(key) {\n",
              "        const element = document.querySelector('#df-9d2e6761-285a-4f53-b79b-18064febf659');\n",
              "        const dataTable =\n",
              "          await google.colab.kernel.invokeFunction('convertToInteractive',\n",
              "                                                    [key], {});\n",
              "        if (!dataTable) return;\n",
              "\n",
              "        const docLinkHtml = 'Like what you see? Visit the ' +\n",
              "          '<a target=\"_blank\" href=https://colab.research.google.com/notebooks/data_table.ipynb>data table notebook</a>'\n",
              "          + ' to learn more about interactive tables.';\n",
              "        element.innerHTML = '';\n",
              "        dataTable['output_type'] = 'display_data';\n",
              "        await google.colab.output.renderOutput(dataTable, element);\n",
              "        const docLink = document.createElement('div');\n",
              "        docLink.innerHTML = docLinkHtml;\n",
              "        element.appendChild(docLink);\n",
              "      }\n",
              "    </script>\n",
              "  </div>\n",
              "\n",
              "\n",
              "    <div id=\"df-d44ef3e5-9eef-4038-8987-e31d50381325\">\n",
              "      <button class=\"colab-df-quickchart\" onclick=\"quickchart('df-d44ef3e5-9eef-4038-8987-e31d50381325')\"\n",
              "                title=\"Suggest charts\"\n",
              "                style=\"display:none;\">\n",
              "\n",
              "<svg xmlns=\"http://www.w3.org/2000/svg\" height=\"24px\"viewBox=\"0 0 24 24\"\n",
              "     width=\"24px\">\n",
              "    <g>\n",
              "        <path d=\"M19 3H5c-1.1 0-2 .9-2 2v14c0 1.1.9 2 2 2h14c1.1 0 2-.9 2-2V5c0-1.1-.9-2-2-2zM9 17H7v-7h2v7zm4 0h-2V7h2v10zm4 0h-2v-4h2v4z\"/>\n",
              "    </g>\n",
              "</svg>\n",
              "      </button>\n",
              "\n",
              "<style>\n",
              "  .colab-df-quickchart {\n",
              "      --bg-color: #E8F0FE;\n",
              "      --fill-color: #1967D2;\n",
              "      --hover-bg-color: #E2EBFA;\n",
              "      --hover-fill-color: #174EA6;\n",
              "      --disabled-fill-color: #AAA;\n",
              "      --disabled-bg-color: #DDD;\n",
              "  }\n",
              "\n",
              "  [theme=dark] .colab-df-quickchart {\n",
              "      --bg-color: #3B4455;\n",
              "      --fill-color: #D2E3FC;\n",
              "      --hover-bg-color: #434B5C;\n",
              "      --hover-fill-color: #FFFFFF;\n",
              "      --disabled-bg-color: #3B4455;\n",
              "      --disabled-fill-color: #666;\n",
              "  }\n",
              "\n",
              "  .colab-df-quickchart {\n",
              "    background-color: var(--bg-color);\n",
              "    border: none;\n",
              "    border-radius: 50%;\n",
              "    cursor: pointer;\n",
              "    display: none;\n",
              "    fill: var(--fill-color);\n",
              "    height: 32px;\n",
              "    padding: 0;\n",
              "    width: 32px;\n",
              "  }\n",
              "\n",
              "  .colab-df-quickchart:hover {\n",
              "    background-color: var(--hover-bg-color);\n",
              "    box-shadow: 0 1px 2px rgba(60, 64, 67, 0.3), 0 1px 3px 1px rgba(60, 64, 67, 0.15);\n",
              "    fill: var(--button-hover-fill-color);\n",
              "  }\n",
              "\n",
              "  .colab-df-quickchart-complete:disabled,\n",
              "  .colab-df-quickchart-complete:disabled:hover {\n",
              "    background-color: var(--disabled-bg-color);\n",
              "    fill: var(--disabled-fill-color);\n",
              "    box-shadow: none;\n",
              "  }\n",
              "\n",
              "  .colab-df-spinner {\n",
              "    border: 2px solid var(--fill-color);\n",
              "    border-color: transparent;\n",
              "    border-bottom-color: var(--fill-color);\n",
              "    animation:\n",
              "      spin 1s steps(1) infinite;\n",
              "  }\n",
              "\n",
              "  @keyframes spin {\n",
              "    0% {\n",
              "      border-color: transparent;\n",
              "      border-bottom-color: var(--fill-color);\n",
              "      border-left-color: var(--fill-color);\n",
              "    }\n",
              "    20% {\n",
              "      border-color: transparent;\n",
              "      border-left-color: var(--fill-color);\n",
              "      border-top-color: var(--fill-color);\n",
              "    }\n",
              "    30% {\n",
              "      border-color: transparent;\n",
              "      border-left-color: var(--fill-color);\n",
              "      border-top-color: var(--fill-color);\n",
              "      border-right-color: var(--fill-color);\n",
              "    }\n",
              "    40% {\n",
              "      border-color: transparent;\n",
              "      border-right-color: var(--fill-color);\n",
              "      border-top-color: var(--fill-color);\n",
              "    }\n",
              "    60% {\n",
              "      border-color: transparent;\n",
              "      border-right-color: var(--fill-color);\n",
              "    }\n",
              "    80% {\n",
              "      border-color: transparent;\n",
              "      border-right-color: var(--fill-color);\n",
              "      border-bottom-color: var(--fill-color);\n",
              "    }\n",
              "    90% {\n",
              "      border-color: transparent;\n",
              "      border-bottom-color: var(--fill-color);\n",
              "    }\n",
              "  }\n",
              "</style>\n",
              "\n",
              "      <script>\n",
              "        async function quickchart(key) {\n",
              "          const quickchartButtonEl =\n",
              "            document.querySelector('#' + key + ' button');\n",
              "          quickchartButtonEl.disabled = true;  // To prevent multiple clicks.\n",
              "          quickchartButtonEl.classList.add('colab-df-spinner');\n",
              "          try {\n",
              "            const charts = await google.colab.kernel.invokeFunction(\n",
              "                'suggestCharts', [key], {});\n",
              "          } catch (error) {\n",
              "            console.error('Error during call to suggestCharts:', error);\n",
              "          }\n",
              "          quickchartButtonEl.classList.remove('colab-df-spinner');\n",
              "          quickchartButtonEl.classList.add('colab-df-quickchart-complete');\n",
              "        }\n",
              "        (() => {\n",
              "          let quickchartButtonEl =\n",
              "            document.querySelector('#df-d44ef3e5-9eef-4038-8987-e31d50381325 button');\n",
              "          quickchartButtonEl.style.display =\n",
              "            google.colab.kernel.accessAllowed ? 'block' : 'none';\n",
              "        })();\n",
              "      </script>\n",
              "    </div>\n",
              "\n",
              "    </div>\n",
              "  </div>\n"
            ],
            "application/vnd.google.colaboratory.intrinsic+json": {
              "type": "dataframe"
            }
          },
          "metadata": {}
        }
      ]
    },
    {
      "cell_type": "markdown",
      "source": [
        "34. **Train a Bagging Classifier and compare its performance with a single Decision Tree Classifier.**"
      ],
      "metadata": {
        "id": "UC1CyEyAOpvz"
      }
    },
    {
      "cell_type": "code",
      "metadata": {
        "colab": {
          "base_uri": "https://localhost:8080/"
        },
        "id": "0cf72231",
        "outputId": "cabc9a9d-3ce5-4e49-ad46-4ff11c9f6c2c"
      },
      "source": [
        "from sklearn.datasets import make_classification\n",
        "from sklearn.tree import DecisionTreeClassifier\n",
        "from sklearn.ensemble import BaggingClassifier\n",
        "from sklearn.model_selection import train_test_split\n",
        "from sklearn.metrics import accuracy_score\n",
        "import pandas as pd\n",
        "\n",
        "# 1. Generate a sample classification dataset\n",
        "X, y = make_classification(n_samples=1000, n_features=20, n_informative=15, n_redundant=5, random_state=42)\n",
        "\n",
        "# 2. Split the dataset into training and testing sets\n",
        "X_train, X_test, y_train, y_test = train_test_split(X, y, test_size=0.3, random_state=42)\n",
        "\n",
        "# 3. Train a Bagging Classifier with Decision Trees\n",
        "# Use the same number of estimators for a fair comparison\n",
        "bagging_clf = BaggingClassifier(estimator=DecisionTreeClassifier(), n_estimators=100, random_state=42)\n",
        "bagging_clf.fit(X_train, y_train)\n",
        "\n",
        "# Train a single Decision Tree Classifier\n",
        "single_tree_clf = DecisionTreeClassifier(random_state=42)\n",
        "single_tree_clf.fit(X_train, y_train)\n",
        "\n",
        "# 4. Evaluate both models on the test set using Accuracy\n",
        "y_pred_bagging = bagging_clf.predict(X_test)\n",
        "y_pred_tree = single_tree_clf.predict(X_test)\n",
        "\n",
        "accuracy_bagging = accuracy_score(y_test, y_pred_bagging)\n",
        "accuracy_tree = accuracy_score(y_test, y_pred_tree)\n",
        "\n",
        "# 5. Compare the performance metrics\n",
        "print(f\"Accuracy of Bagging Classifier (with Decision Trees): {accuracy_bagging:.4f}\")\n",
        "print(f\"Accuracy of single Decision Tree Classifier: {accuracy_tree:.4f}\")"
      ],
      "execution_count": 16,
      "outputs": [
        {
          "output_type": "stream",
          "name": "stdout",
          "text": [
            "Accuracy of Bagging Classifier (with Decision Trees): 0.8833\n",
            "Accuracy of single Decision Tree Classifier: 0.7967\n"
          ]
        }
      ]
    },
    {
      "cell_type": "markdown",
      "source": [
        "35. **Train a Random Forest Classifier and visualize the confusion matrix.**"
      ],
      "metadata": {
        "id": "ekyLd5esO4L7"
      }
    },
    {
      "cell_type": "code",
      "metadata": {
        "colab": {
          "base_uri": "https://localhost:8080/",
          "height": 489
        },
        "id": "c94ea090",
        "outputId": "f879c4ee-7eb8-457d-8802-488502a10e71"
      },
      "source": [
        "from sklearn.datasets import load_breast_cancer\n",
        "from sklearn.ensemble import RandomForestClassifier\n",
        "from sklearn.model_selection import train_test_split\n",
        "from sklearn.metrics import confusion_matrix, ConfusionMatrixDisplay\n",
        "import matplotlib.pyplot as plt\n",
        "\n",
        "# 1. Load the Breast Cancer dataset\n",
        "breast_cancer = load_breast_cancer()\n",
        "X, y = breast_cancer.data, breast_cancer.target\n",
        "target_names = breast_cancer.target_names # Names of the target classes\n",
        "\n",
        "# 2. Split the dataset into training and testing sets\n",
        "X_train, X_test, y_train, y_test = train_test_split(X, y, test_size=0.3, random_state=42)\n",
        "\n",
        "# 3. Train Model\n",
        "random_forest_clf = RandomForestClassifier(n_estimators=100, random_state=42)\n",
        "random_forest_clf.fit(X_train, y_train)\n",
        "\n",
        "# 4. Make Predictions\n",
        "y_pred = random_forest_clf.predict(X_test)\n",
        "\n",
        "# 5. Compute Confusion Matrix\n",
        "cm = confusion_matrix(y_test, y_pred)\n",
        "\n",
        "# 6. Visualize Confusion Matrix\n",
        "disp = ConfusionMatrixDisplay(confusion_matrix=cm, display_labels=target_names)\n",
        "\n",
        "plt.figure(figsize=(8, 6))\n",
        "disp.plot(cmap=plt.cm.Blues)\n",
        "plt.title('Confusion Matrix for Random Forest Classifier')\n",
        "plt.show()\n",
        "\n",
        "# 7. Finish task - The confusion matrix is visualized above."
      ],
      "execution_count": 17,
      "outputs": [
        {
          "output_type": "display_data",
          "data": {
            "text/plain": [
              "<Figure size 800x600 with 0 Axes>"
            ]
          },
          "metadata": {}
        },
        {
          "output_type": "display_data",
          "data": {
            "text/plain": [
              "<Figure size 640x480 with 2 Axes>"
            ],
            "image/png": "[encoded data removed]"
          },
          "metadata": {}
        }
      ]
    },
    {
      "cell_type": "markdown",
      "source": [
        "36. **Train a Stacking Classifier using Decision Trees, SVM, and Logistic Regression, and compare accuracy.**"
      ],
      "metadata": {
        "id": "92PTuVZYPFV-"
      }
    },
    {
      "cell_type": "code",
      "metadata": {
        "colab": {
          "base_uri": "https://localhost:8080/"
        },
        "id": "5ceb7c9f",
        "outputId": "e52e4916-2396-405c-9bca-0af974d358f6"
      },
      "source": [
        "from sklearn.datasets import make_classification\n",
        "from sklearn.tree import DecisionTreeClassifier\n",
        "from sklearn.svm import SVC\n",
        "from sklearn.linear_model import LogisticRegression\n",
        "from sklearn.ensemble import StackingClassifier\n",
        "from sklearn.model_selection import train_test_split\n",
        "from sklearn.metrics import accuracy_score\n",
        "\n",
        "# 1. Generate a sample classification dataset\n",
        "X, y = make_classification(n_samples=1000, n_features=20, n_informative=15, n_redundant=5, random_state=42)\n",
        "\n",
        "# 2. Split the dataset into training and testing sets\n",
        "X_train, X_test, y_train, y_test = train_test_split(X, y, test_size=0.3, random_state=42)\n",
        "\n",
        "# 3. Define Base Models (estimators)\n",
        "estimators = [\n",
        "    ('dt', DecisionTreeClassifier(random_state=42)),\n",
        "    ('svm', SVC(probability=True, random_state=42)), # SVC needs probability=True for StackingClassifier's default final estimator\n",
        "    ('lr', LogisticRegression(random_state=42))\n",
        "]\n",
        "\n",
        "# 4. Define Meta-Model (final_estimator)\n",
        "# Logistic Regression is a common choice for the meta-model\n",
        "final_estimator = LogisticRegression(random_state=42)\n",
        "\n",
        "# 5. Setup Stacking Classifier\n",
        "stacking_clf = StackingClassifier(estimators=estimators, final_estimator=final_estimator, cv=5) # Using 5-fold cross-validation within stacking\n",
        "\n",
        "# 6. Train Stacking Classifier\n",
        "print(\"Training Stacking Classifier...\")\n",
        "stacking_clf.fit(X_train, y_train)\n",
        "print(\"Stacking Classifier training finished.\")\n",
        "\n",
        "# 7. Evaluate Stacking Classifier\n",
        "y_pred_stacking = stacking_clf.predict(X_test)\n",
        "accuracy_stacking = accuracy_score(y_test, y_pred_stacking)\n",
        "\n",
        "# 8. Present Accuracy\n",
        "print(f\"\\nAccuracy of the Stacking Classifier: {accuracy_stacking:.4f}\")"
      ],
      "execution_count": 18,
      "outputs": [
        {
          "output_type": "stream",
          "name": "stdout",
          "text": [
            "Training Stacking Classifier...\n",
            "Stacking Classifier training finished.\n",
            "\n",
            "Accuracy of the Stacking Classifier: 0.9400\n"
          ]
        }
      ]
    },
    {
      "cell_type": "markdown",
      "source": [
        "37. **Train a Random Forest Classifier and print the top 5 most important features.**"
      ],
      "metadata": {
        "id": "LrbFh68NPQX7"
      }
    },
    {
      "cell_type": "code",
      "metadata": {
        "colab": {
          "base_uri": "https://localhost:8080/"
        },
        "id": "c1yYwwPVPTLq",
        "outputId": "906d66cd-3d8c-4103-cf82-815c971c9f67"
      },
      "source": [
        "from sklearn.datasets import load_breast_cancer\n",
        "from sklearn.ensemble import RandomForestClassifier\n",
        "from sklearn.model_selection import train_test_split\n",
        "import pandas as pd\n",
        "\n",
        "# Load the Breast Cancer dataset\n",
        "breast_cancer = load_breast_cancer()\n",
        "X, y = breast_cancer.data, breast_cancer.target\n",
        "feature_names = breast_cancer.feature_names\n",
        "\n",
        "# Split the dataset into training and testing sets\n",
        "X_train, X_test, y_train, y_test = train_test_split(X, y, test_size=0.3, random_state=42)\n",
        "\n",
        "# Create a Random Forest Classifier\n",
        "random_forest_clf = RandomForestClassifier(n_estimators=100, random_state=42)\n",
        "\n",
        "# Train the Random Forest Classifier\n",
        "random_forest_clf.fit(X_train, y_train)\n",
        "\n",
        "# Get feature importances\n",
        "feature_importances = random_forest_clf.feature_importances_\n",
        "\n",
        "# Create a pandas Series for better visualization\n",
        "importance_series = pd.Series(feature_importances, index=feature_names)\n",
        "\n",
        "# Sort feature importances in descending order\n",
        "sorted_importance_series = importance_series.sort_values(ascending=False)\n",
        "\n",
        "# Print the top 5 most important features\n",
        "print(\"Top 5 Most Important Features:\")\n",
        "print(sorted_importance_series.head(5))"
      ],
      "execution_count": 19,
      "outputs": [
        {
          "output_type": "stream",
          "name": "stdout",
          "text": [
            "Top 5 Most Important Features:\n",
            "mean concave points     0.141934\n",
            "worst concave points    0.127136\n",
            "worst area              0.118217\n",
            "mean concavity          0.080557\n",
            "worst radius            0.077975\n",
            "dtype: float64\n"
          ]
        }
      ]
    },
    {
      "cell_type": "markdown",
      "source": [
        "38. **Train a Bagging Classifier and evaluate performance using Precision, Recall, and F1-score.**"
      ],
      "metadata": {
        "id": "hfqskp50Pdwv"
      }
    },
    {
      "cell_type": "code",
      "metadata": {
        "colab": {
          "base_uri": "https://localhost:8080/"
        },
        "id": "3edd7d96",
        "outputId": "bb260a36-7e35-4175-81d5-452b809f3773"
      },
      "source": [
        "from sklearn.datasets import make_classification\n",
        "from sklearn.tree import DecisionTreeClassifier\n",
        "from sklearn.ensemble import BaggingClassifier\n",
        "from sklearn.model_selection import train_test_split\n",
        "from sklearn.metrics import precision_score, recall_score, f1_score\n",
        "\n",
        "# 1. Generate a sample classification dataset\n",
        "X, y = make_classification(n_samples=1000, n_features=20, n_informative=15, n_redundant=5, random_state=42)\n",
        "\n",
        "# 2. Split the dataset into training and testing sets\n",
        "X_train, X_test, y_train, y_test = train_test_split(X, y, test_size=0.3, random_state=42)\n",
        "\n",
        "# 3. Train a Bagging Classifier with Decision Trees\n",
        "bagging_clf = BaggingClassifier(estimator=DecisionTreeClassifier(), n_estimators=100, random_state=42)\n",
        "bagging_clf.fit(X_train, y_train)\n",
        "\n",
        "# 4. Make Predictions\n",
        "y_pred = bagging_clf.predict(X_test)\n",
        "\n",
        "# 5. Evaluate Performance\n",
        "precision = precision_score(y_test, y_pred)\n",
        "recall = recall_score(y_test, y_pred)\n",
        "f1 = f1_score(y_test, y_pred)\n",
        "\n",
        "# 6. Report Metrics\n",
        "print(f\"Precision of the Bagging Classifier: {precision:.4f}\")\n",
        "print(f\"Recall of the Bagging Classifier: {recall:.4f}\")\n",
        "print(f\"F1-score of the Bagging Classifier: {f1:.4f}\")\n",
        "\n",
        "# 7. Finish task - The evaluation metrics are printed above."
      ],
      "execution_count": 20,
      "outputs": [
        {
          "output_type": "stream",
          "name": "stdout",
          "text": [
            "Precision of the Bagging Classifier: 0.8621\n",
            "Recall of the Bagging Classifier: 0.8929\n",
            "F1-score of the Bagging Classifier: 0.8772\n"
          ]
        }
      ]
    },
    {
      "cell_type": "markdown",
      "source": [
        "39. **Train a Random Forest Classifier and analyze the effect of max_depth on accuracy.**"
      ],
      "metadata": {
        "id": "Kb_5kkNXPu6H"
      }
    },
    {
      "cell_type": "code",
      "metadata": {
        "colab": {
          "base_uri": "https://localhost:8080/",
          "height": 651
        },
        "id": "932099e6",
        "outputId": "756285bf-011b-4086-d4a9-ab4b14daa5ee"
      },
      "source": [
        "from sklearn.datasets import load_breast_cancer\n",
        "from sklearn.ensemble import RandomForestClassifier\n",
        "from sklearn.model_selection import train_test_split\n",
        "from sklearn.metrics import accuracy_score\n",
        "import matplotlib.pyplot as plt\n",
        "\n",
        "# Load the Breast Cancer dataset\n",
        "breast_cancer = load_breast_cancer()\n",
        "X, y = breast_cancer.data, breast_cancer.target\n",
        "\n",
        "# Split the dataset into training and testing sets\n",
        "X_train, X_test, y_train, y_test = train_test_split(X, y, test_size=0.3, random_state=42)\n",
        "\n",
        "# Define a list of different max_depth values to experiment with\n",
        "# None means nodes are expanded until all leaves are pure or until all leaves contain less than min_samples_split samples.\n",
        "max_depth_list = [None, 5, 10, 15, 20]\n",
        "\n",
        "# Train Random Forest Classifiers with different max_depth and store accuracies\n",
        "accuracies = []\n",
        "for depth in max_depth_list:\n",
        "    # Using a fixed number of estimators for consistency\n",
        "    rf_clf = RandomForestClassifier(n_estimators=100, max_depth=depth, random_state=42)\n",
        "    rf_clf.fit(X_train, y_train)\n",
        "    y_pred = rf_clf.predict(X_test)\n",
        "    accuracy = accuracy_score(y_test, y_pred)\n",
        "    accuracies.append(accuracy)\n",
        "    # Print depth as a string for None case\n",
        "    print(f\"Accuracy with max_depth={depth}: {accuracy:.4f}\")\n",
        "\n",
        "# Optional: Plot the accuracies to visualize the impact of max_depth\n",
        "plt.figure(figsize=(10, 6))\n",
        "# Convert None to a string for plotting labels\n",
        "x_labels = [str(d) for d in max_depth_list]\n",
        "plt.plot(x_labels, accuracies, marker='o', linestyle='-')\n",
        "plt.title('Random Forest Accuracy vs. max_depth')\n",
        "plt.xlabel('max_depth')\n",
        "plt.ylabel('Accuracy')\n",
        "plt.grid(True)\n",
        "plt.show()"
      ],
      "execution_count": 21,
      "outputs": [
        {
          "output_type": "stream",
          "name": "stdout",
          "text": [
            "Accuracy with max_depth=None: 0.9708\n",
            "Accuracy with max_depth=5: 0.9649\n",
            "Accuracy with max_depth=10: 0.9708\n",
            "Accuracy with max_depth=15: 0.9708\n",
            "Accuracy with max_depth=20: 0.9708\n"
          ]
        },
        {
          "output_type": "display_data",
          "data": {
            "text/plain": [
              "<Figure size 1000x600 with 1 Axes>"
            ],
            "image/png": "[encoded data removed]"
          },
          "metadata": {}
        }
      ]
    },
    {
      "cell_type": "markdown",
      "source": [
        "40. **Train a Bagging Regressor using different base estimators (DecisionTree and KNeighbors) and compare performance.**"
      ],
      "metadata": {
        "id": "eUVgn-MAP9pz"
      }
    },
    {
      "cell_type": "code",
      "metadata": {
        "colab": {
          "base_uri": "https://localhost:8080/"
        },
        "id": "4dabe7d2",
        "outputId": "877fd065-0300-488f-facd-e4f08815204c"
      },
      "source": [
        "from sklearn.datasets import make_regression\n",
        "from sklearn.tree import DecisionTreeRegressor\n",
        "from sklearn.neighbors import KNeighborsRegressor\n",
        "from sklearn.ensemble import BaggingRegressor\n",
        "from sklearn.model_selection import train_test_split\n",
        "from sklearn.metrics import mean_squared_error\n",
        "import matplotlib.pyplot as plt\n",
        "\n",
        "# Generate a sample regression dataset\n",
        "X, y = make_regression(n_samples=1000, n_features=20, n_informative=15, random_state=42)\n",
        "\n",
        "# Split the dataset into training and testing sets\n",
        "X_train, X_test, y_train, y_test = train_test_split(X, y, test_size=0.3, random_state=42)\n",
        "\n",
        "# Create a Bagging Regressor with Decision Tree as base estimator\n",
        "bagging_reg_dt = BaggingRegressor(estimator=DecisionTreeRegressor(), n_estimators=100, random_state=42)\n",
        "\n",
        "# Create a Bagging Regressor with KNeighbors Regressor as base estimator\n",
        "bagging_reg_knn = BaggingRegressor(estimator=KNeighborsRegressor(), n_estimators=100, random_state=42)\n",
        "\n",
        "# Train both Bagging Regressors\n",
        "print(\"Training Bagging Regressor with Decision Trees...\")\n",
        "bagging_reg_dt.fit(X_train, y_train)\n",
        "print(\"Training Bagging Regressor with KNeighbors Regressor...\")\n",
        "bagging_reg_knn.fit(X_train, y_train)\n",
        "print(\"Training finished.\")\n",
        "\n",
        "# Predict on the test set\n",
        "y_pred_dt = bagging_reg_dt.predict(X_test)\n",
        "y_pred_knn = bagging_reg_knn.predict(X_test)\n",
        "\n",
        "# Calculate and print the Mean Squared Error for both\n",
        "mse_dt = mean_squared_error(y_test, y_pred_dt)\n",
        "mse_knn = mean_squared_error(y_test, y_pred_knn)\n",
        "\n",
        "print(f\"\\nMean Squared Error of Bagging Regressor (Decision Tree): {mse_dt:.4f}\")\n",
        "print(f\"Mean Squared Error of Bagging Regressor (KNeighbors): {mse_knn:.4f}\")"
      ],
      "execution_count": 22,
      "outputs": [
        {
          "output_type": "stream",
          "name": "stdout",
          "text": [
            "Training Bagging Regressor with Decision Trees...\n",
            "Training Bagging Regressor with KNeighbors Regressor...\n",
            "Training finished.\n",
            "\n",
            "Mean Squared Error of Bagging Regressor (Decision Tree): 18067.6286\n",
            "Mean Squared Error of Bagging Regressor (KNeighbors): 18322.6207\n"
          ]
        }
      ]
    },
    {
      "cell_type": "markdown",
      "source": [
        "41. **Train a Random Forest Classifier and evaluate its performance using ROC-AUC Score.**"
      ],
      "metadata": {
        "id": "q-Ygm1YYQMjp"
      }
    },
    {
      "cell_type": "code",
      "metadata": {
        "colab": {
          "base_uri": "https://localhost:8080/"
        },
        "id": "7f8c7ab1",
        "outputId": "29c8ce9e-33f0-4397-ad5f-8335ff5d5356"
      },
      "source": [
        "from sklearn.datasets import load_breast_cancer\n",
        "from sklearn.ensemble import RandomForestClassifier\n",
        "from sklearn.model_selection import train_test_split\n",
        "from sklearn.metrics import roc_auc_score\n",
        "\n",
        "# Load the Breast Cancer dataset\n",
        "breast_cancer = load_breast_cancer()\n",
        "X, y = breast_cancer.data, breast_cancer.target\n",
        "\n",
        "# Split the dataset into training and testing sets\n",
        "X_train, X_test, y_train, y_test = train_test_split(X, y, test_size=0.3, random_state=42)\n",
        "\n",
        "# Create a Random Forest Classifier\n",
        "random_forest_clf = RandomForestClassifier(n_estimators=100, random_state=42)\n",
        "\n",
        "# Train the Random Forest Classifier\n",
        "random_forest_clf.fit(X_train, y_train)\n",
        "\n",
        "# Predict probabilities on the test set (needed for ROC-AUC)\n",
        "# We need the probability of the positive class (class 1)\n",
        "y_pred_proba = random_forest_clf.predict_proba(X_test)[:, 1]\n",
        "\n",
        "# Calculate the ROC-AUC score\n",
        "auc_score = roc_auc_score(y_test, y_pred_proba)\n",
        "\n",
        "# Print the ROC-AUC score\n",
        "print(f\"ROC-AUC Score of the Random Forest Classifier: {auc_score:.4f}\")"
      ],
      "execution_count": 23,
      "outputs": [
        {
          "output_type": "stream",
          "name": "stdout",
          "text": [
            "ROC-AUC Score of the Random Forest Classifier: 0.9968\n"
          ]
        }
      ]
    },
    {
      "cell_type": "markdown",
      "source": [
        "42. **Train a Bagging Classifier and evaluate its performance using cross-validation.**"
      ],
      "metadata": {
        "id": "JbPSYWZyQZpb"
      }
    },
    {
      "cell_type": "code",
      "metadata": {
        "colab": {
          "base_uri": "https://localhost:8080/"
        },
        "id": "41b3775b",
        "outputId": "bd2a5c94-997f-406e-8007-7bc5f38a0b9a"
      },
      "source": [
        "from sklearn.datasets import make_classification\n",
        "from sklearn.tree import DecisionTreeClassifier\n",
        "from sklearn.ensemble import BaggingClassifier\n",
        "from sklearn.model_selection import cross_val_score\n",
        "\n",
        "# 1. Generate a sample classification dataset\n",
        "X, y = make_classification(n_samples=1000, n_features=20, n_informative=15, n_redundant=5, random_state=42)\n",
        "\n",
        "# 2. Define Bagging Classifier\n",
        "# Using Decision Trees as base estimators, same as in previous examples\n",
        "bagging_clf = BaggingClassifier(estimator=DecisionTreeClassifier(), n_estimators=100, random_state=42)\n",
        "\n",
        "# 3. Perform Cross-Validation\n",
        "# Using 5-fold cross-validation and accuracy as the scoring metric\n",
        "cv_scores = cross_val_score(bagging_clf, X, y, cv=5, scoring='accuracy')\n",
        "\n",
        "# 4. Report Results\n",
        "print(f\"Cross-validation Accuracy Scores: {cv_scores}\")\n",
        "print(f\"Mean Cross-validation Accuracy: {cv_scores.mean():.4f}\")\n",
        "print(f\"Standard Deviation of Cross-validation Accuracy: {cv_scores.std():.4f}\")\n",
        "\n",
        "# 5. Finish task - The cross-validation results are printed above."
      ],
      "execution_count": 24,
      "outputs": [
        {
          "output_type": "stream",
          "name": "stdout",
          "text": [
            "Cross-validation Accuracy Scores: [0.86  0.895 0.915 0.885 0.905]\n",
            "Mean Cross-validation Accuracy: 0.8920\n",
            "Standard Deviation of Cross-validation Accuracy: 0.0189\n"
          ]
        }
      ]
    },
    {
      "cell_type": "markdown",
      "source": [
        "43. **Train a Random Forest Classifier and plot the Precision-Recall curve.**"
      ],
      "metadata": {
        "id": "qiSCfYTXQttC"
      }
    },
    {
      "cell_type": "code",
      "metadata": {
        "colab": {
          "base_uri": "https://localhost:8080/",
          "height": 489
        },
        "id": "e966f8ed",
        "outputId": "6e504ae6-8a4d-4fdf-fc37-2807d35ec42e"
      },
      "source": [
        "from sklearn.datasets import load_breast_cancer\n",
        "from sklearn.ensemble import RandomForestClassifier\n",
        "from sklearn.model_selection import train_test_split\n",
        "from sklearn.metrics import precision_recall_curve, PrecisionRecallDisplay\n",
        "import matplotlib.pyplot as plt\n",
        "\n",
        "# 1. Load the Breast Cancer dataset\n",
        "breast_cancer = load_breast_cancer()\n",
        "X, y = breast_cancer.data, breast_cancer.target\n",
        "\n",
        "# 2. Split the dataset into training and testing sets\n",
        "X_train, X_test, y_train, y_test = train_test_split(X, y, test_size=0.3, random_state=42)\n",
        "\n",
        "# 3. Train Model\n",
        "random_forest_clf = RandomForestClassifier(n_estimators=100, random_state=42)\n",
        "random_forest_clf.fit(X_train, y_train)\n",
        "\n",
        "# 4. Get Prediction Probabilities\n",
        "# We need the probability estimates of the positive class (class 1)\n",
        "y_scores = random_forest_clf.predict_proba(X_test)[:, 1]\n",
        "\n",
        "# 5. Calculate Precision and Recall\n",
        "precision, recall, _ = precision_recall_curve(y_test, y_scores)\n",
        "\n",
        "# 6. Plot Precision-Recall Curve\n",
        "plt.figure(figsize=(8, 6))\n",
        "disp = PrecisionRecallDisplay(precision=precision, recall=recall)\n",
        "disp.plot()\n",
        "plt.title('Precision-Recall Curve for Random Forest Classifier')\n",
        "plt.grid(True)\n",
        "plt.show()\n",
        "\n",
        "# 7. Finish task - The Precision-Recall curve is plotted above."
      ],
      "execution_count": 25,
      "outputs": [
        {
          "output_type": "display_data",
          "data": {
            "text/plain": [
              "<Figure size 800x600 with 0 Axes>"
            ]
          },
          "metadata": {}
        },
        {
          "output_type": "display_data",
          "data": {
            "text/plain": [
              "<Figure size 640x480 with 1 Axes>"
            ],
            "image/png": "[encoded data removed]"
          },
          "metadata": {}
        }
      ]
    },
    {
      "cell_type": "markdown",
      "source": [
        "44. **Train a Stacking Classifier with Random Forest and Logistic Regression and compare accuracy.**"
      ],
      "metadata": {
        "id": "ofHSrPvbRBSd"
      }
    },
    {
      "cell_type": "code",
      "metadata": {
        "colab": {
          "base_uri": "https://localhost:8080/"
        },
        "id": "9258a82f",
        "outputId": "e3487aa4-d23a-4e2c-aa9f-cb82b7f8fd01"
      },
      "source": [
        "from sklearn.datasets import make_classification\n",
        "from sklearn.ensemble import RandomForestClassifier, StackingClassifier\n",
        "from sklearn.linear_model import LogisticRegression\n",
        "from sklearn.model_selection import train_test_split\n",
        "from sklearn.metrics import accuracy_score\n",
        "\n",
        "# 1. Generate a sample classification dataset\n",
        "X, y = make_classification(n_samples=1000, n_features=20, n_informative=15, n_redundant=5, random_state=42)\n",
        "\n",
        "# 2. Split the dataset into training and testing sets\n",
        "X_train, X_test, y_train, y_test = train_test_split(X, y, test_size=0.3, random_state=42)\n",
        "\n",
        "# 3. Define Base Models (estimators)\n",
        "estimators = [\n",
        "    ('rf', RandomForestClassifier(n_estimators=100, random_state=42)),\n",
        "    ('lr', LogisticRegression(random_state=42))\n",
        "]\n",
        "\n",
        "# 4. Define Meta-Model (final_estimator)\n",
        "# Logistic Regression is a common choice for the meta-model\n",
        "final_estimator = LogisticRegression(random_state=42)\n",
        "\n",
        "# 5. Setup Stacking Classifier\n",
        "stacking_clf_rf_lr = StackingClassifier(estimators=estimators, final_estimator=final_estimator, cv=5) # Using 5-fold cross-validation within stacking\n",
        "\n",
        "# 6. Train Stacking Classifier\n",
        "print(\"Training Stacking Classifier (Random Forest + Logistic Regression)...\")\n",
        "stacking_clf_rf_lr.fit(X_train, y_train)\n",
        "print(\"Stacking Classifier training finished.\")\n",
        "\n",
        "# 7. Evaluate Stacking Classifier\n",
        "y_pred_stacking_rf_lr = stacking_clf_rf_lr.predict(X_test)\n",
        "accuracy_stacking_rf_lr = accuracy_score(y_test, y_pred_stacking_rf_lr)\n",
        "\n",
        "# 8. Present Accuracy\n",
        "print(f\"\\nAccuracy of the Stacking Classifier (Random Forest + Logistic Regression): {accuracy_stacking_rf_lr:.4f}\")"
      ],
      "execution_count": 26,
      "outputs": [
        {
          "output_type": "stream",
          "name": "stdout",
          "text": [
            "Training Stacking Classifier (Random Forest + Logistic Regression)...\n",
            "Stacking Classifier training finished.\n",
            "\n",
            "Accuracy of the Stacking Classifier (Random Forest + Logistic Regression): 0.8900\n"
          ]
        }
      ]
    },
    {
      "cell_type": "markdown",
      "source": [
        "45. **Train a Bagging Regressor with different levels of bootstrap samples and compare performance.**"
      ],
      "metadata": {
        "id": "i9DGYDaLRUGS"
      }
    },
    {
      "cell_type": "code",
      "metadata": {
        "colab": {
          "base_uri": "https://localhost:8080/",
          "height": 633
        },
        "id": "96686686",
        "outputId": "13b4e066-14dc-4011-eb89-10eb5eed31ce"
      },
      "source": [
        "from sklearn.datasets import make_regression\n",
        "from sklearn.tree import DecisionTreeRegressor\n",
        "from sklearn.ensemble import BaggingRegressor\n",
        "from sklearn.model_selection import train_test_split\n",
        "from sklearn.metrics import mean_squared_error\n",
        "import matplotlib.pyplot as plt\n",
        "import numpy as np\n",
        "\n",
        "# Generate a sample regression dataset\n",
        "X, y = make_regression(n_samples=1000, n_features=20, n_informative=15, random_state=42)\n",
        "\n",
        "# Split the dataset into training and testing sets\n",
        "X_train, X_test, y_train, y_test = train_test_split(X, y, test_size=0.3, random_state=42)\n",
        "\n",
        "# Define a list of different max_samples values to experiment with\n",
        "# max_samples can be an integer (number of samples) or a float (fraction of samples)\n",
        "max_samples_list = [0.5, 0.7, 0.9, 1.0] # Using fractions of the dataset size\n",
        "\n",
        "# Train Bagging Regressors with different max_samples and store MSEs\n",
        "mse_scores = []\n",
        "for max_samples in max_samples_list:\n",
        "    # Using a fixed number of estimators for consistency\n",
        "    bagging_reg = BaggingRegressor(estimator=DecisionTreeRegressor(),\n",
        "                                   n_estimators=100,\n",
        "                                   max_samples=max_samples,\n",
        "                                   random_state=42)\n",
        "    bagging_reg.fit(X_train, y_train)\n",
        "    y_pred = bagging_reg.predict(X_test)\n",
        "    mse = mean_squared_error(y_test, y_pred)\n",
        "    mse_scores.append(mse)\n",
        "    print(f\"Mean Squared Error with max_samples={max_samples}: {mse:.4f}\")\n",
        "\n",
        "# Optional: Plot the MSEs to visualize the impact of max_samples\n",
        "plt.figure(figsize=(10, 6))\n",
        "plt.plot(max_samples_list, mse_scores, marker='o', linestyle='-')\n",
        "plt.title('Bagging Regressor MSE vs. max_samples')\n",
        "plt.xlabel('max_samples (fraction of training samples)')\n",
        "plt.ylabel('Mean Squared Error')\n",
        "plt.xticks(max_samples_list)\n",
        "plt.grid(True)\n",
        "plt.show()"
      ],
      "execution_count": 27,
      "outputs": [
        {
          "output_type": "stream",
          "name": "stdout",
          "text": [
            "Mean Squared Error with max_samples=0.5: 19175.5528\n",
            "Mean Squared Error with max_samples=0.7: 18533.3648\n",
            "Mean Squared Error with max_samples=0.9: 18474.4050\n",
            "Mean Squared Error with max_samples=1.0: 18067.6286\n"
          ]
        },
        {
          "output_type": "display_data",
          "data": {
            "text/plain": [
              "<Figure size 1000x600 with 1 Axes>"
            ],
            "image/png": "[encoded data removed]"
          },
          "metadata": {}
        }
      ]
    }
  ]
}