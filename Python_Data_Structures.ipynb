{
  "nbformat": 4,
  "nbformat_minor": 0,
  "metadata": {
    "colab": {
      "provenance": []
    },
    "kernelspec": {
      "name": "python3",
      "display_name": "Python 3"
    },
    "language_info": {
      "name": "python"
    }
  },
  "cells": [
    {
      "cell_type": "markdown",
      "source": [
        "#**DATA TYPES AND STRUCTURES**"
      ],
      "metadata": {
        "id": "SZkkC6q5QUr4"
      }
    },
    {
      "cell_type": "markdown",
      "source": [
        "#**Theoretical Questions**"
      ],
      "metadata": {
        "id": "FSCOpOwmPt67"
      }
    },
    {
      "cell_type": "markdown",
      "source": [
        "1. **What are data structures, and why are they important?**\n",
        "\n",
        "  Ans. Data structures are essential tools for organizing and managing data efficiently. They provide ways to store and manipulate collections of data. They are important:\n",
        "  - Provides efficient data management.\n",
        "  - Improves organisation of code and readability.\n",
        "  - Helps in building specific algorithms.\n",
        "  - Helps in making Python a versatile language.\n",
        "  - Different kinds of problem could be solved easily with well defined structures.\n",
        "\n",
        "---"
      ],
      "metadata": {
        "id": "Wdd56Hu1QmMh"
      }
    },
    {
      "cell_type": "markdown",
      "source": [
        "2. **Explain the difference between mutable and immutable data types with examples.**\n",
        "\n",
        "  Ans. Mutable data types are those whose values can be altered after their creation. This means we can change their content without creating a new object in memory. E.g., Lists, Dictionaries, Sets.\n",
        "\n",
        "  Immutable data types are those whose values cannot be changed after they are created. Any operation that appears to modify an immutable object actually creates a new object in memory. E.g., Tuples, Strings, Integers, Floats, Booleans.\n",
        "\n",
        "---"
      ],
      "metadata": {
        "id": "v5o6qcRBTP8O"
      }
    },
    {
      "cell_type": "markdown",
      "source": [
        "3. **What are the main differences between lists and tuples in Python?**\n",
        "\n",
        "  Ans. The main difference is that lists are mutable data type and tuples are immutable.\n",
        "\n",
        "---"
      ],
      "metadata": {
        "id": "Yen2MgqrUYoR"
      }
    },
    {
      "cell_type": "markdown",
      "source": [
        "4. **Explain how dictionaries store data.**\n",
        "\n",
        "  Ans. Dictionaries store data in key-value pairs. Each key acts as a unique identifier for it's element. They are mutable and unordered. The keys must be unique, if we try to make a new key with same name, the new entry will override the values present before.\n",
        "\n",
        "---"
      ],
      "metadata": {
        "id": "mOHZiGBDUxZ1"
      }
    },
    {
      "cell_type": "markdown",
      "source": [
        "5. **Why might you use a set instead of a list in Python?**\n",
        "\n",
        "  Ans. We can use a set instead of list when we don't want to store duplicate data in our memory. Sets help us to store unique data and also we can perform set-like operations with the help of this data type.\n",
        "\n",
        "---"
      ],
      "metadata": {
        "id": "v2yfye97VeBD"
      }
    },
    {
      "cell_type": "markdown",
      "source": [
        "6. **What is a string in Python, and how is it different from a list?**\n",
        "\n",
        "  Ans. String is a fundamental data type used to store text as a sequence of characters. It is different from list as the contents of a list are mutable that is it can be removed or altered or even new elements can be added but a string is immutable data type, apart from accessing a particular string character nothing else can be done with it.\n",
        "\n",
        "---"
      ],
      "metadata": {
        "id": "c0dRIh4dWAmr"
      }
    },
    {
      "cell_type": "markdown",
      "source": [
        "7. **How do tuples ensure data integrity in Python?**\n",
        "\n",
        "  Ans. Since tuples are immutable, it means that once a tuple is created it's contents can't be altered later on which keeps the data safe from unauthorised manipulation.\n",
        "\n",
        "---"
      ],
      "metadata": {
        "id": "_H3tmOuAWzcB"
      }
    },
    {
      "cell_type": "markdown",
      "source": [
        "8. **What is a hash table, and how does it relate to dictionaries in Python?**\n",
        "\n",
        "  Ans. A hash table is a data structure that uses a 'hash function' to map keys to values, enabling efficient data retrieval. It relates to dictionaries in Python as the dict data type is implemented using a hash table. It forms a key-value relationship and that's why it also offers very fast average-case performance for lookups, insertions, and deletions.\n",
        "\n",
        "---"
      ],
      "metadata": {
        "id": "H8ch5ZpuXJqw"
      }
    },
    {
      "cell_type": "markdown",
      "source": [
        "9. **Can lists contain different data types in Python?**\n",
        "\n",
        "  Ans. Yes, lists can contain different data types in Python.\n",
        "\n",
        "---"
      ],
      "metadata": {
        "id": "JzKQAKEqYLyZ"
      }
    },
    {
      "cell_type": "markdown",
      "source": [
        "10. **Explain why strings are immutable in Python.**\n",
        "\n",
        "  Ans. Strings are immutable in Python as it's a design choice that offers several important benefits. Some of these are:\n",
        "  1. Memory Effiency:\n",
        "      - When multiple variables refer to the same string, Python can optimize memory usage by having them all point to the same memory location.\n",
        "      - If strings were mutable, Python would have to create separate copies of each string, which would consume more memory.\n",
        "  2. Performance Optimization:\n",
        "      - Immutability allows Python to perform certain optimizations, such as caching hash values.\n",
        "      - Hash values are used in dictionaries and sets, and if strings were mutable, their hash values could change, which would lead to inconsistencies.\n",
        "  3. Security:\n",
        "      - Immutability enhances security by preventing accidental or malicious modification of strings.\n",
        "      - This is especially important in situations where strings are used to store sensitive data, such as passwords or file paths.\n",
        "  4. Use as Dictionary Keys:\n",
        "      - Dictionaries in Python require their keys to be immutable.\n",
        "      - Since strings are immutable, they can be used as reliable keys in dictionaries.\n",
        "\n",
        "---"
      ],
      "metadata": {
        "id": "sRzwzWV3YfGu"
      }
    },
    {
      "cell_type": "markdown",
      "source": [
        "11. **What advantages do dictionaries offer over lists for certain tasks?**\n",
        "\n",
        "  Ans. Dictionaries offer significant advantages over lists for specific tasks, primarily when dealing with data that has a clear key-value relationship.\n",
        "  - Dictionaries uses hash table which enables faster lookup based on keys. While lists generally iterates over each item till the desired item is found, meaning as lists become larger the time taken to find an element also becomes high.\n",
        "  - Dictionaries are handy when it is clear that their is a association allowing a key-value pair to form.\n",
        "  - Dicts provide a clear and organised way to store data, which the list can't provide.\n",
        "  - Dicts can represent complex data strcutures using nested dictionaries or lists. While list can do the same but it is less intuitive.\n",
        "\n",
        "---"
      ],
      "metadata": {
        "id": "XfxyFxjhaqBt"
      }
    },
    {
      "cell_type": "markdown",
      "source": [
        "12. **Describe a scenario where using a tuple would be preferable over a list.**\n",
        "\n",
        "  Ans. A preferable scenario could be during storing of geographical coordinates of a location, which rarely changes so storing them in a tuple would ensure that the values do not change and it keeps pointing to the same location without fail.\n",
        "\n",
        "---"
      ],
      "metadata": {
        "id": "QH5X13U1cOc1"
      }
    },
    {
      "cell_type": "markdown",
      "source": [
        "13. **How do sets handle duplicate values in Python?**\n",
        "\n",
        "  Ans. Sets remove the duplicate values as it is made to store unique elements only.\n",
        "\n",
        "---"
      ],
      "metadata": {
        "id": "SDajHGUpc-g2"
      }
    },
    {
      "cell_type": "markdown",
      "source": [
        "14. **How does the “in” keyword work differently for lists and dictionaries?**\n",
        "\n",
        "  Ans.\n",
        "\n",
        "    List:\n",
        "  - When we use \"in\" with a list Python performs a linear search. It iterates through the list, comparing each element to the value we're searching for.\n",
        "  - This means that the time it takes to find an element increases linearly with the size of the list.\n",
        "\n",
        "    Dictionaries:\n",
        "  - When we use \"in\" with a dictionary, Python checks if a specific key exists within the dictionary.\n",
        "  - Dictionaries use hashing, which allows for very fast lookups. On average, checking for a key takes constant time.\n",
        "\n",
        "---"
      ],
      "metadata": {
        "id": "zw_nYDkudObn"
      }
    },
    {
      "cell_type": "markdown",
      "source": [
        "15. **Can you modify the elements of a tuple? Explain why or why not.**\n",
        "\n",
        "  Ans. No, we cannot modify the elements of a tuple since it is an immutable data structure.\n",
        "\n",
        "---"
      ],
      "metadata": {
        "id": "6t-V3-9lei5u"
      }
    },
    {
      "cell_type": "markdown",
      "source": [
        "16 **What is a nested dictionary, and give an example of its use case?**\n",
        "\n",
        "  Ans. A nested dictionary in Python is a dictionary where one or more of its values are also dictionaries. This allows you to create hierarchical data structures, representing complex relationships between data.\n",
        "  \n",
        "  Structure:\n",
        "  - A nested dictionary consists of key-value pairs.\n",
        "  - The values can be of any data type, including other dictionaries.\n",
        "  - This nesting can be done to multiple levels.\n",
        "  \n",
        "  Example Use Case: Representing Student Information\n",
        "  \n",
        "  Imagine we need to store information about students, including their names, grades, and contact details. A nested dictionary can be used to organize this data effectively.\n",
        "\n",
        "---"
      ],
      "metadata": {
        "id": "Uk9OkrBqhwk-"
      }
    },
    {
      "cell_type": "markdown",
      "source": [
        "17. **Describe the time complexity of accessing elements in a dictionary.**\n",
        "\n",
        "  Ans.\n",
        "  \n",
        "  Average-Case Time Complexity: O(1) (Constant Time)\n",
        "  - In most typical situations, accessing an element in a Python dictionary by its key has a time complexity of O(1).\n",
        "  - This means that the time it takes to retrieve a value remains constant, regardless of the size of the dictionary.\n",
        "  - This remarkable efficiency is achieved through the dictionary's underlying implementation using hash tables.\n",
        "  - Hash tables allow for very fast lookups by converting keys into hash codes, which are then used to locate the corresponding values.\n",
        "  \n",
        "  Worst-Case Time Complexity: O(n) (Linear Time)\n",
        "  - In rare cases, the worst-case time complexity for dictionary access can be O(n), where 'n' is the number of items in the dictionary.\n",
        "  - This occurs when there are a large number of hash collisions. Hash collisions happen when different keys produce the same hash code.\n",
        "  - When many collisions occur, the dictionary's performance can degrade, as it may need to resort to linear searches to find the correct value.\n",
        "  - However, well-designed hash functions and collision resolution strategies minimize the likelihood of these worst-case scenarios.\n",
        "\n",
        "---"
      ],
      "metadata": {
        "id": "tLvu3s5FjJLR"
      }
    },
    {
      "cell_type": "markdown",
      "source": [
        "18.  **In what situations are lists preferred over dictionaries?**\n",
        "\n",
        "  Ans. Lists are preferred over dictionaries in Python when the following conditions are met:\n",
        "  \n",
        "  1. Ordered Sequences:\n",
        "  - If the order of the elements is important, lists are the natural choice. Lists maintain the order in which elements are added.\n",
        "  - Dictionaries, prior to Python 3.7, did not guarantee order, and even after they gained insertion order preservation, lists are still the primary tool for ordered sequences.\n",
        "  \n",
        "  2. Sequential Access:\n",
        "  - If you need to access elements by their index (position), lists are more efficient.\n",
        "  - Lists allow you to quickly retrieve elements using their integer index.\n",
        "  \n",
        "  3. Simple Iteration:\n",
        "  - If you need to iterate through a collection of items in a simple, sequential manner, lists are often more straightforward.\n",
        "  - Iterating through a list is typically simpler than iterating through a dictionary, especially if you only need the values and not the keys.\n",
        "  \n",
        "  4. Duplicate Values:\n",
        "  - If you need to store a collection of items that may contain duplicate values, lists are the appropriate choice.\n",
        "  - Dictionaries, by nature, require unique keys.\n",
        "  \n",
        "  5. Mutability:\n",
        "  - If you need a collection of items that can be easily modified (add, remove, or change elements), lists are well-suited.\n",
        "  - Lists are designed for mutability, allowing you to easily change their contents.\n",
        "  \n",
        "  6. Simpler Data Structures:\n",
        "  - If you are working with a simple, homogeneous collection of items, lists provide a more lightweight and efficient solution.\n",
        "  - Dictionaries introduce the overhead of key-value pairs, which may be unnecessary for simple collections.\n",
        "\n",
        "---"
      ],
      "metadata": {
        "id": "2MepbrnzmRWh"
      }
    },
    {
      "cell_type": "markdown",
      "source": [
        "19. **Why are dictionaries considered unordered, and how does that affect data retrieval?**\n",
        "\n",
        "  Ans. Dictionaries are considered \"unordered\" in the sense that they are not indexed by sequential integers like lists. You cannot access an element by its \"position\" in the same way you can with a list. Dictionaries are designed for key-based lookups, not position-based lookups.\n",
        "\n",
        "  How this affects data retrieval:\n",
        "  - Key-Based Access:\n",
        "      - Dictionaries are optimized for retrieving values based on their keys.\n",
        "      - The order in which the key-value pairs are stored does not affect the speed of key-based lookups, which are typically very fast (O(1) on average).\n",
        "       \n",
        "  - Iteration:\n",
        "      - In Python 3.7 and later, we can rely on the insertion order when iterating through a dictionary.\n",
        "      - However, if we need to access elements by their position, we should use a list.\n",
        "      \n",
        "  - No Indexing:\n",
        "      - We cannot use integer indices (e.g., my_dict[0]) to access elements in a dictionary.\n",
        "      - We must use the keys to retrieve the corresponding values.\n",
        "\n",
        "---\n"
      ],
      "metadata": {
        "id": "y_ROg0jJnmb7"
      }
    },
    {
      "cell_type": "markdown",
      "source": [
        "20. **Explain the difference between a list and a dictionary in terms of data retrieval.**\n",
        "\n",
        "  Ans. The fundamental difference between lists and dictionaries in terms of data retrieval lies in how we access the data and the efficiency of that access.\n",
        "  \n",
        "  Lists:\n",
        "  \n",
        "  1. Indexed Access:\n",
        "  - Lists are accessed using integer indices, starting from 0.\n",
        "  - You retrieve an element by its position within the list.\n",
        "  \n",
        "  2. Linear Search (in most cases):\n",
        "  - If we need to find a specific value within a list (e.g., using the in keyword or list.index()), Python often performs a linear search, iterating through the list until the value is found.\n",
        "  - This means the time it takes to find a value increases linearly with the size of the list (O(n) time complexity).\n",
        "  \n",
        "  3. Retrieval based on Position:\n",
        "  - Lists are optimized for retrieving elements based on their sequential position.\n",
        "  \n",
        "  Dictionaries:\n",
        "  \n",
        "  1. Key-Based Access:\n",
        "  - Dictionaries are accessed using unique keys.\n",
        "  - We can retrieve a value by its associated key.\n",
        "  \n",
        "  2. Hashing (Fast Lookups):\n",
        "  - Dictionaries use hashing, which allows for very fast lookups.\n",
        "  - On average, retrieving a value by its key takes constant time (O(1) time complexity), regardless of the dictionary's size.\n",
        "  \n",
        "  3. Retrieval based on Key:\n",
        "  - Dictionaries are optimized for retrieving values based on their unique keys.\n",
        "\n",
        "---"
      ],
      "metadata": {
        "id": "8r1ATRMDpA71"
      }
    },
    {
      "cell_type": "markdown",
      "source": [
        "# **Practical Questions**"
      ],
      "metadata": {
        "id": "_Ak6lEypqBni"
      }
    },
    {
      "cell_type": "markdown",
      "source": [
        "1. **Write a code to create a string with your name and print it.**"
      ],
      "metadata": {
        "id": "UjJnUf2wqGUj"
      }
    },
    {
      "cell_type": "code",
      "execution_count": 1,
      "metadata": {
        "colab": {
          "base_uri": "https://localhost:8080/"
        },
        "id": "I7AG0N57Plf_",
        "outputId": "aa8b9495-8323-48b3-e65e-88c52e75ecf3"
      },
      "outputs": [
        {
          "output_type": "stream",
          "name": "stdout",
          "text": [
            "Mohit Sharma\n"
          ]
        }
      ],
      "source": [
        "name = \"Mohit Sharma\"\n",
        "print(name)"
      ]
    },
    {
      "cell_type": "markdown",
      "source": [
        "2. **Write a code to find the length of the string \"Hello World\".**"
      ],
      "metadata": {
        "id": "mEYB8pU1qX6t"
      }
    },
    {
      "cell_type": "code",
      "source": [
        "l = len(\"Hello World\")\n",
        "print(l)"
      ],
      "metadata": {
        "colab": {
          "base_uri": "https://localhost:8080/"
        },
        "id": "9y8-zIylqS6p",
        "outputId": "a42fe4ec-9689-4ff5-824f-d93ac5b33ba0"
      },
      "execution_count": 2,
      "outputs": [
        {
          "output_type": "stream",
          "name": "stdout",
          "text": [
            "11\n"
          ]
        }
      ]
    },
    {
      "cell_type": "markdown",
      "source": [
        "3. **Write a code to slice the first 3 characters from the string \"Python Programming\".**"
      ],
      "metadata": {
        "id": "3qvMIpVLqr0W"
      }
    },
    {
      "cell_type": "code",
      "source": [
        "word = \"Python Programming\"\n",
        "print(word[:3])"
      ],
      "metadata": {
        "colab": {
          "base_uri": "https://localhost:8080/"
        },
        "id": "USSJi21iqjs_",
        "outputId": "7c6122d1-ed49-4af1-ec0c-8a8705b7998e"
      },
      "execution_count": 3,
      "outputs": [
        {
          "output_type": "stream",
          "name": "stdout",
          "text": [
            "Pyt\n"
          ]
        }
      ]
    },
    {
      "cell_type": "markdown",
      "source": [
        "4. **Write a code to convert the string \"hello\" to uppercase.**"
      ],
      "metadata": {
        "id": "hqeti16Gq4Tp"
      }
    },
    {
      "cell_type": "code",
      "source": [
        "word = \"hello\"\n",
        "print(word.upper())"
      ],
      "metadata": {
        "colab": {
          "base_uri": "https://localhost:8080/"
        },
        "id": "fY9VOK6Vq2fD",
        "outputId": "cc6f2465-3cd1-4110-b4fa-ed1475923a6f"
      },
      "execution_count": 4,
      "outputs": [
        {
          "output_type": "stream",
          "name": "stdout",
          "text": [
            "HELLO\n"
          ]
        }
      ]
    },
    {
      "cell_type": "markdown",
      "source": [
        "5. **Write a code to replace the word \"apple\" with \"orange\" in the string \"I like apple\".**"
      ],
      "metadata": {
        "id": "kdvlSq8jrB9m"
      }
    },
    {
      "cell_type": "code",
      "source": [
        "sent = \"I like apple\"\n",
        "print(sent.replace(\"apple\", \"orange\"))"
      ],
      "metadata": {
        "colab": {
          "base_uri": "https://localhost:8080/"
        },
        "id": "W3vEoKGYrA6M",
        "outputId": "aba0b9c1-8ac2-4347-bc04-e790e94042be"
      },
      "execution_count": 7,
      "outputs": [
        {
          "output_type": "stream",
          "name": "stdout",
          "text": [
            "I like orange\n"
          ]
        }
      ]
    },
    {
      "cell_type": "markdown",
      "source": [
        "6. **Write a code to create a list with numbers 1 to 5 and print it.**"
      ],
      "metadata": {
        "id": "Y4baIpcPr_7-"
      }
    },
    {
      "cell_type": "code",
      "source": [
        "l1 = []\n",
        "for i in range(1,6):\n",
        "  l1.append(i)\n",
        "print(l1)"
      ],
      "metadata": {
        "colab": {
          "base_uri": "https://localhost:8080/"
        },
        "id": "RNuRvxpzr3G_",
        "outputId": "4878ae6e-ad58-45d3-b940-bb77a68fee87"
      },
      "execution_count": 8,
      "outputs": [
        {
          "output_type": "stream",
          "name": "stdout",
          "text": [
            "[1, 2, 3, 4, 5]\n"
          ]
        }
      ]
    },
    {
      "cell_type": "markdown",
      "source": [
        "7. **Write a code to append the number 10 to the list [1, 2, 3, 4].**"
      ],
      "metadata": {
        "id": "Qphi8s4RsdUH"
      }
    },
    {
      "cell_type": "code",
      "source": [
        "l1 = [1,2,3,4]\n",
        "l1.append(10)\n",
        "print(l1)"
      ],
      "metadata": {
        "colab": {
          "base_uri": "https://localhost:8080/"
        },
        "id": "7MB_hlywsZ_c",
        "outputId": "1676d3e6-9b4f-4803-a26f-f44896212f17"
      },
      "execution_count": 9,
      "outputs": [
        {
          "output_type": "stream",
          "name": "stdout",
          "text": [
            "[1, 2, 3, 4, 10]\n"
          ]
        }
      ]
    },
    {
      "cell_type": "markdown",
      "source": [
        "8. **Write a code to remove the number 3 from the list [1, 2, 3, 4, 5].**"
      ],
      "metadata": {
        "id": "mr3A8Y0vsncZ"
      }
    },
    {
      "cell_type": "code",
      "source": [
        "l1 = [1,2,3,4,5]\n",
        "l1.remove(3)\n",
        "print(l1)"
      ],
      "metadata": {
        "colab": {
          "base_uri": "https://localhost:8080/"
        },
        "id": "2Bm1nXmUsl54",
        "outputId": "8ff48bf2-1a67-4a27-d0e9-e9529b7ff22d"
      },
      "execution_count": 10,
      "outputs": [
        {
          "output_type": "stream",
          "name": "stdout",
          "text": [
            "[1, 2, 4, 5]\n"
          ]
        }
      ]
    },
    {
      "cell_type": "markdown",
      "source": [
        "9. **Write a code to access the second element in the list ['a', 'b', 'c', 'd'].**"
      ],
      "metadata": {
        "id": "G3qGZroMsxiz"
      }
    },
    {
      "cell_type": "code",
      "source": [
        "l1 = ['a','b','c','d']\n",
        "print(l1[1])"
      ],
      "metadata": {
        "colab": {
          "base_uri": "https://localhost:8080/"
        },
        "id": "tp32Gro0swiq",
        "outputId": "21466bdc-0e99-4e5e-f9d8-31bf425477ce"
      },
      "execution_count": 11,
      "outputs": [
        {
          "output_type": "stream",
          "name": "stdout",
          "text": [
            "b\n"
          ]
        }
      ]
    },
    {
      "cell_type": "markdown",
      "source": [
        "10. **Write a code to reverse the list [10, 20, 30, 40, 50].**"
      ],
      "metadata": {
        "id": "mTlRNYSMtAKJ"
      }
    },
    {
      "cell_type": "code",
      "source": [
        "l1 = [10,20,30,40,50]\n",
        "l1.reverse()\n",
        "print(l1)"
      ],
      "metadata": {
        "colab": {
          "base_uri": "https://localhost:8080/"
        },
        "id": "ynCu6VB7s-1R",
        "outputId": "6162dbb5-2630-4f76-c8e1-7d39682890bd"
      },
      "execution_count": 12,
      "outputs": [
        {
          "output_type": "stream",
          "name": "stdout",
          "text": [
            "[50, 40, 30, 20, 10]\n"
          ]
        }
      ]
    },
    {
      "cell_type": "markdown",
      "source": [
        "11. **Write a code to create a tuple with the elements 100, 200, 300 and print it.**"
      ],
      "metadata": {
        "id": "rUBb-pwftQeZ"
      }
    },
    {
      "cell_type": "code",
      "source": [
        "t1 = (100,200,300)\n",
        "print(t1)"
      ],
      "metadata": {
        "colab": {
          "base_uri": "https://localhost:8080/"
        },
        "id": "7tgeg44vtO93",
        "outputId": "8250a55b-840a-4b96-d3ef-93bb96677646"
      },
      "execution_count": 13,
      "outputs": [
        {
          "output_type": "stream",
          "name": "stdout",
          "text": [
            "(100, 200, 300)\n"
          ]
        }
      ]
    },
    {
      "cell_type": "markdown",
      "source": [
        "12. **Write a code to access the second-to-last element of the tuple ('red', 'green', 'blue', 'yellow').**"
      ],
      "metadata": {
        "id": "4ETdnP5etaDZ"
      }
    },
    {
      "cell_type": "code",
      "source": [
        "t1 = ('red','green','blue','yellow')\n",
        "print(t1[-2])"
      ],
      "metadata": {
        "colab": {
          "base_uri": "https://localhost:8080/"
        },
        "id": "GYvPGldhtY8C",
        "outputId": "7e901058-1996-478e-a7b3-2486d25bb122"
      },
      "execution_count": 16,
      "outputs": [
        {
          "output_type": "stream",
          "name": "stdout",
          "text": [
            "blue\n"
          ]
        }
      ]
    },
    {
      "cell_type": "markdown",
      "source": [
        "13. **Write a code to find the minimum number in the tuple (10, 20, 5, 15).**"
      ],
      "metadata": {
        "id": "ugOKTbsQtx51"
      }
    },
    {
      "cell_type": "code",
      "source": [
        "t1 = (10,20,5,15)\n",
        "print(min(t1))"
      ],
      "metadata": {
        "colab": {
          "base_uri": "https://localhost:8080/"
        },
        "id": "OtSCnT7jtmHa",
        "outputId": "1fced20e-6770-4005-ae55-12a5be55274f"
      },
      "execution_count": 20,
      "outputs": [
        {
          "output_type": "stream",
          "name": "stdout",
          "text": [
            "5\n"
          ]
        }
      ]
    },
    {
      "cell_type": "markdown",
      "source": [
        "14. **Write a code to find the index of the element \"cat\" in the tuple ('dog', 'cat', 'rabbit').**"
      ],
      "metadata": {
        "id": "7f4h_qzhuTCV"
      }
    },
    {
      "cell_type": "code",
      "source": [
        "t1 = ('dog','cat','rabbit')\n",
        "print(t1.index('cat'))"
      ],
      "metadata": {
        "colab": {
          "base_uri": "https://localhost:8080/"
        },
        "id": "vnbZEIJLt7vw",
        "outputId": "82861476-d43f-4575-d528-1b335861dbb2"
      },
      "execution_count": 21,
      "outputs": [
        {
          "output_type": "stream",
          "name": "stdout",
          "text": [
            "1\n"
          ]
        }
      ]
    },
    {
      "cell_type": "markdown",
      "source": [
        "15. **Write a code to create a tuple containing three different fruits and check if \"kiwi\" is in it.**"
      ],
      "metadata": {
        "id": "bHbdPwrGug7d"
      }
    },
    {
      "cell_type": "code",
      "source": [
        "fruits = ('banana','apple','orange')\n",
        "print('kiwi' in fruits)"
      ],
      "metadata": {
        "colab": {
          "base_uri": "https://localhost:8080/"
        },
        "id": "lBal70BVufyK",
        "outputId": "527a01a6-3481-41f8-d855-c7b71314f4ad"
      },
      "execution_count": 25,
      "outputs": [
        {
          "output_type": "stream",
          "name": "stdout",
          "text": [
            "False\n"
          ]
        }
      ]
    },
    {
      "cell_type": "markdown",
      "source": [
        "16. **Write a code to create a set with the elements 'a', 'b', 'c' and print it.**"
      ],
      "metadata": {
        "id": "qwqe4Oj8vHZl"
      }
    },
    {
      "cell_type": "code",
      "source": [
        "alpha = {'a','b','c'}\n",
        "print(alpha)"
      ],
      "metadata": {
        "colab": {
          "base_uri": "https://localhost:8080/"
        },
        "id": "Z2aJQ1wgu3gq",
        "outputId": "32e293b2-3f00-4aa7-b257-29847e98e008"
      },
      "execution_count": 28,
      "outputs": [
        {
          "output_type": "stream",
          "name": "stdout",
          "text": [
            "{'b', 'a', 'c'}\n"
          ]
        }
      ]
    },
    {
      "cell_type": "markdown",
      "source": [
        "17. **Write a code to clear all elements from the set {1, 2, 3, 4, 5}.**"
      ],
      "metadata": {
        "id": "0kcEC7rjwEtD"
      }
    },
    {
      "cell_type": "code",
      "source": [
        "s1 = {1,2,3,4,5}\n",
        "s1.clear()\n",
        "print(s1)"
      ],
      "metadata": {
        "colab": {
          "base_uri": "https://localhost:8080/"
        },
        "id": "lnJADe6Nvasu",
        "outputId": "d95cf162-4606-4a84-bb1d-5387ef806be6"
      },
      "execution_count": 29,
      "outputs": [
        {
          "output_type": "stream",
          "name": "stdout",
          "text": [
            "set()\n"
          ]
        }
      ]
    },
    {
      "cell_type": "markdown",
      "source": [
        "18. **Write a code to remove the element 4 from the set {1, 2, 3, 4}.**"
      ],
      "metadata": {
        "id": "uyF8O_cKwREc"
      }
    },
    {
      "cell_type": "code",
      "source": [
        "s1 = {1,2,3,4}\n",
        "s1.remove(4)\n",
        "print(s1)"
      ],
      "metadata": {
        "colab": {
          "base_uri": "https://localhost:8080/"
        },
        "id": "yAt-7Q8bwPCw",
        "outputId": "9989fb27-c741-4219-a30b-19ec11594006"
      },
      "execution_count": 30,
      "outputs": [
        {
          "output_type": "stream",
          "name": "stdout",
          "text": [
            "{1, 2, 3}\n"
          ]
        }
      ]
    },
    {
      "cell_type": "markdown",
      "source": [
        "19. **Write a code to find the union of two sets {1, 2, 3} and {3, 4, 5}.**"
      ],
      "metadata": {
        "id": "Xc6DoMXPwbfz"
      }
    },
    {
      "cell_type": "code",
      "source": [
        "s1 = {1,2,3}\n",
        "s2 = {3,4,5}\n",
        "s = s1 | s2\n",
        "print(s)"
      ],
      "metadata": {
        "colab": {
          "base_uri": "https://localhost:8080/"
        },
        "id": "y1e99mzCwaou",
        "outputId": "43522555-f7aa-4015-e403-247360ff4b6b"
      },
      "execution_count": 32,
      "outputs": [
        {
          "output_type": "stream",
          "name": "stdout",
          "text": [
            "{1, 2, 3, 4, 5}\n"
          ]
        }
      ]
    },
    {
      "cell_type": "markdown",
      "source": [
        "20. **Write a code to find the intersection of two sets {1, 2, 3} and {2, 3, 4}.**"
      ],
      "metadata": {
        "id": "3niEUCPHwx6j"
      }
    },
    {
      "cell_type": "code",
      "source": [
        "s1 = {1,2,3}\n",
        "s2 = {2,3,4}\n",
        "s = s1 & s2\n",
        "print(s)"
      ],
      "metadata": {
        "colab": {
          "base_uri": "https://localhost:8080/"
        },
        "id": "Y9DlLh7mwmsT",
        "outputId": "411d76ee-ff27-4ad1-a3c7-02cff6164bcf"
      },
      "execution_count": 33,
      "outputs": [
        {
          "output_type": "stream",
          "name": "stdout",
          "text": [
            "{2, 3}\n"
          ]
        }
      ]
    },
    {
      "cell_type": "markdown",
      "source": [
        "21. **Write a code to create a dictionary with the keys \"name\", \"age\", and \"city\", and print it.**"
      ],
      "metadata": {
        "id": "RHqAnIOlw7wt"
      }
    },
    {
      "cell_type": "code",
      "source": [
        "d1 = {\"name\":\"Mohit\", \"age\":24, \"city\":\"Indore\"}\n",
        "print(d1)"
      ],
      "metadata": {
        "colab": {
          "base_uri": "https://localhost:8080/"
        },
        "id": "Yq9kwWeew6e9",
        "outputId": "9ee0c9d8-41b1-457b-ad58-17f28db18a48"
      },
      "execution_count": 36,
      "outputs": [
        {
          "output_type": "stream",
          "name": "stdout",
          "text": [
            "{'name': 'Mohit', 'age': 24, 'city': 'Indore'}\n"
          ]
        }
      ]
    },
    {
      "cell_type": "markdown",
      "source": [
        "22. **Write a code to add a new key-value pair \"country\": \"USA\" to the dictionary {'name': 'John', 'age': 25}.**"
      ],
      "metadata": {
        "id": "xL4gEqPkxbQv"
      }
    },
    {
      "cell_type": "code",
      "source": [
        "d1 = {'name':'John', 'age':25}\n",
        "d1['country'] = 'USA'\n",
        "print(d1)"
      ],
      "metadata": {
        "colab": {
          "base_uri": "https://localhost:8080/"
        },
        "id": "Be726ArFxK1m",
        "outputId": "66fd135b-1b5e-48e8-dcc9-c73b315c7c61"
      },
      "execution_count": 39,
      "outputs": [
        {
          "output_type": "stream",
          "name": "stdout",
          "text": [
            "{'name': 'John', 'age': 25, 'country': 'USA'}\n"
          ]
        }
      ]
    },
    {
      "cell_type": "markdown",
      "source": [
        "23. **Write a code to access the value associated with the key \"name\" in the dictionary {'name': 'Alice', 'age': 30}.**"
      ],
      "metadata": {
        "id": "Ym69vngcx1HT"
      }
    },
    {
      "cell_type": "code",
      "source": [
        "d1 = {'name':'Alice', 'age':30}\n",
        "d1.get('name')"
      ],
      "metadata": {
        "colab": {
          "base_uri": "https://localhost:8080/",
          "height": 36
        },
        "id": "VaC-PJ5oxp_f",
        "outputId": "851c7cce-992d-4a70-b255-9459066eee02"
      },
      "execution_count": 40,
      "outputs": [
        {
          "output_type": "execute_result",
          "data": {
            "text/plain": [
              "'Alice'"
            ],
            "application/vnd.google.colaboratory.intrinsic+json": {
              "type": "string"
            }
          },
          "metadata": {},
          "execution_count": 40
        }
      ]
    },
    {
      "cell_type": "markdown",
      "source": [
        "24. **Write a code to remove the key \"age\" from the dictionary {'name': 'Bob', 'age': 22, 'city': 'New York'}.**"
      ],
      "metadata": {
        "id": "v8soyLhTyHTI"
      }
    },
    {
      "cell_type": "code",
      "source": [
        "d1 = {'name':'Bob', 'age':22, 'city':'New York'}\n",
        "d1.pop('age')\n",
        "print(d1)"
      ],
      "metadata": {
        "colab": {
          "base_uri": "https://localhost:8080/"
        },
        "id": "Gq__WtOAyFZx",
        "outputId": "cb79ad3a-2ccd-4f94-d801-500c84ddea19"
      },
      "execution_count": 41,
      "outputs": [
        {
          "output_type": "stream",
          "name": "stdout",
          "text": [
            "{'name': 'Bob', 'city': 'New York'}\n"
          ]
        }
      ]
    },
    {
      "cell_type": "markdown",
      "source": [
        "25. **Write a code to check if the key \"city\" exists in the dictionary {'name': 'Alice', 'city': 'Paris'}.**"
      ],
      "metadata": {
        "id": "NuMAxMw3yQ7u"
      }
    },
    {
      "cell_type": "code",
      "source": [
        "d1 = {'name':'Alice', 'city':'Paris'}\n",
        "print('city' in d1)"
      ],
      "metadata": {
        "colab": {
          "base_uri": "https://localhost:8080/"
        },
        "id": "lQ6FmjdHyNpQ",
        "outputId": "ad747722-79de-4e01-ed43-5da34922c395"
      },
      "execution_count": 42,
      "outputs": [
        {
          "output_type": "stream",
          "name": "stdout",
          "text": [
            "True\n"
          ]
        }
      ]
    },
    {
      "cell_type": "markdown",
      "source": [
        "26. **Write a code to create a list, a tuple, and a dictionary, and print them all.**"
      ],
      "metadata": {
        "id": "-G1uSt4AyXLR"
      }
    },
    {
      "cell_type": "code",
      "source": [
        "l1 = [1,True,'M',23.45,\"Wow\"]\n",
        "t1 = (1,2,3,\"This is true\")\n",
        "d1 = {'name':'Mohit', 'age':24, 'city':'Indore'}\n",
        "print(l1)\n",
        "print(t1)\n",
        "print(d1)"
      ],
      "metadata": {
        "colab": {
          "base_uri": "https://localhost:8080/"
        },
        "id": "YDbeTTUSyVfc",
        "outputId": "3355d84f-1e6c-4a8d-b2cb-01c846cf0e3c"
      },
      "execution_count": 43,
      "outputs": [
        {
          "output_type": "stream",
          "name": "stdout",
          "text": [
            "[1, True, 'M', 23.45, 'Wow']\n",
            "(1, 2, 3, 'This is true')\n",
            "{'name': 'Mohit', 'age': 24, 'city': 'Indore'}\n"
          ]
        }
      ]
    },
    {
      "cell_type": "markdown",
      "source": [
        "27. **Write a code to create a list of 5 random numbers between 1 and 100, sort it in ascending order, and print the result(replaced).**"
      ],
      "metadata": {
        "id": "_jANNa_Xyztv"
      }
    },
    {
      "cell_type": "code",
      "source": [
        "import random\n",
        "\n",
        "l1 = []\n",
        "for i in range(5):\n",
        "  l1.append(random.randint(1,100))\n",
        "l1.sort()\n",
        "print(l1)"
      ],
      "metadata": {
        "colab": {
          "base_uri": "https://localhost:8080/"
        },
        "id": "6GlGTwvKyvF0",
        "outputId": "3f263020-20f2-4c09-bb09-94776309f17b"
      },
      "execution_count": 44,
      "outputs": [
        {
          "output_type": "stream",
          "name": "stdout",
          "text": [
            "[6, 8, 34, 69, 99]\n"
          ]
        }
      ]
    },
    {
      "cell_type": "markdown",
      "source": [
        "28. **Write a code to create a list with strings and print the element at the third index.**"
      ],
      "metadata": {
        "id": "n-fyXYxQzSgg"
      }
    },
    {
      "cell_type": "code",
      "source": [
        "l1 = ['Wow','Lucky','Cookie','Super','Damn']\n",
        "print(l1[3])"
      ],
      "metadata": {
        "colab": {
          "base_uri": "https://localhost:8080/"
        },
        "id": "ePsAq8f5zNib",
        "outputId": "50fa8f60-c075-4968-ebf9-1d31a6f73104"
      },
      "execution_count": 1,
      "outputs": [
        {
          "output_type": "stream",
          "name": "stdout",
          "text": [
            "Super\n"
          ]
        }
      ]
    },
    {
      "cell_type": "markdown",
      "source": [
        "29. **Write a code to combine two dictionaries into one and print the result.**"
      ],
      "metadata": {
        "id": "y5co6VUtzkia"
      }
    },
    {
      "cell_type": "code",
      "source": [
        "d1 = {'name':'John','age':32,'Country':'USA'}\n",
        "d2 = {'salary':30000,'Occupation':'Manager','Location':'New York'}\n",
        "d3 = d1.copy()\n",
        "d3.update(d2)\n",
        "print(d3)"
      ],
      "metadata": {
        "colab": {
          "base_uri": "https://localhost:8080/"
        },
        "id": "0lB1gdAEziAx",
        "outputId": "5f168f63-d14e-4af5-8de9-bb29c9301e5f"
      },
      "execution_count": 48,
      "outputs": [
        {
          "output_type": "stream",
          "name": "stdout",
          "text": [
            "{'name': 'John', 'age': 32, 'Country': 'USA', 'salary': 30000, 'Occupation': 'Manager', 'Location': 'New York'}\n"
          ]
        }
      ]
    },
    {
      "cell_type": "markdown",
      "source": [
        "30. **Write a code to convert a list of strings into a set.**"
      ],
      "metadata": {
        "id": "xjiTkcNwz_gY"
      }
    },
    {
      "cell_type": "code",
      "source": [
        "l1 = ['Wow','Lucky','Cookie','Super','Damn']\n",
        "s1 = set(l1)\n",
        "print(s1)"
      ],
      "metadata": {
        "colab": {
          "base_uri": "https://localhost:8080/"
        },
        "id": "OXUI_0Osz-lc",
        "outputId": "b3e9bf26-89fc-4067-9491-3012c9740e7a"
      },
      "execution_count": 47,
      "outputs": [
        {
          "output_type": "stream",
          "name": "stdout",
          "text": [
            "{'Damn', 'Lucky', 'Super', 'Wow', 'Cookie'}\n"
          ]
        }
      ]
    },
    {
      "cell_type": "code",
      "source": [],
      "metadata": {
        "id": "u1veiJOV0RYt"
      },
      "execution_count": null,
      "outputs": []
    }
  ]
}