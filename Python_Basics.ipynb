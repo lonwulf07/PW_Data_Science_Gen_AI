{
  "nbformat": 4,
  "nbformat_minor": 0,
  "metadata": {
    "colab": {
      "provenance": []
    },
    "kernelspec": {
      "name": "python3",
      "display_name": "Python 3"
    },
    "language_info": {
      "name": "python"
    }
  },
  "cells": [
    {
      "cell_type": "markdown",
      "source": [
        "# **Theoretical Questions**"
      ],
      "metadata": {
        "id": "mPeBxrECAlf8"
      }
    },
    {
      "cell_type": "markdown",
      "source": [
        "1. **What is Python, and why is it popular?**\n",
        "\n",
        "\n",
        "Ans. Python is a high-level, interpreted, general-purpose programming language. Some of the reasons it's popular are :\n",
        "\n",
        "*   It is easy to learn.\n",
        "*   It has simple and readable syntax.\n",
        "*   It is versatile and used in different domains.\n",
        "*   It has a large and active community.\n",
        "*   It has extensive libraries and frameworks.\n",
        "*   It is an open source program.\n",
        "\n",
        "\n",
        "---\n",
        "\n",
        "\n",
        "\n",
        "\n",
        "\n",
        "\n",
        "\n"
      ],
      "metadata": {
        "id": "GGdFTec8A45F"
      }
    },
    {
      "cell_type": "markdown",
      "source": [
        "2. **What is an interpreter in Python?**\n",
        "\n",
        "Ans. An interpreter is a program made to execute python codes. Unlike a compiler which translates the entire code into machine code before execution, an interpreter reads the code and execute it line by line.\n",
        "\n",
        "---"
      ],
      "metadata": {
        "id": "O30bF180DOvk"
      }
    },
    {
      "cell_type": "markdown",
      "source": [
        "3. **What are pre-defined keywords in Python?**\n",
        "\n",
        "Ans. Pre-defined keywords are reserved words that already have an assigned value or task in the context of python's syntax. These words cannot be used as an identifier or variable. They are case sensitive and have fixed meanings.\n",
        "\n",
        "---\n",
        "\n"
      ],
      "metadata": {
        "id": "97QkZ1zNESXe"
      }
    },
    {
      "cell_type": "markdown",
      "source": [
        "4. **Can keywords be used as variable names?**\n",
        "\n",
        "Ans. No keywords can't be used as a variable as they are already defined as per python's syntax and are immutable.\n",
        "\n",
        "---"
      ],
      "metadata": {
        "id": "pK3sBuSTFLGp"
      }
    },
    {
      "cell_type": "markdown",
      "source": [
        "5. **What is mutability in python?**\n",
        "\n",
        "Ans. Mutability refers to whether the value assigned to a varibale can be changed later on or not.\n",
        "\n",
        "---"
      ],
      "metadata": {
        "id": "qIKRM_4VGPfL"
      }
    },
    {
      "cell_type": "markdown",
      "source": [
        "6. **Why are lists mutable, but tuples are immutable?**\n",
        "\n",
        "Ans. Lists are mutable because they are created with a purpose that the value they contain may need to be changed later on. Meanwhile tuples are made with the purpose to have it's content not editable. They are generally used to contain sensitive data.\n",
        "\n",
        "---"
      ],
      "metadata": {
        "id": "49FokRaGGPdX"
      }
    },
    {
      "cell_type": "markdown",
      "source": [
        "7. **What is the difference between “==” and “is” operators in Python?**\n",
        "\n",
        "Ans. The \"==\" operator is used to compare the values of two objects. It checks if the contents of the objects are equal or not.\n",
        "\n",
        "The \"is\" operator is used to compare the identity if two objects. It checks whether two variables refer to the same object in memory or not.\n",
        "\n",
        "---"
      ],
      "metadata": {
        "id": "WQtikjw1GPbn"
      }
    },
    {
      "cell_type": "markdown",
      "source": [
        "8. **What are logical operators in Python?**\n",
        "\n",
        "Ans. Logical operators are used to combine or modify the conditional statements, allowing to create more complex expressions. They work with boolean values and return boolean results. The logical operators in python are:\n",
        "\n",
        "\n",
        "*   and(Logical AND)\n",
        "*   or(Logical OR)\n",
        "*   not(Logical NOT)\n",
        "\n",
        "---"
      ],
      "metadata": {
        "id": "NTEagfdTMGMd"
      }
    },
    {
      "cell_type": "markdown",
      "source": [
        "9. **What is type casting in Python?**\n",
        "\n",
        "Ans. Type casting, also known as type conversion, in Python refers to the process of changing the data type of a variable from one type to another. It allows you to convert values between different data types like integers, floats, strings, and booleans.\n",
        "\n",
        "---"
      ],
      "metadata": {
        "id": "oEaKCxZ3MVtd"
      }
    },
    {
      "cell_type": "markdown",
      "source": [
        "10. **What is the difference between implicit and explicit type casting?**\n",
        "\n",
        "Ans. Implicit type casting is done by the interpreter automatically as per it's syntax while Explicit type casting is done by the user itself based on it's  need.\n",
        "\n",
        "---"
      ],
      "metadata": {
        "id": "IAHyMnp5MWD1"
      }
    },
    {
      "cell_type": "markdown",
      "source": [
        "11. **What is the purpose of conditional statements in Python?**\n",
        "\n",
        "Ans. The purpose of conditional statement is to maintain the flow of the program. It executes different line of codes based on different conditions.\n",
        "\n",
        "---"
      ],
      "metadata": {
        "id": "xItfCmE2MWaF"
      }
    },
    {
      "cell_type": "markdown",
      "source": [
        "12. **How does the elif statement work?**\n",
        "\n",
        "Ans. The elif statement is used to check multiple conditions. First it'll check the if statement, if it's true it'll skip directly to next part of code or it'll try to check the next condition present in elif. This process can be continued for multiple elif and then on the final condition the else statement is used to check for final condition.\n",
        "\n",
        "---"
      ],
      "metadata": {
        "id": "DTKkOSqCNCha"
      }
    },
    {
      "cell_type": "markdown",
      "source": [
        "13. **What is the difference between for and while loops?**\n",
        "\n",
        "Ans. The for loop is used to iterate a code over a sequence over pre-defined number of times. No manual control is required to increment or decrement the  counter for the loop.\n",
        "\n",
        "Meanwhile the while loop is a condition based iteration. We have to manually define a condition for it to work upon.\n",
        "\n",
        "---"
      ],
      "metadata": {
        "id": "MH-tP736NKsM"
      }
    },
    {
      "cell_type": "markdown",
      "source": [
        "14. **Describe a scenario where a while loop is more suitable than a for loop.**\n",
        "\n",
        "Ans. A while loop is more suitable than a for loop in scenarios where the number of iterations is unknown or dependent on a condition that might change during the loop's execution. Here's a common scenario:\n",
        "\n",
        "Scenario: User Input Validation\n",
        "\n",
        "Imagine we're writing a program that asks the user to enter a valid integer within a specific range. We would want to keep prompting the user until they provide correct input.\n",
        "\n",
        "---"
      ],
      "metadata": {
        "id": "WTebA25ONTlH"
      }
    },
    {
      "cell_type": "markdown",
      "source": [
        "# **Practical Questions**"
      ],
      "metadata": {
        "id": "RMhHkYIuWo73"
      }
    },
    {
      "cell_type": "markdown",
      "source": [
        "1. **Write a Python program to print \"Hello, World!\"**"
      ],
      "metadata": {
        "id": "wBg5M0ynu3pY"
      }
    },
    {
      "cell_type": "code",
      "execution_count": 1,
      "metadata": {
        "colab": {
          "base_uri": "https://localhost:8080/"
        },
        "id": "4h4YOfjJAc85",
        "outputId": "e807318e-9e07-43ee-d9d5-49953579ee3d"
      },
      "outputs": [
        {
          "output_type": "stream",
          "name": "stdout",
          "text": [
            "Hello, World!\n"
          ]
        }
      ],
      "source": [
        "print(\"Hello, World!\")"
      ]
    },
    {
      "cell_type": "markdown",
      "source": [
        "2. **Write a Python program that displays your name and age.**"
      ],
      "metadata": {
        "id": "0RdUAU9jwDU1"
      }
    },
    {
      "cell_type": "code",
      "source": [
        "name=\"Mohit Sharma\"\n",
        "age = 24\n",
        "\n",
        "print(name)\n",
        "print(age)"
      ],
      "metadata": {
        "colab": {
          "base_uri": "https://localhost:8080/"
        },
        "id": "EjAZ3PcovjKQ",
        "outputId": "83dc679a-7704-4d4a-c014-02c64265939c"
      },
      "execution_count": 4,
      "outputs": [
        {
          "output_type": "stream",
          "name": "stdout",
          "text": [
            "Mohit Sharma\n",
            "24\n"
          ]
        }
      ]
    },
    {
      "cell_type": "markdown",
      "source": [
        "3. **Write code to print all the pre-defined keywords in Python using the keyword library.**"
      ],
      "metadata": {
        "id": "ot5czWZ1we8v"
      }
    },
    {
      "cell_type": "code",
      "source": [
        "import keyword\n",
        "\n",
        "print(keyword.kwlist)"
      ],
      "metadata": {
        "colab": {
          "base_uri": "https://localhost:8080/"
        },
        "id": "eSaI7s7DwZc8",
        "outputId": "b25bbd52-9792-43da-c895-70b80d723cf6"
      },
      "execution_count": 7,
      "outputs": [
        {
          "output_type": "stream",
          "name": "stdout",
          "text": [
            "['False', 'None', 'True', 'and', 'as', 'assert', 'async', 'await', 'break', 'class', 'continue', 'def', 'del', 'elif', 'else', 'except', 'finally', 'for', 'from', 'global', 'if', 'import', 'in', 'is', 'lambda', 'nonlocal', 'not', 'or', 'pass', 'raise', 'return', 'try', 'while', 'with', 'yield']\n"
          ]
        }
      ]
    },
    {
      "cell_type": "markdown",
      "source": [
        "4. **Write a program that checks if a given word is a Python keyword.**"
      ],
      "metadata": {
        "id": "iop-qpiQw_qj"
      }
    },
    {
      "cell_type": "code",
      "source": [
        "import keyword\n",
        "word = input(\"Please enter a word!!\")\n",
        "\n",
        "check = word in keyword.kwlist\n",
        "\n",
        "if (check == True):\n",
        "  print(\"This is a keyword!\")\n",
        "else:\n",
        "  print(\"It is not a keyword!\")"
      ],
      "metadata": {
        "colab": {
          "base_uri": "https://localhost:8080/"
        },
        "id": "rgVia4f0wzU8",
        "outputId": "4e1dd1f7-b6fa-4a9b-a1e9-da34a1d6ba4a"
      },
      "execution_count": 18,
      "outputs": [
        {
          "output_type": "stream",
          "name": "stdout",
          "text": [
            "Please enter a word!!classs\n",
            "It is not a keyword!\n"
          ]
        }
      ]
    },
    {
      "cell_type": "markdown",
      "source": [
        "5. **Create a list and tuple in Python, and demonstrate how attempting to change an element works differently for each.**"
      ],
      "metadata": {
        "id": "6HO2dpeszu-0"
      }
    },
    {
      "cell_type": "code",
      "source": [
        "list1 = [1, 2, 45, \"Brick\", \"Send\"]\n",
        "list1.append(\"New\")\n",
        "print(list1)\n",
        "\n",
        "tuple1 = (1, 2, 45, \"Brick\", \"Send\")\n",
        "tuple1.append(\"New\")\n",
        "print(tuple1)"
      ],
      "metadata": {
        "colab": {
          "base_uri": "https://localhost:8080/",
          "height": 211
        },
        "id": "V8PuQpTSyMm9",
        "outputId": "1f2ccaa7-7d35-48a9-e546-6f204d6ddf75"
      },
      "execution_count": 19,
      "outputs": [
        {
          "output_type": "stream",
          "name": "stdout",
          "text": [
            "[1, 2, 45, 'Brick', 'Send', 'New']\n"
          ]
        },
        {
          "output_type": "error",
          "ename": "AttributeError",
          "evalue": "'tuple' object has no attribute 'append'",
          "traceback": [
            "\u001b[0;31m---------------------------------------------------------------------------\u001b[0m",
            "\u001b[0;31mAttributeError\u001b[0m                            Traceback (most recent call last)",
            "\u001b[0;32m<ipython-input-19-5c69a921d5e6>\u001b[0m in \u001b[0;36m<cell line: 0>\u001b[0;34m()\u001b[0m\n\u001b[1;32m      4\u001b[0m \u001b[0;34m\u001b[0m\u001b[0m\n\u001b[1;32m      5\u001b[0m \u001b[0mtuple1\u001b[0m \u001b[0;34m=\u001b[0m \u001b[0;34m(\u001b[0m\u001b[0;36m1\u001b[0m\u001b[0;34m,\u001b[0m \u001b[0;36m2\u001b[0m\u001b[0;34m,\u001b[0m \u001b[0;36m45\u001b[0m\u001b[0;34m,\u001b[0m \u001b[0;34m\"Brick\"\u001b[0m\u001b[0;34m,\u001b[0m \u001b[0;34m\"Send\"\u001b[0m\u001b[0;34m)\u001b[0m\u001b[0;34m\u001b[0m\u001b[0;34m\u001b[0m\u001b[0m\n\u001b[0;32m----> 6\u001b[0;31m \u001b[0mtuple1\u001b[0m\u001b[0;34m.\u001b[0m\u001b[0mappend\u001b[0m\u001b[0;34m(\u001b[0m\u001b[0;34m\"New\"\u001b[0m\u001b[0;34m)\u001b[0m\u001b[0;34m\u001b[0m\u001b[0;34m\u001b[0m\u001b[0m\n\u001b[0m\u001b[1;32m      7\u001b[0m \u001b[0mprint\u001b[0m\u001b[0;34m(\u001b[0m\u001b[0mtuple1\u001b[0m\u001b[0;34m)\u001b[0m\u001b[0;34m\u001b[0m\u001b[0;34m\u001b[0m\u001b[0m\n",
            "\u001b[0;31mAttributeError\u001b[0m: 'tuple' object has no attribute 'append'"
          ]
        }
      ]
    },
    {
      "cell_type": "markdown",
      "source": [
        "6. **Write a function to demonstrate the behavior of mutable and immutable arguments.**"
      ],
      "metadata": {
        "id": "99M01OwY0e1o"
      }
    },
    {
      "cell_type": "code",
      "source": [
        "def mutability():\n",
        "  list1 = [1, 2, 45, \"Brick\", \"Send\"]\n",
        "  list1.append(\"New\")\n",
        "  print(list1)\n",
        "\n",
        "def immutability():\n",
        "  tuple1 = (1, 2, 45, \"Brick\", \"Send\")\n",
        "  tuple1.append(\"New\")\n",
        "  print(tuple1)\n",
        "\n",
        "mutability()\n",
        "immutability()"
      ],
      "metadata": {
        "colab": {
          "base_uri": "https://localhost:8080/",
          "height": 315
        },
        "id": "Z0KwOw1w0ZWk",
        "outputId": "746ab142-5413-4ea8-9149-8dec969cace4"
      },
      "execution_count": 20,
      "outputs": [
        {
          "output_type": "stream",
          "name": "stdout",
          "text": [
            "[1, 2, 45, 'Brick', 'Send', 'New']\n"
          ]
        },
        {
          "output_type": "error",
          "ename": "AttributeError",
          "evalue": "'tuple' object has no attribute 'append'",
          "traceback": [
            "\u001b[0;31m---------------------------------------------------------------------------\u001b[0m",
            "\u001b[0;31mAttributeError\u001b[0m                            Traceback (most recent call last)",
            "\u001b[0;32m<ipython-input-20-4384a7f12d87>\u001b[0m in \u001b[0;36m<cell line: 0>\u001b[0;34m()\u001b[0m\n\u001b[1;32m     10\u001b[0m \u001b[0;34m\u001b[0m\u001b[0m\n\u001b[1;32m     11\u001b[0m \u001b[0mmutability\u001b[0m\u001b[0;34m(\u001b[0m\u001b[0;34m)\u001b[0m\u001b[0;34m\u001b[0m\u001b[0;34m\u001b[0m\u001b[0m\n\u001b[0;32m---> 12\u001b[0;31m \u001b[0mimmutability\u001b[0m\u001b[0;34m(\u001b[0m\u001b[0;34m)\u001b[0m\u001b[0;34m\u001b[0m\u001b[0;34m\u001b[0m\u001b[0m\n\u001b[0m",
            "\u001b[0;32m<ipython-input-20-4384a7f12d87>\u001b[0m in \u001b[0;36mimmutability\u001b[0;34m()\u001b[0m\n\u001b[1;32m      6\u001b[0m \u001b[0;32mdef\u001b[0m \u001b[0mimmutability\u001b[0m\u001b[0;34m(\u001b[0m\u001b[0;34m)\u001b[0m\u001b[0;34m:\u001b[0m\u001b[0;34m\u001b[0m\u001b[0;34m\u001b[0m\u001b[0m\n\u001b[1;32m      7\u001b[0m   \u001b[0mtuple1\u001b[0m \u001b[0;34m=\u001b[0m \u001b[0;34m(\u001b[0m\u001b[0;36m1\u001b[0m\u001b[0;34m,\u001b[0m \u001b[0;36m2\u001b[0m\u001b[0;34m,\u001b[0m \u001b[0;36m45\u001b[0m\u001b[0;34m,\u001b[0m \u001b[0;34m\"Brick\"\u001b[0m\u001b[0;34m,\u001b[0m \u001b[0;34m\"Send\"\u001b[0m\u001b[0;34m)\u001b[0m\u001b[0;34m\u001b[0m\u001b[0;34m\u001b[0m\u001b[0m\n\u001b[0;32m----> 8\u001b[0;31m   \u001b[0mtuple1\u001b[0m\u001b[0;34m.\u001b[0m\u001b[0mappend\u001b[0m\u001b[0;34m(\u001b[0m\u001b[0;34m\"New\"\u001b[0m\u001b[0;34m)\u001b[0m\u001b[0;34m\u001b[0m\u001b[0;34m\u001b[0m\u001b[0m\n\u001b[0m\u001b[1;32m      9\u001b[0m   \u001b[0mprint\u001b[0m\u001b[0;34m(\u001b[0m\u001b[0mtuple1\u001b[0m\u001b[0;34m)\u001b[0m\u001b[0;34m\u001b[0m\u001b[0;34m\u001b[0m\u001b[0m\n\u001b[1;32m     10\u001b[0m \u001b[0;34m\u001b[0m\u001b[0m\n",
            "\u001b[0;31mAttributeError\u001b[0m: 'tuple' object has no attribute 'append'"
          ]
        }
      ]
    },
    {
      "cell_type": "markdown",
      "source": [
        "7. **Write a program that performs basic arithmetic operations on two user-input numbers.**"
      ],
      "metadata": {
        "id": "S4dw6Mxw05yI"
      }
    },
    {
      "cell_type": "code",
      "source": [
        "i1 = float(input(\"Please enter the first number : \"))\n",
        "i2 = float(input(\"Please enter the second number : \"))\n",
        "\n",
        "addition = i1 + i2\n",
        "difference = i1 - i2\n",
        "multiplication = i1 * i2\n",
        "division = i1 / i2\n",
        "\n",
        "print(f\"\\nAddition of both input is : {addition}\")\n",
        "print(f\"Difference of both input is : {difference}\")\n",
        "print(f\"Multiplication of both input is : {multiplication}\")\n",
        "print(f\"Division of both input is : {division}\")"
      ],
      "metadata": {
        "colab": {
          "base_uri": "https://localhost:8080/"
        },
        "id": "hdztL2c500jo",
        "outputId": "e798d6b1-0570-4d61-fab1-77eabe88b89e"
      },
      "execution_count": 28,
      "outputs": [
        {
          "output_type": "stream",
          "name": "stdout",
          "text": [
            "Please enter the first number : 5\n",
            "Please enter the second number : 10\n",
            "\n",
            "\n",
            "Addition of both input is : 15.0\n",
            "Difference of both input is : -5.0\n",
            "Multiplication of both input is : 50.0\n",
            "Division of both input is : 0.5\n"
          ]
        }
      ]
    },
    {
      "cell_type": "markdown",
      "source": [
        "8. **Write a program to demonstrate the use of logical operators.**"
      ],
      "metadata": {
        "id": "kE58w9z-3SPy"
      }
    },
    {
      "cell_type": "code",
      "source": [
        "#logical AND\n",
        "logical_and = (5 > 7) and (9 < 20)\n",
        "print(logical_and)\n",
        "\n",
        "#logical OR\n",
        "logical_or = (5 > 7) or (9 < 20)\n",
        "print(logical_or)\n",
        "\n",
        "#logical NOT\n",
        "logical_not = not(5 > 7)\n",
        "print(logical_not)\n"
      ],
      "metadata": {
        "colab": {
          "base_uri": "https://localhost:8080/"
        },
        "id": "o1XGbnkl1qDj",
        "outputId": "efc1868c-f7e4-42b3-89a2-e1abf58af3ff"
      },
      "execution_count": 29,
      "outputs": [
        {
          "output_type": "stream",
          "name": "stdout",
          "text": [
            "False\n",
            "True\n",
            "True\n"
          ]
        }
      ]
    },
    {
      "cell_type": "markdown",
      "source": [
        "9. **Write a Python program to convert user input from string to integer, float, and boolean types.**"
      ],
      "metadata": {
        "id": "4yLXXIY74BUC"
      }
    },
    {
      "cell_type": "code",
      "source": [
        "int1 = input(\"Please enter an integer : \")\n",
        "int1 = int(int1)\n",
        "print(type(int1))\n",
        "\n",
        "float1 = input(\"Please enter a float : \")\n",
        "float1 = float(float1)\n",
        "print(type(float1))\n",
        "\n",
        "bool1 = input(\"Please enter a boolean : \")\n",
        "bool1 = bool(bool1)\n",
        "print(type(bool1))"
      ],
      "metadata": {
        "colab": {
          "base_uri": "https://localhost:8080/"
        },
        "id": "6hp-uSJL3-kH",
        "outputId": "2daf5b08-9dcf-4830-8a8a-f105f5d39732"
      },
      "execution_count": 31,
      "outputs": [
        {
          "output_type": "stream",
          "name": "stdout",
          "text": [
            "Please enter an integer : 5\n",
            "<class 'int'>\n",
            "Please enter a float : 12.4\n",
            "<class 'float'>\n",
            "Please enter a boolean : 5\n",
            "<class 'bool'>\n"
          ]
        }
      ]
    },
    {
      "cell_type": "markdown",
      "source": [
        "10. **Write code to demonstrate type casting with list elements.**"
      ],
      "metadata": {
        "id": "ew87uhqs4stV"
      }
    },
    {
      "cell_type": "code",
      "source": [
        "list1 = [1, 2, 34, 56, \"Seven\", \"Bold\", \"Streak\", True, 45.679, False, \"Sure\"]\n",
        "print(list1)\n",
        "\n",
        "for i in range(len(list1)):\n",
        "  list1[i] = str(list1[i])\n",
        "\n",
        "print(list1)"
      ],
      "metadata": {
        "colab": {
          "base_uri": "https://localhost:8080/"
        },
        "id": "P-PoCkas4eA2",
        "outputId": "8f48c7b1-b015-4327-b3b9-77061b1b0137"
      },
      "execution_count": 54,
      "outputs": [
        {
          "output_type": "stream",
          "name": "stdout",
          "text": [
            "[1, 2, 34, 56, 'Seven', 'Bold', 'Streak', True, 45.679, False, 'Sure']\n",
            "['1', '2', '34', '56', 'Seven', 'Bold', 'Streak', 'True', '45.679', 'False', 'Sure']\n"
          ]
        }
      ]
    },
    {
      "cell_type": "markdown",
      "source": [
        "11. **Write a program that checks if a number is positive, negative, or zero.**"
      ],
      "metadata": {
        "id": "uSMzqa7s5DCy"
      }
    },
    {
      "cell_type": "code",
      "source": [
        "input1 = float(input(\"Please enter a number : \"))\n",
        "\n",
        "if (input1 > 0):\n",
        "  print(\"The number is positive!\")\n",
        "elif (input1 < 0):\n",
        "  print(\"The number is negative!\")\n",
        "else:\n",
        "  print(\"The number is 0!\")"
      ],
      "metadata": {
        "colab": {
          "base_uri": "https://localhost:8080/"
        },
        "id": "hrVB3Uon5M80",
        "outputId": "5bca349b-d02c-4eb4-bfcd-867f28c54b48"
      },
      "execution_count": 34,
      "outputs": [
        {
          "output_type": "stream",
          "name": "stdout",
          "text": [
            "Please enter a number : -456\n",
            "The number is negative!\n"
          ]
        }
      ]
    },
    {
      "cell_type": "markdown",
      "source": [
        "12. **Write a for loop to print numbers from 1 to 10.**"
      ],
      "metadata": {
        "id": "sHURE10a5ivG"
      }
    },
    {
      "cell_type": "code",
      "source": [
        "for i in range(1,11):\n",
        "  print(i)"
      ],
      "metadata": {
        "colab": {
          "base_uri": "https://localhost:8080/"
        },
        "id": "wOLa6xbT5boQ",
        "outputId": "52b023e3-442b-4021-f8f4-849a16470148"
      },
      "execution_count": 37,
      "outputs": [
        {
          "output_type": "stream",
          "name": "stdout",
          "text": [
            "1\n",
            "2\n",
            "3\n",
            "4\n",
            "5\n",
            "6\n",
            "7\n",
            "8\n",
            "9\n",
            "10\n"
          ]
        }
      ]
    },
    {
      "cell_type": "markdown",
      "source": [
        "13. **Write a Python program to find the sum of all even numbers between 1 and 50.**"
      ],
      "metadata": {
        "id": "cn5zfJgJ6hHi"
      }
    },
    {
      "cell_type": "code",
      "source": [
        "total = 0\n",
        "for i in range(1,51):\n",
        "  if (i % 2 == 0):\n",
        "    total += i\n",
        "print(f\"The sum of even numbers between 1 and 50 is : {total}\")"
      ],
      "metadata": {
        "colab": {
          "base_uri": "https://localhost:8080/"
        },
        "id": "tYlpdK-M6FPa",
        "outputId": "a778f130-036a-4ec2-9e4f-e832c2790c96"
      },
      "execution_count": 42,
      "outputs": [
        {
          "output_type": "stream",
          "name": "stdout",
          "text": [
            "The sum of even numbers between 1 and 50 is : 650\n"
          ]
        }
      ]
    },
    {
      "cell_type": "markdown",
      "source": [
        "14. **Write a program to reverse a string using a while loop.**"
      ],
      "metadata": {
        "id": "JCnqfAJM8F9u"
      }
    },
    {
      "cell_type": "code",
      "source": [
        "word = \"Lucky\"\n",
        "length = len(word)\n",
        "\n",
        "while(length > 0):\n",
        "  print(f\"{word[length-1]}\", end = \"\")\n",
        "  length -= 1"
      ],
      "metadata": {
        "colab": {
          "base_uri": "https://localhost:8080/"
        },
        "id": "6AMyExDo7Lio",
        "outputId": "30f81c61-b75e-45e4-a739-50797f83f528"
      },
      "execution_count": 48,
      "outputs": [
        {
          "output_type": "stream",
          "name": "stdout",
          "text": [
            "ykcuL"
          ]
        }
      ]
    },
    {
      "cell_type": "markdown",
      "source": [
        "15. **Write a Python program to calculate the factorial of a number provided by the user using a while loop.**"
      ],
      "metadata": {
        "id": "4w8UnLks-J02"
      }
    },
    {
      "cell_type": "code",
      "source": [
        "num1 = int(input(\"Enter a number : \"))\n",
        "num2= 1\n",
        "\n",
        "while(num1 > 0):\n",
        "  num2*=num1\n",
        "  num1-=1\n",
        "\n",
        "print(f\"The factorial of the number is : {num2}\")"
      ],
      "metadata": {
        "colab": {
          "base_uri": "https://localhost:8080/"
        },
        "id": "d4e8sqDS9y6G",
        "outputId": "cefc6eb5-3e22-47d1-b27e-42e5896e0799"
      },
      "execution_count": 53,
      "outputs": [
        {
          "output_type": "stream",
          "name": "stdout",
          "text": [
            "Enter a number : 5\n",
            "The factorial of the number is : 120\n"
          ]
        }
      ]
    },
    {
      "cell_type": "code",
      "source": [],
      "metadata": {
        "id": "3cpQHPuJ-7px"
      },
      "execution_count": null,
      "outputs": []
    }
  ]
}