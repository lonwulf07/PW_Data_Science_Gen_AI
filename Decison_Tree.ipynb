{
  "nbformat": 4,
  "nbformat_minor": 0,
  "metadata": {
    "colab": {
      "provenance": []
    },
    "kernelspec": {
      "name": "python3",
      "display_name": "Python 3"
    },
    "language_info": {
      "name": "python"
    }
  },
  "cells": [
    {
      "cell_type": "markdown",
      "source": [
        "# **Decision Tree**"
      ],
      "metadata": {
        "id": "oL-mD2G9O0ko"
      }
    },
    {
      "cell_type": "markdown",
      "source": [
        "# **Theoretical Questions**"
      ],
      "metadata": {
        "id": "eDt72IJzO46D"
      }
    },
    {
      "cell_type": "markdown",
      "source": [
        "1. **What is a Decision Tree, and how does it work?**\n",
        "\n",
        "Ans. A Decision Tree is a non-parametric supervised learning algorithm that is used for both classification and regression tasks. It essentially builds a model in the form of a tree structure, where each internal node represents a \"test\" on an attribute (feature), each branch represents the outcome of that test, and each leaf node represents a class label (for classification) or a numerical value (for regression).\n",
        "\n",
        "How it Works:\n",
        "  \n",
        "The fundamental idea behind a Decision Tree algorithm is to recursively split the dataset into smaller, more homogeneous subsets based on the values of the input features. This process continues until the subsets are \"pure\" enough (meaning most or all data points in that subset belong to the same class or have similar values for regression) or a stopping criterion is met.\n",
        "\n",
        "---"
      ],
      "metadata": {
        "id": "JBJHhSPHO8ID"
      }
    },
    {
      "cell_type": "markdown",
      "source": [
        "2. **What are impurity measures in Decision Trees?**\n",
        "\n",
        "Ans. In Decision Trees, impurity measures (also known as attribute selection measures) are crucial for determining how to best split a node. The goal of a decision tree is to create nodes that are as \"pure\" as possible, meaning that the majority (or all) of the data points within that node belong to the same class (for classification) or have very similar values (for regression).\n",
        "\n",
        "These impurity measures quantify the homogeneity or heterogeneity of a set of data points. When building a decision tree, the algorithm evaluates different potential splits based on various features and selects the split that results in the greatest reduction in impurity (or the highest \"information gain\").\n",
        "\n",
        "---"
      ],
      "metadata": {
        "id": "UC8-wrXSPI_I"
      }
    },
    {
      "cell_type": "markdown",
      "metadata": {
        "id": "1a2f55a7"
      },
      "source": [
        "3. **What is the mathematical formula for Gini Impurity?**\n",
        "\n",
        "Ans. The Gini Impurity for a dataset $D$ is calculated as:\n",
        "\n",
        "$$Gini(D) = 1 - \\sum_{i=1}^{c} (p_i)^2$$\n",
        "\n",
        "Where:\n",
        "- $c$ is the number of classes.\n",
        "- $p_i$ is the proportion of instances in dataset $D$ that belong to class $i$.\n",
        "\n",
        "The Gini Impurity of a split is calculated as the weighted average of the Gini Impurity of the resulting subsets. For a split on attribute $A$ that divides dataset $D$ into subsets $D_1, D_2, ..., D_k$, the Gini Impurity of the split is:\n",
        "\n",
        "$$Gini_{split}(D) = \\sum_{j=1}^{k} \\frac{|D_j|}{|D|} Gini(D_j)$$\n",
        "\n",
        "The goal is to choose the split that minimizes the Gini Impurity of the split.\n",
        "\n",
        "---"
      ]
    },
    {
      "cell_type": "markdown",
      "metadata": {
        "id": "d2554e01"
      },
      "source": [
        "4. **What is the mathematical formula for Entropy?**\n",
        "\n",
        "Ans. Entropy is another impurity measure used in Decision Trees, particularly in algorithms like ID3 and C4.5. It quantifies the amount of uncertainty or randomness in a dataset. A pure dataset (where all instances belong to the same class) has zero entropy, while a dataset with an equal distribution of classes has maximum entropy.\n",
        "\n",
        "The mathematical formula for Entropy for a dataset $D$ is:\n",
        "\n",
        "$$Entropy(D) = - \\sum_{i=1}^{c} p_i \\log_2(p_i)$$\n",
        "\n",
        "Where:\n",
        "- $c$ is the number of classes.\n",
        "- $p_i$ is the proportion of instances in dataset $D$ that belong to class $i$.\n",
        "\n",
        "The Information Gain of a split is calculated as the reduction in entropy after the split. For a split on attribute $A$ that divides dataset $D$ into subsets $D_1, D_2, ..., D_k$, the Information Gain is:\n",
        "\n",
        "$$Information Gain(D, A) = Entropy(D) - \\sum_{j=1}^{k} \\frac{|D_j|}{|D|} Entropy(D_j)$$\n",
        "\n",
        "The goal is to choose the split that maximizes the Information Gain.\n",
        "\n",
        "---"
      ]
    },
    {
      "cell_type": "markdown",
      "metadata": {
        "id": "1ee38df5"
      },
      "source": [
        "5. **What is Information Gain, and how is it used in Decision Trees?**\n",
        "\n",
        "Ans. Information Gain is a measure used in Decision Trees, particularly in algorithms like ID3 and C4.5, to determine the effectiveness of splitting a node based on a particular attribute. It quantifies the reduction in entropy (or uncertainty) achieved by splitting the dataset based on that attribute.\n",
        "\n",
        "How it is used:\n",
        "\n",
        "When building a Decision Tree, the algorithm evaluates different potential splits based on various features. For each potential split, it calculates the Information Gain. The split that results in the highest Information Gain is chosen as the best split for that node. This process is repeated recursively for each resulting child node until a stopping criterion is met. In essence, the algorithm greedily selects the splits that provide the most \"information\" about the target variable, leading to more homogeneous subsets and a more accurate tree.\n",
        "\n",
        "---"
      ]
    },
    {
      "cell_type": "markdown",
      "metadata": {
        "id": "1bb4e20e"
      },
      "source": [
        "6. **What is the difference between Gini Impurity and Entropy?**\n",
        "\n",
        "Ans. Both Gini Impurity and Entropy are measures used in Decision Trees to evaluate the homogeneity of a dataset and determine the best split. While they serve the same purpose, they differ in their mathematical formulas and interpretations:\n",
        "\n",
        "**Gini Impurity:**\n",
        "\n",
        "- **Formula:** $Gini(D) = 1 - \\sum_{i=1}^{c} (p_i)^2$\n",
        "- **Interpretation:** Gini Impurity measures the probability of incorrectly classifying a randomly chosen element in the dataset if it were randomly labeled according to the distribution of labels in the subset. A lower Gini Impurity indicates a more homogeneous dataset.\n",
        "- **Calculation:** It involves squaring the probabilities of each class.\n",
        "- **Bias:** It tends to isolate the most frequent class in its own branch of the tree.\n",
        "- **Computational Cost:** Generally computationally less expensive than Entropy as it doesn't involve logarithms.\n",
        "\n",
        "**Entropy:**\n",
        "\n",
        "- **Formula:** $Entropy(D) = - \\sum_{i=1}^{c} p_i \\log_2(p_i)$\n",
        "- **Interpretation:** Entropy measures the amount of uncertainty or randomness in a dataset. A lower Entropy indicates a more homogeneous dataset with less uncertainty.\n",
        "- **Calculation:** It involves the logarithm of the probabilities of each class.\n",
        "- **Bias:** It tends to produce a more balanced tree.\n",
        "- **Computational Cost:** Generally computationally more expensive than Gini Impurity due to the logarithm calculation.\n",
        "\n",
        "---"
      ]
    },
    {
      "cell_type": "markdown",
      "metadata": {
        "id": "75d531ed"
      },
      "source": [
        "7. **What is the mathematical explanation behind Decision Trees?**\n",
        "\n",
        "Ans. The mathematical basis of Decision Trees lies in recursively partitioning the feature space based on the values of the input features to create regions where the instances are as homogeneous as possible with respect to the target variable. This partitioning process is guided by impurity measures (like Gini Impurity or Entropy) and the concept of Information Gain.\n",
        "\n",
        "Here's a breakdown of the key mathematical aspects:\n",
        "\n",
        "**1. Impurity Measures (Gini Impurity and Entropy):**\n",
        "\n",
        "As discussed in previous questions, these measures quantify the homogeneity of a dataset. The lower the impurity, the more homogeneous the data is. Mathematically, they are calculated as:\n",
        "\n",
        "- **Gini Impurity:** $Gini(D) = 1 - \\sum_{i=1}^{c} (p_i)^2$\n",
        "- **Entropy:** $Entropy(D) = - \\sum_{i=1}^{c} p_i \\log_2(p_i)$\n",
        "\n",
        "The goal during tree construction is to minimize the impurity at each node after splitting.\n",
        "\n",
        "**2. Information Gain:**\n",
        "\n",
        "Information Gain measures the reduction in impurity achieved by splitting a node based on a particular attribute. It's calculated as the difference between the impurity of the parent node and the weighted average of the impurity of the child nodes:\n",
        "\n",
        "$$Information Gain(D, A) = Impurity(D) - \\sum_{j=1}^{k} \\frac{|D_j|}{|D|} Impurity(D_j)$$\n",
        "\n",
        "Where $Impurity$ can be either Gini Impurity or Entropy. The algorithm selects the attribute and split point that maximizes Information Gain. This greedy approach aims to find the most informative splits at each step.\n",
        "\n",
        "**3. Recursive Partitioning:**\n",
        "\n",
        "The process starts with the root node, which represents the entire dataset. The algorithm calculates the Information Gain for all possible splits on all features and selects the split that yields the highest Information Gain. This splits the dataset into subsets, and child nodes are created for each subset. The process is then recursively applied to each child node until a stopping criterion is met (e.g., the nodes are pure, a maximum depth is reached, or the number of instances in a node is below a threshold).\n",
        "\n",
        "**4. Split Points for Continuous Features:**\n",
        "\n",
        "For continuous features, the algorithm needs to find the optimal split point. This is typically done by considering all possible split points between consecutive unique values of the feature. For each potential split point, the data is divided into two subsets, and the Information Gain is calculated. The split point that maximizes Information Gain is chosen.\n",
        "\n",
        "**5. Prediction:**\n",
        "\n",
        "Once the tree is built, prediction is made by traversing the tree from the root node down to a leaf node. At each internal node, the decision is made based on the value of the corresponding feature. When a leaf node is reached, the prediction is made based on the class label (for classification) or the average value (for regression) of the instances in that leaf node.\n",
        "\n",
        "In essence, the mathematical foundation of Decision Trees involves using impurity measures and Information Gain to guide the recursive partitioning of the feature space, creating a tree structure that effectively separates instances belonging to different classes or having different target values.\n",
        "\n",
        "---"
      ]
    },
    {
      "cell_type": "markdown",
      "metadata": {
        "id": "d5dee0c3"
      },
      "source": [
        "8. **What is Pre-Pruning in Decision Trees?**\n",
        "\n",
        "Ans. Pre-pruning (also known as early stopping) is a technique used in Decision Trees to prevent overfitting by stopping the tree building process prematurely. Instead of growing the tree to its full potential (where all leaf nodes are pure or contain a single instance), pre-pruning sets criteria to stop splitting a node before it becomes perfectly pure.\n",
        "\n",
        "These criteria can include:\n",
        "\n",
        "- **Maximum depth of the tree:** Stop splitting once a certain depth is reached.\n",
        "- **Minimum number of instances required to split a node:** Prevent splitting nodes that have very few instances.\n",
        "- **Minimum number of instances required at a leaf node:** Ensure that leaf nodes have a certain number of instances.\n",
        "- **Maximum number of leaf nodes:** Limit the total number of leaf nodes in the tree.\n",
        "- **Impurity threshold:** Stop splitting if the impurity of a node is below a certain threshold.\n",
        "- **Lack of significant information gain:** Stop splitting if the gain from splitting a node is below a certain threshold.\n",
        "\n",
        "**How it works:**\n",
        "\n",
        "During the tree construction phase, at each node, the algorithm checks if any of the pre-pruning criteria are met. If a criterion is met, the splitting process for that node is stopped, and the node becomes a leaf node. The class label (for classification) or the average value (for regression) of the instances in that node is assigned to the leaf.\n",
        "\n",
        "**Advantages of Pre-Pruning:**\n",
        "\n",
        "- **Reduces overfitting:** By stopping the tree growth early, it prevents the tree from learning noise in the training data.\n",
        "- **Speeds up training:** Building a smaller tree is computationally less expensive.\n",
        "- **Simplifies the tree:** Results in a more interpretable tree.\n",
        "\n",
        "**Disadvantages of Pre-Pruning:**\n",
        "\n",
        "- **May underfit:** Stopping the tree growth too early might prevent the tree from capturing complex relationships in the data.\n",
        "- **Difficulty in choosing optimal parameters:** Determining the right pre-pruning parameters can be challenging and often requires experimentation or cross-validation.\n",
        "\n",
        "In essence, pre-pruning acts as a constraint on the tree building process, aiming to find a balance between capturing the underlying patterns in the data and avoiding the complexity that can lead to overfitting.\n",
        "\n",
        "---"
      ]
    },
    {
      "cell_type": "markdown",
      "metadata": {
        "id": "8bfacf84"
      },
      "source": [
        "9. **What is Post-Pruning in Decision Trees?**\n",
        "\n",
        "Ans. Post-pruning (also known as backward pruning) is a technique used in Decision Trees to prevent overfitting. Unlike pre-pruning, which stops the tree building process early, post-pruning allows the tree to grow to its full potential (until all leaf nodes are pure or contain a single instance) and then prunes (removes) branches that are not contributing significantly to the model's performance on unseen data.\n",
        "\n",
        "**How it works:**\n",
        "\n",
        "After the Decision Tree has been fully grown, post-pruning techniques evaluate the impact of removing certain branches or nodes. The goal is to remove parts of the tree that are likely capturing noise in the training data rather than the underlying patterns. This evaluation is typically done using a separate validation dataset or through cross-validation.\n",
        "\n",
        "Common post-pruning techniques include:\n",
        "\n",
        "- **Reduced Error Pruning:** This technique uses a validation set to evaluate the performance of the tree before and after pruning a branch. A branch is pruned if removing it does not increase the error on the validation set. This is a simple and effective method but requires a separate validation set.\n",
        "- **Cost-Complexity Pruning (Weakest Link Pruning):** This technique uses a complexity parameter ($\\alpha$) to penalize the number of leaf nodes. It finds a sequence of optimally pruned trees for different values of $\\alpha$ and selects the tree that performs best on a validation set or through cross-validation.\n",
        "\n",
        "**Advantages of Post-Pruning:**\n",
        "\n",
        "- **Often leads to better performance than pre-pruning:** Because it allows the tree to explore all possible splits first, it can potentially find better structures.\n",
        "- **Less prone to the \"horizon effect\":** Pre-pruning might stop the tree early and miss out on potentially good splits that would have appeared later in the tree. Post-pruning avoids this by building the full tree first.\n",
        "\n",
        "**Disadvantages of Post-Pruning:**\n",
        "\n",
        "- **Computationally more expensive:** Building a full tree and then pruning it takes more time than stopping early.\n",
        "- **Requires a separate validation set (for some techniques):** This reduces the amount of data available for training.\n",
        "\n",
        "In essence, post-pruning is a \"learn then prune\" approach that aims to find a simpler tree structure that generalizes well to new data by removing branches that are likely overfitting to the training data.\n",
        "\n",
        "* * *"
      ]
    },
    {
      "cell_type": "markdown",
      "metadata": {
        "id": "e4b4e4cd"
      },
      "source": [
        "10. **What is the difference between Pre-Pruning and Post-Pruning?**\n",
        "\n",
        "Ans. Both Pre-pruning and Post-pruning are techniques used to prevent overfitting in Decision Trees, but they differ in when and how they are applied:\n",
        "\n",
        "**Pre-Pruning (Early Stopping):**\n",
        "\n",
        "- **When applied:** During the tree building process.\n",
        "- **How it works:** It sets criteria to stop the tree growth prematurely before it becomes perfectly pure.\n",
        "- **Criteria examples:** Maximum depth, minimum instances per split/leaf, impurity threshold, lack of significant information gain.\n",
        "- **Advantages:** Faster training, simpler tree, reduces overfitting.\n",
        "- **Disadvantages:** May underfit, difficult to choose optimal parameters, can suffer from the \"horizon effect\" (stopping early and missing good future splits).\n",
        "\n",
        "**Post-Pruning (Backward Pruning):**\n",
        "\n",
        "- **When applied:** After the tree has been fully grown.\n",
        "- **How it works:** It prunes (removes) branches or nodes from the fully grown tree that are not contributing significantly to performance on unseen data.\n",
        "- **Techniques examples:** Reduced Error Pruning, Cost-Complexity Pruning.\n",
        "- **Advantages:** Often leads to better performance, less prone to the \"horizon effect.\"\n",
        "- **Disadvantages:** Computationally more expensive, may require a separate validation set.\n",
        "\n",
        "In essence, pre-pruning is a \"stop early\" approach, while post-pruning is a \"grow then cut\" approach. The choice between the two depends on factors like the size of the dataset, computational resources, and the desired trade-off between model complexity and performance.\n",
        "\n",
        "---"
      ]
    },
    {
      "cell_type": "markdown",
      "metadata": {
        "id": "fbe84c30"
      },
      "source": [
        "11. **What is a Decision Tree Regressor?**\n",
        "\n",
        "Ans. A Decision Tree Regressor is a supervised learning algorithm that uses a tree-like structure to predict a continuous target variable. It works similarly to a Decision Tree Classifier, but instead of predicting a class label at the leaf nodes, it predicts a numerical value.\n",
        "\n",
        "**How it Works:**\n",
        "\n",
        "The process of building a Decision Tree Regressor is similar to building a Decision Tree Classifier, but with differences in how splits are evaluated and how predictions are made at the leaf nodes:\n",
        "\n",
        "1. **Splitting Criteria:** Instead of impurity measures like Gini Impurity or Entropy (which are designed for classification), Decision Tree Regressors use measures that quantify the homogeneity of continuous values. Common splitting criteria include:\n",
        "    - **Mean Squared Error (MSE):** Measures the average of the squared differences between the actual and predicted values in a node. The goal is to minimize MSE after a split.\n",
        "    - **Mean Absolute Error (MAE):** Measures the average of the absolute differences between the actual and predicted values in a node. The goal is to minimize MAE after a split.\n",
        "\n",
        "2. **Recursive Partitioning:** The algorithm recursively splits the dataset into smaller subsets based on the values of the input features, just like in classification. The split that minimizes the chosen splitting criterion (e.g., MSE or MAE) is selected at each node.\n",
        "\n",
        "3. **Leaf Node Prediction:** Once a stopping criterion is met (e.g., maximum depth, minimum number of instances in a node), the node becomes a leaf node. The prediction for a new instance that falls into this leaf node is typically the average (mean) or median of the target variable values of the instances in that leaf node.\n",
        "\n",
        "---"
      ]
    },
    {
      "cell_type": "markdown",
      "source": [
        "12. **What are the advantages and disadvantages of Decision Trees?**\n",
        "\n",
        "Ans. **Advantages of Decision Tree Regressors:**\n",
        "\n",
        "- **Easy to understand and interpret:** The tree structure is intuitive.\n",
        "- **Can handle both numerical and categorical features:** Although categorical features may need to be encoded.\n",
        "- **Can capture non-linear relationships:** Can model complex relationships between features and the target variable.\n",
        "- **No need for feature scaling:** Decision trees are not sensitive to the scale of the features.\n",
        "\n",
        "**Disadvantages of Decision Tree Regressors:**\n",
        "\n",
        "- **Prone to overfitting:** Can create overly complex trees that fit the training data too well but generalize poorly to new data. Pruning techniques (pre-pruning and post-pruning) are used to mitigate this.\n",
        "- **Instability:** Small changes in the training data can lead to significantly different tree structures.\n",
        "- **Bias towards features with more levels:** Features with a larger number of unique values can be favored in the splitting process.\n",
        "\n",
        "In summary, a Decision Tree Regressor is a versatile algorithm for regression tasks that builds a tree by recursively partitioning the data based on features to predict a continuous target value at the leaf nodes.\n",
        "\n",
        "---"
      ],
      "metadata": {
        "id": "vQ8GUrJ_U38y"
      }
    },
    {
      "cell_type": "markdown",
      "metadata": {
        "id": "495b0947"
      },
      "source": [
        "13. **How does a Decision Tree handle missing values?**\n",
        "\n",
        "Ans. The way Decision Trees handle missing values can vary depending on the specific algorithm and implementation. Some common strategies include:\n",
        "\n",
        "- **Ignoring instances with missing values:** The simplest approach is to exclude instances that have missing values for the attribute being considered for a split. This can be problematic if there are many instances with missing values, as it can significantly reduce the size of the dataset used for splitting.\n",
        "\n",
        "- **Assigning missing values to the most frequent category or mean/median:** Missing categorical values can be assigned to the most frequent category in the node, while missing numerical values can be replaced with the mean or median of the existing values in the node. This is a simple imputation method but can introduce bias.\n",
        "\n",
        "- **Probabilistic assignment:** Missing values can be assigned to different branches of the split based on the probability distribution of the existing values in the node. For example, if a node is split based on a categorical feature and 70% of the non-missing instances have value 'A' and 30% have value 'B', an instance with a missing value for this feature might be sent down the 'A' branch with a probability of 0.7 and down the 'B' branch with a probability of 0.3.\n",
        "\n",
        "- **Surrogate Splits:** Some algorithms (like C4.5 and CART) use surrogate splits. If an instance has a missing value for the primary splitting attribute, the algorithm looks for a \"surrogate\" attribute that is highly correlated with the primary attribute and uses that surrogate attribute to decide which branch the instance should go down. This is a more sophisticated approach that tries to retain instances with missing values.\n",
        "\n",
        "- **Treating missing values as a separate category:** For categorical features, missing values can be treated as a distinct category.\n",
        "\n",
        "- **Algorithms that inherently handle missing values:** Some Decision Tree algorithms are designed to handle missing values directly without requiring explicit imputation. For example, in some implementations, when splitting on an attribute, instances with missing values for that attribute might be sent down both branches or a separate branch.\n",
        "\n",
        "The choice of method for handling missing values can impact the performance and structure of the Decision Tree. It's important to be aware of how the specific Decision Tree implementation you are using handles missing values and to consider appropriate pre-processing steps if necessary.\n",
        "\n",
        "---"
      ]
    },
    {
      "cell_type": "markdown",
      "metadata": {
        "id": "43fcbb28"
      },
      "source": [
        "14. **How does a Decision Tree handle categorical features?**\n",
        "\n",
        "Ans. Decision Trees can handle categorical features directly, but the specific approach depends on the algorithm and implementation. Here are common ways Decision Trees deal with categorical features:\n",
        "\n",
        "- **Binary Splits for Nominal Features:** For nominal (unordered) categorical features with multiple categories, the Decision Tree typically considers splitting the data into two subsets based on whether an instance belongs to a specific category or a set of categories. For example, if a feature is \"Color\" with categories \"Red\", \"Blue\", \"Green\", the tree might consider splits like \"Color is Red\" vs. \"Color is not Red\", or \"Color is {Red, Blue}\" vs. \"Color is {Green}\". The algorithm evaluates all possible binary splits and chooses the one that maximizes the information gain or minimizes impurity.\n",
        "\n",
        "- **Multi-way Splits (less common):** Some algorithms (like the original ID3) can create multi-way splits for nominal features, where each branch corresponds to a unique category of the feature. However, this can lead to very bushy trees and is not as common in modern implementations like CART (used in scikit-learn), which primarily uses binary splits.\n",
        "\n",
        "- **Handling Ordinal Features:** For ordinal (ordered) categorical features (e.g., \"Small\", \"Medium\", \"Large\"), the Decision Tree can maintain the order and consider splits based on thresholds, similar to how it handles numerical features. For example, it might split based on \"Size is Medium or Large\" vs. \"Size is Small\".\n",
        "\n",
        "- **Encoding Categorical Features:** In some cases, especially with implementations that don't natively handle categorical features with multiple categories efficiently (like the CART algorithm which prefers binary splits), you might need to encode categorical features before feeding them to the Decision Tree. Common encoding techniques include:\n",
        "    - **One-Hot Encoding:** Creates binary dummy variables for each category. This can increase the dimensionality of the data but is a common practice.\n",
        "    - **Label Encoding:** Assigns a unique integer to each category. This should generally only be used for ordinal features where the integer order reflects the category order, as it can introduce an artificial sense of order to nominal features that the tree might misinterpret.\n",
        "\n",
        "- **Algorithm-Specific Handling:** Different Decision Tree algorithms have different ways of handling categorical features. For example, C4.5 can handle multi-way splits and missing values more gracefully than the basic ID3 algorithm.\n",
        "\n",
        "In summary, while Decision Trees can work with categorical features, the exact method varies. Modern implementations often rely on binary splits for nominal features and may benefit from pre-processing techniques like one-hot encoding for features with a large number of categories.\n",
        "\n",
        "---"
      ]
    },
    {
      "cell_type": "markdown",
      "metadata": {
        "id": "f142011d"
      },
      "source": [
        "15. **What are some real-world applications of Decision Trees?**\n",
        "\n",
        "Ans. Decision Trees are versatile and widely used in various real-world applications across different domains due to their interpretability and ability to handle both classification and regression tasks. Here are some examples:\n",
        "\n",
        "- **Medical Diagnosis:** Decision Trees can be used to build models that help diagnose diseases based on patient symptoms, medical history, and test results.\n",
        "- **Credit Risk Assessment:** Banks and financial institutions use Decision Trees to assess the creditworthiness of loan applicants based on their financial information and historical data.\n",
        "- **Customer Relationship Management (CRM):** Decision Trees can help businesses analyze customer data to identify potential churners, segment customers, and personalize marketing campaigns.\n",
        "- **Fraud Detection:** Decision Trees are used to detect fraudulent transactions in various industries, including banking, insurance, and e-commerce, by identifying suspicious patterns in transaction data.\n",
        "- **Spam Filtering:** Decision Trees can be used to classify emails as spam or not spam based on the content and characteristics of the email.\n",
        "- **Drug Discovery:** Decision Trees can help researchers identify potential drug candidates by analyzing the properties of different compounds and their effects.\n",
        "- **Manufacturing and Quality Control:** Decision Trees can be used to identify the factors that contribute to defects in manufacturing processes and to build models for quality control.\n",
        "- **Recommendation Systems:** Decision Trees can be used in recommendation systems to predict user preferences and recommend products or content based on their past behavior and characteristics.\n",
        "- **Natural Language Processing (NLP):** Decision Trees can be used in various NLP tasks, such as sentiment analysis, text classification, and part-of-speech tagging.\n",
        "- **Image Recognition:** While deep learning is dominant in image recognition, Decision Trees can still be used in some image processing tasks, particularly in combination with other techniques.\n",
        "- **Ecological Modeling:** Decision Trees are used to model the distribution of species and predict the impact of environmental factors on ecosystems.\n",
        "- **Financial Market Analysis:** Decision Trees can be used to analyze financial data and predict stock prices or market trends.\n",
        "\n",
        "These are just a few examples, and the applications of Decision Trees continue to expand as more data becomes available and computational power increases. Their transparency and ease of understanding make them a valuable tool in many decision-making processes.\n",
        "\n",
        "---"
      ]
    },
    {
      "cell_type": "markdown",
      "source": [
        "# **Practical Questions**"
      ],
      "metadata": {
        "id": "_5fM_JruVTqI"
      }
    },
    {
      "cell_type": "markdown",
      "source": [
        "16. **Write a Python program to train a Decision Tree Classifier on the Iris dataset and print the model accuracy.**"
      ],
      "metadata": {
        "id": "uwLTVvgBVW9n"
      }
    },
    {
      "cell_type": "code",
      "metadata": {
        "colab": {
          "base_uri": "https://localhost:8080/"
        },
        "id": "c2f8d44f",
        "outputId": "a24076f1-9b3f-4b4d-d3f9-2c18c7a26900"
      },
      "source": [
        "from sklearn.datasets import load_iris\n",
        "from sklearn.tree import DecisionTreeClassifier\n",
        "from sklearn.model_selection import train_test_split\n",
        "from sklearn.metrics import accuracy_score\n",
        "\n",
        "# Load the Iris dataset\n",
        "iris = load_iris()\n",
        "X = iris.data\n",
        "y = iris.target\n",
        "\n",
        "# Split the dataset into training and testing sets\n",
        "X_train, X_test, y_train, y_test = train_test_split(X, y, test_size=0.3, random_state=42)\n",
        "\n",
        "# Create a Decision Tree Classifier\n",
        "clf = DecisionTreeClassifier()\n",
        "\n",
        "# Train the classifier\n",
        "clf.fit(X_train, y_train)\n",
        "\n",
        "# Make predictions on the test set\n",
        "y_pred = clf.predict(X_test)\n",
        "\n",
        "# Calculate and print the accuracy\n",
        "accuracy = accuracy_score(y_test, y_pred)\n",
        "print(f\"Accuracy of the Decision Tree Classifier on the Iris dataset: {accuracy:.2f}\")"
      ],
      "execution_count": 1,
      "outputs": [
        {
          "output_type": "stream",
          "name": "stdout",
          "text": [
            "Accuracy of the Decision Tree Classifier on the Iris dataset: 1.00\n"
          ]
        }
      ]
    },
    {
      "cell_type": "markdown",
      "source": [
        "17. **Write a Python program to train a Decision Tree Classifier using Gini Impurity as the criterion and print the feature importances.**"
      ],
      "metadata": {
        "id": "NzEXzemPVr6O"
      }
    },
    {
      "cell_type": "code",
      "metadata": {
        "colab": {
          "base_uri": "https://localhost:8080/"
        },
        "id": "ac2a251a",
        "outputId": "fbfec757-4632-4b6b-e25e-b2fb8821a377"
      },
      "source": [
        "from sklearn.datasets import load_iris\n",
        "from sklearn.tree import DecisionTreeClassifier\n",
        "from sklearn.model_selection import train_test_split\n",
        "from sklearn.metrics import accuracy_score\n",
        "\n",
        "# Load the Iris dataset\n",
        "iris = load_iris()\n",
        "X = iris.data\n",
        "y = iris.target\n",
        "\n",
        "# Split the dataset into training and testing sets\n",
        "X_train, X_test, y_train, y_test = train_test_split(X, y, test_size=0.3, random_state=42)\n",
        "\n",
        "# Create a Decision Tree Classifier using Gini Impurity\n",
        "clf_gini = DecisionTreeClassifier(criterion='gini', random_state=42)\n",
        "\n",
        "# Train the classifier\n",
        "clf_gini.fit(X_train, y_train)\n",
        "\n",
        "# Print feature importances\n",
        "print(\"Feature Importances (Gini Impurity):\")\n",
        "for i, importance in enumerate(clf_gini.feature_importances_):\n",
        "    print(f\"{iris.feature_names[i]}: {importance:.4f}\")\n",
        "\n",
        "# Optional: Make predictions and print accuracy (similar to previous example)\n",
        "# y_pred_gini = clf_gini.predict(X_test)\n",
        "# accuracy_gini = accuracy_score(y_test, y_pred_gini)\n",
        "# print(f\"\\nAccuracy of the Decision Tree Classifier (Gini) on the Iris dataset: {accuracy_gini:.2f}\")"
      ],
      "execution_count": 2,
      "outputs": [
        {
          "output_type": "stream",
          "name": "stdout",
          "text": [
            "Feature Importances (Gini Impurity):\n",
            "sepal length (cm): 0.0000\n",
            "sepal width (cm): 0.0191\n",
            "petal length (cm): 0.8933\n",
            "petal width (cm): 0.0876\n"
          ]
        }
      ]
    },
    {
      "cell_type": "markdown",
      "source": [
        "18 **Write a Python program to train a Decision Tree Classifier using Entropy as the splitting criterion and print the model accuracy.**"
      ],
      "metadata": {
        "id": "8NaXWri7V28-"
      }
    },
    {
      "cell_type": "code",
      "metadata": {
        "colab": {
          "base_uri": "https://localhost:8080/"
        },
        "id": "9f82e437",
        "outputId": "47e0e538-3988-4d3e-e028-be6b6314d626"
      },
      "source": [
        "from sklearn.datasets import load_iris\n",
        "from sklearn.tree import DecisionTreeClassifier\n",
        "from sklearn.model_selection import train_test_split\n",
        "from sklearn.metrics import accuracy_score\n",
        "\n",
        "# Load the Iris dataset\n",
        "iris = load_iris()\n",
        "X = iris.data\n",
        "y = iris.target\n",
        "\n",
        "# Split the dataset into training and testing sets\n",
        "X_train, X_test, y_train, y_test = train_test_split(X, y, test_size=0.3, random_state=42)\n",
        "\n",
        "# Create a Decision Tree Classifier using Entropy\n",
        "clf_entropy = DecisionTreeClassifier(criterion='entropy', random_state=42)\n",
        "\n",
        "# Train the classifier\n",
        "clf_entropy.fit(X_train, y_train)\n",
        "\n",
        "# Make predictions on the test set\n",
        "y_pred_entropy = clf_entropy.predict(X_test)\n",
        "\n",
        "# Calculate and print the accuracy\n",
        "accuracy_entropy = accuracy_score(y_test, y_pred_entropy)\n",
        "print(f\"Accuracy of the Decision Tree Classifier (Entropy) on the Iris dataset: {accuracy_entropy:.2f}\")\n",
        "\n",
        "# Optional: Print feature importances (similar to previous example)\n",
        "# print(\"\\nFeature Importances (Entropy):\")\n",
        "# for i, importance in enumerate(clf_entropy.feature_importances_):\n",
        "#     print(f\"{iris.feature_names[i]}: {importance:.4f}\")"
      ],
      "execution_count": 3,
      "outputs": [
        {
          "output_type": "stream",
          "name": "stdout",
          "text": [
            "Accuracy of the Decision Tree Classifier (Entropy) on the Iris dataset: 0.98\n"
          ]
        }
      ]
    },
    {
      "cell_type": "markdown",
      "source": [
        "19. **Write a Python program to train a Decision Tree Regressor on a housing dataset and evaluate using Mean Squared Error (MSE).**"
      ],
      "metadata": {
        "id": "n4CXjBjHWZwm"
      }
    },
    {
      "cell_type": "code",
      "metadata": {
        "colab": {
          "base_uri": "https://localhost:8080/"
        },
        "id": "b30fadd8",
        "outputId": "fc86a2a8-21cb-41e5-f4a4-a6b6cfb364ba"
      },
      "source": [
        "from sklearn.datasets import fetch_california_housing\n",
        "from sklearn.tree import DecisionTreeRegressor\n",
        "from sklearn.model_selection import train_test_split\n",
        "from sklearn.metrics import mean_squared_error\n",
        "\n",
        "# Load the California housing dataset\n",
        "housing = fetch_california_housing()\n",
        "X = housing.data\n",
        "y = housing.target\n",
        "\n",
        "# Split the dataset into training and testing sets\n",
        "X_train, X_test, y_train, y_test = train_test_split(X, y, test_size=0.3, random_state=42)\n",
        "\n",
        "# Create a Decision Tree Regressor\n",
        "regressor = DecisionTreeRegressor(random_state=42)\n",
        "\n",
        "# Train the regressor\n",
        "regressor.fit(X_train, y_train)\n",
        "\n",
        "# Make predictions on the test set\n",
        "y_pred = regressor.predict(X_test)\n",
        "\n",
        "# Calculate and print the Mean Squared Error\n",
        "mse = mean_squared_error(y_test, y_pred)\n",
        "print(f\"Mean Squared Error (MSE) of the Decision Tree Regressor on the housing dataset: {mse:.2f}\")"
      ],
      "execution_count": 4,
      "outputs": [
        {
          "output_type": "stream",
          "name": "stdout",
          "text": [
            "Mean Squared Error (MSE) of the Decision Tree Regressor on the housing dataset: 0.53\n"
          ]
        }
      ]
    },
    {
      "cell_type": "markdown",
      "source": [
        "20. **Write a Python program to train a Decision Tree Classifier and visualize the tree using graphviz.**"
      ],
      "metadata": {
        "id": "JDD3TxPpZK66"
      }
    },
    {
      "cell_type": "code",
      "metadata": {
        "colab": {
          "base_uri": "https://localhost:8080/",
          "height": 1000
        },
        "id": "c514f616",
        "outputId": "1cc6257c-d702-4a15-ba15-05f3e3a2fbbd"
      },
      "source": [
        "from sklearn.datasets import load_iris\n",
        "from sklearn.tree import DecisionTreeClassifier, export_graphviz\n",
        "from sklearn.model_selection import train_test_split\n",
        "import graphviz\n",
        "\n",
        "# Load the Iris dataset\n",
        "iris = load_iris()\n",
        "X = iris.data\n",
        "y = iris.target\n",
        "\n",
        "# Split the dataset into training and testing sets (optional, but good practice)\n",
        "X_train, X_test, y_train, y_test = train_test_split(X, y, test_size=0.3, random_state=42)\n",
        "\n",
        "# Create a Decision Tree Classifier\n",
        "clf = DecisionTreeClassifier(random_state=42)\n",
        "\n",
        "# Train the classifier\n",
        "clf.fit(X_train, y_train)\n",
        "\n",
        "# Export the decision tree to a DOT file\n",
        "dot_data = export_graphviz(clf, out_file=None,\n",
        "                           feature_names=iris.feature_names,\n",
        "                           class_names=iris.target_names,\n",
        "                           filled=True, rounded=True,\n",
        "                           special_characters=True)\n",
        "\n",
        "# Create a graph from the DOT data\n",
        "graph = graphviz.Source(dot_data)\n",
        "\n",
        "# Display the graph\n",
        "display(graph)"
      ],
      "execution_count": 6,
      "outputs": [
        {
          "output_type": "display_data",
          "data": {
            "image/svg+xml": "<?xml version=\"1.0\" encoding=\"UTF-8\" standalone=\"no\"?>\n<!DOCTYPE svg PUBLIC \"-//W3C//DTD SVG 1.1//EN\"\n \"http://www.w3.org/Graphics/SVG/1.1/DTD/svg11.dtd\">\n<!-- Generated by graphviz version 2.43.0 (0)\n -->\n<!-- Title: Tree Pages: 1 -->\n<svg width=\"749pt\" height=\"790pt\"\n viewBox=\"0.00 0.00 749.00 790.00\" xmlns=\"http://www.w3.org/2000/svg\" xmlns:xlink=\"http://www.w3.org/1999/xlink\">\n<g id=\"graph0\" class=\"graph\" transform=\"scale(1 1) rotate(0) translate(4 786)\">\n<title>Tree</title>\n<polygon fill=\"white\" stroke=\"transparent\" points=\"-4,4 -4,-786 745,-786 745,4 -4,4\"/>\n<!-- 0 -->\n<g id=\"node1\" class=\"node\">\n<title>0</title>\n<path fill=\"#ffffff\" stroke=\"black\" d=\"M265,-782C265,-782 130,-782 130,-782 124,-782 118,-776 118,-770 118,-770 118,-711 118,-711 118,-705 124,-699 130,-699 130,-699 265,-699 265,-699 271,-699 277,-705 277,-711 277,-711 277,-770 277,-770 277,-776 271,-782 265,-782\"/>\n<text text-anchor=\"start\" x=\"126\" y=\"-766.8\" font-family=\"Helvetica,sans-Serif\" font-size=\"14.00\">petal length (cm) ≤ 2.45</text>\n<text text-anchor=\"start\" x=\"162\" y=\"-751.8\" font-family=\"Helvetica,sans-Serif\" font-size=\"14.00\">gini = 0.664</text>\n<text text-anchor=\"start\" x=\"152.5\" y=\"-736.8\" font-family=\"Helvetica,sans-Serif\" font-size=\"14.00\">samples = 105</text>\n<text text-anchor=\"start\" x=\"139.5\" y=\"-721.8\" font-family=\"Helvetica,sans-Serif\" font-size=\"14.00\">value = [31, 37, 37]</text>\n<text text-anchor=\"start\" x=\"145\" y=\"-706.8\" font-family=\"Helvetica,sans-Serif\" font-size=\"14.00\">class = versicolor</text>\n</g>\n<!-- 1 -->\n<g id=\"node2\" class=\"node\">\n<title>1</title>\n<path fill=\"#e58139\" stroke=\"black\" d=\"M166,-655.5C166,-655.5 73,-655.5 73,-655.5 67,-655.5 61,-649.5 61,-643.5 61,-643.5 61,-599.5 61,-599.5 61,-593.5 67,-587.5 73,-587.5 73,-587.5 166,-587.5 166,-587.5 172,-587.5 178,-593.5 178,-599.5 178,-599.5 178,-643.5 178,-643.5 178,-649.5 172,-655.5 166,-655.5\"/>\n<text text-anchor=\"start\" x=\"91.5\" y=\"-640.3\" font-family=\"Helvetica,sans-Serif\" font-size=\"14.00\">gini = 0.0</text>\n<text text-anchor=\"start\" x=\"78.5\" y=\"-625.3\" font-family=\"Helvetica,sans-Serif\" font-size=\"14.00\">samples = 31</text>\n<text text-anchor=\"start\" x=\"69\" y=\"-610.3\" font-family=\"Helvetica,sans-Serif\" font-size=\"14.00\">value = [31, 0, 0]</text>\n<text text-anchor=\"start\" x=\"76\" y=\"-595.3\" font-family=\"Helvetica,sans-Serif\" font-size=\"14.00\">class = setosa</text>\n</g>\n<!-- 0&#45;&gt;1 -->\n<g id=\"edge1\" class=\"edge\">\n<title>0&#45;&gt;1</title>\n<path fill=\"none\" stroke=\"black\" d=\"M170.44,-698.91C162.93,-687.65 154.78,-675.42 147.24,-664.11\"/>\n<polygon fill=\"black\" stroke=\"black\" points=\"150.07,-662.05 141.61,-655.67 144.25,-665.93 150.07,-662.05\"/>\n<text text-anchor=\"middle\" x=\"136.71\" y=\"-676.48\" font-family=\"Helvetica,sans-Serif\" font-size=\"14.00\">True</text>\n</g>\n<!-- 2 -->\n<g id=\"node3\" class=\"node\">\n<title>2</title>\n<path fill=\"#ffffff\" stroke=\"black\" d=\"M343,-663C343,-663 208,-663 208,-663 202,-663 196,-657 196,-651 196,-651 196,-592 196,-592 196,-586 202,-580 208,-580 208,-580 343,-580 343,-580 349,-580 355,-586 355,-592 355,-592 355,-651 355,-651 355,-657 349,-663 343,-663\"/>\n<text text-anchor=\"start\" x=\"204\" y=\"-647.8\" font-family=\"Helvetica,sans-Serif\" font-size=\"14.00\">petal length (cm) ≤ 4.75</text>\n<text text-anchor=\"start\" x=\"247.5\" y=\"-632.8\" font-family=\"Helvetica,sans-Serif\" font-size=\"14.00\">gini = 0.5</text>\n<text text-anchor=\"start\" x=\"234.5\" y=\"-617.8\" font-family=\"Helvetica,sans-Serif\" font-size=\"14.00\">samples = 74</text>\n<text text-anchor=\"start\" x=\"221\" y=\"-602.8\" font-family=\"Helvetica,sans-Serif\" font-size=\"14.00\">value = [0, 37, 37]</text>\n<text text-anchor=\"start\" x=\"223\" y=\"-587.8\" font-family=\"Helvetica,sans-Serif\" font-size=\"14.00\">class = versicolor</text>\n</g>\n<!-- 0&#45;&gt;2 -->\n<g id=\"edge2\" class=\"edge\">\n<title>0&#45;&gt;2</title>\n<path fill=\"none\" stroke=\"black\" d=\"M224.56,-698.91C230.43,-690.1 236.7,-680.7 242.76,-671.61\"/>\n<polygon fill=\"black\" stroke=\"black\" points=\"245.85,-673.28 248.49,-663.02 240.03,-669.4 245.85,-673.28\"/>\n<text text-anchor=\"middle\" x=\"253.39\" y=\"-683.84\" font-family=\"Helvetica,sans-Serif\" font-size=\"14.00\">False</text>\n</g>\n<!-- 3 -->\n<g id=\"node4\" class=\"node\">\n<title>3</title>\n<path fill=\"#3fe685\" stroke=\"black\" d=\"M252.5,-544C252.5,-544 130.5,-544 130.5,-544 124.5,-544 118.5,-538 118.5,-532 118.5,-532 118.5,-473 118.5,-473 118.5,-467 124.5,-461 130.5,-461 130.5,-461 252.5,-461 252.5,-461 258.5,-461 264.5,-467 264.5,-473 264.5,-473 264.5,-532 264.5,-532 264.5,-538 258.5,-544 252.5,-544\"/>\n<text text-anchor=\"start\" x=\"126.5\" y=\"-528.8\" font-family=\"Helvetica,sans-Serif\" font-size=\"14.00\">petal width (cm) ≤ 1.6</text>\n<text text-anchor=\"start\" x=\"156\" y=\"-513.8\" font-family=\"Helvetica,sans-Serif\" font-size=\"14.00\">gini = 0.059</text>\n<text text-anchor=\"start\" x=\"150.5\" y=\"-498.8\" font-family=\"Helvetica,sans-Serif\" font-size=\"14.00\">samples = 33</text>\n<text text-anchor=\"start\" x=\"141\" y=\"-483.8\" font-family=\"Helvetica,sans-Serif\" font-size=\"14.00\">value = [0, 32, 1]</text>\n<text text-anchor=\"start\" x=\"139\" y=\"-468.8\" font-family=\"Helvetica,sans-Serif\" font-size=\"14.00\">class = versicolor</text>\n</g>\n<!-- 2&#45;&gt;3 -->\n<g id=\"edge3\" class=\"edge\">\n<title>2&#45;&gt;3</title>\n<path fill=\"none\" stroke=\"black\" d=\"M246.36,-579.91C239.97,-571.01 233.15,-561.51 226.56,-552.33\"/>\n<polygon fill=\"black\" stroke=\"black\" points=\"229.27,-550.1 220.59,-544.02 223.58,-554.19 229.27,-550.1\"/>\n</g>\n<!-- 6 -->\n<g id=\"node7\" class=\"node\">\n<title>6</title>\n<path fill=\"#9254e9\" stroke=\"black\" d=\"M424.5,-544C424.5,-544 294.5,-544 294.5,-544 288.5,-544 282.5,-538 282.5,-532 282.5,-532 282.5,-473 282.5,-473 282.5,-467 288.5,-461 294.5,-461 294.5,-461 424.5,-461 424.5,-461 430.5,-461 436.5,-467 436.5,-473 436.5,-473 436.5,-532 436.5,-532 436.5,-538 430.5,-544 424.5,-544\"/>\n<text text-anchor=\"start\" x=\"290.5\" y=\"-528.8\" font-family=\"Helvetica,sans-Serif\" font-size=\"14.00\">petal width (cm) ≤ 1.75</text>\n<text text-anchor=\"start\" x=\"324\" y=\"-513.8\" font-family=\"Helvetica,sans-Serif\" font-size=\"14.00\">gini = 0.214</text>\n<text text-anchor=\"start\" x=\"318.5\" y=\"-498.8\" font-family=\"Helvetica,sans-Serif\" font-size=\"14.00\">samples = 41</text>\n<text text-anchor=\"start\" x=\"309\" y=\"-483.8\" font-family=\"Helvetica,sans-Serif\" font-size=\"14.00\">value = [0, 5, 36]</text>\n<text text-anchor=\"start\" x=\"311\" y=\"-468.8\" font-family=\"Helvetica,sans-Serif\" font-size=\"14.00\">class = virginica</text>\n</g>\n<!-- 2&#45;&gt;6 -->\n<g id=\"edge6\" class=\"edge\">\n<title>2&#45;&gt;6</title>\n<path fill=\"none\" stroke=\"black\" d=\"M304.64,-579.91C311.03,-571.01 317.85,-561.51 324.44,-552.33\"/>\n<polygon fill=\"black\" stroke=\"black\" points=\"327.42,-554.19 330.41,-544.02 321.73,-550.1 327.42,-554.19\"/>\n</g>\n<!-- 4 -->\n<g id=\"node5\" class=\"node\">\n<title>4</title>\n<path fill=\"#39e581\" stroke=\"black\" d=\"M109,-417.5C109,-417.5 12,-417.5 12,-417.5 6,-417.5 0,-411.5 0,-405.5 0,-405.5 0,-361.5 0,-361.5 0,-355.5 6,-349.5 12,-349.5 12,-349.5 109,-349.5 109,-349.5 115,-349.5 121,-355.5 121,-361.5 121,-361.5 121,-405.5 121,-405.5 121,-411.5 115,-417.5 109,-417.5\"/>\n<text text-anchor=\"start\" x=\"32.5\" y=\"-402.3\" font-family=\"Helvetica,sans-Serif\" font-size=\"14.00\">gini = 0.0</text>\n<text text-anchor=\"start\" x=\"19.5\" y=\"-387.3\" font-family=\"Helvetica,sans-Serif\" font-size=\"14.00\">samples = 32</text>\n<text text-anchor=\"start\" x=\"10\" y=\"-372.3\" font-family=\"Helvetica,sans-Serif\" font-size=\"14.00\">value = [0, 32, 0]</text>\n<text text-anchor=\"start\" x=\"8\" y=\"-357.3\" font-family=\"Helvetica,sans-Serif\" font-size=\"14.00\">class = versicolor</text>\n</g>\n<!-- 3&#45;&gt;4 -->\n<g id=\"edge4\" class=\"edge\">\n<title>3&#45;&gt;4</title>\n<path fill=\"none\" stroke=\"black\" d=\"M146.05,-460.91C132.83,-449.1 118.4,-436.22 105.23,-424.45\"/>\n<polygon fill=\"black\" stroke=\"black\" points=\"107.43,-421.72 97.64,-417.67 102.76,-426.94 107.43,-421.72\"/>\n</g>\n<!-- 5 -->\n<g id=\"node6\" class=\"node\">\n<title>5</title>\n<path fill=\"#8139e5\" stroke=\"black\" d=\"M240,-417.5C240,-417.5 151,-417.5 151,-417.5 145,-417.5 139,-411.5 139,-405.5 139,-405.5 139,-361.5 139,-361.5 139,-355.5 145,-349.5 151,-349.5 151,-349.5 240,-349.5 240,-349.5 246,-349.5 252,-355.5 252,-361.5 252,-361.5 252,-405.5 252,-405.5 252,-411.5 246,-417.5 240,-417.5\"/>\n<text text-anchor=\"start\" x=\"167.5\" y=\"-402.3\" font-family=\"Helvetica,sans-Serif\" font-size=\"14.00\">gini = 0.0</text>\n<text text-anchor=\"start\" x=\"158\" y=\"-387.3\" font-family=\"Helvetica,sans-Serif\" font-size=\"14.00\">samples = 1</text>\n<text text-anchor=\"start\" x=\"148.5\" y=\"-372.3\" font-family=\"Helvetica,sans-Serif\" font-size=\"14.00\">value = [0, 0, 1]</text>\n<text text-anchor=\"start\" x=\"147\" y=\"-357.3\" font-family=\"Helvetica,sans-Serif\" font-size=\"14.00\">class = virginica</text>\n</g>\n<!-- 3&#45;&gt;5 -->\n<g id=\"edge5\" class=\"edge\">\n<title>3&#45;&gt;5</title>\n<path fill=\"none\" stroke=\"black\" d=\"M192.89,-460.91C193.25,-450.2 193.65,-438.62 194.02,-427.78\"/>\n<polygon fill=\"black\" stroke=\"black\" points=\"197.52,-427.78 194.37,-417.67 190.53,-427.54 197.52,-427.78\"/>\n</g>\n<!-- 7 -->\n<g id=\"node8\" class=\"node\">\n<title>7</title>\n<path fill=\"#ffffff\" stroke=\"black\" d=\"M424,-425C424,-425 289,-425 289,-425 283,-425 277,-419 277,-413 277,-413 277,-354 277,-354 277,-348 283,-342 289,-342 289,-342 424,-342 424,-342 430,-342 436,-348 436,-354 436,-354 436,-413 436,-413 436,-419 430,-425 424,-425\"/>\n<text text-anchor=\"start\" x=\"285\" y=\"-409.8\" font-family=\"Helvetica,sans-Serif\" font-size=\"14.00\">petal length (cm) ≤ 4.95</text>\n<text text-anchor=\"start\" x=\"328.5\" y=\"-394.8\" font-family=\"Helvetica,sans-Serif\" font-size=\"14.00\">gini = 0.5</text>\n<text text-anchor=\"start\" x=\"319\" y=\"-379.8\" font-family=\"Helvetica,sans-Serif\" font-size=\"14.00\">samples = 8</text>\n<text text-anchor=\"start\" x=\"309.5\" y=\"-364.8\" font-family=\"Helvetica,sans-Serif\" font-size=\"14.00\">value = [0, 4, 4]</text>\n<text text-anchor=\"start\" x=\"304\" y=\"-349.8\" font-family=\"Helvetica,sans-Serif\" font-size=\"14.00\">class = versicolor</text>\n</g>\n<!-- 6&#45;&gt;7 -->\n<g id=\"edge7\" class=\"edge\">\n<title>6&#45;&gt;7</title>\n<path fill=\"none\" stroke=\"black\" d=\"M358.46,-460.91C358.25,-452.56 358.02,-443.67 357.8,-435.02\"/>\n<polygon fill=\"black\" stroke=\"black\" points=\"361.29,-434.93 357.54,-425.02 354.3,-435.11 361.29,-434.93\"/>\n</g>\n<!-- 14 -->\n<g id=\"node15\" class=\"node\">\n<title>14</title>\n<path fill=\"#853fe6\" stroke=\"black\" d=\"M601,-425C601,-425 466,-425 466,-425 460,-425 454,-419 454,-413 454,-413 454,-354 454,-354 454,-348 460,-342 466,-342 466,-342 601,-342 601,-342 607,-342 613,-348 613,-354 613,-354 613,-413 613,-413 613,-419 607,-425 601,-425\"/>\n<text text-anchor=\"start\" x=\"462\" y=\"-409.8\" font-family=\"Helvetica,sans-Serif\" font-size=\"14.00\">petal length (cm) ≤ 4.85</text>\n<text text-anchor=\"start\" x=\"498\" y=\"-394.8\" font-family=\"Helvetica,sans-Serif\" font-size=\"14.00\">gini = 0.059</text>\n<text text-anchor=\"start\" x=\"492.5\" y=\"-379.8\" font-family=\"Helvetica,sans-Serif\" font-size=\"14.00\">samples = 33</text>\n<text text-anchor=\"start\" x=\"483\" y=\"-364.8\" font-family=\"Helvetica,sans-Serif\" font-size=\"14.00\">value = [0, 1, 32]</text>\n<text text-anchor=\"start\" x=\"485\" y=\"-349.8\" font-family=\"Helvetica,sans-Serif\" font-size=\"14.00\">class = virginica</text>\n</g>\n<!-- 6&#45;&gt;14 -->\n<g id=\"edge14\" class=\"edge\">\n<title>6&#45;&gt;14</title>\n<path fill=\"none\" stroke=\"black\" d=\"M419.87,-460.91C434.31,-451.2 449.83,-440.76 464.63,-430.81\"/>\n<polygon fill=\"black\" stroke=\"black\" points=\"466.89,-433.51 473.24,-425.02 462.99,-427.7 466.89,-433.51\"/>\n</g>\n<!-- 8 -->\n<g id=\"node9\" class=\"node\">\n<title>8</title>\n<path fill=\"#39e581\" stroke=\"black\" d=\"M252,-298.5C252,-298.5 155,-298.5 155,-298.5 149,-298.5 143,-292.5 143,-286.5 143,-286.5 143,-242.5 143,-242.5 143,-236.5 149,-230.5 155,-230.5 155,-230.5 252,-230.5 252,-230.5 258,-230.5 264,-236.5 264,-242.5 264,-242.5 264,-286.5 264,-286.5 264,-292.5 258,-298.5 252,-298.5\"/>\n<text text-anchor=\"start\" x=\"175.5\" y=\"-283.3\" font-family=\"Helvetica,sans-Serif\" font-size=\"14.00\">gini = 0.0</text>\n<text text-anchor=\"start\" x=\"166\" y=\"-268.3\" font-family=\"Helvetica,sans-Serif\" font-size=\"14.00\">samples = 2</text>\n<text text-anchor=\"start\" x=\"156.5\" y=\"-253.3\" font-family=\"Helvetica,sans-Serif\" font-size=\"14.00\">value = [0, 2, 0]</text>\n<text text-anchor=\"start\" x=\"151\" y=\"-238.3\" font-family=\"Helvetica,sans-Serif\" font-size=\"14.00\">class = versicolor</text>\n</g>\n<!-- 7&#45;&gt;8 -->\n<g id=\"edge8\" class=\"edge\">\n<title>7&#45;&gt;8</title>\n<path fill=\"none\" stroke=\"black\" d=\"M303.42,-341.91C287.69,-329.88 270.5,-316.73 254.88,-304.79\"/>\n<polygon fill=\"black\" stroke=\"black\" points=\"256.94,-301.96 246.87,-298.67 252.69,-307.52 256.94,-301.96\"/>\n</g>\n<!-- 9 -->\n<g id=\"node10\" class=\"node\">\n<title>9</title>\n<path fill=\"#c09cf2\" stroke=\"black\" d=\"M424.5,-306C424.5,-306 294.5,-306 294.5,-306 288.5,-306 282.5,-300 282.5,-294 282.5,-294 282.5,-235 282.5,-235 282.5,-229 288.5,-223 294.5,-223 294.5,-223 424.5,-223 424.5,-223 430.5,-223 436.5,-229 436.5,-235 436.5,-235 436.5,-294 436.5,-294 436.5,-300 430.5,-306 424.5,-306\"/>\n<text text-anchor=\"start\" x=\"290.5\" y=\"-290.8\" font-family=\"Helvetica,sans-Serif\" font-size=\"14.00\">petal width (cm) ≤ 1.55</text>\n<text text-anchor=\"start\" x=\"324\" y=\"-275.8\" font-family=\"Helvetica,sans-Serif\" font-size=\"14.00\">gini = 0.444</text>\n<text text-anchor=\"start\" x=\"322\" y=\"-260.8\" font-family=\"Helvetica,sans-Serif\" font-size=\"14.00\">samples = 6</text>\n<text text-anchor=\"start\" x=\"312.5\" y=\"-245.8\" font-family=\"Helvetica,sans-Serif\" font-size=\"14.00\">value = [0, 2, 4]</text>\n<text text-anchor=\"start\" x=\"311\" y=\"-230.8\" font-family=\"Helvetica,sans-Serif\" font-size=\"14.00\">class = virginica</text>\n</g>\n<!-- 7&#45;&gt;9 -->\n<g id=\"edge9\" class=\"edge\">\n<title>7&#45;&gt;9</title>\n<path fill=\"none\" stroke=\"black\" d=\"M357.54,-341.91C357.75,-333.56 357.98,-324.67 358.2,-316.02\"/>\n<polygon fill=\"black\" stroke=\"black\" points=\"361.7,-316.11 358.46,-306.02 354.71,-315.93 361.7,-316.11\"/>\n</g>\n<!-- 10 -->\n<g id=\"node11\" class=\"node\">\n<title>10</title>\n<path fill=\"#8139e5\" stroke=\"black\" d=\"M254,-179.5C254,-179.5 165,-179.5 165,-179.5 159,-179.5 153,-173.5 153,-167.5 153,-167.5 153,-123.5 153,-123.5 153,-117.5 159,-111.5 165,-111.5 165,-111.5 254,-111.5 254,-111.5 260,-111.5 266,-117.5 266,-123.5 266,-123.5 266,-167.5 266,-167.5 266,-173.5 260,-179.5 254,-179.5\"/>\n<text text-anchor=\"start\" x=\"181.5\" y=\"-164.3\" font-family=\"Helvetica,sans-Serif\" font-size=\"14.00\">gini = 0.0</text>\n<text text-anchor=\"start\" x=\"172\" y=\"-149.3\" font-family=\"Helvetica,sans-Serif\" font-size=\"14.00\">samples = 3</text>\n<text text-anchor=\"start\" x=\"162.5\" y=\"-134.3\" font-family=\"Helvetica,sans-Serif\" font-size=\"14.00\">value = [0, 0, 3]</text>\n<text text-anchor=\"start\" x=\"161\" y=\"-119.3\" font-family=\"Helvetica,sans-Serif\" font-size=\"14.00\">class = virginica</text>\n</g>\n<!-- 9&#45;&gt;10 -->\n<g id=\"edge10\" class=\"edge\">\n<title>9&#45;&gt;10</title>\n<path fill=\"none\" stroke=\"black\" d=\"M307.46,-222.91C292.18,-210.99 275.49,-197.98 260.29,-186.12\"/>\n<polygon fill=\"black\" stroke=\"black\" points=\"262.06,-183.06 252.02,-179.67 257.75,-188.58 262.06,-183.06\"/>\n</g>\n<!-- 11 -->\n<g id=\"node12\" class=\"node\">\n<title>11</title>\n<path fill=\"#9cf2c0\" stroke=\"black\" d=\"M431,-187C431,-187 296,-187 296,-187 290,-187 284,-181 284,-175 284,-175 284,-116 284,-116 284,-110 290,-104 296,-104 296,-104 431,-104 431,-104 437,-104 443,-110 443,-116 443,-116 443,-175 443,-175 443,-181 437,-187 431,-187\"/>\n<text text-anchor=\"start\" x=\"292\" y=\"-171.8\" font-family=\"Helvetica,sans-Serif\" font-size=\"14.00\">petal length (cm) ≤ 5.45</text>\n<text text-anchor=\"start\" x=\"328\" y=\"-156.8\" font-family=\"Helvetica,sans-Serif\" font-size=\"14.00\">gini = 0.444</text>\n<text text-anchor=\"start\" x=\"326\" y=\"-141.8\" font-family=\"Helvetica,sans-Serif\" font-size=\"14.00\">samples = 3</text>\n<text text-anchor=\"start\" x=\"316.5\" y=\"-126.8\" font-family=\"Helvetica,sans-Serif\" font-size=\"14.00\">value = [0, 2, 1]</text>\n<text text-anchor=\"start\" x=\"311\" y=\"-111.8\" font-family=\"Helvetica,sans-Serif\" font-size=\"14.00\">class = versicolor</text>\n</g>\n<!-- 9&#45;&gt;11 -->\n<g id=\"edge11\" class=\"edge\">\n<title>9&#45;&gt;11</title>\n<path fill=\"none\" stroke=\"black\" d=\"M360.89,-222.91C361.17,-214.56 361.48,-205.67 361.77,-197.02\"/>\n<polygon fill=\"black\" stroke=\"black\" points=\"365.27,-197.13 362.11,-187.02 358.27,-196.9 365.27,-197.13\"/>\n</g>\n<!-- 12 -->\n<g id=\"node13\" class=\"node\">\n<title>12</title>\n<path fill=\"#39e581\" stroke=\"black\" d=\"M345,-68C345,-68 248,-68 248,-68 242,-68 236,-62 236,-56 236,-56 236,-12 236,-12 236,-6 242,0 248,0 248,0 345,0 345,0 351,0 357,-6 357,-12 357,-12 357,-56 357,-56 357,-62 351,-68 345,-68\"/>\n<text text-anchor=\"start\" x=\"268.5\" y=\"-52.8\" font-family=\"Helvetica,sans-Serif\" font-size=\"14.00\">gini = 0.0</text>\n<text text-anchor=\"start\" x=\"259\" y=\"-37.8\" font-family=\"Helvetica,sans-Serif\" font-size=\"14.00\">samples = 2</text>\n<text text-anchor=\"start\" x=\"249.5\" y=\"-22.8\" font-family=\"Helvetica,sans-Serif\" font-size=\"14.00\">value = [0, 2, 0]</text>\n<text text-anchor=\"start\" x=\"244\" y=\"-7.8\" font-family=\"Helvetica,sans-Serif\" font-size=\"14.00\">class = versicolor</text>\n</g>\n<!-- 11&#45;&gt;12 -->\n<g id=\"edge12\" class=\"edge\">\n<title>11&#45;&gt;12</title>\n<path fill=\"none\" stroke=\"black\" d=\"M338.55,-103.73C333.19,-94.97 327.52,-85.7 322.14,-76.91\"/>\n<polygon fill=\"black\" stroke=\"black\" points=\"325.08,-75 316.88,-68.3 319.11,-78.66 325.08,-75\"/>\n</g>\n<!-- 13 -->\n<g id=\"node14\" class=\"node\">\n<title>13</title>\n<path fill=\"#8139e5\" stroke=\"black\" d=\"M476,-68C476,-68 387,-68 387,-68 381,-68 375,-62 375,-56 375,-56 375,-12 375,-12 375,-6 381,0 387,0 387,0 476,0 476,0 482,0 488,-6 488,-12 488,-12 488,-56 488,-56 488,-62 482,-68 476,-68\"/>\n<text text-anchor=\"start\" x=\"403.5\" y=\"-52.8\" font-family=\"Helvetica,sans-Serif\" font-size=\"14.00\">gini = 0.0</text>\n<text text-anchor=\"start\" x=\"394\" y=\"-37.8\" font-family=\"Helvetica,sans-Serif\" font-size=\"14.00\">samples = 1</text>\n<text text-anchor=\"start\" x=\"384.5\" y=\"-22.8\" font-family=\"Helvetica,sans-Serif\" font-size=\"14.00\">value = [0, 0, 1]</text>\n<text text-anchor=\"start\" x=\"383\" y=\"-7.8\" font-family=\"Helvetica,sans-Serif\" font-size=\"14.00\">class = virginica</text>\n</g>\n<!-- 11&#45;&gt;13 -->\n<g id=\"edge13\" class=\"edge\">\n<title>11&#45;&gt;13</title>\n<path fill=\"none\" stroke=\"black\" d=\"M388.82,-103.73C394.26,-94.97 400.01,-85.7 405.48,-76.91\"/>\n<polygon fill=\"black\" stroke=\"black\" points=\"408.52,-78.64 410.82,-68.3 402.57,-74.95 408.52,-78.64\"/>\n</g>\n<!-- 15 -->\n<g id=\"node16\" class=\"node\">\n<title>15</title>\n<path fill=\"#c09cf2\" stroke=\"black\" d=\"M594,-306C594,-306 469,-306 469,-306 463,-306 457,-300 457,-294 457,-294 457,-235 457,-235 457,-229 463,-223 469,-223 469,-223 594,-223 594,-223 600,-223 606,-229 606,-235 606,-235 606,-294 606,-294 606,-300 600,-306 594,-306\"/>\n<text text-anchor=\"start\" x=\"465\" y=\"-290.8\" font-family=\"Helvetica,sans-Serif\" font-size=\"14.00\">sepal width (cm) ≤ 3.1</text>\n<text text-anchor=\"start\" x=\"496\" y=\"-275.8\" font-family=\"Helvetica,sans-Serif\" font-size=\"14.00\">gini = 0.444</text>\n<text text-anchor=\"start\" x=\"494\" y=\"-260.8\" font-family=\"Helvetica,sans-Serif\" font-size=\"14.00\">samples = 3</text>\n<text text-anchor=\"start\" x=\"484.5\" y=\"-245.8\" font-family=\"Helvetica,sans-Serif\" font-size=\"14.00\">value = [0, 1, 2]</text>\n<text text-anchor=\"start\" x=\"483\" y=\"-230.8\" font-family=\"Helvetica,sans-Serif\" font-size=\"14.00\">class = virginica</text>\n</g>\n<!-- 14&#45;&gt;15 -->\n<g id=\"edge15\" class=\"edge\">\n<title>14&#45;&gt;15</title>\n<path fill=\"none\" stroke=\"black\" d=\"M532.81,-341.91C532.66,-333.56 532.51,-324.67 532.36,-316.02\"/>\n<polygon fill=\"black\" stroke=\"black\" points=\"535.86,-315.96 532.19,-306.02 528.86,-316.08 535.86,-315.96\"/>\n</g>\n<!-- 18 -->\n<g id=\"node19\" class=\"node\">\n<title>18</title>\n<path fill=\"#8139e5\" stroke=\"black\" d=\"M729,-298.5C729,-298.5 636,-298.5 636,-298.5 630,-298.5 624,-292.5 624,-286.5 624,-286.5 624,-242.5 624,-242.5 624,-236.5 630,-230.5 636,-230.5 636,-230.5 729,-230.5 729,-230.5 735,-230.5 741,-236.5 741,-242.5 741,-242.5 741,-286.5 741,-286.5 741,-292.5 735,-298.5 729,-298.5\"/>\n<text text-anchor=\"start\" x=\"654.5\" y=\"-283.3\" font-family=\"Helvetica,sans-Serif\" font-size=\"14.00\">gini = 0.0</text>\n<text text-anchor=\"start\" x=\"641.5\" y=\"-268.3\" font-family=\"Helvetica,sans-Serif\" font-size=\"14.00\">samples = 30</text>\n<text text-anchor=\"start\" x=\"632\" y=\"-253.3\" font-family=\"Helvetica,sans-Serif\" font-size=\"14.00\">value = [0, 0, 30]</text>\n<text text-anchor=\"start\" x=\"634\" y=\"-238.3\" font-family=\"Helvetica,sans-Serif\" font-size=\"14.00\">class = virginica</text>\n</g>\n<!-- 14&#45;&gt;18 -->\n<g id=\"edge18\" class=\"edge\">\n<title>14&#45;&gt;18</title>\n<path fill=\"none\" stroke=\"black\" d=\"M585.19,-341.91C600.37,-329.99 616.95,-316.98 632.04,-305.12\"/>\n<polygon fill=\"black\" stroke=\"black\" points=\"634.56,-307.6 640.26,-298.67 630.24,-302.09 634.56,-307.6\"/>\n</g>\n<!-- 16 -->\n<g id=\"node17\" class=\"node\">\n<title>16</title>\n<path fill=\"#8139e5\" stroke=\"black\" d=\"M573,-179.5C573,-179.5 484,-179.5 484,-179.5 478,-179.5 472,-173.5 472,-167.5 472,-167.5 472,-123.5 472,-123.5 472,-117.5 478,-111.5 484,-111.5 484,-111.5 573,-111.5 573,-111.5 579,-111.5 585,-117.5 585,-123.5 585,-123.5 585,-167.5 585,-167.5 585,-173.5 579,-179.5 573,-179.5\"/>\n<text text-anchor=\"start\" x=\"500.5\" y=\"-164.3\" font-family=\"Helvetica,sans-Serif\" font-size=\"14.00\">gini = 0.0</text>\n<text text-anchor=\"start\" x=\"491\" y=\"-149.3\" font-family=\"Helvetica,sans-Serif\" font-size=\"14.00\">samples = 2</text>\n<text text-anchor=\"start\" x=\"481.5\" y=\"-134.3\" font-family=\"Helvetica,sans-Serif\" font-size=\"14.00\">value = [0, 0, 2]</text>\n<text text-anchor=\"start\" x=\"480\" y=\"-119.3\" font-family=\"Helvetica,sans-Serif\" font-size=\"14.00\">class = virginica</text>\n</g>\n<!-- 15&#45;&gt;16 -->\n<g id=\"edge16\" class=\"edge\">\n<title>15&#45;&gt;16</title>\n<path fill=\"none\" stroke=\"black\" d=\"M530.46,-222.91C530.18,-212.2 529.89,-200.62 529.61,-189.78\"/>\n<polygon fill=\"black\" stroke=\"black\" points=\"533.11,-189.57 529.35,-179.67 526.11,-189.75 533.11,-189.57\"/>\n</g>\n<!-- 17 -->\n<g id=\"node18\" class=\"node\">\n<title>17</title>\n<path fill=\"#39e581\" stroke=\"black\" d=\"M712,-179.5C712,-179.5 615,-179.5 615,-179.5 609,-179.5 603,-173.5 603,-167.5 603,-167.5 603,-123.5 603,-123.5 603,-117.5 609,-111.5 615,-111.5 615,-111.5 712,-111.5 712,-111.5 718,-111.5 724,-117.5 724,-123.5 724,-123.5 724,-167.5 724,-167.5 724,-173.5 718,-179.5 712,-179.5\"/>\n<text text-anchor=\"start\" x=\"635.5\" y=\"-164.3\" font-family=\"Helvetica,sans-Serif\" font-size=\"14.00\">gini = 0.0</text>\n<text text-anchor=\"start\" x=\"626\" y=\"-149.3\" font-family=\"Helvetica,sans-Serif\" font-size=\"14.00\">samples = 1</text>\n<text text-anchor=\"start\" x=\"616.5\" y=\"-134.3\" font-family=\"Helvetica,sans-Serif\" font-size=\"14.00\">value = [0, 1, 0]</text>\n<text text-anchor=\"start\" x=\"611\" y=\"-119.3\" font-family=\"Helvetica,sans-Serif\" font-size=\"14.00\">class = versicolor</text>\n</g>\n<!-- 15&#45;&gt;17 -->\n<g id=\"edge17\" class=\"edge\">\n<title>15&#45;&gt;17</title>\n<path fill=\"none\" stroke=\"black\" d=\"M577.3,-222.91C590.62,-211.1 605.15,-198.22 618.43,-186.45\"/>\n<polygon fill=\"black\" stroke=\"black\" points=\"620.92,-188.92 626.08,-179.67 616.28,-183.68 620.92,-188.92\"/>\n</g>\n</g>\n</svg>\n",
            "text/plain": [
              "<graphviz.sources.Source at 0x7b1fa33ba8d0>"
            ]
          },
          "metadata": {}
        }
      ]
    },
    {
      "cell_type": "markdown",
      "source": [
        "21. **Write a Python program to train a Decision Tree Classifier with a maximum depth of 3 and compare its accuracy with a fully grown tree.**"
      ],
      "metadata": {
        "id": "lYr_XemUbscm"
      }
    },
    {
      "cell_type": "code",
      "metadata": {
        "colab": {
          "base_uri": "https://localhost:8080/"
        },
        "id": "4754b51e",
        "outputId": "3642ffe7-6b55-4239-e5be-52535b47888f"
      },
      "source": [
        "from sklearn.datasets import load_iris\n",
        "from sklearn.tree import DecisionTreeClassifier\n",
        "from sklearn.model_selection import train_test_split\n",
        "from sklearn.metrics import accuracy_score\n",
        "\n",
        "# Load the Iris dataset\n",
        "iris = load_iris()\n",
        "X = iris.data\n",
        "y = iris.target\n",
        "\n",
        "# Split the dataset into training and testing sets\n",
        "X_train, X_test, y_train, y_test = train_test_split(X, y, test_size=0.3, random_state=42)\n",
        "\n",
        "# Create a fully grown Decision Tree Classifier\n",
        "clf_full = DecisionTreeClassifier(random_state=42)\n",
        "\n",
        "# Train the fully grown classifier\n",
        "clf_full.fit(X_train, y_train)\n",
        "\n",
        "# Make predictions and calculate accuracy for the fully grown tree\n",
        "y_pred_full = clf_full.predict(X_test)\n",
        "accuracy_full = accuracy_score(y_test, y_pred_full)\n",
        "print(f\"Accuracy of the fully grown Decision Tree Classifier: {accuracy_full:.2f}\")\n",
        "\n",
        "# Create a Decision Tree Classifier with max_depth=3\n",
        "clf_pruned = DecisionTreeClassifier(max_depth=3, random_state=42)\n",
        "\n",
        "# Train the pruned classifier\n",
        "clf_pruned.fit(X_train, y_train)\n",
        "\n",
        "# Make predictions and calculate accuracy for the pruned tree\n",
        "y_pred_pruned = clf_pruned.predict(X_test)\n",
        "accuracy_pruned = accuracy_score(y_test, y_pred_pruned)\n",
        "print(f\"Accuracy of the Decision Tree Classifier with max_depth=3: {accuracy_pruned:.2f}\")"
      ],
      "execution_count": 7,
      "outputs": [
        {
          "output_type": "stream",
          "name": "stdout",
          "text": [
            "Accuracy of the fully grown Decision Tree Classifier: 1.00\n",
            "Accuracy of the Decision Tree Classifier with max_depth=3: 1.00\n"
          ]
        }
      ]
    },
    {
      "cell_type": "markdown",
      "source": [
        "22. **Write a Python program to train a Decision Tree Classifier using min_samples_split=5 and compare its accuracy with a default tree.**"
      ],
      "metadata": {
        "id": "1EioZDpkb3Ft"
      }
    },
    {
      "cell_type": "code",
      "source": [],
      "metadata": {
        "id": "GqhuBImFb5x8"
      },
      "execution_count": null,
      "outputs": []
    },
    {
      "cell_type": "code",
      "metadata": {
        "colab": {
          "base_uri": "https://localhost:8080/"
        },
        "id": "5b5b7a90",
        "outputId": "2d657610-fc8b-49bb-bf10-9e083b178da9"
      },
      "source": [
        "from sklearn.datasets import load_iris\n",
        "from sklearn.tree import DecisionTreeClassifier\n",
        "from sklearn.model_selection import train_test_split\n",
        "from sklearn.metrics import accuracy_score\n",
        "\n",
        "# Load the Iris dataset\n",
        "iris = load_iris()\n",
        "X = iris.data\n",
        "y = iris.target\n",
        "\n",
        "# Split the dataset into training and testing sets\n",
        "X_train, X_test, y_train, y_test = train_test_split(X, y, test_size=0.3, random_state=42)\n",
        "\n",
        "# Create a default Decision Tree Classifier\n",
        "clf_default = DecisionTreeClassifier(random_state=42)\n",
        "\n",
        "# Train the default classifier\n",
        "clf_default.fit(X_train, y_train)\n",
        "\n",
        "# Make predictions and calculate accuracy for the default tree\n",
        "y_pred_default = clf_default.predict(X_test)\n",
        "accuracy_default = accuracy_score(y_test, y_pred_default)\n",
        "print(f\"Accuracy of the default Decision Tree Classifier: {accuracy_default:.2f}\")\n",
        "\n",
        "# Create a Decision Tree Classifier with min_samples_split=5\n",
        "clf_split5 = DecisionTreeClassifier(min_samples_split=5, random_state=42)\n",
        "\n",
        "# Train the classifier with min_samples_split=5\n",
        "clf_split5.fit(X_train, y_train)\n",
        "\n",
        "# Make predictions and calculate accuracy for the tree with min_samples_split=5\n",
        "y_pred_split5 = clf_split5.predict(X_test)\n",
        "accuracy_split5 = accuracy_score(y_test, y_pred_split5)\n",
        "print(f\"Accuracy of the Decision Tree Classifier with min_samples_split=5: {accuracy_split5:.2f}\")"
      ],
      "execution_count": 8,
      "outputs": [
        {
          "output_type": "stream",
          "name": "stdout",
          "text": [
            "Accuracy of the default Decision Tree Classifier: 1.00\n",
            "Accuracy of the Decision Tree Classifier with min_samples_split=5: 1.00\n"
          ]
        }
      ]
    },
    {
      "cell_type": "markdown",
      "source": [
        "23. **Write a Python program to apply feature scaling before training a Decision Tree Classifier and compare its accuracy with unscaled data.**"
      ],
      "metadata": {
        "id": "9sWpuVgyb_GI"
      }
    },
    {
      "cell_type": "code",
      "metadata": {
        "colab": {
          "base_uri": "https://localhost:8080/"
        },
        "id": "e9385ad3",
        "outputId": "545d6dd2-0504-43eb-d4f7-63063c750466"
      },
      "source": [
        "from sklearn.datasets import load_iris\n",
        "from sklearn.tree import DecisionTreeClassifier\n",
        "from sklearn.model_selection import train_test_split\n",
        "from sklearn.metrics import accuracy_score\n",
        "from sklearn.preprocessing import StandardScaler\n",
        "\n",
        "# Load the Iris dataset\n",
        "iris = load_iris()\n",
        "X = iris.data\n",
        "y = iris.target\n",
        "\n",
        "# Split the dataset into training and testing sets (unscaled)\n",
        "X_train, X_test, y_train, y_test = train_test_split(X, y, test_size=0.3, random_state=42)\n",
        "\n",
        "# Create and train a Decision Tree Classifier on unscaled data\n",
        "clf_unscaled = DecisionTreeClassifier(random_state=42)\n",
        "clf_unscaled.fit(X_train, y_train)\n",
        "\n",
        "# Make predictions and calculate accuracy for unscaled data\n",
        "y_pred_unscaled = clf_unscaled.predict(X_test)\n",
        "accuracy_unscaled = accuracy_score(y_test, y_pred_unscaled)\n",
        "print(f\"Accuracy of the Decision Tree Classifier on unscaled data: {accuracy_unscaled:.2f}\")\n",
        "\n",
        "# Apply feature scaling\n",
        "scaler = StandardScaler()\n",
        "X_train_scaled = scaler.fit_transform(X_train)\n",
        "X_test_scaled = scaler.transform(X_test)\n",
        "\n",
        "# Create and train a Decision Tree Classifier on scaled data\n",
        "clf_scaled = DecisionTreeClassifier(random_state=42)\n",
        "clf_scaled.fit(X_train_scaled, y_train)\n",
        "\n",
        "# Make predictions and calculate accuracy for scaled data\n",
        "y_pred_scaled = clf_scaled.predict(X_test_scaled)\n",
        "accuracy_scaled = accuracy_score(y_test, y_pred_scaled)\n",
        "print(f\"Accuracy of the Decision Tree Classifier on scaled data: {accuracy_scaled:.2f}\")"
      ],
      "execution_count": 9,
      "outputs": [
        {
          "output_type": "stream",
          "name": "stdout",
          "text": [
            "Accuracy of the Decision Tree Classifier on unscaled data: 1.00\n",
            "Accuracy of the Decision Tree Classifier on scaled data: 1.00\n"
          ]
        }
      ]
    },
    {
      "cell_type": "markdown",
      "source": [
        "24. **Write a Python program to train a Decision Tree Classifier using One-vs-Rest (OvR) strategy for multiclass classification.**"
      ],
      "metadata": {
        "id": "bzj3zAzWcH7Q"
      }
    },
    {
      "cell_type": "code",
      "metadata": {
        "colab": {
          "base_uri": "https://localhost:8080/"
        },
        "id": "98fdc42a",
        "outputId": "2d88613a-e652-48a8-b1c5-a3ec2623de46"
      },
      "source": [
        "from sklearn.datasets import load_iris\n",
        "from sklearn.tree import DecisionTreeClassifier\n",
        "from sklearn.model_selection import train_test_split\n",
        "from sklearn.multiclass import OneVsRestClassifier\n",
        "from sklearn.metrics import accuracy_score\n",
        "\n",
        "# Load the Iris dataset\n",
        "iris = load_iris()\n",
        "X = iris.data\n",
        "y = iris.target\n",
        "\n",
        "# Split the dataset into training and testing sets\n",
        "X_train, X_test, y_train, y_test = train_test_split(X, y, test_size=0.3, random_state=42)\n",
        "\n",
        "# Create a base Decision Tree Classifier\n",
        "base_clf = DecisionTreeClassifier(random_state=42)\n",
        "\n",
        "# Create a One-vs-Rest Classifier using the base Decision Tree Classifier\n",
        "ovr_clf = OneVsRestClassifier(base_clf)\n",
        "\n",
        "# Train the OvR classifier\n",
        "ovr_clf.fit(X_train, y_train)\n",
        "\n",
        "# Make predictions on the test set\n",
        "y_pred_ovr = ovr_clf.predict(X_test)\n",
        "\n",
        "# Calculate and print the accuracy\n",
        "accuracy_ovr = accuracy_score(y_test, y_pred_ovr)\n",
        "print(f\"Accuracy of the Decision Tree Classifier with One-vs-Rest strategy: {accuracy_ovr:.2f}\")"
      ],
      "execution_count": 10,
      "outputs": [
        {
          "output_type": "stream",
          "name": "stdout",
          "text": [
            "Accuracy of the Decision Tree Classifier with One-vs-Rest strategy: 1.00\n"
          ]
        }
      ]
    },
    {
      "cell_type": "markdown",
      "source": [
        "25. **Write a Python program to train a Decision Tree Classifier and display the feature importance scores.**"
      ],
      "metadata": {
        "id": "QXf9X_gncOZD"
      }
    },
    {
      "cell_type": "code",
      "metadata": {
        "colab": {
          "base_uri": "https://localhost:8080/"
        },
        "id": "59f42a08",
        "outputId": "ee170b3c-4f77-487b-d50d-37c9df3a6f45"
      },
      "source": [
        "from sklearn.datasets import load_iris\n",
        "from sklearn.tree import DecisionTreeClassifier\n",
        "from sklearn.model_selection import train_test_split\n",
        "\n",
        "# Load the Iris dataset\n",
        "iris = load_iris()\n",
        "X = iris.data\n",
        "y = iris.target\n",
        "\n",
        "# Split the dataset into training and testing sets (optional)\n",
        "X_train, X_test, y_train, y_test = train_test_split(X, y, test_size=0.3, random_state=42)\n",
        "\n",
        "# Create a Decision Tree Classifier\n",
        "clf = DecisionTreeClassifier(random_state=42)\n",
        "\n",
        "# Train the classifier\n",
        "clf.fit(X_train, y_train)\n",
        "\n",
        "# Get feature importances\n",
        "feature_importances = clf.feature_importances_\n",
        "\n",
        "# Display feature importances\n",
        "print(\"Feature Importances:\")\n",
        "for i, importance in enumerate(feature_importances):\n",
        "    print(f\"{iris.feature_names[i]}: {importance:.4f}\")"
      ],
      "execution_count": 11,
      "outputs": [
        {
          "output_type": "stream",
          "name": "stdout",
          "text": [
            "Feature Importances:\n",
            "sepal length (cm): 0.0000\n",
            "sepal width (cm): 0.0191\n",
            "petal length (cm): 0.8933\n",
            "petal width (cm): 0.0876\n"
          ]
        }
      ]
    },
    {
      "cell_type": "markdown",
      "source": [
        "26. **Write a Python program to train a Decision Tree Regressor with max_depth=5 and compare its performance with an unrestricted tree.**"
      ],
      "metadata": {
        "id": "_kOeIOqMcVmj"
      }
    },
    {
      "cell_type": "code",
      "metadata": {
        "colab": {
          "base_uri": "https://localhost:8080/"
        },
        "id": "68e4c150",
        "outputId": "ef8a63b8-400e-4c2a-a71a-ad7d6abf1817"
      },
      "source": [
        "from sklearn.datasets import fetch_california_housing\n",
        "from sklearn.tree import DecisionTreeRegressor\n",
        "from sklearn.model_selection import train_test_split\n",
        "from sklearn.metrics import mean_squared_error\n",
        "\n",
        "# Load the California housing dataset\n",
        "housing = fetch_california_housing()\n",
        "X = housing.data\n",
        "y = housing.target\n",
        "\n",
        "# Split the dataset into training and testing sets\n",
        "X_train, X_test, y_train, y_test = train_test_split(X, y, test_size=0.3, random_state=42)\n",
        "\n",
        "# Create an unrestricted Decision Tree Regressor\n",
        "regressor_full = DecisionTreeRegressor(random_state=42)\n",
        "\n",
        "# Train the unrestricted regressor\n",
        "regressor_full.fit(X_train, y_train)\n",
        "\n",
        "# Make predictions and calculate MSE for the unrestricted tree\n",
        "y_pred_full = regressor_full.predict(X_test)\n",
        "mse_full = mean_squared_error(y_test, y_pred_full)\n",
        "print(f\"Mean Squared Error (MSE) of the unrestricted Decision Tree Regressor: {mse_full:.2f}\")\n",
        "\n",
        "# Create a Decision Tree Regressor with max_depth=5\n",
        "regressor_pruned = DecisionTreeRegressor(max_depth=5, random_state=42)\n",
        "\n",
        "# Train the pruned regressor\n",
        "regressor_pruned.fit(X_train, y_train)\n",
        "\n",
        "# Make predictions and calculate MSE for the pruned tree\n",
        "y_pred_pruned = regressor_pruned.predict(X_test)\n",
        "mse_pruned = mean_squared_error(y_test, y_pred_pruned)\n",
        "print(f\"Mean Squared Error (MSE) of the Decision Tree Regressor with max_depth=5: {mse_pruned:.2f}\")"
      ],
      "execution_count": 12,
      "outputs": [
        {
          "output_type": "stream",
          "name": "stdout",
          "text": [
            "Mean Squared Error (MSE) of the unrestricted Decision Tree Regressor: 0.53\n",
            "Mean Squared Error (MSE) of the Decision Tree Regressor with max_depth=5: 0.52\n"
          ]
        }
      ]
    },
    {
      "cell_type": "markdown",
      "source": [
        "27. **Write a Python program to train a Decision Tree Classifier, apply Cost Complexity Pruning (CCP), and visualize its effect on accuracy.**"
      ],
      "metadata": {
        "id": "z2P-DHHvccU7"
      }
    },
    {
      "cell_type": "code",
      "metadata": {
        "colab": {
          "base_uri": "https://localhost:8080/",
          "height": 524
        },
        "id": "f54a7b63",
        "outputId": "f3d63257-7aff-4f58-cd3d-7486fd6f515d"
      },
      "source": [
        "import matplotlib.pyplot as plt\n",
        "from sklearn.datasets import load_iris\n",
        "from sklearn.tree import DecisionTreeClassifier\n",
        "from sklearn.model_selection import train_test_split\n",
        "from sklearn.metrics import accuracy_score\n",
        "\n",
        "# 1. Load and Split Data\n",
        "iris = load_iris()\n",
        "X = iris.data\n",
        "y = iris.target\n",
        "X_train, X_test, y_train, y_test = train_test_split(X, y, test_size=0.3, random_state=42)\n",
        "\n",
        "# 2. Train a Decision Tree\n",
        "# Train a decision tree to find the cost complexity pruning path\n",
        "clf = DecisionTreeClassifier(random_state=42)\n",
        "clf.fit(X_train, y_train)\n",
        "\n",
        "# 3. Calculate Cost Complexity Path\n",
        "path = clf.cost_complexity_pruning_path(X_train, y_train)\n",
        "ccp_alphas, impurities = path.ccp_alphas, path.impurities\n",
        "\n",
        "# For each alpha, we will train a new tree\n",
        "clfs = []\n",
        "for ccp_alpha in ccp_alphas:\n",
        "    clf = DecisionTreeClassifier(random_state=42, ccp_alpha=ccp_alpha)\n",
        "    clf.fit(X_train, y_train)\n",
        "    clfs.append(clf)\n",
        "\n",
        "# Remove the last element in clfs and ccp_alphas, because it is the trivial tree with only one node\n",
        "clfs = clfs[:-1]\n",
        "ccp_alphas = ccp_alphas[:-1]\n",
        "\n",
        "# 4. Train Trees for Each Alpha (Done in the loop above)\n",
        "\n",
        "# 5. Calculate Accuracy for Each Tree\n",
        "train_scores = [clf.score(X_train, y_train) for clf in clfs]\n",
        "test_scores = [clf.score(X_test, y_test) for clf in clfs]\n",
        "\n",
        "# 6. Visualize Accuracy vs. Alpha\n",
        "fig, ax = plt.subplots()\n",
        "ax.set_xlabel(\"alpha\")\n",
        "ax.set_ylabel(\"accuracy\")\n",
        "ax.set_title(\"Accuracy vs. alpha for training and testing sets\")\n",
        "ax.plot(ccp_alphas, train_scores, marker='o', label=\"train\",\n",
        "        drawstyle=\"steps-post\")\n",
        "ax.plot(ccp_alphas, test_scores, marker='o', label=\"test\",\n",
        "        drawstyle=\"steps-post\")\n",
        "ax.legend()\n",
        "plt.show()\n",
        "\n",
        "# Optional: Find the alpha that maximizes test accuracy and evaluate the corresponding tree\n",
        "optimal_alpha_index = test_scores.index(max(test_scores))\n",
        "optimal_alpha = ccp_alphas[optimal_alpha_index]\n",
        "print(f\"\\nOptimal alpha based on test accuracy: {optimal_alpha:.4f}\")\n",
        "\n",
        "optimal_clf = DecisionTreeClassifier(random_state=42, ccp_alpha=optimal_alpha)\n",
        "optimal_clf.fit(X_train, y_train)\n",
        "optimal_test_accuracy = accuracy_score(y_test, optimal_clf.predict(X_test))\n",
        "print(f\"Accuracy of the Decision Tree with optimal alpha on the test set: {optimal_test_accuracy:.2f}\")"
      ],
      "execution_count": 13,
      "outputs": [
        {
          "output_type": "display_data",
          "data": {
            "text/plain": [
              "<Figure size 640x480 with 1 Axes>"
            ],
            "image/png": "[encoded data removed]"
          },
          "metadata": {}
        },
        {
          "output_type": "stream",
          "name": "stdout",
          "text": [
            "\n",
            "Optimal alpha based on test accuracy: 0.0000\n",
            "Accuracy of the Decision Tree with optimal alpha on the test set: 1.00\n"
          ]
        }
      ]
    },
    {
      "cell_type": "markdown",
      "source": [
        "28. **Write a Python program to train a Decision Tree Classifier and evaluate its performance using Precision, Recall, and F1-Score.**"
      ],
      "metadata": {
        "id": "ienZWh7uc3jk"
      }
    },
    {
      "cell_type": "code",
      "metadata": {
        "colab": {
          "base_uri": "https://localhost:8080/"
        },
        "id": "cbcecc2b",
        "outputId": "21eb508e-b2fa-4048-a97d-23f7a933aad0"
      },
      "source": [
        "from sklearn.datasets import load_iris\n",
        "from sklearn.tree import DecisionTreeClassifier\n",
        "from sklearn.model_selection import train_test_split\n",
        "from sklearn.metrics import precision_score, recall_score, f1_score, accuracy_score\n",
        "import numpy as np\n",
        "\n",
        "# Load the Iris dataset\n",
        "iris = load_iris()\n",
        "X = iris.data\n",
        "y = iris.target\n",
        "\n",
        "# Split the dataset into training and testing sets\n",
        "X_train, X_test, y_train, y_test = train_test_split(X, y, test_size=0.3, random_state=42)\n",
        "\n",
        "# Create a Decision Tree Classifier\n",
        "clf = DecisionTreeClassifier(random_state=42)\n",
        "\n",
        "# Train the classifier\n",
        "clf.fit(X_train, y_train)\n",
        "\n",
        "# Make predictions on the test set\n",
        "y_pred = clf.predict(X_test)\n",
        "\n",
        "# Calculate and print Accuracy, Precision, Recall, and F1-Score\n",
        "accuracy = accuracy_score(y_test, y_pred)\n",
        "# For multiclass classification, specify average='weighted' or 'macro'\n",
        "precision = precision_score(y_test, y_pred, average='weighted')\n",
        "recall = recall_score(y_test, y_pred, average='weighted')\n",
        "f1 = f1_score(y_test, y_pred, average='weighted')\n",
        "\n",
        "print(f\"Accuracy: {accuracy:.2f}\")\n",
        "print(f\"Precision: {precision:.2f}\")\n",
        "print(f\"Recall: {recall:.2f}\")\n",
        "print(f\"F1-Score: {f1:.2f}\")"
      ],
      "execution_count": 14,
      "outputs": [
        {
          "output_type": "stream",
          "name": "stdout",
          "text": [
            "Accuracy: 1.00\n",
            "Precision: 1.00\n",
            "Recall: 1.00\n",
            "F1-Score: 1.00\n"
          ]
        }
      ]
    },
    {
      "cell_type": "markdown",
      "source": [
        "29. **Write a Python program to train a Decision Tree Classifier and visualize the confusion matrix using seaborn.**"
      ],
      "metadata": {
        "id": "Kjq73_s2dHVu"
      }
    },
    {
      "cell_type": "code",
      "metadata": {
        "colab": {
          "base_uri": "https://localhost:8080/",
          "height": 581
        },
        "id": "9f7d101a",
        "outputId": "b6149f1e-6096-4e8b-d70b-9b12a55a1a1e"
      },
      "source": [
        "import matplotlib.pyplot as plt\n",
        "import seaborn as sns\n",
        "from sklearn.datasets import load_iris\n",
        "from sklearn.tree import DecisionTreeClassifier\n",
        "from sklearn.model_selection import train_test_split\n",
        "from sklearn.metrics import confusion_matrix, accuracy_score\n",
        "\n",
        "# Load the Iris dataset\n",
        "iris = load_iris()\n",
        "X = iris.data\n",
        "y = iris.target\n",
        "\n",
        "# Split the dataset into training and testing sets\n",
        "X_train, X_test, y_train, y_test = train_test_split(X, y, test_size=0.3, random_state=42)\n",
        "\n",
        "# Create a Decision Tree Classifier\n",
        "clf = DecisionTreeClassifier(random_state=42)\n",
        "\n",
        "# Train the classifier\n",
        "clf.fit(X_train, y_train)\n",
        "\n",
        "# Make predictions on the test set\n",
        "y_pred = clf.predict(X_test)\n",
        "\n",
        "# Calculate the confusion matrix\n",
        "cm = confusion_matrix(y_test, y_pred)\n",
        "\n",
        "# Visualize the confusion matrix using seaborn\n",
        "plt.figure(figsize=(8, 6))\n",
        "sns.heatmap(cm, annot=True, fmt='d', cmap='Blues', xticklabels=iris.target_names, yticklabels=iris.target_names)\n",
        "plt.xlabel('Predicted')\n",
        "plt.ylabel('Actual')\n",
        "plt.title('Confusion Matrix')\n",
        "plt.show()\n",
        "\n",
        "# Optional: Print accuracy as well\n",
        "accuracy = accuracy_score(y_test, y_pred)\n",
        "print(f\"Accuracy of the Decision Tree Classifier: {accuracy:.2f}\")"
      ],
      "execution_count": 15,
      "outputs": [
        {
          "output_type": "display_data",
          "data": {
            "text/plain": [
              "<Figure size 800x600 with 2 Axes>"
            ],
            "image/png": "[encoded data removed]"
          },
          "metadata": {}
        },
        {
          "output_type": "stream",
          "name": "stdout",
          "text": [
            "Accuracy of the Decision Tree Classifier: 1.00\n"
          ]
        }
      ]
    },
    {
      "cell_type": "markdown",
      "source": [
        "30. **Write a Python program to train a Decision Tree Classifier and use GridSearchCV to find the optimal values for max_depth and min_samples_split.**"
      ],
      "metadata": {
        "id": "qXQFVy5bdOqK"
      }
    },
    {
      "cell_type": "code",
      "metadata": {
        "colab": {
          "base_uri": "https://localhost:8080/"
        },
        "id": "45741292",
        "outputId": "06beab5d-a0b9-497f-c4ca-aa2d59ad2c7c"
      },
      "source": [
        "from sklearn.datasets import load_iris\n",
        "from sklearn.tree import DecisionTreeClassifier\n",
        "from sklearn.model_selection import train_test_split, GridSearchCV\n",
        "\n",
        "# Load the Iris dataset\n",
        "iris = load_iris()\n",
        "X = iris.data\n",
        "y = iris.target\n",
        "\n",
        "# Split the dataset into training and testing sets\n",
        "X_train, X_test, y_train, y_test = train_test_split(X, y, test_size=0.3, random_state=42)\n",
        "\n",
        "# Create a Decision Tree Classifier\n",
        "clf = DecisionTreeClassifier(random_state=42)\n",
        "\n",
        "# Define the parameter grid\n",
        "param_grid = {\n",
        "    'max_depth': [None, 2, 3, 4, 5, 10, 20],\n",
        "    'min_samples_split': [2, 5, 10, 20]\n",
        "}\n",
        "\n",
        "# Create GridSearchCV object\n",
        "grid_search = GridSearchCV(clf, param_grid, cv=5, scoring='accuracy')\n",
        "\n",
        "# Fit GridSearchCV to the training data\n",
        "grid_search.fit(X_train, y_train)\n",
        "\n",
        "# Print the best parameters and best score\n",
        "print(\"Best parameters found by GridSearchCV:\")\n",
        "print(grid_search.best_params_)\n",
        "print(f\"\\nBest cross-validation accuracy: {grid_search.best_score_:.2f}\")\n",
        "\n",
        "# Optional: Evaluate the best model on the test set\n",
        "best_clf = grid_search.best_estimator_\n",
        "test_accuracy = best_clf.score(X_test, y_test)\n",
        "print(f\"\\nAccuracy of the best model on the test set: {test_accuracy:.2f}\")"
      ],
      "execution_count": 16,
      "outputs": [
        {
          "output_type": "stream",
          "name": "stdout",
          "text": [
            "Best parameters found by GridSearchCV:\n",
            "{'max_depth': None, 'min_samples_split': 10}\n",
            "\n",
            "Best cross-validation accuracy: 0.94\n",
            "\n",
            "Accuracy of the best model on the test set: 1.00\n"
          ]
        }
      ]
    }
  ]
}