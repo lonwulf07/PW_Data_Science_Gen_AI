{
  "nbformat": 4,
  "nbformat_minor": 0,
  "metadata": {
    "colab": {
      "provenance": []
    },
    "kernelspec": {
      "name": "python3",
      "display_name": "Python 3"
    },
    "language_info": {
      "name": "python"
    }
  },
  "cells": [
    {
      "cell_type": "markdown",
      "source": [
        "# **Deep Learning Frameworks**"
      ],
      "metadata": {
        "id": "Ec5YAYjubM3p"
      }
    },
    {
      "cell_type": "markdown",
      "source": [
        "# **Theoretical Questions**"
      ],
      "metadata": {
        "id": "0rwxKBK7bQjw"
      }
    },
    {
      "cell_type": "markdown",
      "metadata": {
        "id": "f3fe21b4"
      },
      "source": [
        "1. What is TensorFlow 2.0, and how is it different from TensorFlow 1.x ?\n",
        "\n",
        "Ans. TensorFlow 2.0 is the latest major version of the open-source machine learning library developed by Google. It was designed with a focus on ease of use, flexibility, and improved performance. Here's how it differs from TensorFlow 1.x:\n",
        "\n",
        "1.  **Eager Execution by Default:** TensorFlow 2.0 enables eager execution by default, which means operations are executed immediately as they are called, making debugging and development more intuitive. In TensorFlow 1.x, we typically had to define a computation graph first and then run it within a session.\n",
        "2.  **Simplified API:** TensorFlow 2.0 streamlined and consolidated many APIs, removing redundant or confusing ones. Keras is the recommended high-level API for building models.\n",
        "3.  **No Sessions:** TensorFlow 2.0 eliminates the need for explicit sessions. Operations execute directly, similar to how NumPy works.\n",
        "4.  **`tf.function` for Performance:** While eager execution is the default, TensorFlow 2.0 provides `tf.function` to easily convert Python functions into TensorFlow graphs for improved performance and deployment. This allows us to get the benefits of both eager execution and graph execution.\n",
        "5.  **Variables:** Variable creation and usage are simpler and more consistent in TensorFlow 2.0.\n",
        "6.  **Control Flow:** Control flow operations (`if`, `while`, `for`) are more seamlessly integrated with Python's native control flow.\n",
        "\n",
        "In summary, TensorFlow 2.0 is a more Pythonic and user-friendly framework compared to TensorFlow 1.x, with a strong emphasis on eager execution and simplification of the API.\n",
        "\n",
        "---"
      ]
    },
    {
      "cell_type": "markdown",
      "metadata": {
        "id": "f1043fb4"
      },
      "source": [
        "2. How do you install TensorFlow 2.0 ?\n",
        "\n",
        "Ans. We can install TensorFlow 2.0 using pip, the Python package installer. The basic command is `pip install tensorflow==2.0`. If we have a compatible GPU and want to utilize it for faster training, we can install the GPU version using `pip install tensorflow-gpu==2.0`. After installation, we can verify the installed version by importing TensorFlow in a Python environment and printing `tf.__version__`.\n",
        "\n",
        "---"
      ]
    },
    {
      "cell_type": "markdown",
      "metadata": {
        "id": "d3f03aa7"
      },
      "source": [
        "3. What is the primary function of the `tf.function` in TensorFlow 2.0?\n",
        "\n",
        "Ans. `tf.function` in TensorFlow 2.0 is primarily used to convert regular Python functions into TensorFlow graphs. This allows us to leverage the performance benefits of graph execution, such as optimizations and deployment to various platforms, while still writing code in a more intuitive, Pythonic style using eager execution. It bridges the gap between the flexibility of eager execution and the efficiency of graph execution.\n",
        "\n",
        "---"
      ]
    },
    {
      "cell_type": "markdown",
      "metadata": {
        "id": "a5edcead"
      },
      "source": [
        "4. What is the purpose of the Model class in TensorFlow 2.0?\n",
        "\n",
        "Ans. The `Model` class in TensorFlow 2.0 (specifically `tf.keras.Model`) is a central abstraction for building and training neural networks. Its primary purposes include:\n",
        "\n",
        "1.  **Grouping Layers:** A `Model` can group together layers to form a larger network structure. This allows us to treat the entire network as a single unit.\n",
        "2.  **Training and Evaluation:** The `Model` class provides built-in methods for training (`fit`), evaluating (`evaluate`), and making predictions (`predict`). These methods handle the training loop, backpropagation, and metric calculation.\n",
        "3.  **Saving and Loading:** Models can be easily saved and loaded, allowing us to resume training, share models, or deploy them.\n",
        "4.  **Managing Variables and Weights:** The `Model` class automatically manages the variables and weights of its layers.\n",
        "5.  **Abstraction:** It provides a high-level, user-friendly interface for defining and working with complex network architectures.\n",
        "\n",
        "In essence, the `Model` class encapsulates the architecture, training configuration, and state (weights) of a neural network, making it easier to build, train, and deploy deep learning models in TensorFlow 2.0.\n",
        "\n",
        "---"
      ]
    },
    {
      "cell_type": "markdown",
      "metadata": {
        "id": "47010ad1"
      },
      "source": [
        "5. How do you create a neural network using TensorFlow 2.0?\n",
        "\n",
        "Ans. In TensorFlow 2.0, we typically create a neural network using the Keras API, which is integrated into TensorFlow. We can create a model using the `Sequential` API for simple layer stacks or the Functional API for more complex architectures.\n",
        "\n",
        "*   **Sequential API:** This is the simplest way to build a model and is suitable for models where the layers are arranged in a linear stack. We create a `tf.keras.Sequential` model and add layers to it using the `.add()` method.\n",
        "*   **Functional API:** This API is more flexible and allows us to build models with complex topologies, such as multi-input and multi-output models, or models with shared layers. We define layers as functions and connect them by calling layers on the output of previous layers.\n",
        "\n",
        "After defining the model's architecture, we typically compile it using `model.compile()`, specifying the optimizer, loss function, and metrics. Then, we train the model using `model.fit()` with our training data.\n",
        "\n",
        "---"
      ]
    },
    {
      "cell_type": "markdown",
      "metadata": {
        "id": "a6927d4c"
      },
      "source": [
        "6. What is the importance of Tensor Space in TensorFlow?\n",
        "\n",
        "Ans. In TensorFlow, \"Tensor Space\" usually refers to the space of possible values that a tensor can hold. Tensors are the fundamental data structures in TensorFlow, representing multi-dimensional arrays. Understanding \"Tensor Space\" is important because:\n",
        "\n",
        "1.  **Data Representation:** Tensors are how all data (inputs, outputs, model parameters) is represented in TensorFlow. The \"space\" of a tensor is defined by its data type (e.g., float32, int32) and its shape (the dimensions of the array). This determines what kind of data the tensor can hold and how it can be used in computations.\n",
        "2.  **Mathematical Operations:** TensorFlow operations work on tensors within their respective \"spaces.\" The compatibility of tensor shapes and data types is crucial for performing valid mathematical operations. Understanding the \"space\" helps ensure that operations are applied correctly.\n",
        "3.  **Memory Allocation:** The \"space\" of a tensor (its shape and data type) directly impacts the amount of memory required to store it. Efficiently managing the \"Tensor Space\" is important for optimizing memory usage, especially in large deep learning models.\n",
        "4.  **Computational Efficiency:** The \"space\" of tensors can affect computational efficiency. Operations on tensors with certain shapes or data types might be more optimized than others.\n",
        "5.  **Model Architecture:** When designing neural network architectures, we need to consider the \"Tensor Space\" of the data flowing through the network. The layers of the network are designed to process tensors of specific shapes and data types, transforming them into tensors in different \"spaces.\"\n",
        "\n",
        "While \"Tensor Space\" isn't a formal mathematical term in the same way as vector space, in the context of TensorFlow, it's a useful concept for understanding how data is represented, manipulated, and managed within the framework. It highlights the importance of considering the properties of tensors (data type and shape) when working with TensorFlow.\n",
        "\n",
        "---"
      ]
    },
    {
      "cell_type": "markdown",
      "metadata": {
        "id": "3f00349b"
      },
      "source": [
        "7. How can TensorBoard be integrated with TensorFlow 2.0?\n",
        "\n",
        "Ans. TensorBoard is a visualization tool that comes with TensorFlow. It allows us to visualize our model graph, plot metrics, visualize distributions, and more. Here's how we can integrate it with TensorFlow 2.0:\n",
        "\n",
        "1.  **Specify a Log Directory:** We need to create a directory where TensorBoard can write log files. This is typically done by defining a path for the logs.\n",
        "2.  **Use the TensorBoard Callback:** When training our model using `model.fit()`, we use the `tf.keras.callbacks.TensorBoard` callback. We instantiate this callback and pass the path to our log directory as an argument.\n",
        "3.  **Start TensorBoard:** After training is complete, we open our terminal or command prompt, navigate to the directory where our logs are saved (or a parent directory), and run the command `tensorboard --logdir path/to/your/logs`. This will start a local web server, and we can then open TensorBoard in our web browser at the address provided in the terminal output (usually http://localhost:6006).\n",
        "\n",
        "By using the `TensorBoard` callback during training, TensorFlow automatically writes the necessary information (like loss and accuracy metrics, and potentially other data depending on the callback's configuration) to the specified log directory, which TensorBoard then reads and visualizes.\n",
        "\n",
        "---"
      ]
    },
    {
      "cell_type": "markdown",
      "metadata": {
        "id": "29e7aa8f"
      },
      "source": [
        "8. What is the purpose of TensorFlow Playground?\n",
        "\n",
        "Ans. TensorFlow Playground is a web-based interactive tool designed to help users understand how neural networks work. It provides a visual interface where we can experiment with different network architectures, activation functions, learning rates, and other hyperparameters to see how they affect the training process and the model's performance on various datasets. It's a great resource for building intuition about deep learning concepts without writing code.\n",
        "\n",
        "---"
      ]
    },
    {
      "cell_type": "markdown",
      "metadata": {
        "id": "d00750fe"
      },
      "source": [
        "9. What is Netron, and how is it useful for deep learning models?\n",
        "\n",
        "Ans. Netron is a viewer for neural network, deep learning, and machine learning models. It supports a wide variety of formats, including TensorFlow Lite, Keras, Caffe, ONNX, and many others. It's useful for deep learning models because it allows us to visualize the architecture of our model, inspect the properties of each layer (like input and output shapes, weights, biases), and understand the flow of data through the network. This can be very helpful for debugging, understanding complex models, and ensuring that our model is structured as expected.\n",
        "\n",
        "---"
      ]
    },
    {
      "cell_type": "markdown",
      "metadata": {
        "id": "6a148940"
      },
      "source": [
        "10. What is the difference between TensorFlow and PyTorch?\n",
        "\n",
        "Ans. TensorFlow and PyTorch are two of the most popular open-source deep learning frameworks. While both are used for building and training neural networks, they have some key differences:\n",
        "\n",
        "1.  **Computational Graph:**\n",
        "    *   **TensorFlow (1.x):** Used a static computational graph. We would define the entire graph first and then execute it within a session. This made debugging more difficult but allowed for optimizations before runtime.\n",
        "    *   **TensorFlow (2.x):** Primarily uses eager execution by default, which is a dynamic computational graph. Operations are executed immediately, similar to PyTorch, making it more intuitive and easier to debug. It still supports static graphs via `tf.function`.\n",
        "    *   **PyTorch:** Uses a dynamic computational graph. The graph is built on the fly as operations are executed. This offers greater flexibility and easier debugging.\n",
        "\n",
        "2.  **Ease of Use and API:**\n",
        "    *   **TensorFlow (2.x):** With Keras as the high-level API and eager execution, TensorFlow 2.0 is generally considered more user-friendly and Pythonic than TensorFlow 1.x.\n",
        "    *   **PyTorch:** Known for its Pythonic feel and ease of use, often considered more intuitive for researchers and those familiar with Python.\n",
        "\n",
        "3.  **Debugging:**\n",
        "    *   **TensorFlow (1.x):** Debugging static graphs could be challenging.\n",
        "    *   **TensorFlow (2.x) and PyTorch:** Eager execution in both frameworks makes debugging significantly easier as we can use standard Python debugging tools.\n",
        "\n",
        "4.  **Community and Adoption:**\n",
        "    *   **TensorFlow:** Has a larger and more established community, especially in the industry. It has strong support for production deployment across various platforms (mobile, web, edge devices) via TensorFlow Lite and TensorFlow.js.\n",
        "    *   **PyTorch:** Has gained significant popularity in the research community due to its flexibility and ease of use. Its adoption in the industry is also growing rapidly.\n",
        "\n",
        "5.  **Deployment:**\n",
        "    *   **TensorFlow:** Strong ecosystem for production deployment.\n",
        "    *   **PyTorch:** Also has good deployment options, with tools like TorchServe and ONNX export.\n",
        "\n",
        "6.  **Visualization:**\n",
        "    *   **TensorFlow:** TensorBoard is a powerful visualization tool integrated with TensorFlow.\n",
        "    *   **PyTorch:** Has integration with TensorBoard and other visualization tools like Visdom.\n",
        "\n",
        "In summary, TensorFlow 2.0 and PyTorch are both powerful and capable frameworks. TensorFlow 2.0 has become much more similar to PyTorch with the adoption of eager execution and Keras. The choice between the two often depends on personal preference, project requirements, and the specific ecosystem needs (e.g., deployment targets).\n",
        "\n",
        "---"
      ]
    },
    {
      "cell_type": "markdown",
      "metadata": {
        "id": "193d82de"
      },
      "source": [
        "11. How do you install PyTorch?\n",
        "\n",
        "Ans. We can install PyTorch using pip or conda. The specific command depends on our operating system, package manager (pip or conda), and whether we want to install the version with CUDA support for GPU acceleration.\n",
        "\n",
        "Using pip:\n",
        "The basic command is `pip install torch torchvision torchaudio`. If we need CUDA support, we'll need to specify the CUDA version. We can find the exact command on the official PyTorch website's installation page by selecting our preferences.\n",
        "\n",
        "Using conda:\n",
        "Similarly, the conda installation command can be found on the official PyTorch website and will vary based on our requirements. A typical command might look like `conda install pytorch torchvision torchaudio cpuonly -c pytorch` for a CPU-only version, or include CUDA specifications.\n",
        "\n",
        "---"
      ]
    },
    {
      "cell_type": "markdown",
      "metadata": {
        "id": "d4b38ee1"
      },
      "source": [
        "12. What is the basic structure of a PyTorch neural network?\n",
        "\n",
        "Ans. In PyTorch, a neural network is typically built using the `torch.nn` module. The basic structure often involves defining a class that inherits from `torch.nn.Module`. Inside this class, we define the layers of the network in the `__init__` method and specify how data flows through these layers in the `forward` method.\n",
        "\n",
        "Here are the key components:\n",
        "\n",
        "1.  **`torch.nn.Module`:** This is the base class for all neural network modules in PyTorch. When we define our network as a class inheriting from `torch.nn.Module`, we get access to functionalities like tracking trainable parameters, moving the model to different devices (CPU/GPU), and saving/loading the model.\n",
        "2.  **`__init__(self)`:** In the constructor (`__init__`), we define the different layers (e.g., linear layers, convolutional layers, activation functions) that our network will use. These layers are typically instances of classes from `torch.nn`.\n",
        "3.  **`forward(self, x)`:** This method defines the forward pass of the network. It takes an input tensor `x` and passes it through the layers defined in `__init__` in the desired order. The `forward` method should return the output tensor(s) of the network.\n",
        "\n",
        "Optional components include:\n",
        "\n",
        "*   **Loss Function:** Defined separately using modules from `torch.nn` (e.g., `torch.nn.CrossEntropyLoss`, `torch.nn.MSELoss`).\n",
        "*   **Optimizer:** Defined using modules from `torch.optim` (e.g., `torch.optim.SGD`, `torch.optim.Adam`). The optimizer is responsible for updating the model's parameters during training based on the calculated gradients.\n",
        "\n",
        "In essence, we define the building blocks (layers) in `__init__` and the data flow through these blocks in `forward`. PyTorch's autograd system automatically handles the backward pass (calculating gradients) based on the operations performed in the `forward` method.\n",
        "\n",
        "---"
      ]
    },
    {
      "cell_type": "markdown",
      "metadata": {
        "id": "868eab70"
      },
      "source": [
        "13. What is the significance of tensors in PyTorch?\n",
        "\n",
        "Ans. Tensors are the fundamental data structure in PyTorch, similar to NumPy arrays but with the added capability of being used on GPUs for accelerated computation and automatically tracking gradients for backpropagation. Their significance lies in:\n",
        "\n",
        "1.  **Data Representation:** Tensors are used to represent all data in PyTorch, including input data, model parameters (weights and biases), and outputs. They are multi-dimensional arrays that can hold scalars, vectors, matrices, or higher-dimensional data.\n",
        "2.  **GPU Acceleration:** PyTorch tensors can be easily moved to and from a GPU, allowing for significant speedups in computations, especially for large-scale deep learning models.\n",
        "3.  **Automatic Differentiation (Autograd):** PyTorch's autograd system automatically records operations performed on tensors and computes the gradients of the output with respect to the input tensors. This is crucial for training neural networks using gradient-based optimization algorithms.\n",
        "4.  **Mathematical Operations:** PyTorch provides a rich library of mathematical operations that can be performed on tensors, including arithmetic operations, linear algebra operations, and various other functions.\n",
        "5.  **Integration with NumPy:** PyTorch tensors can be easily converted to and from NumPy arrays, which facilitates integration with the broader Python ecosystem.\n",
        "\n",
        "In essence, tensors are the building blocks of all computations in PyTorch. Their ability to leverage GPU acceleration and support automatic differentiation makes them essential for efficient and effective deep learning development and training.\n",
        "\n",
        "---"
      ]
    },
    {
      "cell_type": "markdown",
      "metadata": {
        "id": "e15789c1"
      },
      "source": [
        "14. What is the difference between `torch.Tensor` and `torch.cuda.Tensor` in PyTorch?\n",
        "\n",
        "Ans. In PyTorch, the primary difference between `torch.Tensor` and `torch.cuda.Tensor` lies in the device where the tensor's data is stored and processed:\n",
        "\n",
        "1.  **`torch.Tensor`:** This is the default tensor type in PyTorch. Tensors created with `torch.Tensor` or by default operations are stored and processed on the **CPU (Central Processing Unit)**. CPU operations are generally suitable for smaller computations or when a GPU is not available.\n",
        "\n",
        "2.  **`torch.cuda.Tensor`:** This tensor type is specifically designed to be stored and processed on the **GPU (Graphics Processing Unit)**. GPUs are highly parallel processors that can significantly accelerate numerical computations, making them essential for training large and complex deep learning models. We explicitly move a `torch.Tensor` to the GPU using the `.cuda()` method or by specifying the device when creating the tensor (e.g., `torch.tensor(data, device='cuda')`).\n",
        "\n",
        "In summary:\n",
        "*   `torch.Tensor` resides on the CPU.\n",
        "*   `torch.cuda.Tensor` resides on the GPU.\n",
        "\n",
        "Using `torch.cuda.Tensor` is crucial for leveraging the parallel processing capabilities of GPUs to speed up deep learning training and inference. We typically perform computations on tensors that are on the same device. Operations between CPU and GPU tensors are not directly supported and require moving one of the tensors to the other device first.\n",
        "\n",
        "---"
      ]
    },
    {
      "cell_type": "markdown",
      "metadata": {
        "id": "19b24261"
      },
      "source": [
        "15. What is the purpose of the `torch.optim` module in PyTorch?\n",
        "\n",
        "Ans. The `torch.optim` module in PyTorch provides various optimization algorithms that are commonly used for training neural networks. The main purpose of an optimizer is to update the parameters (weights and biases) of our model based on the computed gradients during the backward pass of the training process.\n",
        "\n",
        "Key functions of the `torch.optim` module include:\n",
        "\n",
        "1.  **Parameter Updates:** It implements different optimization algorithms like Stochastic Gradient Descent (SGD), Adam, RMSprop, Adagrad, etc. These algorithms define how the model's parameters are adjusted in the direction that minimizes the loss function.\n",
        "2.  **Learning Rate Scheduling:** Some optimizers support learning rate scheduling, which allows the learning rate to change during training, potentially improving convergence.\n",
        "3.  **Gradient Management:** The optimizer works in conjunction with PyTorch's autograd system to access and manage the gradients of the model's parameters.\n",
        "\n",
        "In essence, the `torch.optim` module is essential for the training process of a neural network in PyTorch. We create an optimizer instance, typically passing the model's parameters to it, and then use its methods (`optimizer.step()`) to update the parameters after computing the gradients (`loss.backward()`).\n",
        "\n",
        "---"
      ]
    },
    {
      "cell_type": "markdown",
      "metadata": {
        "id": "2acdbd66"
      },
      "source": [
        "16. What are some common activation functions used in neural networks?\n",
        "\n",
        "Ans. Activation functions are crucial components in neural networks that introduce non-linearity into the model, allowing it to learn complex patterns. Some common activation functions include:\n",
        "\n",
        "1.  **ReLU (Rectified Linear Unit):**\n",
        "    *   Formula: `f(x) = max(0, x)`\n",
        "    *   Description: It outputs the input directly if it's positive, otherwise, it outputs zero. It's widely used due to its simplicity and effectiveness in mitigating the vanishing gradient problem.\n",
        "\n",
        "2.  **Sigmoid:**\n",
        "    *   Formula: `f(x) = 1 / (1 + e^(-x))`\n",
        "    *   Description: It squashes the input to a range between 0 and 1. Historically popular for output layers in binary classification, but less common in hidden layers due to vanishing gradients.\n",
        "\n",
        "3.  **Tanh (Hyperbolic Tangent):**\n",
        "    *   Formula: `f(x) = (e^x - e^(-x)) / (e^x + e^(-x))`\n",
        "    *   Description: It squashes the input to a range between -1 and 1. Similar to sigmoid but centered around zero, which can be beneficial. Still susceptible to vanishing gradients.\n",
        "\n",
        "4.  **Leaky ReLU:**\n",
        "    *   Formula: `f(x) = max(αx, x)` where α is a small positive constant (e.g., 0.01).\n",
        "    *   Description: An improvement over ReLU that allows a small gradient when the input is negative, preventing \"dying ReLUs.\"\n",
        "\n",
        "5.  **Softmax:**\n",
        "    *   Formula: Applies an exponential function to each element of the input vector and then normalizes the results to create a probability distribution.\n",
        "    *   Description: Primarily used in the output layer of multi-class classification problems to output probabilities for each class.\n",
        "\n",
        "6.  **Linear (Identity):**\n",
        "    *   Formula: `f(x) = x`\n",
        "    *   Description: Outputs the input directly. Used in the output layer for regression problems or in layers where linearity is desired.\n",
        "\n",
        "The choice of activation function depends on the type of layer, the network architecture, and the specific problem being solved. ReLU and its variants are currently the most popular choices for hidden layers.\n",
        "\n",
        "---"
      ]
    },
    {
      "cell_type": "markdown",
      "metadata": {
        "id": "30ce2060"
      },
      "source": [
        "17. What is the difference between `torch.nn.Module` and `torch.nn.Sequential` in PyTorch?\n",
        "\n",
        "Ans. Both `torch.nn.Module` and `torch.nn.Sequential` are used to build neural networks in PyTorch, but they serve different purposes and have different levels of flexibility:\n",
        "\n",
        "1.  **`torch.nn.Module`:**\n",
        "    *   **Purpose:** This is the base class for all neural network modules in PyTorch. When we define our network as a class inheriting from `torch.nn.Module`, we have full control over the network's architecture and data flow.\n",
        "    *   **Flexibility:** Highly flexible. We define the layers in the `__init__` method and explicitly define the forward pass in the `forward` method, allowing for complex and arbitrary network structures, including those with multiple inputs/outputs, shared layers, or custom control flow.\n",
        "    *   **Usage:** We typically use `torch.nn.Module` when we need to define a custom network architecture that cannot be represented as a simple linear stack of layers.\n",
        "\n",
        "2.  **`torch.nn.Sequential`:**\n",
        "    *   **Purpose:** This is a container module that allows us to stack layers in a sequential order. The input to the `Sequential` module is passed through each layer in the order they are added.\n",
        "    *   **Flexibility:** Less flexible than `torch.nn.Module`. It's suitable for simple feedforward networks where the data flows in a linear path from one layer to the next. We cannot easily define complex connections or control flow within a `Sequential` module.\n",
        "    *   **Usage:** We typically use `torch.nn.Sequential` for building simple models or parts of a larger model that have a clear linear structure. It's convenient for quickly prototyping models.\n",
        "\n",
        "In summary:\n",
        "*   `torch.nn.Module` is the base class providing maximum flexibility for defining any network architecture.\n",
        "*   `torch.nn.Sequential` is a specific type of `Module` that simplifies building networks with a linear stack of layers.\n",
        "\n",
        "We can also combine them; for example, we can have `Sequential` modules within a custom `Module` class to organize parts of a more complex network.\n",
        "\n",
        "---"
      ]
    },
    {
      "cell_type": "markdown",
      "metadata": {
        "id": "ef7912e3"
      },
      "source": [
        "18. How can you monitor training progress in TensorFlow 2.0?\n",
        "\n",
        "Ans. Monitoring training progress in TensorFlow 2.0 is essential for understanding how our model is learning and identifying potential issues. Here are some common ways to monitor training:\n",
        "\n",
        "1.  **Using `model.fit()` Output:** The `model.fit()` method, when training our model, provides basic output during training, such as the loss and metrics (like accuracy) for each epoch. This gives us a real-time view of the training progress.\n",
        "\n",
        "2.  **Using Callbacks:** TensorFlow 2.0 provides a rich set of callbacks that can be used during training to monitor and react to the training process. Some useful callbacks for monitoring include:\n",
        "    *   **`tf.keras.callbacks.TensorBoard`:** As mentioned before, this callback logs data to a directory that can be visualized using TensorBoard. We can track metrics, visualize the model graph, analyze distributions, and more.\n",
        "    *   **`tf.keras.callbacks.CSVLogger`:** This callback streams epoch results to a CSV file, which we can then analyze offline.\n",
        "    *   **`tf.keras.callbacks.EarlyStopping`:** While primarily used for stopping training early, it monitors a specified metric (e.g., validation loss) and stops training when the metric has stopped improving, giving us insight into convergence.\n",
        "    *   **`tf.keras.callbacks.ModelCheckpoint`:** This callback saves our model or weights periodically, which is useful for saving the best model during training based on a monitored metric.\n",
        "\n",
        "3.  **Manual Logging and Printing:** We can manually log or print values within our custom training loops (if we're not using `model.fit()`) to monitor specific variables, gradients, or outputs.\n",
        "\n",
        "4.  **Custom Callbacks:** For more advanced monitoring or custom visualizations, we can create our own custom callbacks by inheriting from `tf.keras.callbacks.Callback` and implementing methods that are called at different stages of training (e.g., `on_epoch_end`, `on_batch_end`).\n",
        "\n",
        "By combining these methods, we can effectively monitor various aspects of our model's training progress in TensorFlow 2.0, allowing us to diagnose issues, tune hyperparameters, and ensure our model is learning effectively.\n",
        "\n",
        "---"
      ]
    },
    {
      "cell_type": "markdown",
      "metadata": {
        "id": "feb48060"
      },
      "source": [
        "19. How does the Keras API fit into TensorFlow 2.0?\n",
        "\n",
        "Ans. In TensorFlow 2.0, Keras is the official high-level API for building and training deep learning models. Instead of being a separate library that can run on top of various backends (like it was in its early days), Keras is now fully integrated into TensorFlow as `tf.keras`.\n",
        "\n",
        "Here's how Keras fits into TensorFlow 2.0:\n",
        "\n",
        "1.  **Official High-Level API:** Google has made `tf.keras` the recommended and primary way to build models in TensorFlow 2.0. This provides a consistent and user-friendly interface for defining neural network architectures.\n",
        "2.  **Simplified Model Building:** Keras provides abstractions like `Sequential` and the Functional API, making it much easier to define and organize layers compared to working directly with lower-level TensorFlow operations.\n",
        "3.  **Streamlined Training and Evaluation:** Keras offers convenient methods like `model.compile()`, `model.fit()`, `model.evaluate()`, and `model.predict()`, which handle the training loop, optimization, loss calculation, and metric tracking automatically.\n",
        "4.  **Integration with TensorFlow Features:** `tf.keras` seamlessly integrates with other TensorFlow 2.0 features, such as eager execution, `tf.function` for performance optimization, and distributed training strategies.\n",
        "5.  **Focus on User Experience:** The integration of Keras aims to improve the overall developer experience in TensorFlow, making it more intuitive and Pythonic, especially for newcomers to deep learning.\n",
        "\n",
        "In essence, Keras is not just an add-on to TensorFlow 2.0; it's a core and integral part of the framework, providing the primary interface for building, training, and evaluating deep learning models.\n",
        "\n",
        "---"
      ]
    },
    {
      "cell_type": "markdown",
      "metadata": {
        "id": "9d360efc"
      },
      "source": [
        "20. What is an example of a deep learning project that can be implemented using TensorFlow 2.0?\n",
        "\n",
        "Ans. A classic example of a deep learning project that can be implemented using TensorFlow 2.0 is **Image Classification**.\n",
        "\n",
        "**Project Description:**\n",
        "The goal is to build a neural network model that can classify images into different categories. A common dataset used for this is the MNIST dataset (handwritten digits) or CIFAR-10/CIFAR-100 (small color images).\n",
        "\n",
        "**Implementation using TensorFlow 2.0:**\n",
        "\n",
        "1.  **Data Loading and Preprocessing:** Load the image dataset using TensorFlow's built-in dataset loaders (`tf.keras.datasets`) or custom data pipelines (`tf.data`). Preprocess the images by normalizing pixel values, resizing, and potentially augmenting the data.\n",
        "2.  **Model Definition:** Define a Convolutional Neural Network (CNN) using `tf.keras.Sequential` or the Functional API. CNNs are well-suited for image processing tasks. The model would typically consist of convolutional layers, pooling layers, and dense layers.\n",
        "3.  **Model Compilation:** Compile the model using `model.compile()`, specifying an optimizer (e.g., 'adam'), a loss function suitable for multi-class classification (e.g., 'categorical_crossentropy' or 'sparse_categorical_crossentropy'), and metrics (e.g., 'accuracy').\n",
        "4.  **Model Training:** Train the model using the `model.fit()` method, providing the training data and labels, specifying the number of epochs and batch size. We can also include validation data to monitor performance during training and use callbacks like `TensorBoard` for visualization.\n",
        "5.  **Model Evaluation:** Evaluate the trained model's performance on a separate test set using `model.evaluate()`.\n",
        "6.  **Prediction:** Use the trained model to make predictions on new, unseen images using `model.predict()`.\n",
        "\n",
        "TensorFlow 2.0's intuitive Keras API, eager execution, and `tf.function` make implementing such an image classification project straightforward and efficient.\n",
        "\n",
        "---"
      ]
    },
    {
      "cell_type": "markdown",
      "metadata": {
        "id": "3b7bd0d5"
      },
      "source": [
        "21. What is the main advantage of using pre-trained models in TensorFlow and PyTorch?\n",
        "\n",
        "Ans. The main advantage of using pre-trained models in TensorFlow and PyTorch is **Transfer Learning**.\n",
        "\n",
        "**Transfer Learning** is a technique where a model trained on a large dataset for a specific task (the source task) is reused as the starting point for a model on a different but related task (the target task). The pre-trained model has already learned to extract useful features from the data (e.g., edges, textures, shapes in image data).\n",
        "\n",
        "By using a pre-trained model, we can:\n",
        "\n",
        "1.  **Reduce Training Time:** Instead of training a model from scratch, we can use a model that has already learned a lot about the data. This significantly reduces the time and computational resources required for training, especially when our target dataset is small.\n",
        "2.  **Improve Performance:** Pre-trained models, especially those trained on massive datasets like ImageNet, have learned robust and generalizable features. Using these features can lead to better performance on our target task, even if our dataset is limited.\n",
        "3.  **Address Data Scarcity:** When we have a small dataset for our specific task, training a deep neural network from scratch can lead to overfitting. Pre-trained models act as a form of regularization and can help achieve good performance even with limited data.\n",
        "\n",
        "We can use pre-trained models in TensorFlow and PyTorch by loading the pre-trained weights and then either:\n",
        "\n",
        "*   **Feature Extraction:** Use the pre-trained model as a fixed feature extractor and train a new classifier on top of its output.\n",
        "*   **Fine-tuning:** Unfreeze some of the layers of the pre-trained model and train them along with the new classifier on our target dataset. This allows the model to adapt the learned features to our specific task.\n",
        "\n",
        "In summary, using pre-trained models and transfer learning allows us to leverage the knowledge gained from training on large datasets, saving time and resources while often achieving better performance, especially on tasks with limited data.\n",
        "\n",
        "---"
      ]
    },
    {
      "cell_type": "markdown",
      "metadata": {
        "id": "2e900098"
      },
      "source": [
        "# **Practical Questions**"
      ]
    },
    {
      "cell_type": "markdown",
      "metadata": {
        "id": "9ab530e8"
      },
      "source": [
        "1. **How do you install and verify that TensorFlow 2.0 was installed successfully?**"
      ]
    },
    {
      "cell_type": "code",
      "metadata": {
        "id": "e2d62639"
      },
      "source": [
        "# Install TensorFlow 2.19.0 (TensorFlow 2.0 is not available)\n",
        "!pip install tensorflow==2.19.0"
      ],
      "execution_count": null,
      "outputs": []
    },
    {
      "cell_type": "code",
      "metadata": {
        "colab": {
          "base_uri": "https://localhost:8080/"
        },
        "id": "a3cb3ae1",
        "outputId": "1bdaf156-9432-43a7-9ff1-aab9c7eca87d"
      },
      "source": [
        "# Verify the installation\n",
        "import tensorflow as tf\n",
        "print(\"TensorFlow version:\", tf.__version__)"
      ],
      "execution_count": 2,
      "outputs": [
        {
          "output_type": "stream",
          "name": "stdout",
          "text": [
            "TensorFlow version: 2.19.0\n"
          ]
        }
      ]
    },
    {
      "cell_type": "markdown",
      "metadata": {
        "id": "c06d4510"
      },
      "source": [
        "2. **How can you define a simple function in TensorFlow 2.0 to perform addition?**"
      ]
    },
    {
      "cell_type": "code",
      "metadata": {
        "colab": {
          "base_uri": "https://localhost:8080/"
        },
        "id": "92f28dae",
        "outputId": "476d6629-6239-4172-e6c7-8d3fea486c46"
      },
      "source": [
        "import tensorflow as tf\n",
        "\n",
        "# Define a simple function for addition using tf.function\n",
        "@tf.function\n",
        "def add_numbers(x, y):\n",
        "  return x + y\n",
        "\n",
        "# Use the function\n",
        "result = add_numbers(tf.constant(5), tf.constant(3))\n",
        "print(\"Result of addition:\", result.numpy())"
      ],
      "execution_count": 3,
      "outputs": [
        {
          "output_type": "stream",
          "name": "stdout",
          "text": [
            "Result of addition: 8\n"
          ]
        }
      ]
    },
    {
      "cell_type": "markdown",
      "metadata": {
        "id": "a49c6901"
      },
      "source": [
        "3.  How can you create a simple neural network in TensorFlow 2.0 with one hidden layer?"
      ]
    },
    {
      "cell_type": "code",
      "metadata": {
        "colab": {
          "base_uri": "https://localhost:8080/",
          "height": 248
        },
        "id": "d9c4e335",
        "outputId": "30ff25fd-dff8-42fb-d1ba-6751b6b4838c"
      },
      "source": [
        "import tensorflow as tf\n",
        "from tensorflow import keras\n",
        "from tensorflow.keras import layers\n",
        "\n",
        "# Define a simple sequential model with one hidden layer\n",
        "model = keras.Sequential([\n",
        "    # Input layer (implicitly defined by the shape of the first layer)\n",
        "    layers.Dense(64, activation='relu', input_shape=(784,)), # Hidden layer with 64 neurons and ReLU activation\n",
        "    layers.Dense(10, activation='softmax') # Output layer with 10 neurons and Softmax activation\n",
        "])\n",
        "\n",
        "# Display the model summary\n",
        "model.summary()"
      ],
      "execution_count": 4,
      "outputs": [
        {
          "output_type": "stream",
          "name": "stderr",
          "text": [
            "/usr/local/lib/python3.12/dist-packages/keras/src/layers/core/dense.py:93: UserWarning: Do not pass an `input_shape`/`input_dim` argument to a layer. When using Sequential models, prefer using an `Input(shape)` object as the first layer in the model instead.\n",
            "  super().__init__(activity_regularizer=activity_regularizer, **kwargs)\n"
          ]
        },
        {
          "output_type": "display_data",
          "data": {
            "text/plain": [
              "\u001b[1mModel: \"sequential\"\u001b[0m\n"
            ],
            "text/html": [
              "<pre style=\"white-space:pre;overflow-x:auto;line-height:normal;font-family:Menlo,'DejaVu Sans Mono',consolas,'Courier New',monospace\"><span style=\"font-weight: bold\">Model: \"sequential\"</span>\n",
              "</pre>\n"
            ]
          },
          "metadata": {}
        },
        {
          "output_type": "display_data",
          "data": {
            "text/plain": [
              "┏━━━━━━━━━━━━━━━━━━━━━━━━━━━━━━━━━┳━━━━━━━━━━━━━━━━━━━━━━━━┳━━━━━━━━━━━━━━━┓\n",
              "┃\u001b[1m \u001b[0m\u001b[1mLayer (type)                   \u001b[0m\u001b[1m \u001b[0m┃\u001b[1m \u001b[0m\u001b[1mOutput Shape          \u001b[0m\u001b[1m \u001b[0m┃\u001b[1m \u001b[0m\u001b[1m      Param #\u001b[0m\u001b[1m \u001b[0m┃\n",
              "┡━━━━━━━━━━━━━━━━━━━━━━━━━━━━━━━━━╇━━━━━━━━━━━━━━━━━━━━━━━━╇━━━━━━━━━━━━━━━┩\n",
              "│ dense (\u001b[38;5;33mDense\u001b[0m)                   │ (\u001b[38;5;45mNone\u001b[0m, \u001b[38;5;34m64\u001b[0m)             │        \u001b[38;5;34m50,240\u001b[0m │\n",
              "├─────────────────────────────────┼────────────────────────┼───────────────┤\n",
              "│ dense_1 (\u001b[38;5;33mDense\u001b[0m)                 │ (\u001b[38;5;45mNone\u001b[0m, \u001b[38;5;34m10\u001b[0m)             │           \u001b[38;5;34m650\u001b[0m │\n",
              "└─────────────────────────────────┴────────────────────────┴───────────────┘\n"
            ],
            "text/html": [
              "<pre style=\"white-space:pre;overflow-x:auto;line-height:normal;font-family:Menlo,'DejaVu Sans Mono',consolas,'Courier New',monospace\">┏━━━━━━━━━━━━━━━━━━━━━━━━━━━━━━━━━┳━━━━━━━━━━━━━━━━━━━━━━━━┳━━━━━━━━━━━━━━━┓\n",
              "┃<span style=\"font-weight: bold\"> Layer (type)                    </span>┃<span style=\"font-weight: bold\"> Output Shape           </span>┃<span style=\"font-weight: bold\">       Param # </span>┃\n",
              "┡━━━━━━━━━━━━━━━━━━━━━━━━━━━━━━━━━╇━━━━━━━━━━━━━━━━━━━━━━━━╇━━━━━━━━━━━━━━━┩\n",
              "│ dense (<span style=\"color: #0087ff; text-decoration-color: #0087ff\">Dense</span>)                   │ (<span style=\"color: #00d7ff; text-decoration-color: #00d7ff\">None</span>, <span style=\"color: #00af00; text-decoration-color: #00af00\">64</span>)             │        <span style=\"color: #00af00; text-decoration-color: #00af00\">50,240</span> │\n",
              "├─────────────────────────────────┼────────────────────────┼───────────────┤\n",
              "│ dense_1 (<span style=\"color: #0087ff; text-decoration-color: #0087ff\">Dense</span>)                 │ (<span style=\"color: #00d7ff; text-decoration-color: #00d7ff\">None</span>, <span style=\"color: #00af00; text-decoration-color: #00af00\">10</span>)             │           <span style=\"color: #00af00; text-decoration-color: #00af00\">650</span> │\n",
              "└─────────────────────────────────┴────────────────────────┴───────────────┘\n",
              "</pre>\n"
            ]
          },
          "metadata": {}
        },
        {
          "output_type": "display_data",
          "data": {
            "text/plain": [
              "\u001b[1m Total params: \u001b[0m\u001b[38;5;34m50,890\u001b[0m (198.79 KB)\n"
            ],
            "text/html": [
              "<pre style=\"white-space:pre;overflow-x:auto;line-height:normal;font-family:Menlo,'DejaVu Sans Mono',consolas,'Courier New',monospace\"><span style=\"font-weight: bold\"> Total params: </span><span style=\"color: #00af00; text-decoration-color: #00af00\">50,890</span> (198.79 KB)\n",
              "</pre>\n"
            ]
          },
          "metadata": {}
        },
        {
          "output_type": "display_data",
          "data": {
            "text/plain": [
              "\u001b[1m Trainable params: \u001b[0m\u001b[38;5;34m50,890\u001b[0m (198.79 KB)\n"
            ],
            "text/html": [
              "<pre style=\"white-space:pre;overflow-x:auto;line-height:normal;font-family:Menlo,'DejaVu Sans Mono',consolas,'Courier New',monospace\"><span style=\"font-weight: bold\"> Trainable params: </span><span style=\"color: #00af00; text-decoration-color: #00af00\">50,890</span> (198.79 KB)\n",
              "</pre>\n"
            ]
          },
          "metadata": {}
        },
        {
          "output_type": "display_data",
          "data": {
            "text/plain": [
              "\u001b[1m Non-trainable params: \u001b[0m\u001b[38;5;34m0\u001b[0m (0.00 B)\n"
            ],
            "text/html": [
              "<pre style=\"white-space:pre;overflow-x:auto;line-height:normal;font-family:Menlo,'DejaVu Sans Mono',consolas,'Courier New',monospace\"><span style=\"font-weight: bold\"> Non-trainable params: </span><span style=\"color: #00af00; text-decoration-color: #00af00\">0</span> (0.00 B)\n",
              "</pre>\n"
            ]
          },
          "metadata": {}
        }
      ]
    },
    {
      "cell_type": "markdown",
      "metadata": {
        "id": "e0e5e414"
      },
      "source": [
        "4.  How can you visualize the training progress using TensorFlow and Matplotlib?"
      ]
    },
    {
      "cell_type": "code",
      "metadata": {
        "colab": {
          "base_uri": "https://localhost:8080/",
          "height": 465
        },
        "id": "1cdab3d9",
        "outputId": "2d4a1beb-0af6-4c73-aae9-c2e6646b2064"
      },
      "source": [
        "import tensorflow as tf\n",
        "from tensorflow import keras\n",
        "from tensorflow.keras import layers\n",
        "import matplotlib.pyplot as plt\n",
        "import numpy as np\n",
        "\n",
        "# Create a simple model\n",
        "model = keras.Sequential([\n",
        "    layers.Dense(64, activation='relu', input_shape=(784,)),\n",
        "    layers.Dense(10, activation='softmax')\n",
        "])\n",
        "\n",
        "# Compile the model\n",
        "model.compile(optimizer='adam',\n",
        "              loss='sparse_categorical_crossentropy', # Using sparse_categorical_crossentropy for integer labels\n",
        "              metrics=['accuracy'])\n",
        "\n",
        "# Generate some dummy data for training and validation\n",
        "train_data = np.random.random((1000, 784))\n",
        "train_labels = np.random.randint(10, size=(1000,)) # Dummy integer labels\n",
        "val_data = np.random.random((200, 784))\n",
        "val_labels = np.random.randint(10, size=(200,)) # Dummy integer labels\n",
        "\n",
        "# Train the model and store the history\n",
        "history = model.fit(train_data, train_labels,\n",
        "                    epochs=10,\n",
        "                    batch_size=32,\n",
        "                    validation_data=(val_data, val_labels),\n",
        "                    verbose=0) # Set verbose to 0 to avoid printing progress during fit\n",
        "\n",
        "# Plot the training and validation accuracy and loss\n",
        "history_dict = history.history\n",
        "\n",
        "acc = history_dict['accuracy']\n",
        "val_acc = history_dict['val_accuracy']\n",
        "loss = history_dict['loss']\n",
        "val_loss = history_dict['val_loss']\n",
        "\n",
        "epochs = range(1, len(acc) + 1)\n",
        "\n",
        "# Plot training and validation loss\n",
        "plt.figure(figsize=(12, 4))\n",
        "plt.subplot(1, 2, 1)\n",
        "plt.plot(epochs, loss, 'bo', label='Training loss')\n",
        "plt.plot(epochs, val_loss, 'b', label='Validation loss')\n",
        "plt.title('Training and validation loss')\n",
        "plt.xlabel('Epochs')\n",
        "plt.ylabel('Loss')\n",
        "plt.legend()\n",
        "\n",
        "# Plot training and validation accuracy\n",
        "plt.subplot(1, 2, 2)\n",
        "plt.plot(epochs, acc, 'bo', label='Training acc')\n",
        "plt.plot(epochs, val_acc, 'b', label='Validation acc')\n",
        "plt.title('Training and validation accuracy')\n",
        "plt.xlabel('Epochs')\n",
        "plt.ylabel('Accuracy')\n",
        "plt.legend()\n",
        "\n",
        "plt.show()"
      ],
      "execution_count": 5,
      "outputs": [
        {
          "output_type": "stream",
          "name": "stderr",
          "text": [
            "/usr/local/lib/python3.12/dist-packages/keras/src/layers/core/dense.py:93: UserWarning: Do not pass an `input_shape`/`input_dim` argument to a layer. When using Sequential models, prefer using an `Input(shape)` object as the first layer in the model instead.\n",
            "  super().__init__(activity_regularizer=activity_regularizer, **kwargs)\n"
          ]
        },
        {
          "output_type": "display_data",
          "data": {
            "text/plain": [
              "<Figure size 1200x400 with 2 Axes>"
            ],
            "image/png": "[encoded data removed]"
          },
          "metadata": {}
        }
      ]
    },
    {
      "cell_type": "markdown",
      "metadata": {
        "id": "e032b207"
      },
      "source": [
        "5. How do you install PyTorch and verify the PyTorch installation?"
      ]
    },
    {
      "cell_type": "code",
      "metadata": {
        "id": "0da5f449"
      },
      "source": [
        "# Install PyTorch (CPU version)\n",
        "!pip install torch torchvision torchaudio"
      ],
      "execution_count": null,
      "outputs": []
    },
    {
      "cell_type": "code",
      "metadata": {
        "colab": {
          "base_uri": "https://localhost:8080/"
        },
        "id": "d74d3277",
        "outputId": "daeff5a7-c1e1-47f2-f583-215ab1e27958"
      },
      "source": [
        "# Verify PyTorch installation\n",
        "import torch\n",
        "print(\"PyTorch version:\", torch.__version__)"
      ],
      "execution_count": 8,
      "outputs": [
        {
          "output_type": "stream",
          "name": "stdout",
          "text": [
            "PyTorch version: 2.8.0+cu126\n"
          ]
        }
      ]
    },
    {
      "cell_type": "markdown",
      "metadata": {
        "id": "8d25ea47"
      },
      "source": [
        "6. How do you create a simple neural network in PyTorch?"
      ]
    },
    {
      "cell_type": "code",
      "metadata": {
        "colab": {
          "base_uri": "https://localhost:8080/"
        },
        "id": "176ec2ee",
        "outputId": "13b93d27-36c1-4522-ee68-df652767c418"
      },
      "source": [
        "import torch\n",
        "import torch.nn as nn\n",
        "import torch.nn.functional as F\n",
        "\n",
        "# Define a simple neural network class\n",
        "class SimpleNN(nn.Module):\n",
        "    def __init__(self, input_size, hidden_size, num_classes):\n",
        "        super(SimpleNN, self).__init__()\n",
        "        self.fc1 = nn.Linear(input_size, hidden_size) # First fully connected layer\n",
        "        self.relu = nn.ReLU() # ReLU activation function\n",
        "        self.fc2 = nn.Linear(hidden_size, num_classes) # Second fully connected layer\n",
        "\n",
        "    def forward(self, x):\n",
        "        out = self.fc1(x)\n",
        "        out = self.relu(out)\n",
        "        out = self.fc2(out)\n",
        "        return out\n",
        "\n",
        "# Example usage:\n",
        "# Define hyperparameters\n",
        "input_size = 784  # For example, if working with flattened MNIST images\n",
        "hidden_size = 128\n",
        "num_classes = 10\n",
        "\n",
        "# Create an instance of the model\n",
        "model = SimpleNN(input_size, hidden_size, num_classes)\n",
        "\n",
        "print(model)"
      ],
      "execution_count": 10,
      "outputs": [
        {
          "output_type": "stream",
          "name": "stdout",
          "text": [
            "SimpleNN(\n",
            "  (fc1): Linear(in_features=784, out_features=128, bias=True)\n",
            "  (relu): ReLU()\n",
            "  (fc2): Linear(in_features=128, out_features=10, bias=True)\n",
            ")\n"
          ]
        }
      ]
    },
    {
      "cell_type": "markdown",
      "metadata": {
        "id": "cf8ea0b8"
      },
      "source": [
        "7. How do you define a loss function and optimizer in PyTorch?"
      ]
    },
    {
      "cell_type": "code",
      "metadata": {
        "colab": {
          "base_uri": "https://localhost:8080/"
        },
        "id": "3f2e77f5",
        "outputId": "ef523ef7-7253-43fe-eb1d-164ee53ee949"
      },
      "source": [
        "import torch\n",
        "import torch.nn as nn\n",
        "import torch.optim as optim\n",
        "\n",
        "# Assuming SimpleNN class is already defined from the previous question\n",
        "\n",
        "# Example usage:\n",
        "# Define hyperparameters\n",
        "input_size = 784\n",
        "hidden_size = 128\n",
        "num_classes = 10\n",
        "\n",
        "# Create an instance of the model\n",
        "model = SimpleNN(input_size, hidden_size, num_classes)\n",
        "\n",
        "# Define a Loss Function (e.g., Cross-Entropy Loss for classification)\n",
        "criterion = nn.CrossEntropyLoss()\n",
        "\n",
        "# Define an Optimizer (e.g., Adam optimizer)\n",
        "optimizer = optim.Adam(model.parameters(), lr=0.001) # Pass model parameters and learning rate\n",
        "\n",
        "print(\"Loss Function:\", criterion)\n",
        "print(\"Optimizer:\", optimizer)"
      ],
      "execution_count": 11,
      "outputs": [
        {
          "output_type": "stream",
          "name": "stdout",
          "text": [
            "Loss Function: CrossEntropyLoss()\n",
            "Optimizer: Adam (\n",
            "Parameter Group 0\n",
            "    amsgrad: False\n",
            "    betas: (0.9, 0.999)\n",
            "    capturable: False\n",
            "    decoupled_weight_decay: False\n",
            "    differentiable: False\n",
            "    eps: 1e-08\n",
            "    foreach: None\n",
            "    fused: None\n",
            "    lr: 0.001\n",
            "    maximize: False\n",
            "    weight_decay: 0\n",
            ")\n"
          ]
        }
      ]
    },
    {
      "cell_type": "markdown",
      "metadata": {
        "id": "6b6ebe7e"
      },
      "source": [
        "8.  How do you implement a custom loss function in PyTorch?"
      ]
    },
    {
      "cell_type": "code",
      "metadata": {
        "colab": {
          "base_uri": "https://localhost:8080/"
        },
        "id": "9f4726ae",
        "outputId": "0cdab1e2-9b21-41d7-8b84-331c1a5f1581"
      },
      "source": [
        "import torch\n",
        "import torch.nn as nn\n",
        "\n",
        "# Define a custom loss function\n",
        "class MeanSquaredError(nn.Module):\n",
        "    def __init__(self):\n",
        "        super(MeanSquaredError, self).__init__()\n",
        "\n",
        "    def forward(self, predictions, targets):\n",
        "        # Calculate the mean squared error\n",
        "        loss = torch.mean((predictions - targets)**2)\n",
        "        return loss\n",
        "\n",
        "# Example usage:\n",
        "# Create some dummy predictions and targets\n",
        "predictions = torch.randn(10, 1)\n",
        "targets = torch.randn(10, 1)\n",
        "\n",
        "# Create an instance of the custom loss function\n",
        "custom_loss_fn = MeanSquaredError()\n",
        "\n",
        "# Calculate the loss\n",
        "loss = custom_loss_fn(predictions, targets)\n",
        "\n",
        "print(\"Custom MSE Loss:\", loss.item())"
      ],
      "execution_count": 12,
      "outputs": [
        {
          "output_type": "stream",
          "name": "stdout",
          "text": [
            "Custom MSE Loss: 1.6645183563232422\n"
          ]
        }
      ]
    },
    {
      "cell_type": "markdown",
      "metadata": {
        "id": "a6a2ba3e"
      },
      "source": [
        "9. How do you save and load a TensorFlow model?"
      ]
    },
    {
      "cell_type": "code",
      "metadata": {
        "colab": {
          "base_uri": "https://localhost:8080/"
        },
        "id": "f8509164",
        "outputId": "01ad0db0-b245-4cfc-f3bf-042f17b76ec5"
      },
      "source": [
        "import tensorflow as tf\n",
        "from tensorflow import keras\n",
        "from tensorflow.keras import layers\n",
        "import numpy as np\n",
        "import os\n",
        "\n",
        "# Create a simple model\n",
        "model = keras.Sequential([\n",
        "    layers.Dense(64, activation='relu', input_shape=(784,)),\n",
        "    layers.Dense(10, activation='softmax')\n",
        "])\n",
        "\n",
        "# Compile the model\n",
        "model.compile(optimizer='adam',\n",
        "              loss='sparse_categorical_crossentropy',\n",
        "              metrics=['accuracy'])\n",
        "\n",
        "# Create a dummy dataset for a brief training demonstration\n",
        "x_train = np.random.random((100, 784))\n",
        "y_train = np.random.randint(10, size=(100,))\n",
        "\n",
        "# Train the model for a few epochs (optional, but good practice before saving)\n",
        "model.fit(x_train, y_train, epochs=2, verbose=0)\n",
        "\n",
        "# Define a path to save the model with .keras extension\n",
        "save_path = \"./my_tf_model.keras\"\n",
        "\n",
        "# Save the entire model\n",
        "model.save(save_path)\n",
        "\n",
        "print(f\"Model saved to: {save_path}\")"
      ],
      "execution_count": 15,
      "outputs": [
        {
          "output_type": "stream",
          "name": "stderr",
          "text": [
            "/usr/local/lib/python3.12/dist-packages/keras/src/layers/core/dense.py:93: UserWarning: Do not pass an `input_shape`/`input_dim` argument to a layer. When using Sequential models, prefer using an `Input(shape)` object as the first layer in the model instead.\n",
            "  super().__init__(activity_regularizer=activity_regularizer, **kwargs)\n"
          ]
        },
        {
          "output_type": "stream",
          "name": "stdout",
          "text": [
            "Model saved to: ./my_tf_model.keras\n"
          ]
        }
      ]
    },
    {
      "cell_type": "code",
      "metadata": {
        "colab": {
          "base_uri": "https://localhost:8080/",
          "height": 226
        },
        "id": "49b74c26",
        "outputId": "dad2dbc8-19cc-4300-da98-6ad22dc3a775"
      },
      "source": [
        "import tensorflow as tf\n",
        "import os\n",
        "\n",
        "# Define the path where the model was saved with .keras extension\n",
        "save_path = \"./my_tf_model.keras\"\n",
        "\n",
        "# Load the saved model\n",
        "loaded_model = tf.keras.models.load_model(save_path)\n",
        "\n",
        "# Display the summary of the loaded model to verify\n",
        "loaded_model.summary()\n",
        "\n",
        "print(f\"Model loaded from: {save_path}\")"
      ],
      "execution_count": 16,
      "outputs": [
        {
          "output_type": "display_data",
          "data": {
            "text/plain": [
              "\u001b[1mModel: \"sequential_3\"\u001b[0m\n"
            ],
            "text/html": [
              "<pre style=\"white-space:pre;overflow-x:auto;line-height:normal;font-family:Menlo,'DejaVu Sans Mono',consolas,'Courier New',monospace\"><span style=\"font-weight: bold\">Model: \"sequential_3\"</span>\n",
              "</pre>\n"
            ]
          },
          "metadata": {}
        },
        {
          "output_type": "display_data",
          "data": {
            "text/plain": [
              "┏━━━━━━━━━━━━━━━━━━━━━━━━━━━━━━━━━┳━━━━━━━━━━━━━━━━━━━━━━━━┳━━━━━━━━━━━━━━━┓\n",
              "┃\u001b[1m \u001b[0m\u001b[1mLayer (type)                   \u001b[0m\u001b[1m \u001b[0m┃\u001b[1m \u001b[0m\u001b[1mOutput Shape          \u001b[0m\u001b[1m \u001b[0m┃\u001b[1m \u001b[0m\u001b[1m      Param #\u001b[0m\u001b[1m \u001b[0m┃\n",
              "┡━━━━━━━━━━━━━━━━━━━━━━━━━━━━━━━━━╇━━━━━━━━━━━━━━━━━━━━━━━━╇━━━━━━━━━━━━━━━┩\n",
              "│ dense_6 (\u001b[38;5;33mDense\u001b[0m)                 │ (\u001b[38;5;45mNone\u001b[0m, \u001b[38;5;34m64\u001b[0m)             │        \u001b[38;5;34m50,240\u001b[0m │\n",
              "├─────────────────────────────────┼────────────────────────┼───────────────┤\n",
              "│ dense_7 (\u001b[38;5;33mDense\u001b[0m)                 │ (\u001b[38;5;45mNone\u001b[0m, \u001b[38;5;34m10\u001b[0m)             │           \u001b[38;5;34m650\u001b[0m │\n",
              "└─────────────────────────────────┴────────────────────────┴───────────────┘\n"
            ],
            "text/html": [
              "<pre style=\"white-space:pre;overflow-x:auto;line-height:normal;font-family:Menlo,'DejaVu Sans Mono',consolas,'Courier New',monospace\">┏━━━━━━━━━━━━━━━━━━━━━━━━━━━━━━━━━┳━━━━━━━━━━━━━━━━━━━━━━━━┳━━━━━━━━━━━━━━━┓\n",
              "┃<span style=\"font-weight: bold\"> Layer (type)                    </span>┃<span style=\"font-weight: bold\"> Output Shape           </span>┃<span style=\"font-weight: bold\">       Param # </span>┃\n",
              "┡━━━━━━━━━━━━━━━━━━━━━━━━━━━━━━━━━╇━━━━━━━━━━━━━━━━━━━━━━━━╇━━━━━━━━━━━━━━━┩\n",
              "│ dense_6 (<span style=\"color: #0087ff; text-decoration-color: #0087ff\">Dense</span>)                 │ (<span style=\"color: #00d7ff; text-decoration-color: #00d7ff\">None</span>, <span style=\"color: #00af00; text-decoration-color: #00af00\">64</span>)             │        <span style=\"color: #00af00; text-decoration-color: #00af00\">50,240</span> │\n",
              "├─────────────────────────────────┼────────────────────────┼───────────────┤\n",
              "│ dense_7 (<span style=\"color: #0087ff; text-decoration-color: #0087ff\">Dense</span>)                 │ (<span style=\"color: #00d7ff; text-decoration-color: #00d7ff\">None</span>, <span style=\"color: #00af00; text-decoration-color: #00af00\">10</span>)             │           <span style=\"color: #00af00; text-decoration-color: #00af00\">650</span> │\n",
              "└─────────────────────────────────┴────────────────────────┴───────────────┘\n",
              "</pre>\n"
            ]
          },
          "metadata": {}
        },
        {
          "output_type": "display_data",
          "data": {
            "text/plain": [
              "\u001b[1m Total params: \u001b[0m\u001b[38;5;34m152,672\u001b[0m (596.38 KB)\n"
            ],
            "text/html": [
              "<pre style=\"white-space:pre;overflow-x:auto;line-height:normal;font-family:Menlo,'DejaVu Sans Mono',consolas,'Courier New',monospace\"><span style=\"font-weight: bold\"> Total params: </span><span style=\"color: #00af00; text-decoration-color: #00af00\">152,672</span> (596.38 KB)\n",
              "</pre>\n"
            ]
          },
          "metadata": {}
        },
        {
          "output_type": "display_data",
          "data": {
            "text/plain": [
              "\u001b[1m Trainable params: \u001b[0m\u001b[38;5;34m50,890\u001b[0m (198.79 KB)\n"
            ],
            "text/html": [
              "<pre style=\"white-space:pre;overflow-x:auto;line-height:normal;font-family:Menlo,'DejaVu Sans Mono',consolas,'Courier New',monospace\"><span style=\"font-weight: bold\"> Trainable params: </span><span style=\"color: #00af00; text-decoration-color: #00af00\">50,890</span> (198.79 KB)\n",
              "</pre>\n"
            ]
          },
          "metadata": {}
        },
        {
          "output_type": "display_data",
          "data": {
            "text/plain": [
              "\u001b[1m Non-trainable params: \u001b[0m\u001b[38;5;34m0\u001b[0m (0.00 B)\n"
            ],
            "text/html": [
              "<pre style=\"white-space:pre;overflow-x:auto;line-height:normal;font-family:Menlo,'DejaVu Sans Mono',consolas,'Courier New',monospace\"><span style=\"font-weight: bold\"> Non-trainable params: </span><span style=\"color: #00af00; text-decoration-color: #00af00\">0</span> (0.00 B)\n",
              "</pre>\n"
            ]
          },
          "metadata": {}
        },
        {
          "output_type": "display_data",
          "data": {
            "text/plain": [
              "\u001b[1m Optimizer params: \u001b[0m\u001b[38;5;34m101,782\u001b[0m (397.59 KB)\n"
            ],
            "text/html": [
              "<pre style=\"white-space:pre;overflow-x:auto;line-height:normal;font-family:Menlo,'DejaVu Sans Mono',consolas,'Courier New',monospace\"><span style=\"font-weight: bold\"> Optimizer params: </span><span style=\"color: #00af00; text-decoration-color: #00af00\">101,782</span> (397.59 KB)\n",
              "</pre>\n"
            ]
          },
          "metadata": {}
        },
        {
          "output_type": "stream",
          "name": "stdout",
          "text": [
            "Model loaded from: ./my_tf_model.keras\n"
          ]
        }
      ]
    }
  ]
}