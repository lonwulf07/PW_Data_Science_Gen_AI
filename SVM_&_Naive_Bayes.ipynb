{
  "nbformat": 4,
  "nbformat_minor": 0,
  "metadata": {
    "colab": {
      "provenance": []
    },
    "kernelspec": {
      "name": "python3",
      "display_name": "Python 3"
    },
    "language_info": {
      "name": "python"
    }
  },
  "cells": [
    {
      "cell_type": "markdown",
      "source": [
        "# **SVM & Naive Bayes**"
      ],
      "metadata": {
        "id": "OLoqEZWvgaZV"
      }
    },
    {
      "cell_type": "markdown",
      "source": [
        "# **Theoretical Questions**"
      ],
      "metadata": {
        "id": "xK5QoimcgeB2"
      }
    },
    {
      "cell_type": "markdown",
      "source": [
        "1. **What is a Support Vector Machine (SVM)?**\n",
        "\n",
        "Ans. A Support Vector Machine (SVM) is a supervised machine learning algorithm used for classification and regression tasks. It works by finding the optimal hyperplane that best separates different classes in the training data. The hyperplane is chosen to maximize the margin between the classes, which are the closest data points to the hyperplane. These closest points are called support vectors, and they play a crucial role in defining the hyperplane. SVMs are particularly effective in high-dimensional spaces and can use different kernel functions to handle non-linearly separable data by mapping it to a higher-dimensional feature space.\n",
        "\n",
        "---"
      ],
      "metadata": {
        "id": "iC1KdjragqTX"
      }
    },
    {
      "cell_type": "markdown",
      "metadata": {
        "id": "83afedc2"
      },
      "source": [
        "2. **What is the difference between Hard Margin and Soft Margin SVM?**\n",
        "\n",
        "Ans. The main difference between Hard Margin and Soft Margin SVM lies in how they handle misclassified data points.\n",
        "\n",
        "*   **Hard Margin SVM:** This approach aims to find a hyperplane that perfectly separates the data points into their respective classes, allowing no misclassifications. It works well when the data is linearly separable. However, if there are any outliers or the data is not perfectly separable, a hard margin SVM might not find a solution or could be overly sensitive to noise.\n",
        "\n",
        "*   **Soft Margin SVM:** This approach allows for some misclassifications to occur. It introduces a slack variable that permits data points to be on the wrong side of the hyperplane or even within the margin. The goal is to find a balance between maximizing the margin and minimizing the misclassification errors. Soft margin SVM is more robust to noise and outliers and is suitable for data that is not perfectly linearly separable.\n",
        "\n",
        "In essence, Hard Margin SVM is stricter and assumes perfect separability, while Soft Margin SVM is more flexible and allows for some errors to achieve a better generalization on real-world, noisy data.\n",
        "\n",
        "* * *"
      ]
    },
    {
      "cell_type": "markdown",
      "metadata": {
        "id": "47d6c46c"
      },
      "source": [
        "3. **What is the mathematical intuition behind SVM?**\n",
        "\n",
        "Ans. The mathematical intuition behind SVM revolves around finding a hyperplane that maximizes the margin between the different classes. For a linearly separable dataset, a hyperplane can be represented by the equation $w \\cdot x - b = 0$, where $w$ is the normal vector to the hyperplane and $b$ is the bias term.\n",
        "\n",
        "The distance between a data point $x_i$ and the hyperplane is given by $\\frac{|w \\cdot x_i - b|}{||w||}$. SVM aims to find $w$ and $b$ such that this distance is maximized for the data points closest to the hyperplane (the support vectors).\n",
        "\n",
        "For the support vectors, the functional margin is defined as $y_i(w \\cdot x_i - b) = 1$, where $y_i$ is the class label (+1 or -1). The geometric margin is then $\\frac{1}{||w||}$. Maximizing the geometric margin is equivalent to minimizing $||w||^2$, subject to the constraint that all data points are correctly classified with a functional margin of at least 1: $y_i(w \\cdot x_i - b) \\ge 1$ for all $i$.\n",
        "\n",
        "In the case of Soft Margin SVM, a slack variable $\\xi_i$ is introduced to allow for misclassifications. The objective then becomes minimizing $\\frac{1}{2}||w||^2 + C \\sum_{i} \\xi_i$, subject to $y_i(w \\cdot x_i - b) \\ge 1 - \\xi_i$ and $\\xi_i \\ge 0$. The parameter $C$ controls the trade-off between maximizing the margin and minimizing the training errors. A smaller $C$ allows for more misclassifications, while a larger $C$ penalizes misclassifications more heavily.\n",
        "\n",
        "This optimization problem is typically solved using quadratic programming techniques. The resulting $w$ and $b$ define the optimal hyperplane, and the support vectors are the data points for which the constraint is active (i.e., $y_i(w \\cdot x_i - b) = 1$ for Hard Margin, or $y_i(w \\cdot x_i - b) = 1 - \\xi_i$ with $\\xi_i > 0$ for Soft Margin).\n",
        "\n",
        "* * *"
      ]
    },
    {
      "cell_type": "markdown",
      "metadata": {
        "id": "3e47c8dc"
      },
      "source": [
        "4. **What is the role of Lagrange Multipliers in SVM?**\n",
        "\n",
        "Ans. Lagrange multipliers play a crucial role in solving the constrained optimization problem in SVM. The problem of finding the optimal hyperplane is to minimize $\\frac{1}{2}||w||^2$ subject to the constraints $y_i(w \\cdot x_i - b) \\ge 1$ for all data points (in the case of Hard Margin SVM).\n",
        "\n",
        "This is a convex optimization problem with inequality constraints. Lagrange multipliers are used to convert this constrained problem into an unconstrained one by forming the Lagrangian function. The Lagrangian for Hard Margin SVM is:\n",
        "\n",
        "$L(w, b, \\alpha) = \\frac{1}{2}||w||^2 - \\sum_{i} \\alpha_i [y_i(w \\cdot x_i - b) - 1]$\n",
        "\n",
        "where $\\alpha_i \\ge 0$ are the Lagrange multipliers.\n",
        "\n",
        "By taking partial derivatives of the Lagrangian with respect to $w$ and $b$ and setting them to zero, we can find the optimal values. This process leads to the dual form of the optimization problem, which is often easier to solve. The dual problem involves maximizing a function of the Lagrange multipliers $\\alpha_i$, subject to certain constraints.\n",
        "\n",
        "The key insight is that the optimal $w$ can be expressed as a linear combination of the training data points, where the coefficients are the Lagrange multipliers:\n",
        "\n",
        "$w = \\sum_{i} \\alpha_i y_i x_i$\n",
        "\n",
        "The non-zero $\\alpha_i$ correspond to the support vectors. Data points that are not support vectors have $\\alpha_i = 0$. This means that the optimal hyperplane is determined only by the support vectors, making SVM computationally efficient and robust to non-support vector data points.\n",
        "\n",
        "In Soft Margin SVM, additional slack variables are introduced, and the Lagrangian formulation is extended to include these variables and their corresponding constraints. The principle remains the same: transforming the constrained problem into a dual problem involving Lagrange multipliers, where the non-zero multipliers identify the support vectors (which can now include misclassified points within the margin).\n",
        "\n",
        "In essence, Lagrange multipliers allow us to solve the SVM optimization problem efficiently by transforming it into a dual problem, and they reveal the critical role of the support vectors in defining the decision boundary.\n",
        "\n",
        "* * *"
      ]
    },
    {
      "cell_type": "markdown",
      "metadata": {
        "id": "1eafbe5a"
      },
      "source": [
        "5. **What are Support Vectors in SVM?**\n",
        "\n",
        "Ans. In Support Vector Machines (SVMs), **Support Vectors** are the data points that lie closest to the decision boundary (hyperplane). These are the points that, if removed, would alter the position of the hyperplane.\n",
        "\n",
        "More formally, support vectors are the training data points for which the Lagrange multipliers ($\\alpha_i$) in the dual optimization problem are non-zero.\n",
        "\n",
        "In a **Hard Margin SVM**, the support vectors are the points that lie exactly on the margin boundaries. Their functional margin is equal to 1.\n",
        "\n",
        "In a **Soft Margin SVM**, the support vectors can be:\n",
        "*   Points that lie exactly on the margin boundaries (functional margin = 1).\n",
        "*   Points that lie within the margin but are correctly classified (functional margin < 1).\n",
        "*   Points that are misclassified (functional margin < 0).\n",
        "\n",
        "The support vectors are critical because they are the only data points that influence the definition of the optimal hyperplane. All other data points that are not support vectors do not affect the decision boundary. This property makes SVMs memory efficient and robust to outliers that are far away from the decision boundary.\n",
        "\n",
        "* * *"
      ]
    },
    {
      "cell_type": "markdown",
      "metadata": {
        "id": "32d85da1"
      },
      "source": [
        "6. **What is a Support Vector Classifier (SVC)?**\n",
        "\n",
        "Ans. A Support Vector Classifier (SVC) is a specific implementation of the Support Vector Machine (SVM) algorithm used for **classification** tasks. While SVM is a broader term that can encompass both classification and regression (Support Vector Regression or SVR), SVC specifically refers to the application of SVM for separating data points into distinct classes.\n",
        "\n",
        "SVC works by finding the optimal hyperplane that maximizes the margin between the different classes in the feature space. It can handle both linearly separable and non-linearly separable data through the use of various kernel functions (like linear, polynomial, radial basis function (RBF), etc.) that map the data into a higher-dimensional space where it might become linearly separable.\n",
        "\n",
        "Key characteristics of SVC:\n",
        "\n",
        "*   **Supervised Learning:** It requires labeled training data.\n",
        "*   **Classification:** Its primary goal is to assign data points to one of several predefined classes.\n",
        "*   **Margin Maximization:** It aims to find the hyperplane with the largest margin between the classes, which generally leads to better generalization performance.\n",
        "*   **Kernel Trick:** It can use kernel functions to handle non-linear decision boundaries.\n",
        "*   **Support Vectors:** The decision boundary is determined by a subset of the training data points called support vectors.\n",
        "\n",
        "In essence, when we use SVM for classification, we are typically using a Support Vector Classifier (SVC). It's a powerful and versatile algorithm widely used in various classification problems.\n",
        "\n",
        "* * *"
      ]
    },
    {
      "cell_type": "markdown",
      "metadata": {
        "id": "b754bdb6"
      },
      "source": [
        "7. **What is a Support Vector Regressor (SVR)?**\n",
        "\n",
        "Ans. A Support Vector Regressor (SVR) is a specific implementation of the Support Vector Machine (SVM) algorithm used for **regression** tasks. While Support Vector Classifiers (SVC) are used for classification, SVR is used to predict a continuous output value.\n",
        "\n",
        "Similar to SVC, SVR works by finding a hyperplane, but instead of separating data points into distinct classes, it aims to find a hyperplane that best fits the data points while minimizing the error between the predicted values and the actual values. The key idea in SVR is to find a function that deviates from the target values by no more than a certain threshold (epsilon, $\\epsilon$).\n",
        "\n",
        "Key characteristics of SVR:\n",
        "\n",
        "*   **Supervised Learning:** It requires labeled training data with continuous target values.\n",
        "*   **Regression:** Its primary goal is to predict a continuous output.\n",
        "*   **Epsilon-Insensitive Loss Function:** SVR uses an epsilon-insensitive loss function, which means that errors within a certain margin ($\\epsilon$) of the predicted value are not penalized. This creates a \"tube\" around the predicted line, and the goal is to find the hyperplane that minimizes the number of data points outside this tube and the magnitude of the errors for those points.\n",
        "*   **Kernel Trick:** Like SVC, SVR can use kernel functions to handle non-linear relationships between the input features and the target variable by mapping the data into a higher-dimensional space.\n",
        "*   **Support Vectors:** The regression function is determined by a subset of the training data points, which are the support vectors. These are the points that lie outside or on the boundary of the epsilon-tube.\n",
        "\n",
        "In essence, SVR applies the principles of SVM to regression problems, aiming to find a function that provides a good fit to the data while being robust to outliers by using an epsilon-insensitive loss function.\n",
        "\n",
        "* * *"
      ]
    },
    {
      "cell_type": "markdown",
      "metadata": {
        "id": "246274ea"
      },
      "source": [
        "8. **What is the Kernel Trick in SVM?**\n",
        "\n",
        "Ans. The **Kernel Trick** is a powerful technique used in Support Vector Machines (SVMs) that allows them to handle non-linearly separable data. It avoids the explicit mapping of data into a higher-dimensional feature space, which can be computationally expensive or even infinite-dimensional.\n",
        "\n",
        "Instead of explicitly transforming the data, the kernel trick uses a **kernel function**, denoted by $K(x_i, x_j)$, which calculates the dot product between the images of two data points ($x_i$ and $x_j$) in the higher-dimensional space, without actually computing the transformation itself. Mathematically, this is expressed as:\n",
        "\n",
        "$K(x_i, x_j) = \\phi(x_i) \\cdot \\phi(x_j)$\n",
        "\n",
        "where $\\phi$ is the mapping function that transforms the data from the original feature space to the higher-dimensional space.\n",
        "\n",
        "By replacing the dot product $\\phi(x_i) \\cdot \\phi(x_j)$ with the kernel function $K(x_i, x_j)$ in the SVM optimization problem (specifically, in the dual form), SVM can effectively find a linear decision boundary in the higher-dimensional space, which corresponds to a non-linear decision boundary in the original feature space.\n",
        "\n",
        "Common kernel functions include:\n",
        "\n",
        "*   **Linear Kernel:** $K(x_i, x_j) = x_i \\cdot x_j$ (equivalent to no mapping, for linearly separable data)\n",
        "*   **Polynomial Kernel:** $K(x_i, x_j) = (\\gamma x_i \\cdot x_j + r)^d$\n",
        "*   **Radial Basis Function (RBF) or Gaussian Kernel:** $K(x_i, x_j) = \\exp(-\\gamma ||x_i - x_j||^2)$\n",
        "*   **Sigmoid Kernel:** $K(x_i, x_j) = \\tanh(\\gamma x_i \\cdot x_j + r)$\n",
        "\n",
        "The choice of the kernel function depends on the nature of the data and the desired decision boundary. The kernel trick makes SVM a flexible and powerful algorithm for handling complex, non-linear relationships in the data without incurring the computational cost of explicit feature space transformation.\n",
        "\n",
        "* * *"
      ]
    },
    {
      "cell_type": "markdown",
      "metadata": {
        "id": "f1c6e657"
      },
      "source": [
        "9. **Compare Linear Kernel, Polynomial Kernel, and RBF Kernel.**\n",
        "\n",
        "Ans. Here's a comparison of three common kernel functions used in Support Vector Machines (SVMs): Linear, Polynomial, and Radial Basis Function (RBF) kernels, presented as key points:\n",
        "\n",
        "**Linear Kernel** ($K(x_i, x_j) = x_i \\cdot x_j$)\n",
        "*   **Decision Boundary:** Linear.\n",
        "*   **Complexity:** Low.\n",
        "*   **Parameters:** None.\n",
        "*   **Suitability:** Linearly separable data, high-dimensional data where linear separation is still effective.\n",
        "*   **Pros:** Simple, fast, good for high-dimensional sparse data.\n",
        "*   **Cons:** Cannot handle non-linearly separable data well.\n",
        "\n",
        "**Polynomial Kernel** ($K(x_i, x_j) = (\\gamma x_i \\cdot x_j + r)^d$)\n",
        "*   **Decision Boundary:** Non-linear (polynomial).\n",
        "*   **Complexity:** Moderate (depends on degree $d$).\n",
        "*   **Parameters:** Degree ($d$), coefficient ($\\gamma$), independent term ($r$).\n",
        "*   **Suitability:** Data with polynomial relationships between features and target.\n",
        "*   **Pros:** Can model complex non-linear relationships.\n",
        "*   **Cons:** Can be prone to overfitting with high degrees, sensitive to parameter choice.\n",
        "\n",
        "**RBF (Gaussian) Kernel** ($K(x_i, x_j) = \\exp(-\\gamma ||x_i - x_j||^2)$)\n",
        "*   **Decision Boundary:** Non-linear (can be very complex).\n",
        "*   **Complexity:** High (can easily overfit).\n",
        "*   **Parameters:** Gamma ($\\gamma$).\n",
        "*   **Suitability:** Non-linearly separable data, often a good default choice.\n",
        "*   **Pros:** Highly flexible, can handle complex decision boundaries.\n",
        "*   **Cons:** Prone to overfitting, sensitive to $\\gamma$ parameter, computationally more expensive than linear for large datasets.\n",
        "\n",
        "**Key Considerations:**\n",
        "\n",
        "*   **Linear Kernel:** Best for linearly separable data or when we have a very large number of features (high-dimensional data) where a linear model is likely to perform well and is computationally efficient.\n",
        "*   **Polynomial Kernel:** Useful when there's a belief that the decision boundary has a polynomial form. The degree of the polynomial ($d$) is a crucial parameter to tune. Higher degrees can model more complex boundaries but increase the risk of overfitting.\n",
        "*   **RBF Kernel:** This is often the default choice and works well for many problems. It can model highly complex, non-linear decision boundaries. The $\\gamma$ parameter controls the influence of a single training example. A small $\\gamma$ means a large influence, leading to smoother boundaries, while a large $\\gamma$ means a small influence, leading to more complex and potentially overfitted boundaries.\n",
        "\n",
        "In practice, the choice of kernel often involves experimentation and cross-validation to find the one that performs best on our specific dataset. The RBF kernel is a good starting point due to its flexibility, but the Linear kernel can be surprisingly effective and computationally efficient, especially for high-dimensional data.\n",
        "\n",
        "* * *"
      ]
    },
    {
      "cell_type": "markdown",
      "metadata": {
        "id": "2e4bbb37"
      },
      "source": [
        "10. **What is the effect of the C parameter in SVM?**\n",
        "\n",
        "Ans. The **C parameter** in Support Vector Machines (SVM) is a regularization parameter that controls the trade-off between achieving a low training error and a large margin. It is primarily used in **Soft Margin SVM**.\n",
        "\n",
        "*   **Small C:** A small value of C creates a larger margin, allowing for more misclassifications in the training data. The model prioritizes finding a wider separation even if it means some training points are on the wrong side of the hyperplane or within the margin. This can lead to a simpler model and potentially better generalization on unseen data if the training data is noisy or has outliers. A smaller C promotes smoothness in the decision boundary.\n",
        "\n",
        "*   **Large C:** A large value of C creates a smaller margin, penalizing misclassifications more heavily. The model tries to classify all or almost all training data points correctly, even if it means a narrower margin. This can lead to a more complex model that fits the training data very closely but might overfit to noisy data or outliers, resulting in poor generalization on unseen data. A larger C promotes fitting the training data more strictly.\n",
        "\n",
        "In essence, the C parameter balances the desire to have a wide margin (which promotes good generalization) with the need to correctly classify the training data.\n",
        "\n",
        "*   **High C:** Low bias, high variance (potential overfitting).\n",
        "*   **Low C:** High bias, low variance (potential underfitting).\n",
        "\n",
        "Tuning the C parameter is crucial for optimizing the performance of a Soft Margin SVM model. It is typically done using techniques like cross-validation. The optimal C value depends on the specific dataset and the problem being solved.\n",
        "\n",
        "* * *"
      ]
    },
    {
      "cell_type": "markdown",
      "metadata": {
        "id": "6095b9a6"
      },
      "source": [
        "11. **What is the role of the Gamma parameter in RBF Kernel SVM?**\n",
        "\n",
        "Ans. The **Gamma ($\\gamma$) parameter** in the Radial Basis Function (RBF) kernel of SVM defines how far the influence of a single training example reaches. It can be thought of as the inverse of the radius of influence for samples selected by the model as support vectors.\n",
        "\n",
        "*   **Small Gamma:** A small value of gamma indicates a larger radius of influence, meaning that the decision boundary is smoother and considers points further away. This can lead to a simpler model that might underfit the training data if the relationship is complex.\n",
        "\n",
        "*   **Large Gamma:** A large value of gamma indicates a smaller radius of influence, meaning that the decision boundary is more complex and is heavily influenced by points that are very close. This can lead to a more complex model that fits the training data very closely but might overfit to noisy data or outliers, resulting in poor generalization on unseen data.\n",
        "\n",
        "In essence, the gamma parameter controls the flexibility of the decision boundary when using the RBF kernel.\n",
        "\n",
        "*   **High Gamma:** Low bias, high variance (potential overfitting). The model becomes highly sensitive to the training data points.\n",
        "*   **Low Gamma:** High bias, low variance (potential underfitting). The model is less sensitive to individual training data points.\n",
        "\n",
        "Tuning the gamma parameter is crucial for optimizing the performance of an RBF Kernel SVM model. It is typically done in conjunction with the C parameter using techniques like cross-validation. The optimal gamma value depends on the specific dataset and the problem being solved.\n",
        "\n",
        "* * *"
      ]
    },
    {
      "cell_type": "markdown",
      "metadata": {
        "id": "d010f151"
      },
      "source": [
        "12. **What is the Naïve Bayes classifier, and why is it called \"Naïve\"?**\n",
        "\n",
        "Ans. The **Naïve Bayes classifier** is a probabilistic machine learning algorithm based on **Bayes' Theorem**. It is primarily used for **classification** tasks. Despite its simplicity, it often performs surprisingly well, especially in text classification problems.\n",
        "\n",
        "The core idea behind Naïve Bayes is to calculate the probability of a given data point belonging to a particular class, given its features. It does this by using Bayes' Theorem, which states:\n",
        "\n",
        "$P(Class|Features) = \\frac{P(Features|Class) \\cdot P(Class)}{P(Features)}$\n",
        "\n",
        "Where:\n",
        "*   $P(Class|Features)$ is the posterior probability of the class given the features (what we want to predict).\n",
        "*   $P(Features|Class)$ is the likelihood of the features given the class.\n",
        "*   $P(Class)$ is the prior probability of the class.\n",
        "*   $P(Features)$ is the prior probability of the features.\n",
        "\n",
        "The classifier predicts the class with the highest posterior probability.\n",
        "\n",
        "It is called **\"Naïve\"** because of the **\"Naïve independence assumption\"** it makes. This assumption is that all features are **independent** of each other, given the class. Mathematically, this means:\n",
        "\n",
        "$P(Features|Class) = P(Feature_1|Class) \\cdot P(Feature_2|Class) \\cdot \\dots \\cdot P(Feature_n|Class)$\n",
        "\n",
        "In real-world datasets, features are rarely truly independent. However, this simplifying assumption makes the calculation of $P(Features|Class)$ much more computationally tractable, especially for high-dimensional data.\n",
        "\n",
        "Despite this unrealistic assumption, Naïve Bayes can still perform well because the goal is often not to get the exact probability values, but rather to determine which class has the highest probability. Even if the individual probabilities are not perfectly accurate due to the independence assumption, the relative probabilities between classes can still lead to the correct classification.\n",
        "\n",
        "In summary, the Naïve Bayes classifier is a simple yet effective probabilistic classifier based on Bayes' Theorem, and its \"Naïve\" name comes from its strong assumption of feature independence.\n",
        "\n",
        "* * *"
      ]
    },
    {
      "cell_type": "markdown",
      "metadata": {
        "id": "e58bebdc"
      },
      "source": [
        "13. **What is Bayes’ Theorem?**\n",
        "\n",
        "Ans. **Bayes' Theorem** is a fundamental theorem in probability theory that describes how to update the probability of a hypothesis based on new evidence. It's a way to revise existing predictions or theories (update prior probabilities) in light of new, relevant data.\n",
        "\n",
        "Mathematically, Bayes' Theorem is stated as:\n",
        "\n",
        "$P(A|B) = \\frac{P(B|A) \\cdot P(A)}{P(B)}$\n",
        "\n",
        "Where:\n",
        "\n",
        "*   $P(A|B)$ is the **posterior probability**: the probability of hypothesis A being true given the evidence B. This is what we want to find.\n",
        "*   $P(B|A)$ is the **likelihood**: the probability of observing the evidence B given that the hypothesis A is true.\n",
        "*   $P(A)$ is the **prior probability**: the initial probability of hypothesis A being true before observing any evidence.\n",
        "*   $P(B)$ is the **evidence (or marginal likelihood)**: the probability of observing the evidence B under all possible hypotheses. It acts as a normalizing constant.\n",
        "\n",
        "In simpler terms, Bayes' Theorem tells us how to calculate the probability of something (hypothesis A) being true, given that we have observed some data (evidence B). It combines our initial belief about the hypothesis ($P(A)$) with the likelihood of observing the data if the hypothesis were true ($P(B|A)$), normalized by the overall probability of the data ($P(B)$).\n",
        "\n",
        "Bayes' Theorem is widely used in various fields, including statistics, machine learning (as seen in Naïve Bayes), medical diagnosis, and finance, for tasks such as:\n",
        "\n",
        "*   **Updating beliefs:** Incorporating new information to refine probability estimates.\n",
        "*   **Classification:** Determining the probability of a data point belonging to a certain class given its features.\n",
        "*   **Inference:** Making conclusions about unknown parameters or events based on observed data.\n",
        "\n",
        "It provides a principled way to reason under uncertainty and make decisions based on probabilistic information.\n",
        "\n",
        "* * *"
      ]
    },
    {
      "cell_type": "markdown",
      "metadata": {
        "id": "8afeebe6"
      },
      "source": [
        "14. **Explain the differences between Gaussian Naïve Bayes, Multinomial Naïve Bayes, and Bernoulli Naïve Bayes.**\n",
        "\n",
        "Ans. The different types of Naïve Bayes classifiers primarily differ in the assumptions they make about the distribution of the features, given the class. Here's a breakdown of the key differences:\n",
        "\n",
        "**Gaussian Naïve Bayes:**\n",
        "*   **Assumption:** Assumes that the continuous features associated with each class are distributed according to a Gaussian (Normal) distribution.\n",
        "*   **Suitability:** Used when features are continuous and can be reasonably assumed to follow a Gaussian distribution.\n",
        "*   **How it works:** Calculates the likelihood of a feature value given a class using the probability density function of the Gaussian distribution, estimated from the training data (mean and standard deviation for each feature and class).\n",
        "\n",
        "**Multinomial Naïve Bayes:**\n",
        "*   **Assumption:** Assumes that the features represent counts or frequencies of events, typically used for discrete data like word counts in text classification. It assumes that the features are generated from a multinomial distribution.\n",
        "*   **Suitability:** Commonly used for text classification problems (e.g., spam filtering, document categorization) where features are word counts or term frequencies.\n",
        "*   **How it works:** Calculates the likelihood of a feature value (e.g., count of a word) given a class based on the observed frequencies of those features in the training data for that class. It often uses Laplace smoothing to handle zero counts.\n",
        "\n",
        "**Bernoulli Naïve Bayes:**\n",
        "*   **Assumption:** Assumes that the features are binary (Boolean), meaning they represent the presence or absence of a particular feature. It assumes that the features are generated from a Bernoulli distribution.\n",
        "*   **Suitability:** Used for binary data, such as whether a word appears in a document or not (as opposed to how many times it appears).\n",
        "*   **How it works:** Calculates the likelihood of a feature being present or absent given a class based on the observed proportions of that feature in the training data for that class.\n",
        "\n",
        "In practice, the choice of which Naïve Bayes variant to use depends on the nature of our data and the assumptions we can reasonably make about the feature distributions.\n",
        "\n",
        "* * *"
      ]
    },
    {
      "cell_type": "markdown",
      "metadata": {
        "id": "7aa998d5"
      },
      "source": [
        "15. **When should you use Gaussian Naïve Bayes over other variants?**\n",
        "\n",
        "Ans. We should use **Gaussian Naïve Bayes** when our features are **continuous** and can be reasonably assumed to follow a **Gaussian (Normal) distribution** within each class.\n",
        "\n",
        "Here are some scenarios where Gaussian Naïve Bayes is a suitable choice:\n",
        "\n",
        "*   **Features are naturally continuous:** If our data's features are measurements like height, weight, temperature, voltage, etc., and these measurements tend to cluster around a mean for each class, a Gaussian distribution assumption might be appropriate.\n",
        "*   **Data is approximately normally distributed:** Even if the features aren't perfectly Gaussian, if their distribution is roughly bell-shaped, Gaussian Naïve Bayes can still perform well.\n",
        "*   **Relatively small dataset:** For smaller datasets, making a parametric assumption about the feature distribution (like Gaussian) can sometimes lead to better results than non-parametric methods, provided the assumption is somewhat valid.\n",
        "*   **Baseline model:** Gaussian Naïve Bayes is often used as a simple and fast baseline model for continuous data before trying more complex algorithms.\n",
        "\n",
        "Conversely, we would typically **not** use Gaussian Naïve Bayes if:\n",
        "\n",
        "*   **Features are discrete or binary:** For count data (like word frequencies) or binary data (like presence/absence), Multinomial or Bernoulli Naïve Bayes would be more appropriate, respectively.\n",
        "*   **Features are clearly not normally distributed:** If our continuous features have highly skewed distributions, multiple modes, or other non-Gaussian patterns, the Gaussian assumption will be violated, and other algorithms or feature transformations might be necessary.\n",
        "\n",
        "In summary, use Gaussian Naïve Bayes when dealing with continuous features that are likely to be normally distributed within each class.\n",
        "\n",
        "* * *"
      ]
    },
    {
      "cell_type": "markdown",
      "metadata": {
        "id": "2eb5016b"
      },
      "source": [
        "16. **What are the key assumptions made by Naïve Bayes?**\n",
        "\n",
        "Ans. The primary and most significant assumption made by all variants of the Naïve Bayes classifier is the **\"Naïve independence assumption\"**. This assumption states that:\n",
        "\n",
        "*   **Conditional Independence of Features:** Given the class, all features are independent of each other.\n",
        "\n",
        "Mathematically, this means that for a set of features $F = \\{f_1, f_2, \\dots, f_n\\}$ and a class $C$, the probability of observing the features given the class can be calculated as the product of the probabilities of observing each individual feature given the class:\n",
        "\n",
        "$P(F|C) = P(f_1|C) \\cdot P(f_2|C) \\cdot \\dots \\cdot P(f_n|C)$\n",
        "\n",
        "This assumption is often unrealistic in real-world scenarios, as features are rarely truly independent. For example, in a text classification task, the presence of one word might be highly correlated with the presence of another word.\n",
        "\n",
        "Despite this strong and often violated assumption, Naïve Bayes can still perform well in practice for several reasons:\n",
        "\n",
        "*   **Classification vs. Probability Estimation:** Naïve Bayes aims to find the class with the highest probability, not necessarily the exact probability values. Even if the individual feature probabilities are inaccurate due to the independence assumption, the relative probabilities between classes might still lead to the correct classification.\n",
        "*   **Simplicity and Speed:** The independence assumption simplifies the model significantly, making it very fast to train and predict, especially on large datasets with many features.\n",
        "*   **Robustness to Irrelevant Features:** Irrelevant features that are independent of the class tend to have a small impact on the overall probability calculation.\n",
        "\n",
        "In addition to the core independence assumption, different variants of Naïve Bayes make assumptions about the **distribution of the features** given the class:\n",
        "\n",
        "*   **Gaussian Naïve Bayes:** Assumes continuous features follow a Gaussian (Normal) distribution within each class.\n",
        "*   **Multinomial Naïve Bayes:** Assumes features are discrete counts generated from a multinomial distribution (often used for text data).\n",
        "*   **Bernoulli Naïve Bayes:** Assumes features are binary (presence/absence) and generated from a Bernoulli distribution.\n",
        "\n",
        "Understanding these assumptions is important for choosing the appropriate Naïve Bayes variant and interpreting the model's results.\n",
        "\n",
        "* * *"
      ]
    },
    {
      "cell_type": "markdown",
      "metadata": {
        "id": "28a7cd44"
      },
      "source": [
        "17. **What are the advantages and disadvantages of Naïve Bayes?**\n",
        "\n",
        "Ans. The Naïve Bayes classifier, despite its simplicity and \"naïve\" assumption, has several advantages and disadvantages:\n",
        "\n",
        "**Advantages:**\n",
        "\n",
        "*   **Simplicity:** It is a very simple algorithm to understand and implement.\n",
        "*   **Speed:** It is computationally efficient and can be trained and used for prediction very quickly, even on large datasets. This makes it suitable for real-time predictions.\n",
        "*   **Requires less training data:** Compared to more complex models, Naïve Bayes can perform well with relatively small amounts of training data, especially when the independence assumption holds reasonably well.\n",
        "*   **Handles high-dimensional data:** It performs well with a large number of features, which is common in text classification.\n",
        "*   **Insensitive to irrelevant features:** Features that are independent of the class have minimal impact on the classification result.\n",
        "*   **Good for text classification:** It is a popular and often effective algorithm for text-related tasks like spam filtering, sentiment analysis, and document categorization.\n",
        "\n",
        "**Disadvantages:**\n",
        "\n",
        "*   **Strong independence assumption:** The \"naïve\" assumption that features are independent given the class is often violated in real-world data. This can lead to suboptimal performance if the features are highly correlated.\n",
        "*   **Zero Probability Problem (for Multinomial and Bernoulli):** If a feature value in the test data did not appear in the training data for a particular class, the probability of that feature given the class will be zero. This can lead to the entire posterior probability for that class being zero, regardless of other features. Smoothing techniques (like Laplace smoothing) are often used to mitigate this.\n",
        "*   **Poor probability estimates:** While Naïve Bayes often performs well in classification (predicting the correct class), the actual probability values it outputs can be unreliable due to the independence assumption.\n",
        "*   **Can be outperformed by more complex models:** For complex relationships between features and classes, more sophisticated algorithms like SVMs, Logistic Regression, or deep learning models might achieve better accuracy, especially with sufficient data.\n",
        "\n",
        "In summary, Naïve Bayes is a fast, simple, and effective baseline classifier, particularly for tasks where the independence assumption is not severely violated (like many text problems). However, its performance can be limited by its strong assumptions and the potential for poor probability estimates.\n",
        "\n",
        "* * *"
      ]
    },
    {
      "cell_type": "markdown",
      "metadata": {
        "id": "bc0a8f5c"
      },
      "source": [
        "18. **Why is Naïve Bayes a good choice for text classification?**\n",
        "\n",
        "Ans. Naïve Bayes is often a good choice for text classification problems for several reasons, despite its \"naïve\" independence assumption:\n",
        "\n",
        "*   **Simplicity and Speed:** Text datasets can be very large with a high number of features (words). Naïve Bayes is computationally very efficient and can be trained quickly on such datasets, making it suitable for large-scale text classification tasks.\n",
        "*   **Handles High-Dimensional Data Well:** Text data naturally lends itself to high-dimensional representations (e.g., bag-of-words where each unique word is a feature). Naïve Bayes performs well in such high-dimensional spaces.\n",
        "*   **Effective with Limited Data:** For text classification tasks where labeled training data is scarce, Naïve Bayes can often provide a reasonable baseline performance.\n",
        "*   **Probabilistic Nature:** The probabilistic framework of Naïve Bayes aligns well with modeling the likelihood of words appearing in a document given its class (e.g., the probability of seeing the word \"spam\" in a spam email).\n",
        "*   **Robustness to Irrelevant Features:** In text, many words might be irrelevant to the classification task. Naïve Bayes is relatively insensitive to such irrelevant features, as their probabilities tend to be similar across different classes.\n",
        "*   **Common Baselines:** Due to its simplicity and effectiveness, Naïve Bayes models (especially Multinomial Naïve Bayes) are often used as strong baselines to compare against more complex models in text classification research and applications.\n",
        "\n",
        "While the independence assumption between words in a document is often violated (e.g., \"San\" and \"Francisco\" are highly dependent), Naïve Bayes still works well in practice because the goal is often to find the class with the highest probability, not necessarily the exact probabilities. The relative probabilities between classes can still be accurately ranked for classification purposes.\n",
        "\n",
        "* * *"
      ]
    },
    {
      "cell_type": "markdown",
      "metadata": {
        "id": "61a7c130"
      },
      "source": [
        "19. **Compare SVM and Naïve Bayes for classification tasks.**\n",
        "\n",
        "Ans. Both Support Vector Machines (SVM) and Naïve Bayes are popular and effective algorithms for classification tasks, but they differ in their underlying principles, assumptions, and characteristics. Here's a comparison:\n",
        "\n",
        "**Support Vector Machines (SVM)**\n",
        "\n",
        "*   **Approach:** Discriminative model. It finds a decision boundary that best separates the classes by maximizing the margin between the support vectors.\n",
        "*   **Assumptions:** Makes fewer assumptions about the underlying data distribution compared to Naïve Bayes. It assumes that the data is separable (linearly or non-linearly in a higher dimension).\n",
        "*   **Handling of Feature Dependence:** Naturally handles correlations and dependencies between features.\n",
        "*   **Kernel Trick:** Can use kernel functions to handle non-linearly separable data by implicitly mapping it to a higher-dimensional space.\n",
        "*   **Performance:** Often achieves high accuracy, especially on complex datasets with clear separation boundaries. Can be very effective in high-dimensional spaces.\n",
        "*   **Training Time:** Can be computationally expensive to train, especially on large datasets, as it involves solving a quadratic programming problem.\n",
        "*   **Interpretability:** Less interpretable than Naïve Bayes; the decision boundary is defined by support vectors, and the weights are not as directly related to feature importance as in some other models.\n",
        "*   **Sensitivity to Scaling:** Sensitive to the scaling of features, so feature scaling is often required.\n",
        "*   **Handling of Outliers:** Can be sensitive to outliers, especially in Hard Margin SVM. Soft Margin SVM is more robust but still influenced by outliers within or near the margin.\n",
        "\n",
        "**Naïve Bayes**\n",
        "\n",
        "*   **Approach:** Generative model. It calculates the probability of a data point belonging to each class based on the probability distribution of features given the class, using Bayes' Theorem.\n",
        "*   **Assumptions:** Makes the strong \"Naïve independence assumption\" that all features are independent given the class. Different variants assume specific feature distributions (Gaussian, Multinomial, Bernoulli).\n",
        "*   **Handling of Feature Dependence:** Assumes features are independent, which is often violated in practice. This can impact the accuracy of probability estimates but may still lead to correct classification.\n",
        "*   **Kernel Trick:** Does not use the kernel trick. It works directly in the original feature space (or a transformed space, but not through a kernel function).\n",
        "*   **Performance:** Can perform surprisingly well, especially on text classification tasks, despite its strong assumption. It is often a good baseline model. Its performance can degrade if the independence assumption is severely violated.\n",
        "*   **Training Time:** Very fast to train, even on large datasets, due to the simple probability calculations.\n",
        "*   **Interpretability:** More interpretable than SVM; the probabilities associated with features can provide insights into feature importance for classification.\n",
        "*   **Sensitivity to Scaling:** Not sensitive to the scaling of features.\n",
        "*   **Handling of Outliers:** Generally less sensitive to outliers compared to Hard Margin SVM.\n",
        "\n",
        "* * *"
      ]
    },
    {
      "cell_type": "markdown",
      "metadata": {
        "id": "56ea6985"
      },
      "source": [
        "20. **How does Laplace Smoothing help in Naïve Bayes?**\n",
        "\n",
        "Ans. **Laplace Smoothing**, also known as add-one smoothing (or add-alpha smoothing more generally), is a technique used in Naïve Bayes classifiers (particularly Multinomial and Bernoulli variants) to address the **zero probability problem**.\n",
        "\n",
        "The zero probability problem occurs when a feature value that is present in the test data was not observed in the training data for a particular class. In the standard Naïve Bayes calculation, the likelihood of this feature given the class would be zero: $P(Feature|Class) = 0$. Due to the multiplication of probabilities in the Naïve Bayes formula (due to the independence assumption), if any single feature likelihood is zero, the entire posterior probability for that class will become zero, regardless of the other features. This can lead to incorrect classifications, as the model will never predict that class if it encounters that unseen feature.\n",
        "\n",
        "Laplace smoothing mitigates this problem by adding a small constant value (typically 1, hence \"add-one smoothing\") to the count of each feature for each class, including those that were not observed. This ensures that no feature count is ever zero.\n",
        "\n",
        "The formula for calculating the smoothed likelihood of a feature $f$ given a class $C$ is:\n",
        "\n",
        "$P(f|C) = \\frac{Count(f, C) + \\alpha}{Count(C) + \\alpha \\cdot N}$\n",
        "\n",
        "Where:\n",
        "*   $Count(f, C)$ is the number of times feature $f$ appeared in training examples of class $C$.\n",
        "*   $Count(C)$ is the total number of features in training examples of class $C$.\n",
        "*   $\\alpha$ is the smoothing parameter (typically 1).\n",
        "*   $N$ is the total number of unique features in the vocabulary (for Multinomial Naïve Bayes) or the number of binary features (for Bernoulli Naïve Bayes).\n",
        "\n",
        "By adding $\\alpha$ to the numerator and $\\alpha \\cdot N$ to the denominator, Laplace smoothing ensures that even if a feature was not observed in the training data for a class ($Count(f, C) = 0$), its smoothed likelihood $P(f|C)$ will be a small non-zero value. This prevents the entire class probability from becoming zero and allows the classifier to still consider that class based on the other features.\n",
        "\n",
        "In summary, Laplace smoothing helps in Naïve Bayes by:\n",
        "\n",
        "*   **Preventing the zero probability problem:** Ensures that all feature likelihoods are non-zero.\n",
        "*   **Improving robustness:** Makes the model more robust to unseen feature values in the test data.\n",
        "*   **Providing better probability estimates:** While still not perfectly accurate, the smoothed probabilities are generally more reliable than those without smoothing.\n",
        "\n",
        "It's a simple yet effective technique for improving the performance and stability of Naïve Bayes classifiers, especially when dealing with sparse data or limited training examples.\n",
        "\n",
        "* * *"
      ]
    },
    {
      "cell_type": "markdown",
      "source": [
        "# **Practical Questions**"
      ],
      "metadata": {
        "id": "2RwrIGd7kQsI"
      }
    },
    {
      "cell_type": "markdown",
      "source": [
        "21. **Write a Python program to train an SVM Classifier on the Iris dataset and evaluate accuracy.**"
      ],
      "metadata": {
        "id": "SvGxrxO7kb55"
      }
    },
    {
      "cell_type": "code",
      "metadata": {
        "colab": {
          "base_uri": "https://localhost:8080/"
        },
        "id": "0e8c8ff0",
        "outputId": "a3a2b7af-62c7-4558-d428-76c2f9875d9a"
      },
      "source": [
        "from sklearn import datasets\n",
        "from sklearn.model_selection import train_test_split\n",
        "from sklearn.svm import SVC\n",
        "from sklearn.metrics import accuracy_score\n",
        "\n",
        "# Load the Iris dataset\n",
        "iris = datasets.load_iris()\n",
        "X = iris.data\n",
        "y = iris.target\n",
        "\n",
        "# Split the data into training and testing sets\n",
        "X_train, X_test, y_train, y_test = train_test_split(X, y, test_size=0.3, random_state=42)\n",
        "\n",
        "# Create an SVM classifier object\n",
        "# Using a linear kernel as a starting point\n",
        "svm_classifier = SVC(kernel='linear')\n",
        "\n",
        "# Train the classifier\n",
        "svm_classifier.fit(X_train, y_train)\n",
        "\n",
        "# Predict on the test set\n",
        "y_pred = svm_classifier.predict(X_test)\n",
        "\n",
        "# Evaluate the accuracy\n",
        "accuracy = accuracy_score(y_test, y_pred)\n",
        "\n",
        "print(f\"Accuracy of the SVM Classifier on the Iris dataset: {accuracy:.2f}\")"
      ],
      "execution_count": null,
      "outputs": [
        {
          "output_type": "stream",
          "name": "stdout",
          "text": [
            "Accuracy of the SVM Classifier on the Iris dataset: 1.00\n"
          ]
        }
      ]
    },
    {
      "cell_type": "markdown",
      "source": [
        "22. **Write a Python program to train two SVM classifiers with Linear and RBF kernels on the Wine dataset, then compare their accuracies.**"
      ],
      "metadata": {
        "id": "E19gxN02ko2M"
      }
    },
    {
      "cell_type": "code",
      "metadata": {
        "colab": {
          "base_uri": "https://localhost:8080/"
        },
        "id": "48caa05c",
        "outputId": "cbd97b7e-7559-4599-dcf4-afdc6dc90353"
      },
      "source": [
        "from sklearn import datasets\n",
        "from sklearn.model_selection import train_test_split\n",
        "from sklearn.svm import SVC\n",
        "from sklearn.metrics import accuracy_score\n",
        "\n",
        "# Load the Wine dataset\n",
        "wine = datasets.load_wine()\n",
        "X = wine.data\n",
        "y = wine.target\n",
        "\n",
        "# Split the data into training and testing sets\n",
        "X_train, X_test, y_train, y_test = train_test_split(X, y, test_size=0.3, random_state=42)\n",
        "\n",
        "# Create SVM classifiers with different kernels\n",
        "svm_linear = SVC(kernel='linear')\n",
        "svm_rbf = SVC(kernel='rbf')\n",
        "\n",
        "# Train the linear kernel SVM\n",
        "svm_linear.fit(X_train, y_train)\n",
        "\n",
        "# Train the RBF kernel SVM\n",
        "svm_rbf.fit(X_train, y_train)\n",
        "\n",
        "# Predict on the test set for both classifiers\n",
        "y_pred_linear = svm_linear.predict(X_test)\n",
        "y_pred_rbf = svm_rbf.predict(X_test)\n",
        "\n",
        "# Evaluate the accuracy for both classifiers\n",
        "accuracy_linear = accuracy_score(y_test, y_pred_linear)\n",
        "accuracy_rbf = accuracy_score(y_test, y_pred_rbf)\n",
        "\n",
        "print(f\"Accuracy of SVM with Linear Kernel on Wine dataset: {accuracy_linear:.2f}\")\n",
        "print(f\"Accuracy of SVM with RBF Kernel on Wine dataset: {accuracy_rbf:.2f}\")\n",
        "\n",
        "# Compare accuracies\n",
        "if accuracy_linear > accuracy_rbf:\n",
        "    print(\"Linear kernel performed better than RBF kernel.\")\n",
        "elif accuracy_rbf > accuracy_linear:\n",
        "    print(\"RBF kernel performed better than Linear kernel.\")\n",
        "else:\n",
        "    print(\"Both Linear and RBF kernels performed equally well.\")"
      ],
      "execution_count": null,
      "outputs": [
        {
          "output_type": "stream",
          "name": "stdout",
          "text": [
            "Accuracy of SVM with Linear Kernel on Wine dataset: 0.98\n",
            "Accuracy of SVM with RBF Kernel on Wine dataset: 0.76\n",
            "Linear kernel performed better than RBF kernel.\n"
          ]
        }
      ]
    },
    {
      "cell_type": "markdown",
      "source": [
        "23. **Write a Python program to train an SVM Regressor (SVR) on a housing dataset and evaluate it using Mean Squared Error (MSE).**"
      ],
      "metadata": {
        "id": "Ec2WppnFkyS_"
      }
    },
    {
      "cell_type": "code",
      "metadata": {
        "colab": {
          "base_uri": "https://localhost:8080/"
        },
        "id": "f85ab158",
        "outputId": "41d0f592-cfeb-4316-b8b5-cb07b2d754a5"
      },
      "source": [
        "from sklearn.datasets import fetch_california_housing\n",
        "from sklearn.model_selection import train_test_split\n",
        "from sklearn.svm import SVR\n",
        "from sklearn.metrics import mean_squared_error\n",
        "\n",
        "# Load the California Housing dataset\n",
        "housing = fetch_california_housing()\n",
        "X = housing.data\n",
        "y = housing.target\n",
        "\n",
        "# Split the data into training and testing sets\n",
        "X_train, X_test, y_train, y_test = train_test_split(X, y, test_size=0.3, random_state=42)\n",
        "\n",
        "# Create an SVR object\n",
        "# Using an RBF kernel as a common choice for regression\n",
        "svr_regressor = SVR(kernel='rbf')\n",
        "\n",
        "# Train the regressor\n",
        "svr_regressor.fit(X_train, y_train)\n",
        "\n",
        "# Predict on the test set\n",
        "y_pred = svr_regressor.predict(X_test)\n",
        "\n",
        "# Evaluate the regressor using Mean Squared Error (MSE)\n",
        "mse = mean_squared_error(y_test, y_pred)\n",
        "\n",
        "print(f\"Mean Squared Error (MSE) of the SVR on the California Housing dataset: {mse:.2f}\")"
      ],
      "execution_count": null,
      "outputs": [
        {
          "output_type": "stream",
          "name": "stdout",
          "text": [
            "Mean Squared Error (MSE) of the SVR on the California Housing dataset: 1.35\n"
          ]
        }
      ]
    },
    {
      "cell_type": "markdown",
      "source": [
        "24. **Write a Python program to train an SVM Classifier with a Polynomial Kernel and visualize the decision boundary.**"
      ],
      "metadata": {
        "id": "JD-RquZmk5uc"
      }
    },
    {
      "cell_type": "code",
      "metadata": {
        "colab": {
          "base_uri": "https://localhost:8080/",
          "height": 472
        },
        "id": "787a933b",
        "outputId": "a89e456a-0842-45c2-bc17-8a4a874abb94"
      },
      "source": [
        "import numpy as np\n",
        "import matplotlib.pyplot as plt\n",
        "from sklearn import datasets\n",
        "from sklearn.model_selection import train_test_split\n",
        "from sklearn.svm import SVC\n",
        "\n",
        "# Generate a synthetic dataset with two features for visualization\n",
        "X, y = datasets.make_circles(n_samples=100, factor=.1, noise=.1, random_state=42)\n",
        "\n",
        "# Split the data into training and testing sets\n",
        "X_train, X_test, y_train, y_test = train_test_split(X, y, test_size=0.3, random_state=42)\n",
        "\n",
        "# Create an SVM classifier with a Polynomial kernel\n",
        "# You can adjust the degree and other parameters\n",
        "svm_poly = SVC(kernel='poly', degree=3, gamma='auto', C=1.0)\n",
        "\n",
        "# Train the classifier\n",
        "svm_poly.fit(X_train, y_train)\n",
        "\n",
        "# Create a mesh to plot the decision boundary\n",
        "h = .02  # step size in the mesh\n",
        "x_min, x_max = X[:, 0].min() - 1, X[:, 0].max() + 1\n",
        "y_min, y_max = X[:, 1].min() - 1, X[:, 1].max() + 1\n",
        "xx, yy = np.meshgrid(np.arange(x_min, x_max, h),\n",
        "                     np.arange(y_min, y_max, h))\n",
        "\n",
        "# Predict the class for each point in the mesh\n",
        "Z = svm_poly.predict(np.c_[xx.ravel(), yy.ravel()])\n",
        "Z = Z.reshape(xx.shape)\n",
        "\n",
        "# Plot the decision boundary\n",
        "plt.contourf(xx, yy, Z, cmap=plt.cm.coolwarm, alpha=0.8)\n",
        "\n",
        "# Plot the training points\n",
        "plt.scatter(X_train[:, 0], X_train[:, 1], c=y_train, cmap=plt.cm.coolwarm, edgecolors='k')\n",
        "plt.xlabel('Feature 1')\n",
        "plt.ylabel('Feature 2')\n",
        "plt.title('SVM with Polynomial Kernel Decision Boundary')\n",
        "plt.show()"
      ],
      "execution_count": null,
      "outputs": [
        {
          "output_type": "display_data",
          "data": {
            "text/plain": [
              "<Figure size 640x480 with 1 Axes>"
            ],
            "image/png": "[encoded data removed]"
          },
          "metadata": {}
        }
      ]
    },
    {
      "cell_type": "markdown",
      "source": [
        "25. **Write a Python program to train a Gaussian Naïve Bayes classifier on the Breast Cancer dataset and evaluate accuracy.**"
      ],
      "metadata": {
        "id": "ncczJ2o2lC7t"
      }
    },
    {
      "cell_type": "code",
      "metadata": {
        "colab": {
          "base_uri": "https://localhost:8080/"
        },
        "id": "378837a5",
        "outputId": "00e4e986-4aa0-4b49-fc85-c147b49232a8"
      },
      "source": [
        "from sklearn import datasets\n",
        "from sklearn.model_selection import train_test_split\n",
        "from sklearn.naive_bayes import GaussianNB\n",
        "from sklearn.metrics import accuracy_score\n",
        "\n",
        "# Load the Breast Cancer dataset\n",
        "breast_cancer = datasets.load_breast_cancer()\n",
        "X = breast_cancer.data\n",
        "y = breast_cancer.target\n",
        "\n",
        "# Split the data into training and testing sets\n",
        "X_train, X_test, y_train, y_test = train_test_split(X, y, test_size=0.3, random_state=42)\n",
        "\n",
        "# Create a Gaussian Naïve Bayes classifier object\n",
        "gnb_classifier = GaussianNB()\n",
        "\n",
        "# Train the classifier\n",
        "gnb_classifier.fit(X_train, y_train)\n",
        "\n",
        "# Predict on the test set\n",
        "y_pred = gnb_classifier.predict(X_test)\n",
        "\n",
        "# Evaluate the accuracy\n",
        "accuracy = accuracy_score(y_test, y_pred)\n",
        "\n",
        "print(f\"Accuracy of the Gaussian Naïve Bayes Classifier on the Breast Cancer dataset: {accuracy:.2f}\")"
      ],
      "execution_count": null,
      "outputs": [
        {
          "output_type": "stream",
          "name": "stdout",
          "text": [
            "Accuracy of the Gaussian Naïve Bayes Classifier on the Breast Cancer dataset: 0.94\n"
          ]
        }
      ]
    },
    {
      "cell_type": "markdown",
      "source": [
        "26. **Write a Python program to train a Multinomial Naïve Bayes classifier for text classification using the 20 Newsgroups dataset.**"
      ],
      "metadata": {
        "id": "gGlzUkOXlKVf"
      }
    },
    {
      "cell_type": "code",
      "metadata": {
        "colab": {
          "base_uri": "https://localhost:8080/"
        },
        "id": "c38687a8",
        "outputId": "f3020d7e-7b21-46ba-9906-dc6095e55498"
      },
      "source": [
        "from sklearn.datasets import fetch_20newsgroups\n",
        "from sklearn.model_selection import train_test_split\n",
        "from sklearn.feature_extraction.text import TfidfVectorizer\n",
        "from sklearn.naive_bayes import MultinomialNB\n",
        "from sklearn.metrics import accuracy_score, classification_report\n",
        "\n",
        "# Load the 20 Newsgroups dataset\n",
        "# We'll select a subset of categories for simplicity\n",
        "categories = ['alt.atheism', 'soc.religion.christian', 'comp.graphics', 'sci.med']\n",
        "newsgroups_train = fetch_20newsgroups(subset='train', categories=categories, shuffle=True, random_state=42)\n",
        "newsgroups_test = fetch_20newsgroups(subset='test', categories=categories, shuffle=True, random_state=42)\n",
        "\n",
        "X_train = newsgroups_train.data\n",
        "y_train = newsgroups_train.target\n",
        "X_test = newsgroups_test.data\n",
        "y_test = newsgroups_test.target\n",
        "\n",
        "# Convert text data into feature vectors using TF-IDF\n",
        "vectorizer = TfidfVectorizer()\n",
        "X_train_tfidf = vectorizer.fit_transform(X_train)\n",
        "X_test_tfidf = vectorizer.transform(X_test)\n",
        "\n",
        "# Create a Multinomial Naïve Bayes classifier object\n",
        "mnb_classifier = MultinomialNB()\n",
        "\n",
        "# Train the classifier\n",
        "mnb_classifier.fit(X_train_tfidf, y_train)\n",
        "\n",
        "# Predict on the test set\n",
        "y_pred = mnb_classifier.predict(X_test_tfidf)\n",
        "\n",
        "# Evaluate the accuracy\n",
        "accuracy = accuracy_score(y_test, y_pred)\n",
        "print(f\"Accuracy of the Multinomial Naïve Bayes Classifier on the 20 Newsgroups dataset: {accuracy:.2f}\")\n",
        "\n",
        "# Print a classification report for more detailed evaluation\n",
        "print(\"\\nClassification Report:\")\n",
        "print(classification_report(y_test, y_pred, target_names=newsgroups_test.target_names))"
      ],
      "execution_count": null,
      "outputs": [
        {
          "output_type": "stream",
          "name": "stdout",
          "text": [
            "Accuracy of the Multinomial Naïve Bayes Classifier on the 20 Newsgroups dataset: 0.83\n",
            "\n",
            "Classification Report:\n",
            "                        precision    recall  f1-score   support\n",
            "\n",
            "           alt.atheism       0.97      0.60      0.74       319\n",
            "         comp.graphics       0.96      0.89      0.92       389\n",
            "               sci.med       0.97      0.81      0.88       396\n",
            "soc.religion.christian       0.65      0.99      0.78       398\n",
            "\n",
            "              accuracy                           0.83      1502\n",
            "             macro avg       0.89      0.82      0.83      1502\n",
            "          weighted avg       0.88      0.83      0.84      1502\n",
            "\n"
          ]
        }
      ]
    },
    {
      "cell_type": "markdown",
      "source": [
        "27. **Write a Python program to train an SVM Classifier with different C values and compare the decision boundaries visually.**"
      ],
      "metadata": {
        "id": "6wnkQyC1lRRo"
      }
    },
    {
      "cell_type": "code",
      "metadata": {
        "colab": {
          "base_uri": "https://localhost:8080/",
          "height": 1000
        },
        "id": "3d61ed62",
        "outputId": "184a8436-4cba-415e-f3f6-44f6f9fcc29b"
      },
      "source": [
        "import numpy as np\n",
        "import matplotlib.pyplot as plt\n",
        "from sklearn.datasets import make_blobs\n",
        "from sklearn.model_selection import train_test_split\n",
        "from sklearn.svm import SVC\n",
        "\n",
        "# Generate a synthetic dataset with two features for visualization\n",
        "X, y = make_blobs(n_samples=100, centers=2, random_state=42, cluster_std=1.5)\n",
        "\n",
        "# Split the data into training and testing sets (optional for visualization, but good practice)\n",
        "X_train, X_test, y_train, y_test = train_test_split(X, y, test_size=0.3, random_state=42)\n",
        "\n",
        "# Define different C values to experiment with\n",
        "C_values = [0.1, 1, 10, 100]\n",
        "\n",
        "# Create a mesh to plot the decision boundary\n",
        "h = .02  # step size in the mesh\n",
        "x_min, x_max = X[:, 0].min() - 1, X[:, 0].max() + 1\n",
        "y_min, y_max = X[:, 1].min() - 1, X[:, 1].max() + 1\n",
        "xx, yy = np.meshgrid(np.arange(x_min, x_max, h),\n",
        "                     np.arange(y_min, y_max, h))\n",
        "\n",
        "# Train and plot SVMs with different C values\n",
        "plt.figure(figsize=(12, 10))\n",
        "\n",
        "for i, C in enumerate(C_values):\n",
        "    # Create an SVM classifier with RBF kernel (commonly used with C)\n",
        "    # Using 'linear' kernel would also work and show the effect on the margin\n",
        "    svm_classifier = SVC(kernel='linear', C=C) # Using linear kernel to clearly show margin effect\n",
        "\n",
        "    # Train the classifier\n",
        "    svm_classifier.fit(X_train, y_train)\n",
        "\n",
        "    # Predict the class for each point in the mesh\n",
        "    Z = svm_classifier.predict(np.c_[xx.ravel(), yy.ravel()])\n",
        "    Z = Z.reshape(xx.shape)\n",
        "\n",
        "    # Plot the decision boundary\n",
        "    plt.subplot(2, 2, i + 1)\n",
        "    plt.contourf(xx, yy, Z, cmap=plt.cm.coolwarm, alpha=0.8)\n",
        "\n",
        "    # Plot the training points\n",
        "    plt.scatter(X_train[:, 0], X_train[:, 1], c=y_train, cmap=plt.cm.coolwarm, edgecolors='k')\n",
        "    plt.xlabel('Feature 1')\n",
        "    plt.ylabel('Feature 2')\n",
        "    plt.title(f'SVM with C = {C}')\n",
        "\n",
        "plt.tight_layout()\n",
        "plt.show()"
      ],
      "execution_count": null,
      "outputs": [
        {
          "output_type": "display_data",
          "data": {
            "text/plain": [
              "<Figure size 1200x1000 with 4 Axes>"
            ],
            "image/png": "[encoded data removed]"
          },
          "metadata": {}
        }
      ]
    },
    {
      "cell_type": "markdown",
      "source": [
        "28. **Write a Python program to train a Bernoulli Naïve Bayes classifier for binary classification on a dataset with binary features.**"
      ],
      "metadata": {
        "id": "agn9IpUwlbQl"
      }
    },
    {
      "cell_type": "code",
      "metadata": {
        "colab": {
          "base_uri": "https://localhost:8080/"
        },
        "id": "45b3aa39",
        "outputId": "d57fd09b-a6bd-40aa-b2c7-efb50d335f8a"
      },
      "source": [
        "import numpy as np\n",
        "from sklearn.model_selection import train_test_split\n",
        "from sklearn.naive_bayes import BernoulliNB\n",
        "from sklearn.metrics import accuracy_score, classification_report\n",
        "from sklearn.datasets import make_classification\n",
        "\n",
        "# Generate a synthetic binary dataset with binary features\n",
        "# make_classification can generate binary features by setting n_informative, n_redundant, n_repeated, and n_features\n",
        "X, y = make_classification(n_samples=100, n_features=10, n_informative=5, n_redundant=0, n_repeated=0, n_classes=2, n_clusters_per_class=1, weights=[0.5], flip_y=0.01, class_sep=1.0, hypercube=True, random_state=42)\n",
        "\n",
        "# Convert features to binary (0 or 1) based on a threshold (e.g., 0)\n",
        "# This step is important as make_classification can generate continuous features\n",
        "X_binary = (X > 0).astype(int)\n",
        "\n",
        "\n",
        "# Split the data into training and testing sets\n",
        "X_train, X_test, y_train, y_test = train_test_split(X_binary, y, test_size=0.3, random_state=42)\n",
        "\n",
        "# Create a Bernoulli Naïve Bayes classifier object\n",
        "bnb_classifier = BernoulliNB()\n",
        "\n",
        "# Train the classifier\n",
        "bnb_classifier.fit(X_train, y_train)\n",
        "\n",
        "# Predict on the test set\n",
        "y_pred = bnb_classifier.predict(X_test)\n",
        "\n",
        "# Evaluate the accuracy\n",
        "accuracy = accuracy_score(y_test, y_pred)\n",
        "print(f\"Accuracy of the Bernoulli Naïve Bayes Classifier: {accuracy:.2f}\")\n",
        "\n",
        "# Print a classification report for more detailed evaluation\n",
        "print(\"\\nClassification Report:\")\n",
        "print(classification_report(y_test, y_pred))"
      ],
      "execution_count": null,
      "outputs": [
        {
          "output_type": "stream",
          "name": "stdout",
          "text": [
            "Accuracy of the Bernoulli Naïve Bayes Classifier: 0.83\n",
            "\n",
            "Classification Report:\n",
            "              precision    recall  f1-score   support\n",
            "\n",
            "           0       0.76      0.93      0.84        14\n",
            "           1       0.92      0.75      0.83        16\n",
            "\n",
            "    accuracy                           0.83        30\n",
            "   macro avg       0.84      0.84      0.83        30\n",
            "weighted avg       0.85      0.83      0.83        30\n",
            "\n"
          ]
        }
      ]
    },
    {
      "cell_type": "markdown",
      "source": [
        "29. **Write a Python program to apply feature scaling before training an SVM model and compare results with unscaled data.**"
      ],
      "metadata": {
        "id": "btKxvMKwlkK2"
      }
    },
    {
      "cell_type": "code",
      "metadata": {
        "colab": {
          "base_uri": "https://localhost:8080/"
        },
        "id": "bdfebbd0",
        "outputId": "a39fbb59-66b7-45a9-eb8c-cc8a70be2c17"
      },
      "source": [
        "from sklearn import datasets\n",
        "from sklearn.model_selection import train_test_split\n",
        "from sklearn.svm import SVC\n",
        "from sklearn.metrics import accuracy_score\n",
        "from sklearn.preprocessing import StandardScaler\n",
        "\n",
        "# Load a dataset where feature scaling is often beneficial for SVM\n",
        "breast_cancer = datasets.load_breast_cancer()\n",
        "X = breast_cancer.data\n",
        "y = breast_cancer.target\n",
        "\n",
        "# Split the data into training and testing sets\n",
        "X_train, X_test, y_train, y_test = train_test_split(X, y, test_size=0.3, random_state=42)\n",
        "\n",
        "# --- Train SVM on unscaled data ---\n",
        "svm_unscaled = SVC(kernel='rbf') # Using default RBF kernel\n",
        "svm_unscaled.fit(X_train, y_train)\n",
        "y_pred_unscaled = svm_unscaled.predict(X_test)\n",
        "accuracy_unscaled = accuracy_score(y_test, y_pred_unscaled)\n",
        "print(f\"Accuracy of SVM on unscaled data: {accuracy_unscaled:.2f}\")\n",
        "\n",
        "# --- Apply Feature Scaling ---\n",
        "scaler = StandardScaler()\n",
        "X_train_scaled = scaler.fit_transform(X_train)\n",
        "X_test_scaled = scaler.transform(X_test)\n",
        "\n",
        "# --- Train SVM on scaled data ---\n",
        "svm_scaled = SVC(kernel='rbf') # Using RBF kernel\n",
        "svm_scaled.fit(X_train_scaled, y_train)\n",
        "y_pred_scaled = svm_scaled.predict(X_test_scaled)\n",
        "accuracy_scaled = accuracy_score(y_test, y_pred_scaled)\n",
        "print(f\"Accuracy of SVM on scaled data: {accuracy_scaled:.2f}\")\n",
        "\n",
        "# Compare accuracies\n",
        "if accuracy_scaled > accuracy_unscaled:\n",
        "    print(\"\\nAccuracy improved after feature scaling.\")\n",
        "elif accuracy_unscaled > accuracy_scaled:\n",
        "    print(\"\\nAccuracy was better on unscaled data (less common for SVM).\")\n",
        "else:\n",
        "    print(\"\\nAccuracy is the same with and without feature scaling.\")"
      ],
      "execution_count": null,
      "outputs": [
        {
          "output_type": "stream",
          "name": "stdout",
          "text": [
            "Accuracy of SVM on unscaled data: 0.94\n",
            "Accuracy of SVM on scaled data: 0.98\n",
            "\n",
            "Accuracy improved after feature scaling.\n"
          ]
        }
      ]
    },
    {
      "cell_type": "markdown",
      "source": [
        "30. **Write a Python program to train a Gaussian Naïve Bayes model and compare the predictions before and after Laplace Smoothing.**"
      ],
      "metadata": {
        "id": "NIKnECwxlwLF"
      }
    },
    {
      "cell_type": "code",
      "metadata": {
        "colab": {
          "base_uri": "https://localhost:8080/"
        },
        "id": "1389971f",
        "outputId": "4851965b-b443-450c-e650-f9dbd7055476"
      },
      "source": [
        "import numpy as np\n",
        "from sklearn.datasets import fetch_20newsgroups\n",
        "from sklearn.model_selection import train_test_split\n",
        "from sklearn.feature_extraction.text import CountVectorizer\n",
        "from sklearn.naive_bayes import MultinomialNB\n",
        "from sklearn.metrics import accuracy_score, classification_report\n",
        "\n",
        "# Load a subset of the 20 Newsgroups dataset for text classification\n",
        "categories = ['alt.atheism', 'soc.religion.christian']\n",
        "newsgroups_train = fetch_20newsgroups(subset='train', categories=categories, shuffle=True, random_state=42)\n",
        "newsgroups_test = fetch_20newsgroups(subset='test', categories=categories, shuffle=True, random_state=42)\n",
        "\n",
        "X_train = newsgroups_train.data\n",
        "y_train = newsgroups_train.target\n",
        "X_test = newsgroups_test.data\n",
        "y_test = newsgroups_test.target\n",
        "\n",
        "# Convert text data into feature vectors using CountVectorizer\n",
        "# MultinomialNB works well with raw counts\n",
        "vectorizer = CountVectorizer()\n",
        "X_train_counts = vectorizer.fit_transform(X_train)\n",
        "X_test_counts = vectorizer.transform(X_test)\n",
        "\n",
        "# --- Train a Naïve Bayes model without Laplace Smoothing (alpha=0) ---\n",
        "# Note: While the question was about GaussianNB, this demonstrates Laplace smoothing with MultinomialNB.\n",
        "# Setting alpha=0 can lead to zero probabilities for unseen features.\n",
        "# We use try-except because alpha=0 might raise errors or warnings depending on the library version and data.\n",
        "try:\n",
        "    gnb_classifier_no_smoothing = MultinomialNB(alpha=0.0)\n",
        "    gnb_classifier_no_smoothing.fit(X_train_counts, y_train)\n",
        "    y_pred_no_smoothing = gnb_classifier_no_smoothing.predict(X_test_counts)\n",
        "    accuracy_no_smoothing = accuracy_score(y_test, y_pred_no_smoothing)\n",
        "    print(f\"Accuracy of Naïve Bayes without Laplace Smoothing (alpha=0): {accuracy_no_smoothing:.2f}\")\n",
        "    print(\"\\nClassification Report (No Smoothing):\")\n",
        "    print(classification_report(y_test, y_pred_no_smoothing, target_names=newsgroups_test.target_names, zero_division=0)) # zero_division=0 to handle potential division by zero\n",
        "except ValueError as e:\n",
        "     print(f\"Could not train MultinomialNB with alpha=0 due to error: {e}\")\n",
        "     print(\"This often happens when unseen features in the test set lead to zero probabilities without smoothing.\")\n",
        "\n",
        "\n",
        "# --- Train a Naïve Bayes model with Laplace Smoothing (alpha=1) ---\n",
        "# This is the standard Laplace smoothing\n",
        "gnb_classifier_smoothing = MultinomialNB(alpha=1.0)\n",
        "gnb_classifier_smoothing.fit(X_train_counts, y_train)\n",
        "y_pred_smoothing = gnb_classifier_smoothing.predict(X_test_counts)\n",
        "accuracy_smoothing = accuracy_score(y_test, y_pred_smoothing)\n",
        "print(f\"\\nAccuracy of Naïve Bayes with Laplace Smoothing (alpha=1): {accuracy_smoothing:.2f}\")\n",
        "print(\"\\nClassification Report (With Smoothing):\")\n",
        "print(classification_report(y_test, y_pred_smoothing, target_names=newsgroups_test.target_names))"
      ],
      "execution_count": null,
      "outputs": [
        {
          "output_type": "stream",
          "name": "stdout",
          "text": [
            "Accuracy of Naïve Bayes without Laplace Smoothing (alpha=0): 0.56\n",
            "\n",
            "Classification Report (No Smoothing):\n",
            "                        precision    recall  f1-score   support\n",
            "\n",
            "           alt.atheism       0.50      0.98      0.67       319\n",
            "soc.religion.christian       0.94      0.23      0.36       398\n",
            "\n",
            "              accuracy                           0.56       717\n",
            "             macro avg       0.72      0.60      0.52       717\n",
            "          weighted avg       0.74      0.56      0.50       717\n",
            "\n",
            "\n",
            "Accuracy of Naïve Bayes with Laplace Smoothing (alpha=1): 0.96\n",
            "\n",
            "Classification Report (With Smoothing):\n",
            "                        precision    recall  f1-score   support\n",
            "\n",
            "           alt.atheism       0.97      0.94      0.96       319\n",
            "soc.religion.christian       0.95      0.98      0.97       398\n",
            "\n",
            "              accuracy                           0.96       717\n",
            "             macro avg       0.96      0.96      0.96       717\n",
            "          weighted avg       0.96      0.96      0.96       717\n",
            "\n"
          ]
        },
        {
          "output_type": "stream",
          "name": "stderr",
          "text": [
            "/usr/local/lib/python3.11/dist-packages/sklearn/naive_bayes.py:898: RuntimeWarning: divide by zero encountered in log\n",
            "  self.feature_log_prob_ = np.log(smoothed_fc) - np.log(\n"
          ]
        }
      ]
    },
    {
      "cell_type": "markdown",
      "source": [
        "31. **Write a Python program to train an SVM Classifier and use GridSearchCV to tune the hyperparameters (C, gamma, kernel).**"
      ],
      "metadata": {
        "id": "ozRLG2c0oSmd"
      }
    },
    {
      "cell_type": "code",
      "source": [
        "import numpy as np\n",
        "from sklearn import datasets\n",
        "from sklearn.model_selection import train_test_split, GridSearchCV\n",
        "from sklearn.svm import SVC\n",
        "from sklearn.metrics import classification_report, accuracy_score\n",
        "\n",
        "# Load dataset (Iris dataset as an example)\n",
        "iris = datasets.load_iris()\n",
        "X = iris.data\n",
        "y = iris.target\n",
        "\n",
        "# Split into train and test sets (80% train, 20% test)\n",
        "X_train, X_test, y_train, y_test = train_test_split(X, y, test_size=0.2, random_state=42)\n",
        "\n",
        "# Define the parameter grid\n",
        "param_grid = {\n",
        "    'C': [0.1, 1, 10, 100],\n",
        "    'gamma': ['scale', 'auto', 0.01, 0.1, 1],\n",
        "    'kernel': ['linear', 'rbf', 'poly']\n",
        "}\n",
        "\n",
        "# Initialize SVM classifier\n",
        "svm = SVC()\n",
        "\n",
        "# Use GridSearchCV to search for best hyperparameters\n",
        "grid_search = GridSearchCV(svm, param_grid, cv=5, scoring='accuracy', verbose=2, n_jobs=-1)\n",
        "\n",
        "# Fit the model\n",
        "grid_search.fit(X_train, y_train)\n",
        "\n",
        "# Print best parameters and estimator\n",
        "print(\"Best Parameters:\", grid_search.best_params_)\n",
        "print(\"Best Estimator:\\n\", grid_search.best_estimator_)\n",
        "\n",
        "# Predict on the test set\n",
        "y_pred = grid_search.predict(X_test)\n",
        "\n",
        "# Evaluate the model\n",
        "print(\"\\nClassification Report:\")\n",
        "print(classification_report(y_test, y_pred))\n",
        "\n",
        "print(\"Accuracy:\", accuracy_score(y_test, y_pred))"
      ],
      "metadata": {
        "colab": {
          "base_uri": "https://localhost:8080/"
        },
        "id": "l-zFAlfiqhtQ",
        "outputId": "8b9145c9-db70-476e-9f31-b943092d4add"
      },
      "execution_count": 17,
      "outputs": [
        {
          "output_type": "stream",
          "name": "stdout",
          "text": [
            "Fitting 5 folds for each of 60 candidates, totalling 300 fits\n",
            "Best Parameters: {'C': 0.1, 'gamma': 0.1, 'kernel': 'poly'}\n",
            "Best Estimator:\n",
            " SVC(C=0.1, gamma=0.1, kernel='poly')\n",
            "\n",
            "Classification Report:\n",
            "              precision    recall  f1-score   support\n",
            "\n",
            "           0       1.00      1.00      1.00        10\n",
            "           1       1.00      1.00      1.00         9\n",
            "           2       1.00      1.00      1.00        11\n",
            "\n",
            "    accuracy                           1.00        30\n",
            "   macro avg       1.00      1.00      1.00        30\n",
            "weighted avg       1.00      1.00      1.00        30\n",
            "\n",
            "Accuracy: 1.0\n"
          ]
        }
      ]
    },
    {
      "cell_type": "markdown",
      "source": [
        "32. **Write a Python program to train an SVM Classifier on an imbalanced dataset and apply class weighting and check it improve accuracy.**"
      ],
      "metadata": {
        "id": "AoMdfzvLrcjf"
      }
    },
    {
      "cell_type": "code",
      "metadata": {
        "colab": {
          "base_uri": "https://localhost:8080/"
        },
        "id": "e205bd76",
        "outputId": "0fec453f-58a7-4900-ef41-ad92d18feb6a"
      },
      "source": [
        "import numpy as np\n",
        "from sklearn.datasets import make_classification\n",
        "from sklearn.model_selection import train_test_split\n",
        "from sklearn.svm import SVC\n",
        "from sklearn.metrics import accuracy_score, classification_report\n",
        "from collections import Counter\n",
        "\n",
        "# Generate an imbalanced dataset\n",
        "X, y = make_classification(n_samples=1000, n_features=10, n_informative=5, n_redundant=0, n_repeated=0,\n",
        "                           n_classes=2, n_clusters_per_class=1, weights=[0.95, 0.05], flip_y=0.01,\n",
        "                           class_sep=0.8, hypercube=True, random_state=42)\n",
        "\n",
        "print(f\"Dataset shape: {X.shape}\")\n",
        "print(f\"Class distribution: {Counter(y)}\")\n",
        "\n",
        "# Split the data into training and testing sets\n",
        "X_train, X_test, y_train, y_test = train_test_split(X, y, test_size=0.3, random_state=42, stratify=y) # Use stratify to maintain class distribution in splits\n",
        "\n",
        "# --- Train SVM on imbalanced data without class weighting ---\n",
        "print(\"\\n--- Training SVM without Class Weighting ---\")\n",
        "svm_unweighted = SVC(kernel='linear', random_state=42) # Using linear kernel for simplicity\n",
        "svm_unweighted.fit(X_train, y_train)\n",
        "y_pred_unweighted = svm_unweighted.predict(X_test)\n",
        "accuracy_unweighted = accuracy_score(y_test, y_pred_unweighted)\n",
        "print(f\"Accuracy of SVM without class weighting: {accuracy_unweighted:.2f}\")\n",
        "print(\"\\nClassification Report (No Class Weighting):\")\n",
        "print(classification_report(y_test, y_pred_unweighted))\n",
        "\n",
        "# --- Train SVM on imbalanced data with class weighting ---\n",
        "print(\"\\n--- Training SVM with Class Weighting ---\")\n",
        "# 'balanced' mode automatically adjusts weights inversely proportional to class frequencies\n",
        "svm_weighted = SVC(kernel='linear', class_weight='balanced', random_state=42)\n",
        "svm_weighted.fit(X_train, y_train)\n",
        "y_pred_weighted = svm_weighted.predict(X_test)\n",
        "accuracy_weighted = accuracy_score(y_test, y_pred_weighted)\n",
        "print(f\"Accuracy of SVM with class weighting: {accuracy_weighted:.2f}\")\n",
        "print(\"\\nClassification Report (With Class Weighting):\")\n",
        "print(classification_report(y_test, y_pred_weighted))\n",
        "\n",
        "# Compare accuracies and classification reports\n",
        "print(\"\\n--- Comparison ---\")\n",
        "if accuracy_weighted > accuracy_unweighted:\n",
        "    print(\"Accuracy improved with class weighting (overall accuracy might not change much, but recall/precision for minority class usually improves).\")\n",
        "elif accuracy_unweighted > accuracy_weighted:\n",
        "     print(\"Accuracy was slightly better without class weighting (less common for imbalanced data, check classification reports).\")\n",
        "else:\n",
        "    print(\"Accuracy is the same with and without class weighting.\")"
      ],
      "execution_count": 10,
      "outputs": [
        {
          "output_type": "stream",
          "name": "stdout",
          "text": [
            "Dataset shape: (1000, 10)\n",
            "Class distribution: Counter({np.int64(0): 940, np.int64(1): 60})\n",
            "\n",
            "--- Training SVM without Class Weighting ---\n",
            "Accuracy of SVM without class weighting: 0.98\n",
            "\n",
            "Classification Report (No Class Weighting):\n",
            "              precision    recall  f1-score   support\n",
            "\n",
            "           0       0.98      1.00      0.99       282\n",
            "           1       1.00      0.67      0.80        18\n",
            "\n",
            "    accuracy                           0.98       300\n",
            "   macro avg       0.99      0.83      0.89       300\n",
            "weighted avg       0.98      0.98      0.98       300\n",
            "\n",
            "\n",
            "--- Training SVM with Class Weighting ---\n",
            "Accuracy of SVM with class weighting: 0.93\n",
            "\n",
            "Classification Report (With Class Weighting):\n",
            "              precision    recall  f1-score   support\n",
            "\n",
            "           0       0.99      0.94      0.96       282\n",
            "           1       0.44      0.78      0.56        18\n",
            "\n",
            "    accuracy                           0.93       300\n",
            "   macro avg       0.71      0.86      0.76       300\n",
            "weighted avg       0.95      0.93      0.94       300\n",
            "\n",
            "\n",
            "--- Comparison ---\n",
            "Accuracy was slightly better without class weighting (less common for imbalanced data, check classification reports).\n"
          ]
        }
      ]
    },
    {
      "cell_type": "markdown",
      "source": [
        "33. **Write a Python program to implement a Naïve Bayes classifier for spam detection using email data.**"
      ],
      "metadata": {
        "id": "OjAiieDcsb6F"
      }
    },
    {
      "cell_type": "code",
      "metadata": {
        "colab": {
          "base_uri": "https://localhost:8080/"
        },
        "id": "3cf2a565",
        "outputId": "5eb83a9d-02b1-4978-ca94-b3f3334122de"
      },
      "source": [
        "from sklearn.datasets import fetch_20newsgroups\n",
        "from sklearn.model_selection import train_test_split\n",
        "from sklearn.feature_extraction.text import CountVectorizer\n",
        "from sklearn.naive_bayes import MultinomialNB\n",
        "from sklearn.metrics import accuracy_score, classification_report\n",
        "\n",
        "# Load a subset of the 20 Newsgroups dataset that contains spam-related content\n",
        "# We'll use 'comp.graphics' (less likely spam) and 'talk.politics.misc' (potentially more spam/controversial) as examples\n",
        "# A more direct spam dataset would be ideal, but this demonstrates the process.\n",
        "categories = ['comp.graphics', 'talk.politics.misc']\n",
        "newsgroups_train = fetch_20newsgroups(subset='train', categories=categories, shuffle=True, random_state=42)\n",
        "newsgroups_test = fetch_20newsgroups(subset='test', categories=categories, shuffle=True, random_state=42)\n",
        "\n",
        "X_train = newsgroups_train.data\n",
        "y_train = newsgroups_train.target\n",
        "X_test = newsgroups_test.data\n",
        "y_test = newsgroups_test.target\n",
        "\n",
        "# Convert text data into feature vectors using CountVectorizer\n",
        "# This creates a bag-of-words representation\n",
        "vectorizer = CountVectorizer()\n",
        "X_train_counts = vectorizer.fit_transform(X_train)\n",
        "X_test_counts = vectorizer.transform(X_test)\n",
        "\n",
        "# Create a Multinomial Naïve Bayes classifier object\n",
        "# Alpha=1.0 is for Laplace smoothing, which helps handle words not seen during training\n",
        "mnb_classifier = MultinomialNB(alpha=1.0)\n",
        "\n",
        "# Train the classifier\n",
        "mnb_classifier.fit(X_train_counts, y_train)\n",
        "\n",
        "# Predict on the test set\n",
        "y_pred = mnb_classifier.predict(X_test_counts)\n",
        "\n",
        "# Evaluate the accuracy\n",
        "accuracy = accuracy_score(y_test, y_pred)\n",
        "print(f\"Accuracy of the Multinomial Naïve Bayes Classifier for (simulated) spam detection: {accuracy:.2f}\")\n",
        "\n",
        "# Print a classification report for more detailed evaluation\n",
        "# Note: The target names will correspond to the chosen categories\n",
        "print(\"\\nClassification Report:\")\n",
        "print(classification_report(y_test, y_pred, target_names=newsgroups_test.target_names))"
      ],
      "execution_count": 1,
      "outputs": [
        {
          "output_type": "stream",
          "name": "stdout",
          "text": [
            "Accuracy of the Multinomial Naïve Bayes Classifier for (simulated) spam detection: 0.98\n",
            "\n",
            "Classification Report:\n",
            "                    precision    recall  f1-score   support\n",
            "\n",
            "     comp.graphics       0.99      0.97      0.98       389\n",
            "talk.politics.misc       0.96      0.99      0.98       310\n",
            "\n",
            "          accuracy                           0.98       699\n",
            "         macro avg       0.98      0.98      0.98       699\n",
            "      weighted avg       0.98      0.98      0.98       699\n",
            "\n"
          ]
        }
      ]
    },
    {
      "cell_type": "markdown",
      "source": [
        "34. **Write a Python program to train an SVM Classifier and a Naïve Bayes Classifier on the same dataset and compare their accuracy.**"
      ],
      "metadata": {
        "id": "QgiwLS1waTr0"
      }
    },
    {
      "cell_type": "code",
      "metadata": {
        "colab": {
          "base_uri": "https://localhost:8080/"
        },
        "id": "1f7ea88a",
        "outputId": "6d4b8b11-bddd-42d3-f66c-651a2f602012"
      },
      "source": [
        "from sklearn import datasets\n",
        "from sklearn.model_selection import train_test_split\n",
        "from sklearn.svm import SVC\n",
        "from sklearn.naive_bayes import GaussianNB\n",
        "from sklearn.metrics import accuracy_score\n",
        "\n",
        "# Load a dataset (Iris dataset as an example)\n",
        "iris = datasets.load_iris()\n",
        "X = iris.data\n",
        "y = iris.target\n",
        "\n",
        "# Split the data into training and testing sets\n",
        "X_train, X_test, y_train, y_test = train_test_split(X, y, test_size=0.3, random_state=42)\n",
        "\n",
        "# --- Train an SVM Classifier ---\n",
        "svm_classifier = SVC(kernel='linear', random_state=42) # Using linear kernel for simplicity\n",
        "svm_classifier.fit(X_train, y_train)\n",
        "y_pred_svm = svm_classifier.predict(X_test)\n",
        "accuracy_svm = accuracy_score(y_test, y_pred_svm)\n",
        "print(f\"Accuracy of the SVM Classifier: {accuracy_svm:.2f}\")\n",
        "\n",
        "# --- Train a Gaussian Naïve Bayes Classifier ---\n",
        "gnb_classifier = GaussianNB()\n",
        "gnb_classifier.fit(X_train, y_train)\n",
        "y_pred_gnb = gnb_classifier.predict(X_test)\n",
        "accuracy_gnb = accuracy_score(y_test, y_pred_gnb)\n",
        "print(f\"Accuracy of the Gaussian Naïve Bayes Classifier: {accuracy_gnb:.2f}\")\n",
        "\n",
        "# --- Compare Accuracies ---\n",
        "print(\"\\n--- Comparison ---\")\n",
        "if accuracy_svm > accuracy_gnb:\n",
        "    print(\"SVM Classifier has higher accuracy.\")\n",
        "elif accuracy_gnb > accuracy_svm:\n",
        "    print(\"Gaussian Naïve Bayes Classifier has higher accuracy.\")\n",
        "else:\n",
        "    print(\"Both classifiers have the same accuracy.\")"
      ],
      "execution_count": 2,
      "outputs": [
        {
          "output_type": "stream",
          "name": "stdout",
          "text": [
            "Accuracy of the SVM Classifier: 1.00\n",
            "Accuracy of the Gaussian Naïve Bayes Classifier: 0.98\n",
            "\n",
            "--- Comparison ---\n",
            "SVM Classifier has higher accuracy.\n"
          ]
        }
      ]
    },
    {
      "cell_type": "markdown",
      "source": [
        "35. **Write a Python program to perform feature selection before training a Naïve Bayes classifier and compare results.**"
      ],
      "metadata": {
        "id": "dAusX9XgabMP"
      }
    },
    {
      "cell_type": "code",
      "metadata": {
        "colab": {
          "base_uri": "https://localhost:8080/"
        },
        "id": "f1ec97c1",
        "outputId": "f165e818-f19f-4733-bb10-f0f0ee15ffd3"
      },
      "source": [
        "import numpy as np\n",
        "from sklearn.datasets import load_breast_cancer\n",
        "from sklearn.model_selection import train_test_split\n",
        "from sklearn.naive_bayes import GaussianNB\n",
        "from sklearn.metrics import accuracy_score\n",
        "from sklearn.feature_selection import SelectKBest, chi2\n",
        "\n",
        "# Load the Breast Cancer dataset\n",
        "breast_cancer = load_breast_cancer()\n",
        "X = breast_cancer.data\n",
        "y = breast_cancer.target\n",
        "\n",
        "# Split the data into training and testing sets\n",
        "X_train, X_test, y_train, y_test = train_test_split(X, y, test_size=0.3, random_state=42)\n",
        "\n",
        "# --- Train Naïve Bayes on original data ---\n",
        "print(\"--- Training Naïve Bayes on Original Data ---\")\n",
        "gnb_original = GaussianNB()\n",
        "gnb_original.fit(X_train, y_train)\n",
        "y_pred_original = gnb_original.predict(X_test)\n",
        "accuracy_original = accuracy_score(y_test, y_pred_original)\n",
        "print(f\"Accuracy of Naïve Bayes on original data: {accuracy_original:.2f}\")\n",
        "\n",
        "# --- Perform Feature Selection ---\n",
        "# Using SelectKBest with chi2 (suitable for non-negative data)\n",
        "# Select the top k features (e.g., 10)\n",
        "selector = SelectKBest(score_func=chi2, k=10)\n",
        "X_train_selected = selector.fit_transform(X_train, y_train)\n",
        "X_test_selected = selector.transform(X_test)\n",
        "\n",
        "print(f\"\\nOriginal number of features: {X_train.shape[1]}\")\n",
        "print(f\"Number of features after selection: {X_train_selected.shape[1]}\")\n",
        "\n",
        "# Get the indices of the selected features\n",
        "selected_feature_indices = selector.get_support(indices=True)\n",
        "print(f\"Selected feature indices: {selected_feature_indices}\")\n",
        "print(f\"Selected feature names: {breast_cancer.feature_names[selected_feature_indices]}\")\n",
        "\n",
        "\n",
        "# --- Train Naïve Bayes on selected features ---\n",
        "print(\"\\n--- Training Naïve Bayes on Selected Features ---\")\n",
        "gnb_selected = GaussianNB()\n",
        "gnb_selected.fit(X_train_selected, y_train)\n",
        "y_pred_selected = gnb_selected.predict(X_test_selected)\n",
        "accuracy_selected = accuracy_score(y_test, y_pred_selected)\n",
        "print(f\"Accuracy of Naïve Bayes on selected features: {accuracy_selected:.2f}\")\n",
        "\n",
        "# --- Compare Accuracies ---\n",
        "print(\"\\n--- Comparison ---\")\n",
        "if accuracy_selected > accuracy_original:\n",
        "    print(\"Accuracy improved after feature selection.\")\n",
        "elif accuracy_original > accuracy_selected:\n",
        "    print(\"Accuracy was better on original data.\")\n",
        "else:\n",
        "    print(\"Accuracy is the same with and without feature selection.\")"
      ],
      "execution_count": 3,
      "outputs": [
        {
          "output_type": "stream",
          "name": "stdout",
          "text": [
            "--- Training Naïve Bayes on Original Data ---\n",
            "Accuracy of Naïve Bayes on original data: 0.94\n",
            "\n",
            "Original number of features: 30\n",
            "Number of features after selection: 10\n",
            "Selected feature indices: [ 0  1  2  3 12 13 20 21 22 23]\n",
            "Selected feature names: ['mean radius' 'mean texture' 'mean perimeter' 'mean area'\n",
            " 'perimeter error' 'area error' 'worst radius' 'worst texture'\n",
            " 'worst perimeter' 'worst area']\n",
            "\n",
            "--- Training Naïve Bayes on Selected Features ---\n",
            "Accuracy of Naïve Bayes on selected features: 0.95\n",
            "\n",
            "--- Comparison ---\n",
            "Accuracy improved after feature selection.\n"
          ]
        }
      ]
    },
    {
      "cell_type": "markdown",
      "source": [
        "36. **Write a Python program to train an SVM Classifier using One-vs-Rest (OvR) and One-vs-One (OvO) strategies on the Wine dataset and compare their accuracy.**"
      ],
      "metadata": {
        "id": "v-xms3OCajtR"
      }
    },
    {
      "cell_type": "code",
      "metadata": {
        "colab": {
          "base_uri": "https://localhost:8080/"
        },
        "id": "b8a68fbb",
        "outputId": "3ef5186a-f598-4efd-b10d-7b299e176dbb"
      },
      "source": [
        "from sklearn import datasets\n",
        "from sklearn.model_selection import train_test_split\n",
        "from sklearn.svm import SVC\n",
        "from sklearn.metrics import accuracy_score\n",
        "\n",
        "# Load the Wine dataset (which is a multiclass dataset)\n",
        "wine = datasets.load_wine()\n",
        "X = wine.data\n",
        "y = wine.target\n",
        "\n",
        "# Split the data into training and testing sets\n",
        "X_train, X_test, y_train, y_test = train_test_split(X, y, test_size=0.3, random_state=42)\n",
        "\n",
        "# --- Train SVM with One-vs-Rest (OvR) strategy ---\n",
        "# In scikit-learn, SVC uses OvR by default for multiclass problems if decision_function_shape is 'ovr'\n",
        "svm_ovr = SVC(kernel='linear', decision_function_shape='ovr', random_state=42)\n",
        "svm_ovr.fit(X_train, y_train)\n",
        "y_pred_ovr = svm_ovr.predict(X_test)\n",
        "accuracy_ovr = accuracy_score(y_test, y_pred_ovr)\n",
        "print(f\"Accuracy of SVM with One-vs-Rest (OvR) strategy: {accuracy_ovr:.2f}\")\n",
        "\n",
        "# --- Train SVM with One-vs-One (OvO) strategy ---\n",
        "# In scikit-learn, you can specify 'ovo' for decision_function_shape\n",
        "svm_ovo = SVC(kernel='linear', decision_function_shape='ovo', random_state=42)\n",
        "svm_ovo.fit(X_train, y_train)\n",
        "y_pred_ovo = svm_ovo.predict(X_test)\n",
        "accuracy_ovo = accuracy_score(y_test, y_pred_ovo)\n",
        "print(f\"Accuracy of SVM with One-vs-One (OvO) strategy: {accuracy_ovo:.2f}\")\n",
        "\n",
        "# --- Compare Accuracies ---\n",
        "print(\"\\n--- Comparison ---\")\n",
        "if accuracy_ovr > accuracy_ovo:\n",
        "    print(\"One-vs-Rest (OvR) strategy has higher accuracy.\")\n",
        "elif accuracy_ovo > accuracy_ovr:\n",
        "    print(\"One-vs-One (OvO) strategy has higher accuracy.\")\n",
        "else:\n",
        "    print(\"Both strategies have the same accuracy.\")"
      ],
      "execution_count": 4,
      "outputs": [
        {
          "output_type": "stream",
          "name": "stdout",
          "text": [
            "Accuracy of SVM with One-vs-Rest (OvR) strategy: 0.98\n",
            "Accuracy of SVM with One-vs-One (OvO) strategy: 0.98\n",
            "\n",
            "--- Comparison ---\n",
            "Both strategies have the same accuracy.\n"
          ]
        }
      ]
    },
    {
      "cell_type": "markdown",
      "source": [
        "37. **Write a Python program to train an SVM Classifier using Linear, Polynomial, and RBF kernels on the Breast Cancer dataset and compare their accuracy.**"
      ],
      "metadata": {
        "id": "cDnLUMA1arT6"
      }
    },
    {
      "cell_type": "code",
      "source": [
        "import numpy as np\n",
        "from sklearn import datasets\n",
        "from sklearn.model_selection import train_test_split\n",
        "from sklearn.preprocessing import StandardScaler\n",
        "from sklearn.svm import SVC\n",
        "from sklearn.metrics import accuracy_score\n",
        "\n",
        "# Load the Breast Cancer dataset\n",
        "data = datasets.load_breast_cancer()\n",
        "X, y = data.data, data.target\n",
        "\n",
        "# Split into training and testing sets\n",
        "X_train, X_test, y_train, y_test = train_test_split(X, y, test_size=0.2, random_state=42)\n",
        "\n",
        "# Feature scaling (important for SVM)\n",
        "scaler = StandardScaler()\n",
        "X_train = scaler.fit_transform(X_train)\n",
        "X_test = scaler.transform(X_test)\n",
        "\n",
        "# Dictionary to store kernel types and their corresponding models\n",
        "kernels = {\n",
        "    \"Linear\": SVC(kernel='linear'),\n",
        "    \"Polynomial (degree=3)\": SVC(kernel='poly', degree=3),\n",
        "    \"RBF\": SVC(kernel='rbf')\n",
        "}\n",
        "\n",
        "# Train, predict, and evaluate each kernel\n",
        "for name, model in kernels.items():\n",
        "    model.fit(X_train, y_train)\n",
        "    y_pred = model.predict(X_test)\n",
        "    accuracy = accuracy_score(y_test, y_pred)\n",
        "    print(f\"{name} Kernel Accuracy: {accuracy:.4f}\")"
      ],
      "metadata": {
        "colab": {
          "base_uri": "https://localhost:8080/"
        },
        "id": "zSIyKH9qfO_l",
        "outputId": "c9f2dda0-f71c-4c58-c7eb-a9111867f299"
      },
      "execution_count": 1,
      "outputs": [
        {
          "output_type": "stream",
          "name": "stdout",
          "text": [
            "Linear Kernel Accuracy: 0.9561\n",
            "Polynomial (degree=3) Kernel Accuracy: 0.8684\n",
            "RBF Kernel Accuracy: 0.9825\n"
          ]
        }
      ]
    },
    {
      "cell_type": "markdown",
      "source": [
        "38. **Write a Python program to train an SVM Classifier using Stratified K-Fold Cross-Validation and compute the average accuracy.**"
      ],
      "metadata": {
        "id": "FBwev47eazad"
      }
    },
    {
      "cell_type": "code",
      "metadata": {
        "colab": {
          "base_uri": "https://localhost:8080/"
        },
        "id": "7bf9d8e1",
        "outputId": "fc756f7b-12cd-43c8-8270-5e04f47688f3"
      },
      "source": [
        "import numpy as np\n",
        "from sklearn import datasets\n",
        "from sklearn.model_selection import StratifiedKFold\n",
        "from sklearn.svm import SVC\n",
        "from sklearn.metrics import accuracy_score\n",
        "\n",
        "# Load a dataset (Breast Cancer dataset as an example)\n",
        "breast_cancer = datasets.load_breast_cancer()\n",
        "X = breast_cancer.data\n",
        "y = breast_cancer.target\n",
        "\n",
        "# Define the number of folds for cross-validation\n",
        "n_splits = 5\n",
        "\n",
        "# Initialize Stratified K-Fold Cross-Validation\n",
        "skf = StratifiedKFold(n_splits=n_splits, shuffle=True, random_state=42)\n",
        "\n",
        "# Initialize a list to store accuracy scores for each fold\n",
        "accuracy_scores = []\n",
        "\n",
        "# Iterate through the folds\n",
        "for fold, (train_index, test_index) in enumerate(skf.split(X, y)):\n",
        "    print(f\"--- Fold {fold+1}/{n_splits} ---\")\n",
        "\n",
        "    # Split data into training and testing sets for the current fold\n",
        "    X_train, X_test = X[train_index], X[test_index]\n",
        "    y_train, y_test = y[train_index], y[test_index]\n",
        "\n",
        "    # Create an SVM classifier object\n",
        "    # You can experiment with different kernels and parameters\n",
        "    svm_classifier = SVC(kernel='linear', random_state=42)\n",
        "\n",
        "    # Train the classifier on the training data for this fold\n",
        "    svm_classifier.fit(X_train, y_train)\n",
        "\n",
        "    # Predict on the test data for this fold\n",
        "    y_pred = svm_classifier.predict(X_test)\n",
        "\n",
        "    # Evaluate the accuracy for this fold\n",
        "    accuracy = accuracy_score(y_test, y_pred)\n",
        "    print(f\"Accuracy for Fold {fold+1}: {accuracy:.2f}\")\n",
        "    accuracy_scores.append(accuracy)\n",
        "\n",
        "# Compute the average accuracy across all folds\n",
        "average_accuracy = np.mean(accuracy_scores)\n",
        "print(f\"\\nAverage accuracy across {n_splits} folds: {average_accuracy:.2f}\")\n",
        "\n",
        "# You can also compute the standard deviation of the accuracy scores\n",
        "std_accuracy = np.std(accuracy_scores)\n",
        "print(f\"Standard deviation of accuracy across {n_splits} folds: {std_accuracy:.2f}\")"
      ],
      "execution_count": 1,
      "outputs": [
        {
          "output_type": "stream",
          "name": "stdout",
          "text": [
            "--- Fold 1/5 ---\n",
            "Accuracy for Fold 1: 0.95\n",
            "--- Fold 2/5 ---\n",
            "Accuracy for Fold 2: 0.93\n",
            "--- Fold 3/5 ---\n",
            "Accuracy for Fold 3: 0.96\n",
            "--- Fold 4/5 ---\n",
            "Accuracy for Fold 4: 0.94\n",
            "--- Fold 5/5 ---\n",
            "Accuracy for Fold 5: 0.96\n",
            "\n",
            "Average accuracy across 5 folds: 0.95\n",
            "Standard deviation of accuracy across 5 folds: 0.01\n"
          ]
        }
      ]
    },
    {
      "cell_type": "markdown",
      "source": [
        "39. **Write a Python program to train a Naïve Bayes classifier using different prior probabilities and compare performance.**"
      ],
      "metadata": {
        "id": "M9dCkCZub9en"
      }
    },
    {
      "cell_type": "code",
      "metadata": {
        "colab": {
          "base_uri": "https://localhost:8080/"
        },
        "id": "3d899339",
        "outputId": "3a1cb3a4-b9ac-4c01-83bc-96c6b3881d83"
      },
      "source": [
        "import numpy as np\n",
        "from sklearn.datasets import make_classification\n",
        "from sklearn.model_selection import train_test_split\n",
        "from sklearn.naive_bayes import GaussianNB\n",
        "from sklearn.metrics import accuracy_score, classification_report\n",
        "from collections import Counter\n",
        "\n",
        "# Generate a synthetic dataset with an imbalanced class distribution\n",
        "# This will help demonstrate the effect of different prior probabilities\n",
        "X, y = make_classification(n_samples=1000, n_features=10, n_informative=5, n_redundant=0, n_repeated=0,\n",
        "                           n_classes=2, n_clusters_per_class=1, weights=[0.9, 0.1], flip_y=0.01,\n",
        "                           class_sep=1.0, hypercube=True, random_state=42)\n",
        "\n",
        "print(f\"Dataset shape: {X.shape}\")\n",
        "print(f\"Class distribution: {Counter(y)}\")\n",
        "\n",
        "# Split the data into training and testing sets\n",
        "# We use stratify=y to maintain the class distribution in both sets\n",
        "X_train, X_test, y_train, y_test = train_test_split(X, y, test_size=0.3, random_state=42, stratify=y)\n",
        "\n",
        "print(f\"\\nTraining set class distribution: {Counter(y_train)}\")\n",
        "print(f\"Testing set class distribution: {Counter(y_test)}\")\n",
        "\n",
        "# --- Train Naïve Bayes with default (empirical) prior probabilities ---\n",
        "print(\"\\n--- Training Naïve Bayes with Default (Empirical) Priors ---\")\n",
        "# Default behavior is to learn class prior probabilities from the training data\n",
        "gnb_default_priors = GaussianNB()\n",
        "gnb_default_priors.fit(X_train, y_train)\n",
        "y_pred_default_priors = gnb_default_priors.predict(X_test)\n",
        "accuracy_default_priors = accuracy_score(y_test, y_pred_default_priors)\n",
        "print(f\"Accuracy with default priors: {accuracy_default_priors:.2f}\")\n",
        "print(\"\\nClassification Report (Default Priors):\")\n",
        "print(classification_report(y_test, y_pred_default_priors))\n",
        "\n",
        "# --- Train Naïve Bayes with custom prior probabilities ---\n",
        "# Let's assume we know the true class distribution is different from the training data\n",
        "# For example, if the true class distribution was closer to 50/50\n",
        "custom_priors = np.array([0.5, 0.5]) # Example: Assuming a 50/50 class distribution\n",
        "\n",
        "print(\"\\n--- Training Naïve Bayes with Custom Priors (e.g., [0.5, 0.5]) ---\")\n",
        "# Pass the custom priors to the GaussianNB constructor\n",
        "gnb_custom_priors = GaussianNB(priors=custom_priors)\n",
        "gnb_custom_priors.fit(X_train, y_train)\n",
        "y_pred_custom_priors = gnb_custom_priors.predict(X_test)\n",
        "accuracy_custom_priors = accuracy_score(y_test, y_pred_custom_priors)\n",
        "print(f\"Accuracy with custom priors [0.5, 0.5]: {accuracy_custom_priors:.2f}\")\n",
        "print(\"\\nClassification Report (Custom Priors [0.5, 0.5]):\")\n",
        "print(classification_report(y_test, y_pred_custom_priors))\n",
        "\n",
        "\n",
        "# --- You can add more custom priors to compare ---\n",
        "# Example: Assuming the true class distribution is even more skewed\n",
        "more_skewed_priors = np.array([0.95, 0.05])\n",
        "\n",
        "print(\"\\n--- Training Naïve Bayes with More Skewed Custom Priors (e.g., [0.95, 0.05]) ---\")\n",
        "gnb_more_skewed_priors = GaussianNB(priors=more_skewed_priors)\n",
        "gnb_more_skewed_priors.fit(X_train, y_train)\n",
        "y_pred_more_skewed_priors = gnb_more_skewed_priors.predict(X_test)\n",
        "accuracy_more_skewed_priors = accuracy_score(y_test, y_pred_more_skewed_priors)\n",
        "print(f\"Accuracy with custom priors [0.95, 0.05]: {accuracy_more_skewed_priors:.2f}\")\n",
        "print(\"\\nClassification Report (Custom Priors [0.95, 0.05]):\")\n",
        "print(classification_report(y_test, y_pred_more_skewed_priors))\n",
        "\n",
        "\n",
        "print(\"\\n--- Comparison Summary ---\")\n",
        "print(f\"Accuracy with Default (Empirical) Priors: {accuracy_default_priors:.2f}\")\n",
        "print(f\"Accuracy with Custom Priors [0.5, 0.5]:   {accuracy_custom_priors:.2f}\")\n",
        "print(f\"Accuracy with Custom Priors [0.95, 0.05]: {accuracy_more_skewed_priors:.2f}\")"
      ],
      "execution_count": 11,
      "outputs": [
        {
          "output_type": "stream",
          "name": "stdout",
          "text": [
            "Dataset shape: (1000, 10)\n",
            "Class distribution: Counter({np.int64(0): 890, np.int64(1): 110})\n",
            "\n",
            "Training set class distribution: Counter({np.int64(0): 623, np.int64(1): 77})\n",
            "Testing set class distribution: Counter({np.int64(0): 267, np.int64(1): 33})\n",
            "\n",
            "--- Training Naïve Bayes with Default (Empirical) Priors ---\n",
            "Accuracy with default priors: 0.95\n",
            "\n",
            "Classification Report (Default Priors):\n",
            "              precision    recall  f1-score   support\n",
            "\n",
            "           0       0.96      0.99      0.97       267\n",
            "           1       0.88      0.64      0.74        33\n",
            "\n",
            "    accuracy                           0.95       300\n",
            "   macro avg       0.92      0.81      0.85       300\n",
            "weighted avg       0.95      0.95      0.95       300\n",
            "\n",
            "\n",
            "--- Training Naïve Bayes with Custom Priors (e.g., [0.5, 0.5]) ---\n",
            "Accuracy with custom priors [0.5, 0.5]: 0.92\n",
            "\n",
            "Classification Report (Custom Priors [0.5, 0.5]):\n",
            "              precision    recall  f1-score   support\n",
            "\n",
            "           0       0.97      0.94      0.95       267\n",
            "           1       0.62      0.73      0.67        33\n",
            "\n",
            "    accuracy                           0.92       300\n",
            "   macro avg       0.79      0.84      0.81       300\n",
            "weighted avg       0.93      0.92      0.92       300\n",
            "\n",
            "\n",
            "--- Training Naïve Bayes with More Skewed Custom Priors (e.g., [0.95, 0.05]) ---\n",
            "Accuracy with custom priors [0.95, 0.05]: 0.95\n",
            "\n",
            "Classification Report (Custom Priors [0.95, 0.05]):\n",
            "              precision    recall  f1-score   support\n",
            "\n",
            "           0       0.95      1.00      0.97       267\n",
            "           1       0.95      0.61      0.74        33\n",
            "\n",
            "    accuracy                           0.95       300\n",
            "   macro avg       0.95      0.80      0.86       300\n",
            "weighted avg       0.95      0.95      0.95       300\n",
            "\n",
            "\n",
            "--- Comparison Summary ---\n",
            "Accuracy with Default (Empirical) Priors: 0.95\n",
            "Accuracy with Custom Priors [0.5, 0.5]:   0.92\n",
            "Accuracy with Custom Priors [0.95, 0.05]: 0.95\n"
          ]
        }
      ]
    },
    {
      "cell_type": "markdown",
      "source": [
        "40. **Write a Python program to perform Recursive Feature Elimination (RFE) before training an SVM Classifier and compare accuracy.**"
      ],
      "metadata": {
        "id": "HExMW35NcEQV"
      }
    },
    {
      "cell_type": "code",
      "metadata": {
        "colab": {
          "base_uri": "https://localhost:8080/"
        },
        "id": "7192ca7d",
        "outputId": "d62ae45a-b2d4-41a3-d899-078a2976fb24"
      },
      "source": [
        "import numpy as np\n",
        "from sklearn.datasets import load_breast_cancer\n",
        "from sklearn.model_selection import train_test_split\n",
        "from sklearn.svm import SVC\n",
        "from sklearn.metrics import accuracy_score\n",
        "from sklearn.feature_selection import RFE\n",
        "\n",
        "# Load the Breast Cancer dataset (suitable for classification)\n",
        "breast_cancer = load_breast_cancer()\n",
        "X = breast_cancer.data\n",
        "y = breast_cancer.target\n",
        "\n",
        "# Split the data into training and testing sets\n",
        "X_train, X_test, y_train, y_test = train_test_split(X, y, test_size=0.3, random_state=42)\n",
        "\n",
        "# --- Train SVM on original data ---\n",
        "print(\"--- Training SVM on Original Data ---\")\n",
        "svm_original = SVC(kernel='linear', random_state=42) # Using linear kernel for RFE ranking\n",
        "svm_original.fit(X_train, y_train)\n",
        "y_pred_original = svm_original.predict(X_test)\n",
        "accuracy_original = accuracy_score(y_test, y_pred_original)\n",
        "print(f\"Accuracy of SVM on original data: {accuracy_original:.2f}\")\n",
        "\n",
        "# --- Perform Recursive Feature Elimination (RFE) ---\n",
        "# We need an estimator to perform RFE; SVM with a linear kernel is often used\n",
        "estimator = SVC(kernel='linear')\n",
        "\n",
        "# Initialize RFE\n",
        "# n_features_to_select specifies the number of features to keep\n",
        "# You can tune this number based on domain knowledge or cross-validation\n",
        "n_features_to_select = 15 # Example: selecting half of the original features\n",
        "rfe = RFE(estimator=estimator, n_features_to_select=n_features_to_select)\n",
        "\n",
        "# Fit RFE on the training data to select features\n",
        "X_train_selected = rfe.fit_transform(X_train, y_train)\n",
        "X_test_selected = rfe.transform(X_test) # Transform the test set based on the fitted RFE\n",
        "\n",
        "print(f\"\\nOriginal number of features: {X_train.shape[1]}\")\n",
        "print(f\"Number of features after RFE: {X_train_selected.shape[1]}\")\n",
        "\n",
        "# Get the mask of selected features (True for selected, False otherwise)\n",
        "feature_mask = rfe.support_\n",
        "print(f\"Selected feature mask: {feature_mask}\")\n",
        "\n",
        "# Get the ranking of features (1 is the most important)\n",
        "feature_ranking = rfe.ranking_\n",
        "print(f\"Feature ranking: {feature_ranking}\")\n",
        "\n",
        "# Get the names of the selected features\n",
        "selected_feature_names = breast_cancer.feature_names[feature_mask]\n",
        "print(f\"Selected feature names: {selected_feature_names}\")\n",
        "\n",
        "\n",
        "# --- Train SVM on selected features ---\n",
        "print(\"\\n--- Training SVM on Selected Features (after RFE) ---\")\n",
        "# You can use any SVM kernel here; RBF is a common choice\n",
        "svm_selected = SVC(kernel='rbf', random_state=42)\n",
        "svm_selected.fit(X_train_selected, y_train)\n",
        "y_pred_selected = svm_selected.predict(X_test_selected)\n",
        "accuracy_selected = accuracy_score(y_test, y_pred_selected)\n",
        "print(f\"Accuracy of SVM on selected features: {accuracy_selected:.2f}\")\n",
        "\n",
        "# --- Compare Accuracies ---\n",
        "print(\"\\n--- Comparison ---\")\n",
        "if accuracy_selected > accuracy_original:\n",
        "    print(\"Accuracy improved after Recursive Feature Elimination.\")\n",
        "elif accuracy_original > accuracy_selected:\n",
        "    print(\"Accuracy was better on original data.\")\n",
        "else:\n",
        "    print(\"Accuracy is the same with and without RFE.\")"
      ],
      "execution_count": 12,
      "outputs": [
        {
          "output_type": "stream",
          "name": "stdout",
          "text": [
            "--- Training SVM on Original Data ---\n",
            "Accuracy of SVM on original data: 0.96\n",
            "\n",
            "Original number of features: 30\n",
            "Number of features after RFE: 15\n",
            "Selected feature mask: [ True False False False  True  True  True  True  True False  True  True\n",
            "  True False False False False False False False False  True False False\n",
            "  True  True  True  True  True False]\n",
            "Feature ranking: [ 1  2  4 14  1  1  1  1  1  9  1  1  1  5 11  8 16 10  7 12  6  1 13 15\n",
            "  1  1  1  1  1  3]\n",
            "Selected feature names: ['mean radius' 'mean smoothness' 'mean compactness' 'mean concavity'\n",
            " 'mean concave points' 'mean symmetry' 'radius error' 'texture error'\n",
            " 'perimeter error' 'worst texture' 'worst smoothness' 'worst compactness'\n",
            " 'worst concavity' 'worst concave points' 'worst symmetry']\n",
            "\n",
            "--- Training SVM on Selected Features (after RFE) ---\n",
            "Accuracy of SVM on selected features: 0.94\n",
            "\n",
            "--- Comparison ---\n",
            "Accuracy was better on original data.\n"
          ]
        }
      ]
    },
    {
      "cell_type": "markdown",
      "source": [
        "41. **Write a Python program to train an SVM Classifier and evaluate its performance using Precision, Recall, and F1-Score instead of accuracy.**"
      ],
      "metadata": {
        "id": "kuKn42CXcOTM"
      }
    },
    {
      "cell_type": "code",
      "metadata": {
        "colab": {
          "base_uri": "https://localhost:8080/"
        },
        "id": "98098ccf",
        "outputId": "1bc41731-020a-441a-c94a-c7e40c2d75e7"
      },
      "source": [
        "from sklearn import datasets\n",
        "from sklearn.model_selection import train_test_split\n",
        "from sklearn.svm import SVC\n",
        "from sklearn.metrics import precision_score, recall_score, f1_score, classification_report\n",
        "\n",
        "# Load a dataset (Breast Cancer dataset as an example)\n",
        "breast_cancer = datasets.load_breast_cancer()\n",
        "X = breast_cancer.data\n",
        "y = breast_cancer.target\n",
        "\n",
        "# Split the data into training and testing sets\n",
        "X_train, X_test, y_train, y_test = train_test_split(X, y, test_size=0.3, random_state=42)\n",
        "\n",
        "# Create an SVM classifier object\n",
        "# You can experiment with different kernels and parameters\n",
        "svm_classifier = SVC(kernel='linear', random_state=42)\n",
        "\n",
        "# Train the classifier\n",
        "svm_classifier.fit(X_train, y_train)\n",
        "\n",
        "# Predict on the test set\n",
        "y_pred = svm_classifier.predict(X_test)\n",
        "\n",
        "# Evaluate the classifier using Precision, Recall, and F1-Score\n",
        "# For multiclass problems, you might need to specify an 'average' parameter (e.g., 'weighted', 'macro', 'micro')\n",
        "precision = precision_score(y_test, y_pred)\n",
        "recall = recall_score(y_test, y_pred)\n",
        "f1 = f1_score(y_test, y_pred)\n",
        "\n",
        "print(f\"Precision: {precision:.2f}\")\n",
        "print(f\"Recall: {recall:.2f}\")\n",
        "print(f\"F1-Score: {f1:.2f}\")\n",
        "\n",
        "# You can also print a classification report for a summary of metrics per class\n",
        "print(\"\\nClassification Report:\")\n",
        "print(classification_report(y_test, y_pred, target_names=breast_cancer.target_names))"
      ],
      "execution_count": 4,
      "outputs": [
        {
          "output_type": "stream",
          "name": "stdout",
          "text": [
            "Precision: 0.96\n",
            "Recall: 0.98\n",
            "F1-Score: 0.97\n",
            "\n",
            "Classification Report:\n",
            "              precision    recall  f1-score   support\n",
            "\n",
            "   malignant       0.97      0.94      0.95        63\n",
            "      benign       0.96      0.98      0.97       108\n",
            "\n",
            "    accuracy                           0.96       171\n",
            "   macro avg       0.97      0.96      0.96       171\n",
            "weighted avg       0.96      0.96      0.96       171\n",
            "\n"
          ]
        }
      ]
    },
    {
      "cell_type": "markdown",
      "source": [
        "42. **Write a Python program to train a Naïve Bayes Classifier and evaluate its performance using Log Loss (Cross-Entropy Loss).**"
      ],
      "metadata": {
        "id": "DJFjazRhcWB_"
      }
    },
    {
      "cell_type": "code",
      "metadata": {
        "colab": {
          "base_uri": "https://localhost:8080/"
        },
        "id": "2dcfbdf3",
        "outputId": "6788cb5d-805d-46ec-db5f-171c42311a83"
      },
      "source": [
        "import numpy as np\n",
        "from sklearn.datasets import load_breast_cancer\n",
        "from sklearn.model_selection import train_test_split\n",
        "from sklearn.naive_bayes import GaussianNB\n",
        "from sklearn.metrics import log_loss\n",
        "\n",
        "# Load a dataset (Breast Cancer dataset as an example)\n",
        "breast_cancer = load_breast_cancer()\n",
        "X = breast_cancer.data\n",
        "y = breast_cancer.target\n",
        "\n",
        "# Split the data into training and testing sets\n",
        "X_train, X_test, y_train, y_test = train_test_split(X, y, test_size=0.3, random_state=42)\n",
        "\n",
        "# Create a Gaussian Naïve Bayes classifier object\n",
        "gnb_classifier = GaussianNB()\n",
        "\n",
        "# Train the classifier\n",
        "gnb_classifier.fit(X_train, y_train)\n",
        "\n",
        "# Predict class probabilities on the test set\n",
        "# log_loss requires probability estimates, not just class predictions\n",
        "y_prob = gnb_classifier.predict_proba(X_test)\n",
        "\n",
        "# Evaluate the classifier using Log Loss\n",
        "# log_loss requires the true labels and the predicted probabilities\n",
        "logloss = log_loss(y_test, y_prob)\n",
        "\n",
        "print(f\"Log Loss (Cross-Entropy Loss) of the Naïve Bayes Classifier: {logloss:.4f}\")\n",
        "\n",
        "# Note: Lower Log Loss indicates better performance."
      ],
      "execution_count": 5,
      "outputs": [
        {
          "output_type": "stream",
          "name": "stdout",
          "text": [
            "Log Loss (Cross-Entropy Loss) of the Naïve Bayes Classifier: 0.4899\n"
          ]
        }
      ]
    },
    {
      "cell_type": "markdown",
      "source": [
        "43. **Write a Python program to train an SVM Classifier and visualize the Confusion Matrix using seaborn.**"
      ],
      "metadata": {
        "id": "ec3zgfXzcewn"
      }
    },
    {
      "cell_type": "code",
      "metadata": {
        "colab": {
          "base_uri": "https://localhost:8080/",
          "height": 564
        },
        "id": "648aac8a",
        "outputId": "88065578-db1d-4fb5-d005-d209414bd915"
      },
      "source": [
        "import numpy as np\n",
        "import matplotlib.pyplot as plt\n",
        "import seaborn as sns\n",
        "from sklearn import datasets\n",
        "from sklearn.model_selection import train_test_split\n",
        "from sklearn.svm import SVC\n",
        "from sklearn.metrics import confusion_matrix, ConfusionMatrixDisplay\n",
        "\n",
        "# Load a dataset (Breast Cancer dataset as an example)\n",
        "breast_cancer = datasets.load_breast_cancer()\n",
        "X = breast_cancer.data\n",
        "y = breast_cancer.target\n",
        "class_names = breast_cancer.target_names # Get class names for better visualization\n",
        "\n",
        "# Split the data into training and testing sets\n",
        "X_train, X_test, y_train, y_test = train_test_split(X, y, test_size=0.3, random_state=42)\n",
        "\n",
        "# Create an SVM classifier object\n",
        "# Using a linear kernel for simplicity, but you can use others\n",
        "svm_classifier = SVC(kernel='linear', random_state=42)\n",
        "\n",
        "# Train the classifier\n",
        "svm_classifier.fit(X_train, y_train)\n",
        "\n",
        "# Predict on the test set\n",
        "y_pred = svm_classifier.predict(X_test)\n",
        "\n",
        "# Generate the confusion matrix\n",
        "cm = confusion_matrix(y_test, y_pred)\n",
        "\n",
        "# Visualize the confusion matrix using seaborn\n",
        "plt.figure(figsize=(8, 6))\n",
        "sns.heatmap(cm, annot=True, fmt='d', cmap='Blues', xticklabels=class_names, yticklabels=class_names)\n",
        "plt.xlabel('Predicted Label')\n",
        "plt.ylabel('True Label')\n",
        "plt.title('Confusion Matrix for SVM Classifier')\n",
        "plt.show()"
      ],
      "execution_count": 6,
      "outputs": [
        {
          "output_type": "display_data",
          "data": {
            "text/plain": [
              "<Figure size 800x600 with 2 Axes>"
            ],
            "image/png": "[encoded data removed]"
          },
          "metadata": {}
        }
      ]
    },
    {
      "cell_type": "markdown",
      "source": [
        "44. **Write a Python program to train an SVM Regressor (SVR) and evaluate its performance using Mean Absolute Error (MAE) instead of MSE.**"
      ],
      "metadata": {
        "id": "3lWmKVrdcoFi"
      }
    },
    {
      "cell_type": "code",
      "metadata": {
        "colab": {
          "base_uri": "https://localhost:8080/"
        },
        "id": "2ed6b1a5",
        "outputId": "fe13737f-bcaf-4d4e-800c-78944e61f433"
      },
      "source": [
        "from sklearn.datasets import fetch_california_housing\n",
        "from sklearn.model_selection import train_test_split\n",
        "from sklearn.svm import SVR\n",
        "from sklearn.metrics import mean_absolute_error\n",
        "\n",
        "# Load the California Housing dataset (a regression dataset)\n",
        "housing = fetch_california_housing()\n",
        "X = housing.data\n",
        "y = housing.target\n",
        "\n",
        "# Split the data into training and testing sets\n",
        "X_train, X_test, y_train, y_test = train_test_split(X, y, test_size=0.3, random_state=42)\n",
        "\n",
        "# Create an SVR object\n",
        "# Using an RBF kernel as a common choice for regression\n",
        "svr_regressor = SVR(kernel='rbf')\n",
        "\n",
        "# Train the regressor\n",
        "svr_regressor.fit(X_train, y_train)\n",
        "\n",
        "# Predict on the test set\n",
        "y_pred = svr_regressor.predict(X_test)\n",
        "\n",
        "# Evaluate the regressor using Mean Absolute Error (MAE)\n",
        "mae = mean_absolute_error(y_test, y_pred)\n",
        "\n",
        "print(f\"Mean Absolute Error (MAE) of the SVR on the California Housing dataset: {mae:.2f}\")\n",
        "\n",
        "# Note: Lower MAE indicates better performance."
      ],
      "execution_count": 7,
      "outputs": [
        {
          "output_type": "stream",
          "name": "stdout",
          "text": [
            "Mean Absolute Error (MAE) of the SVR on the California Housing dataset: 0.87\n"
          ]
        }
      ]
    },
    {
      "cell_type": "markdown",
      "source": [
        "45. **Write a Python program to train a Naïve Bayes classifier and evaluate its performance using the ROC-AUC score.**"
      ],
      "metadata": {
        "id": "32AMDgb1czyG"
      }
    },
    {
      "cell_type": "code",
      "metadata": {
        "colab": {
          "base_uri": "https://localhost:8080/"
        },
        "id": "f7518d3f",
        "outputId": "3ce699b8-b9ce-4230-9cf6-96bf7b710c60"
      },
      "source": [
        "import numpy as np\n",
        "from sklearn.datasets import load_breast_cancer\n",
        "from sklearn.model_selection import train_test_split\n",
        "from sklearn.naive_bayes import GaussianNB\n",
        "from sklearn.metrics import roc_curve, auc, roc_auc_score\n",
        "import matplotlib.pyplot as plt\n",
        "\n",
        "# Load a binary classification dataset (Breast Cancer dataset as an example)\n",
        "breast_cancer = load_breast_cancer()\n",
        "X = breast_cancer.data\n",
        "y = breast_cancer.target\n",
        "\n",
        "# Split the data into training and testing sets\n",
        "X_train, X_test, y_train, y_test = train_test_split(X, y, test_size=0.3, random_state=42)\n",
        "\n",
        "# Create a Gaussian Naïve Bayes classifier object\n",
        "gnb_classifier = GaussianNB()\n",
        "\n",
        "# Train the classifier\n",
        "gnb_classifier.fit(X_train, y_train)\n",
        "\n",
        "# Get the predicted probabilities for the positive class (class 1)\n",
        "# The roc_auc_score function requires probabilities\n",
        "y_prob = gnb_classifier.predict_proba(X_test)[:, 1]\n",
        "\n",
        "# Calculate the ROC-AUC score\n",
        "roc_auc = roc_auc_score(y_test, y_prob)\n",
        "\n",
        "print(f\"ROC-AUC Score of the Naïve Bayes Classifier: {roc_auc:.4f}\")"
      ],
      "execution_count": 8,
      "outputs": [
        {
          "output_type": "stream",
          "name": "stdout",
          "text": [
            "ROC-AUC Score of the Naïve Bayes Classifier: 0.9922\n"
          ]
        }
      ]
    },
    {
      "cell_type": "markdown",
      "source": [
        "46. **Write a Python program to train an SVM Classifier and visualize the Precision-Recall Curve.**"
      ],
      "metadata": {
        "id": "xd0UfVAydAng"
      }
    },
    {
      "cell_type": "code",
      "metadata": {
        "colab": {
          "base_uri": "https://localhost:8080/",
          "height": 489
        },
        "id": "56588fca",
        "outputId": "351f7f1c-7d1a-4eb4-9e25-ca0055c1aba6"
      },
      "source": [
        "import numpy as np\n",
        "import matplotlib.pyplot as plt\n",
        "from sklearn import datasets\n",
        "from sklearn.model_selection import train_test_split\n",
        "from sklearn.svm import SVC\n",
        "from sklearn.metrics import precision_recall_curve, average_precision_score\n",
        "\n",
        "# Load a binary classification dataset (Breast Cancer dataset as an example)\n",
        "breast_cancer = datasets.load_breast_cancer()\n",
        "X = breast_cancer.data\n",
        "y = breast_cancer.target\n",
        "\n",
        "# Split the data into training and testing sets\n",
        "X_train, X_test, y_train, y_test = train_test_split(X, y, test_size=0.3, random_state=42)\n",
        "\n",
        "# Create an SVM classifier object\n",
        "# For precision-recall curve, you need either probability estimates or decision function values.\n",
        "# SVC with probability=True enables probability estimates (can be slower).\n",
        "# Alternatively, you can use the decision_function which gives a measure of confidence.\n",
        "# Let's use decision_function here as it's often more reliable for SVMs.\n",
        "svm_classifier = SVC(kernel='linear', random_state=42, decision_function_shape='ovo') # Use linear kernel for simplicity\n",
        "\n",
        "# Train the classifier\n",
        "svm_classifier.fit(X_train, y_train)\n",
        "\n",
        "# Get the decision function values for the test set\n",
        "# For binary classification, decision_function returns a 1D array\n",
        "y_score = svm_classifier.decision_function(X_test)\n",
        "\n",
        "# Calculate the precision-recall curve\n",
        "precision, recall, _ = precision_recall_curve(y_test, y_score)\n",
        "\n",
        "# Calculate the Average Precision (AP) score\n",
        "# AP summarizes the curve into a single value\n",
        "average_precision = average_precision_score(y_test, y_score)\n",
        "\n",
        "print(f\"Average Precision (AP) Score: {average_precision:.4f}\")\n",
        "\n",
        "# Plot the Precision-Recall curve\n",
        "plt.figure()\n",
        "plt.step(recall, precision, where='post')\n",
        "plt.xlabel('Recall')\n",
        "plt.ylabel('Precision')\n",
        "plt.ylim([0.0, 1.05])\n",
        "plt.xlim([0.0, 1.0])\n",
        "plt.title(f'Precision-Recall curve: AP={average_precision:.2f}')\n",
        "plt.show()"
      ],
      "execution_count": 9,
      "outputs": [
        {
          "output_type": "stream",
          "name": "stdout",
          "text": [
            "Average Precision (AP) Score: 0.9979\n"
          ]
        },
        {
          "output_type": "display_data",
          "data": {
            "text/plain": [
              "<Figure size 640x480 with 1 Axes>"
            ],
            "image/png": "[encoded data removed]"
          },
          "metadata": {}
        }
      ]
    }
  ]
}